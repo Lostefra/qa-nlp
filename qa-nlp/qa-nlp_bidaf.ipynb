{
  "nbformat": 4,
  "nbformat_minor": 0,
  "metadata": {
    "kernelspec": {
      "display_name": "Python 3",
      "language": "python",
      "name": "python3"
    },
    "language_info": {
      "codemirror_mode": {
        "name": "ipython",
        "version": 3
      },
      "file_extension": ".py",
      "mimetype": "text/x-python",
      "name": "python",
      "nbconvert_exporter": "python",
      "pygments_lexer": "ipython3",
      "version": "3.8.5"
    },
    "colab": {
      "name": "qa-nlp_bidaf.ipynb",
      "provenance": [],
      "collapsed_sections": [],
      "toc_visible": true
    },
    "accelerator": "GPU",
    "widgets": {
      "application/vnd.jupyter.widget-state+json": {
        "4a48f25aef0f475fbae1944fbf9a4d05": {
          "model_module": "@jupyter-widgets/controls",
          "model_name": "HBoxModel",
          "state": {
            "_view_name": "HBoxView",
            "_dom_classes": [],
            "_model_name": "HBoxModel",
            "_view_module": "@jupyter-widgets/controls",
            "_model_module_version": "1.5.0",
            "_view_count": null,
            "_view_module_version": "1.5.0",
            "box_style": "",
            "layout": "IPY_MODEL_ef3d223156da417d92125c64b4c15764",
            "_model_module": "@jupyter-widgets/controls",
            "children": [
              "IPY_MODEL_4dbc27e6aef24580b9aa7c78386133c8",
              "IPY_MODEL_0bd6509fd092475089975b43065992dd"
            ]
          }
        },
        "ef3d223156da417d92125c64b4c15764": {
          "model_module": "@jupyter-widgets/base",
          "model_name": "LayoutModel",
          "state": {
            "_view_name": "LayoutView",
            "grid_template_rows": null,
            "right": null,
            "justify_content": null,
            "_view_module": "@jupyter-widgets/base",
            "overflow": null,
            "_model_module_version": "1.2.0",
            "_view_count": null,
            "flex_flow": null,
            "width": null,
            "min_width": null,
            "border": null,
            "align_items": null,
            "bottom": null,
            "_model_module": "@jupyter-widgets/base",
            "top": null,
            "grid_column": null,
            "overflow_y": null,
            "overflow_x": null,
            "grid_auto_flow": null,
            "grid_area": null,
            "grid_template_columns": null,
            "flex": null,
            "_model_name": "LayoutModel",
            "justify_items": null,
            "grid_row": null,
            "max_height": null,
            "align_content": null,
            "visibility": null,
            "align_self": null,
            "height": null,
            "min_height": null,
            "padding": null,
            "grid_auto_rows": null,
            "grid_gap": null,
            "max_width": null,
            "order": null,
            "_view_module_version": "1.2.0",
            "grid_template_areas": null,
            "object_position": null,
            "object_fit": null,
            "grid_auto_columns": null,
            "margin": null,
            "display": null,
            "left": null
          }
        },
        "4dbc27e6aef24580b9aa7c78386133c8": {
          "model_module": "@jupyter-widgets/controls",
          "model_name": "FloatProgressModel",
          "state": {
            "_view_name": "ProgressView",
            "style": "IPY_MODEL_75c212b98d6d4eaea9deb68623d4d859",
            "_dom_classes": [],
            "description": "100%",
            "_model_name": "FloatProgressModel",
            "bar_style": "",
            "max": 4827,
            "_view_module": "@jupyter-widgets/controls",
            "_model_module_version": "1.5.0",
            "value": 4827,
            "_view_count": null,
            "_view_module_version": "1.5.0",
            "orientation": "horizontal",
            "min": 0,
            "description_tooltip": null,
            "_model_module": "@jupyter-widgets/controls",
            "layout": "IPY_MODEL_f5d5bdf4c71e4d78a37e7bf24f3c2723"
          }
        },
        "0bd6509fd092475089975b43065992dd": {
          "model_module": "@jupyter-widgets/controls",
          "model_name": "HTMLModel",
          "state": {
            "_view_name": "HTMLView",
            "style": "IPY_MODEL_d65a5a8f8dd7443baee8d268f2265cbe",
            "_dom_classes": [],
            "description": "",
            "_model_name": "HTMLModel",
            "placeholder": "​",
            "_view_module": "@jupyter-widgets/controls",
            "_model_module_version": "1.5.0",
            "value": " 4827/4827 [00:00&lt;00:00, 9229.05it/s]",
            "_view_count": null,
            "_view_module_version": "1.5.0",
            "description_tooltip": null,
            "_model_module": "@jupyter-widgets/controls",
            "layout": "IPY_MODEL_e920fa8938da488aa7341ff02ea3336b"
          }
        },
        "75c212b98d6d4eaea9deb68623d4d859": {
          "model_module": "@jupyter-widgets/controls",
          "model_name": "ProgressStyleModel",
          "state": {
            "_view_name": "StyleView",
            "_model_name": "ProgressStyleModel",
            "description_width": "initial",
            "_view_module": "@jupyter-widgets/base",
            "_model_module_version": "1.5.0",
            "_view_count": null,
            "_view_module_version": "1.2.0",
            "bar_color": null,
            "_model_module": "@jupyter-widgets/controls"
          }
        },
        "f5d5bdf4c71e4d78a37e7bf24f3c2723": {
          "model_module": "@jupyter-widgets/base",
          "model_name": "LayoutModel",
          "state": {
            "_view_name": "LayoutView",
            "grid_template_rows": null,
            "right": null,
            "justify_content": null,
            "_view_module": "@jupyter-widgets/base",
            "overflow": null,
            "_model_module_version": "1.2.0",
            "_view_count": null,
            "flex_flow": null,
            "width": null,
            "min_width": null,
            "border": null,
            "align_items": null,
            "bottom": null,
            "_model_module": "@jupyter-widgets/base",
            "top": null,
            "grid_column": null,
            "overflow_y": null,
            "overflow_x": null,
            "grid_auto_flow": null,
            "grid_area": null,
            "grid_template_columns": null,
            "flex": null,
            "_model_name": "LayoutModel",
            "justify_items": null,
            "grid_row": null,
            "max_height": null,
            "align_content": null,
            "visibility": null,
            "align_self": null,
            "height": null,
            "min_height": null,
            "padding": null,
            "grid_auto_rows": null,
            "grid_gap": null,
            "max_width": null,
            "order": null,
            "_view_module_version": "1.2.0",
            "grid_template_areas": null,
            "object_position": null,
            "object_fit": null,
            "grid_auto_columns": null,
            "margin": null,
            "display": null,
            "left": null
          }
        },
        "d65a5a8f8dd7443baee8d268f2265cbe": {
          "model_module": "@jupyter-widgets/controls",
          "model_name": "DescriptionStyleModel",
          "state": {
            "_view_name": "StyleView",
            "_model_name": "DescriptionStyleModel",
            "description_width": "",
            "_view_module": "@jupyter-widgets/base",
            "_model_module_version": "1.5.0",
            "_view_count": null,
            "_view_module_version": "1.2.0",
            "_model_module": "@jupyter-widgets/controls"
          }
        },
        "e920fa8938da488aa7341ff02ea3336b": {
          "model_module": "@jupyter-widgets/base",
          "model_name": "LayoutModel",
          "state": {
            "_view_name": "LayoutView",
            "grid_template_rows": null,
            "right": null,
            "justify_content": null,
            "_view_module": "@jupyter-widgets/base",
            "overflow": null,
            "_model_module_version": "1.2.0",
            "_view_count": null,
            "flex_flow": null,
            "width": null,
            "min_width": null,
            "border": null,
            "align_items": null,
            "bottom": null,
            "_model_module": "@jupyter-widgets/base",
            "top": null,
            "grid_column": null,
            "overflow_y": null,
            "overflow_x": null,
            "grid_auto_flow": null,
            "grid_area": null,
            "grid_template_columns": null,
            "flex": null,
            "_model_name": "LayoutModel",
            "justify_items": null,
            "grid_row": null,
            "max_height": null,
            "align_content": null,
            "visibility": null,
            "align_self": null,
            "height": null,
            "min_height": null,
            "padding": null,
            "grid_auto_rows": null,
            "grid_gap": null,
            "max_width": null,
            "order": null,
            "_view_module_version": "1.2.0",
            "grid_template_areas": null,
            "object_position": null,
            "object_fit": null,
            "grid_auto_columns": null,
            "margin": null,
            "display": null,
            "left": null
          }
        },
        "0d95617ece614abbb4d46b672bb9687d": {
          "model_module": "@jupyter-widgets/controls",
          "model_name": "HBoxModel",
          "state": {
            "_view_name": "HBoxView",
            "_dom_classes": [],
            "_model_name": "HBoxModel",
            "_view_module": "@jupyter-widgets/controls",
            "_model_module_version": "1.5.0",
            "_view_count": null,
            "_view_module_version": "1.5.0",
            "box_style": "",
            "layout": "IPY_MODEL_08539714529945e89b53eab0ac97b32f",
            "_model_module": "@jupyter-widgets/controls",
            "children": [
              "IPY_MODEL_94c61c9a1afc4d1a810f57b678ea5d8c",
              "IPY_MODEL_8a8e0c6344174c0e82b4a6f11d38a20c"
            ]
          }
        },
        "08539714529945e89b53eab0ac97b32f": {
          "model_module": "@jupyter-widgets/base",
          "model_name": "LayoutModel",
          "state": {
            "_view_name": "LayoutView",
            "grid_template_rows": null,
            "right": null,
            "justify_content": null,
            "_view_module": "@jupyter-widgets/base",
            "overflow": null,
            "_model_module_version": "1.2.0",
            "_view_count": null,
            "flex_flow": null,
            "width": null,
            "min_width": null,
            "border": null,
            "align_items": null,
            "bottom": null,
            "_model_module": "@jupyter-widgets/base",
            "top": null,
            "grid_column": null,
            "overflow_y": null,
            "overflow_x": null,
            "grid_auto_flow": null,
            "grid_area": null,
            "grid_template_columns": null,
            "flex": null,
            "_model_name": "LayoutModel",
            "justify_items": null,
            "grid_row": null,
            "max_height": null,
            "align_content": null,
            "visibility": null,
            "align_self": null,
            "height": null,
            "min_height": null,
            "padding": null,
            "grid_auto_rows": null,
            "grid_gap": null,
            "max_width": null,
            "order": null,
            "_view_module_version": "1.2.0",
            "grid_template_areas": null,
            "object_position": null,
            "object_fit": null,
            "grid_auto_columns": null,
            "margin": null,
            "display": null,
            "left": null
          }
        },
        "94c61c9a1afc4d1a810f57b678ea5d8c": {
          "model_module": "@jupyter-widgets/controls",
          "model_name": "FloatProgressModel",
          "state": {
            "_view_name": "ProgressView",
            "style": "IPY_MODEL_e8d4c75c65ab49208d7837b4b8721db5",
            "_dom_classes": [],
            "description": "100%",
            "_model_name": "FloatProgressModel",
            "bar_style": "",
            "max": 4827,
            "_view_module": "@jupyter-widgets/controls",
            "_model_module_version": "1.5.0",
            "value": 4827,
            "_view_count": null,
            "_view_module_version": "1.5.0",
            "orientation": "horizontal",
            "min": 0,
            "description_tooltip": null,
            "_model_module": "@jupyter-widgets/controls",
            "layout": "IPY_MODEL_2f4049cce26948a7936965eac7644dd4"
          }
        },
        "8a8e0c6344174c0e82b4a6f11d38a20c": {
          "model_module": "@jupyter-widgets/controls",
          "model_name": "HTMLModel",
          "state": {
            "_view_name": "HTMLView",
            "style": "IPY_MODEL_7bba134079cf4465b3c5df28452c2cde",
            "_dom_classes": [],
            "description": "",
            "_model_name": "HTMLModel",
            "placeholder": "​",
            "_view_module": "@jupyter-widgets/controls",
            "_model_module_version": "1.5.0",
            "value": " 4827/4827 [00:00&lt;00:00, 9685.53it/s]",
            "_view_count": null,
            "_view_module_version": "1.5.0",
            "description_tooltip": null,
            "_model_module": "@jupyter-widgets/controls",
            "layout": "IPY_MODEL_2069ac0814074778bbc0df17f73c28be"
          }
        },
        "e8d4c75c65ab49208d7837b4b8721db5": {
          "model_module": "@jupyter-widgets/controls",
          "model_name": "ProgressStyleModel",
          "state": {
            "_view_name": "StyleView",
            "_model_name": "ProgressStyleModel",
            "description_width": "initial",
            "_view_module": "@jupyter-widgets/base",
            "_model_module_version": "1.5.0",
            "_view_count": null,
            "_view_module_version": "1.2.0",
            "bar_color": null,
            "_model_module": "@jupyter-widgets/controls"
          }
        },
        "2f4049cce26948a7936965eac7644dd4": {
          "model_module": "@jupyter-widgets/base",
          "model_name": "LayoutModel",
          "state": {
            "_view_name": "LayoutView",
            "grid_template_rows": null,
            "right": null,
            "justify_content": null,
            "_view_module": "@jupyter-widgets/base",
            "overflow": null,
            "_model_module_version": "1.2.0",
            "_view_count": null,
            "flex_flow": null,
            "width": null,
            "min_width": null,
            "border": null,
            "align_items": null,
            "bottom": null,
            "_model_module": "@jupyter-widgets/base",
            "top": null,
            "grid_column": null,
            "overflow_y": null,
            "overflow_x": null,
            "grid_auto_flow": null,
            "grid_area": null,
            "grid_template_columns": null,
            "flex": null,
            "_model_name": "LayoutModel",
            "justify_items": null,
            "grid_row": null,
            "max_height": null,
            "align_content": null,
            "visibility": null,
            "align_self": null,
            "height": null,
            "min_height": null,
            "padding": null,
            "grid_auto_rows": null,
            "grid_gap": null,
            "max_width": null,
            "order": null,
            "_view_module_version": "1.2.0",
            "grid_template_areas": null,
            "object_position": null,
            "object_fit": null,
            "grid_auto_columns": null,
            "margin": null,
            "display": null,
            "left": null
          }
        },
        "7bba134079cf4465b3c5df28452c2cde": {
          "model_module": "@jupyter-widgets/controls",
          "model_name": "DescriptionStyleModel",
          "state": {
            "_view_name": "StyleView",
            "_model_name": "DescriptionStyleModel",
            "description_width": "",
            "_view_module": "@jupyter-widgets/base",
            "_model_module_version": "1.5.0",
            "_view_count": null,
            "_view_module_version": "1.2.0",
            "_model_module": "@jupyter-widgets/controls"
          }
        },
        "2069ac0814074778bbc0df17f73c28be": {
          "model_module": "@jupyter-widgets/base",
          "model_name": "LayoutModel",
          "state": {
            "_view_name": "LayoutView",
            "grid_template_rows": null,
            "right": null,
            "justify_content": null,
            "_view_module": "@jupyter-widgets/base",
            "overflow": null,
            "_model_module_version": "1.2.0",
            "_view_count": null,
            "flex_flow": null,
            "width": null,
            "min_width": null,
            "border": null,
            "align_items": null,
            "bottom": null,
            "_model_module": "@jupyter-widgets/base",
            "top": null,
            "grid_column": null,
            "overflow_y": null,
            "overflow_x": null,
            "grid_auto_flow": null,
            "grid_area": null,
            "grid_template_columns": null,
            "flex": null,
            "_model_name": "LayoutModel",
            "justify_items": null,
            "grid_row": null,
            "max_height": null,
            "align_content": null,
            "visibility": null,
            "align_self": null,
            "height": null,
            "min_height": null,
            "padding": null,
            "grid_auto_rows": null,
            "grid_gap": null,
            "max_width": null,
            "order": null,
            "_view_module_version": "1.2.0",
            "grid_template_areas": null,
            "object_position": null,
            "object_fit": null,
            "grid_auto_columns": null,
            "margin": null,
            "display": null,
            "left": null
          }
        },
        "636ac053b5dc498ca449c119d9ef9135": {
          "model_module": "@jupyter-widgets/controls",
          "model_name": "HBoxModel",
          "state": {
            "_view_name": "HBoxView",
            "_dom_classes": [],
            "_model_name": "HBoxModel",
            "_view_module": "@jupyter-widgets/controls",
            "_model_module_version": "1.5.0",
            "_view_count": null,
            "_view_module_version": "1.5.0",
            "box_style": "",
            "layout": "IPY_MODEL_43d75ca086e44329b0a00d4c4272b78e",
            "_model_module": "@jupyter-widgets/controls",
            "children": [
              "IPY_MODEL_7ab9cc7d5ff648c7a24cbb92a5982a4b",
              "IPY_MODEL_7f0ee4bb7bc2439495d6568f2337c460"
            ]
          }
        },
        "43d75ca086e44329b0a00d4c4272b78e": {
          "model_module": "@jupyter-widgets/base",
          "model_name": "LayoutModel",
          "state": {
            "_view_name": "LayoutView",
            "grid_template_rows": null,
            "right": null,
            "justify_content": null,
            "_view_module": "@jupyter-widgets/base",
            "overflow": null,
            "_model_module_version": "1.2.0",
            "_view_count": null,
            "flex_flow": null,
            "width": null,
            "min_width": null,
            "border": null,
            "align_items": null,
            "bottom": null,
            "_model_module": "@jupyter-widgets/base",
            "top": null,
            "grid_column": null,
            "overflow_y": null,
            "overflow_x": null,
            "grid_auto_flow": null,
            "grid_area": null,
            "grid_template_columns": null,
            "flex": null,
            "_model_name": "LayoutModel",
            "justify_items": null,
            "grid_row": null,
            "max_height": null,
            "align_content": null,
            "visibility": null,
            "align_self": null,
            "height": null,
            "min_height": null,
            "padding": null,
            "grid_auto_rows": null,
            "grid_gap": null,
            "max_width": null,
            "order": null,
            "_view_module_version": "1.2.0",
            "grid_template_areas": null,
            "object_position": null,
            "object_fit": null,
            "grid_auto_columns": null,
            "margin": null,
            "display": null,
            "left": null
          }
        },
        "7ab9cc7d5ff648c7a24cbb92a5982a4b": {
          "model_module": "@jupyter-widgets/controls",
          "model_name": "FloatProgressModel",
          "state": {
            "_view_name": "ProgressView",
            "style": "IPY_MODEL_68649099ea1540058a383a0fd22650f0",
            "_dom_classes": [],
            "description": "100%",
            "_model_name": "FloatProgressModel",
            "bar_style": "",
            "max": 6579,
            "_view_module": "@jupyter-widgets/controls",
            "_model_module_version": "1.5.0",
            "value": 6579,
            "_view_count": null,
            "_view_module_version": "1.5.0",
            "orientation": "horizontal",
            "min": 0,
            "description_tooltip": null,
            "_model_module": "@jupyter-widgets/controls",
            "layout": "IPY_MODEL_9c88edb55a7443ec84d58cf920823ebc"
          }
        },
        "7f0ee4bb7bc2439495d6568f2337c460": {
          "model_module": "@jupyter-widgets/controls",
          "model_name": "HTMLModel",
          "state": {
            "_view_name": "HTMLView",
            "style": "IPY_MODEL_eb3a3002e9b74d258b276824d215c465",
            "_dom_classes": [],
            "description": "",
            "_model_name": "HTMLModel",
            "placeholder": "​",
            "_view_module": "@jupyter-widgets/controls",
            "_model_module_version": "1.5.0",
            "value": " 6579/6579 [00:00&lt;00:00, 7470.78it/s]",
            "_view_count": null,
            "_view_module_version": "1.5.0",
            "description_tooltip": null,
            "_model_module": "@jupyter-widgets/controls",
            "layout": "IPY_MODEL_be6e59d759fd47909dc6b1705bb7d03a"
          }
        },
        "68649099ea1540058a383a0fd22650f0": {
          "model_module": "@jupyter-widgets/controls",
          "model_name": "ProgressStyleModel",
          "state": {
            "_view_name": "StyleView",
            "_model_name": "ProgressStyleModel",
            "description_width": "initial",
            "_view_module": "@jupyter-widgets/base",
            "_model_module_version": "1.5.0",
            "_view_count": null,
            "_view_module_version": "1.2.0",
            "bar_color": null,
            "_model_module": "@jupyter-widgets/controls"
          }
        },
        "9c88edb55a7443ec84d58cf920823ebc": {
          "model_module": "@jupyter-widgets/base",
          "model_name": "LayoutModel",
          "state": {
            "_view_name": "LayoutView",
            "grid_template_rows": null,
            "right": null,
            "justify_content": null,
            "_view_module": "@jupyter-widgets/base",
            "overflow": null,
            "_model_module_version": "1.2.0",
            "_view_count": null,
            "flex_flow": null,
            "width": null,
            "min_width": null,
            "border": null,
            "align_items": null,
            "bottom": null,
            "_model_module": "@jupyter-widgets/base",
            "top": null,
            "grid_column": null,
            "overflow_y": null,
            "overflow_x": null,
            "grid_auto_flow": null,
            "grid_area": null,
            "grid_template_columns": null,
            "flex": null,
            "_model_name": "LayoutModel",
            "justify_items": null,
            "grid_row": null,
            "max_height": null,
            "align_content": null,
            "visibility": null,
            "align_self": null,
            "height": null,
            "min_height": null,
            "padding": null,
            "grid_auto_rows": null,
            "grid_gap": null,
            "max_width": null,
            "order": null,
            "_view_module_version": "1.2.0",
            "grid_template_areas": null,
            "object_position": null,
            "object_fit": null,
            "grid_auto_columns": null,
            "margin": null,
            "display": null,
            "left": null
          }
        },
        "eb3a3002e9b74d258b276824d215c465": {
          "model_module": "@jupyter-widgets/controls",
          "model_name": "DescriptionStyleModel",
          "state": {
            "_view_name": "StyleView",
            "_model_name": "DescriptionStyleModel",
            "description_width": "",
            "_view_module": "@jupyter-widgets/base",
            "_model_module_version": "1.5.0",
            "_view_count": null,
            "_view_module_version": "1.2.0",
            "_model_module": "@jupyter-widgets/controls"
          }
        },
        "be6e59d759fd47909dc6b1705bb7d03a": {
          "model_module": "@jupyter-widgets/base",
          "model_name": "LayoutModel",
          "state": {
            "_view_name": "LayoutView",
            "grid_template_rows": null,
            "right": null,
            "justify_content": null,
            "_view_module": "@jupyter-widgets/base",
            "overflow": null,
            "_model_module_version": "1.2.0",
            "_view_count": null,
            "flex_flow": null,
            "width": null,
            "min_width": null,
            "border": null,
            "align_items": null,
            "bottom": null,
            "_model_module": "@jupyter-widgets/base",
            "top": null,
            "grid_column": null,
            "overflow_y": null,
            "overflow_x": null,
            "grid_auto_flow": null,
            "grid_area": null,
            "grid_template_columns": null,
            "flex": null,
            "_model_name": "LayoutModel",
            "justify_items": null,
            "grid_row": null,
            "max_height": null,
            "align_content": null,
            "visibility": null,
            "align_self": null,
            "height": null,
            "min_height": null,
            "padding": null,
            "grid_auto_rows": null,
            "grid_gap": null,
            "max_width": null,
            "order": null,
            "_view_module_version": "1.2.0",
            "grid_template_areas": null,
            "object_position": null,
            "object_fit": null,
            "grid_auto_columns": null,
            "margin": null,
            "display": null,
            "left": null
          }
        },
        "b432b77c9bc243fc97f15a5b843d76d8": {
          "model_module": "@jupyter-widgets/controls",
          "model_name": "HBoxModel",
          "state": {
            "_view_name": "HBoxView",
            "_dom_classes": [],
            "_model_name": "HBoxModel",
            "_view_module": "@jupyter-widgets/controls",
            "_model_module_version": "1.5.0",
            "_view_count": null,
            "_view_module_version": "1.5.0",
            "box_style": "",
            "layout": "IPY_MODEL_53635f370ae047d7be069cf8cb322dd2",
            "_model_module": "@jupyter-widgets/controls",
            "children": [
              "IPY_MODEL_ecc1c611a9f445be8386c6078ba2f2b6",
              "IPY_MODEL_73eac1d1a3fb423fb3f43c7ddd85db8f"
            ]
          }
        },
        "53635f370ae047d7be069cf8cb322dd2": {
          "model_module": "@jupyter-widgets/base",
          "model_name": "LayoutModel",
          "state": {
            "_view_name": "LayoutView",
            "grid_template_rows": null,
            "right": null,
            "justify_content": null,
            "_view_module": "@jupyter-widgets/base",
            "overflow": null,
            "_model_module_version": "1.2.0",
            "_view_count": null,
            "flex_flow": null,
            "width": null,
            "min_width": null,
            "border": null,
            "align_items": null,
            "bottom": null,
            "_model_module": "@jupyter-widgets/base",
            "top": null,
            "grid_column": null,
            "overflow_y": null,
            "overflow_x": null,
            "grid_auto_flow": null,
            "grid_area": null,
            "grid_template_columns": null,
            "flex": null,
            "_model_name": "LayoutModel",
            "justify_items": null,
            "grid_row": null,
            "max_height": null,
            "align_content": null,
            "visibility": null,
            "align_self": null,
            "height": null,
            "min_height": null,
            "padding": null,
            "grid_auto_rows": null,
            "grid_gap": null,
            "max_width": null,
            "order": null,
            "_view_module_version": "1.2.0",
            "grid_template_areas": null,
            "object_position": null,
            "object_fit": null,
            "grid_auto_columns": null,
            "margin": null,
            "display": null,
            "left": null
          }
        },
        "ecc1c611a9f445be8386c6078ba2f2b6": {
          "model_module": "@jupyter-widgets/controls",
          "model_name": "FloatProgressModel",
          "state": {
            "_view_name": "ProgressView",
            "style": "IPY_MODEL_fb0a5046440f4af4a5e339cd6edcf0d0",
            "_dom_classes": [],
            "description": "100%",
            "_model_name": "FloatProgressModel",
            "bar_style": "",
            "max": 6579,
            "_view_module": "@jupyter-widgets/controls",
            "_model_module_version": "1.5.0",
            "value": 6579,
            "_view_count": null,
            "_view_module_version": "1.5.0",
            "orientation": "horizontal",
            "min": 0,
            "description_tooltip": null,
            "_model_module": "@jupyter-widgets/controls",
            "layout": "IPY_MODEL_c5ba907b448b47609ed8ffc5e0486320"
          }
        },
        "73eac1d1a3fb423fb3f43c7ddd85db8f": {
          "model_module": "@jupyter-widgets/controls",
          "model_name": "HTMLModel",
          "state": {
            "_view_name": "HTMLView",
            "style": "IPY_MODEL_83833eeed95b4a3d834cbd357c18a8bf",
            "_dom_classes": [],
            "description": "",
            "_model_name": "HTMLModel",
            "placeholder": "​",
            "_view_module": "@jupyter-widgets/controls",
            "_model_module_version": "1.5.0",
            "value": " 6579/6579 [00:00&lt;00:00, 7927.81it/s]",
            "_view_count": null,
            "_view_module_version": "1.5.0",
            "description_tooltip": null,
            "_model_module": "@jupyter-widgets/controls",
            "layout": "IPY_MODEL_0e920d8c41974bdfac1d58fb46cf71ba"
          }
        },
        "fb0a5046440f4af4a5e339cd6edcf0d0": {
          "model_module": "@jupyter-widgets/controls",
          "model_name": "ProgressStyleModel",
          "state": {
            "_view_name": "StyleView",
            "_model_name": "ProgressStyleModel",
            "description_width": "initial",
            "_view_module": "@jupyter-widgets/base",
            "_model_module_version": "1.5.0",
            "_view_count": null,
            "_view_module_version": "1.2.0",
            "bar_color": null,
            "_model_module": "@jupyter-widgets/controls"
          }
        },
        "c5ba907b448b47609ed8ffc5e0486320": {
          "model_module": "@jupyter-widgets/base",
          "model_name": "LayoutModel",
          "state": {
            "_view_name": "LayoutView",
            "grid_template_rows": null,
            "right": null,
            "justify_content": null,
            "_view_module": "@jupyter-widgets/base",
            "overflow": null,
            "_model_module_version": "1.2.0",
            "_view_count": null,
            "flex_flow": null,
            "width": null,
            "min_width": null,
            "border": null,
            "align_items": null,
            "bottom": null,
            "_model_module": "@jupyter-widgets/base",
            "top": null,
            "grid_column": null,
            "overflow_y": null,
            "overflow_x": null,
            "grid_auto_flow": null,
            "grid_area": null,
            "grid_template_columns": null,
            "flex": null,
            "_model_name": "LayoutModel",
            "justify_items": null,
            "grid_row": null,
            "max_height": null,
            "align_content": null,
            "visibility": null,
            "align_self": null,
            "height": null,
            "min_height": null,
            "padding": null,
            "grid_auto_rows": null,
            "grid_gap": null,
            "max_width": null,
            "order": null,
            "_view_module_version": "1.2.0",
            "grid_template_areas": null,
            "object_position": null,
            "object_fit": null,
            "grid_auto_columns": null,
            "margin": null,
            "display": null,
            "left": null
          }
        },
        "83833eeed95b4a3d834cbd357c18a8bf": {
          "model_module": "@jupyter-widgets/controls",
          "model_name": "DescriptionStyleModel",
          "state": {
            "_view_name": "StyleView",
            "_model_name": "DescriptionStyleModel",
            "description_width": "",
            "_view_module": "@jupyter-widgets/base",
            "_model_module_version": "1.5.0",
            "_view_count": null,
            "_view_module_version": "1.2.0",
            "_model_module": "@jupyter-widgets/controls"
          }
        },
        "0e920d8c41974bdfac1d58fb46cf71ba": {
          "model_module": "@jupyter-widgets/base",
          "model_name": "LayoutModel",
          "state": {
            "_view_name": "LayoutView",
            "grid_template_rows": null,
            "right": null,
            "justify_content": null,
            "_view_module": "@jupyter-widgets/base",
            "overflow": null,
            "_model_module_version": "1.2.0",
            "_view_count": null,
            "flex_flow": null,
            "width": null,
            "min_width": null,
            "border": null,
            "align_items": null,
            "bottom": null,
            "_model_module": "@jupyter-widgets/base",
            "top": null,
            "grid_column": null,
            "overflow_y": null,
            "overflow_x": null,
            "grid_auto_flow": null,
            "grid_area": null,
            "grid_template_columns": null,
            "flex": null,
            "_model_name": "LayoutModel",
            "justify_items": null,
            "grid_row": null,
            "max_height": null,
            "align_content": null,
            "visibility": null,
            "align_self": null,
            "height": null,
            "min_height": null,
            "padding": null,
            "grid_auto_rows": null,
            "grid_gap": null,
            "max_width": null,
            "order": null,
            "_view_module_version": "1.2.0",
            "grid_template_areas": null,
            "object_position": null,
            "object_fit": null,
            "grid_auto_columns": null,
            "margin": null,
            "display": null,
            "left": null
          }
        },
        "edda3abe1a4b4eaa853539f3a62b0e61": {
          "model_module": "@jupyter-widgets/controls",
          "model_name": "HBoxModel",
          "state": {
            "_view_name": "HBoxView",
            "_dom_classes": [],
            "_model_name": "HBoxModel",
            "_view_module": "@jupyter-widgets/controls",
            "_model_module_version": "1.5.0",
            "_view_count": null,
            "_view_module_version": "1.5.0",
            "box_style": "",
            "layout": "IPY_MODEL_8ee21f1c0ac64447974a90da531497cc",
            "_model_module": "@jupyter-widgets/controls",
            "children": [
              "IPY_MODEL_f71ae15e051e4f719c79d247e3465324",
              "IPY_MODEL_74aa40cf109f4b6ebf7e2ef677e2c40d"
            ]
          }
        },
        "8ee21f1c0ac64447974a90da531497cc": {
          "model_module": "@jupyter-widgets/base",
          "model_name": "LayoutModel",
          "state": {
            "_view_name": "LayoutView",
            "grid_template_rows": null,
            "right": null,
            "justify_content": null,
            "_view_module": "@jupyter-widgets/base",
            "overflow": null,
            "_model_module_version": "1.2.0",
            "_view_count": null,
            "flex_flow": null,
            "width": null,
            "min_width": null,
            "border": null,
            "align_items": null,
            "bottom": null,
            "_model_module": "@jupyter-widgets/base",
            "top": null,
            "grid_column": null,
            "overflow_y": null,
            "overflow_x": null,
            "grid_auto_flow": null,
            "grid_area": null,
            "grid_template_columns": null,
            "flex": null,
            "_model_name": "LayoutModel",
            "justify_items": null,
            "grid_row": null,
            "max_height": null,
            "align_content": null,
            "visibility": null,
            "align_self": null,
            "height": null,
            "min_height": null,
            "padding": null,
            "grid_auto_rows": null,
            "grid_gap": null,
            "max_width": null,
            "order": null,
            "_view_module_version": "1.2.0",
            "grid_template_areas": null,
            "object_position": null,
            "object_fit": null,
            "grid_auto_columns": null,
            "margin": null,
            "display": null,
            "left": null
          }
        },
        "f71ae15e051e4f719c79d247e3465324": {
          "model_module": "@jupyter-widgets/controls",
          "model_name": "FloatProgressModel",
          "state": {
            "_view_name": "ProgressView",
            "style": "IPY_MODEL_abad7cb634924003be6e261593ba4c19",
            "_dom_classes": [],
            "description": "100%",
            "_model_name": "FloatProgressModel",
            "bar_style": "",
            "max": 48309,
            "_view_module": "@jupyter-widgets/controls",
            "_model_module_version": "1.5.0",
            "value": 48309,
            "_view_count": null,
            "_view_module_version": "1.5.0",
            "orientation": "horizontal",
            "min": 0,
            "description_tooltip": null,
            "_model_module": "@jupyter-widgets/controls",
            "layout": "IPY_MODEL_8952810a0e2e4383ba656e6310c29710"
          }
        },
        "74aa40cf109f4b6ebf7e2ef677e2c40d": {
          "model_module": "@jupyter-widgets/controls",
          "model_name": "HTMLModel",
          "state": {
            "_view_name": "HTMLView",
            "style": "IPY_MODEL_e60e3d7789bd4bb19f5652254048999a",
            "_dom_classes": [],
            "description": "",
            "_model_name": "HTMLModel",
            "placeholder": "​",
            "_view_module": "@jupyter-widgets/controls",
            "_model_module_version": "1.5.0",
            "value": " 48309/48309 [00:29&lt;00:00, 1207.64it/s]",
            "_view_count": null,
            "_view_module_version": "1.5.0",
            "description_tooltip": null,
            "_model_module": "@jupyter-widgets/controls",
            "layout": "IPY_MODEL_1c1da5ccfc914b28b5a800e82aec22de"
          }
        },
        "abad7cb634924003be6e261593ba4c19": {
          "model_module": "@jupyter-widgets/controls",
          "model_name": "ProgressStyleModel",
          "state": {
            "_view_name": "StyleView",
            "_model_name": "ProgressStyleModel",
            "description_width": "initial",
            "_view_module": "@jupyter-widgets/base",
            "_model_module_version": "1.5.0",
            "_view_count": null,
            "_view_module_version": "1.2.0",
            "bar_color": null,
            "_model_module": "@jupyter-widgets/controls"
          }
        },
        "8952810a0e2e4383ba656e6310c29710": {
          "model_module": "@jupyter-widgets/base",
          "model_name": "LayoutModel",
          "state": {
            "_view_name": "LayoutView",
            "grid_template_rows": null,
            "right": null,
            "justify_content": null,
            "_view_module": "@jupyter-widgets/base",
            "overflow": null,
            "_model_module_version": "1.2.0",
            "_view_count": null,
            "flex_flow": null,
            "width": null,
            "min_width": null,
            "border": null,
            "align_items": null,
            "bottom": null,
            "_model_module": "@jupyter-widgets/base",
            "top": null,
            "grid_column": null,
            "overflow_y": null,
            "overflow_x": null,
            "grid_auto_flow": null,
            "grid_area": null,
            "grid_template_columns": null,
            "flex": null,
            "_model_name": "LayoutModel",
            "justify_items": null,
            "grid_row": null,
            "max_height": null,
            "align_content": null,
            "visibility": null,
            "align_self": null,
            "height": null,
            "min_height": null,
            "padding": null,
            "grid_auto_rows": null,
            "grid_gap": null,
            "max_width": null,
            "order": null,
            "_view_module_version": "1.2.0",
            "grid_template_areas": null,
            "object_position": null,
            "object_fit": null,
            "grid_auto_columns": null,
            "margin": null,
            "display": null,
            "left": null
          }
        },
        "e60e3d7789bd4bb19f5652254048999a": {
          "model_module": "@jupyter-widgets/controls",
          "model_name": "DescriptionStyleModel",
          "state": {
            "_view_name": "StyleView",
            "_model_name": "DescriptionStyleModel",
            "description_width": "",
            "_view_module": "@jupyter-widgets/base",
            "_model_module_version": "1.5.0",
            "_view_count": null,
            "_view_module_version": "1.2.0",
            "_model_module": "@jupyter-widgets/controls"
          }
        },
        "1c1da5ccfc914b28b5a800e82aec22de": {
          "model_module": "@jupyter-widgets/base",
          "model_name": "LayoutModel",
          "state": {
            "_view_name": "LayoutView",
            "grid_template_rows": null,
            "right": null,
            "justify_content": null,
            "_view_module": "@jupyter-widgets/base",
            "overflow": null,
            "_model_module_version": "1.2.0",
            "_view_count": null,
            "flex_flow": null,
            "width": null,
            "min_width": null,
            "border": null,
            "align_items": null,
            "bottom": null,
            "_model_module": "@jupyter-widgets/base",
            "top": null,
            "grid_column": null,
            "overflow_y": null,
            "overflow_x": null,
            "grid_auto_flow": null,
            "grid_area": null,
            "grid_template_columns": null,
            "flex": null,
            "_model_name": "LayoutModel",
            "justify_items": null,
            "grid_row": null,
            "max_height": null,
            "align_content": null,
            "visibility": null,
            "align_self": null,
            "height": null,
            "min_height": null,
            "padding": null,
            "grid_auto_rows": null,
            "grid_gap": null,
            "max_width": null,
            "order": null,
            "_view_module_version": "1.2.0",
            "grid_template_areas": null,
            "object_position": null,
            "object_fit": null,
            "grid_auto_columns": null,
            "margin": null,
            "display": null,
            "left": null
          }
        },
        "e490f93cd74141679e29d16bbe300e74": {
          "model_module": "@jupyter-widgets/controls",
          "model_name": "HBoxModel",
          "state": {
            "_view_name": "HBoxView",
            "_dom_classes": [],
            "_model_name": "HBoxModel",
            "_view_module": "@jupyter-widgets/controls",
            "_model_module_version": "1.5.0",
            "_view_count": null,
            "_view_module_version": "1.5.0",
            "box_style": "",
            "layout": "IPY_MODEL_415df3189aca4408b4a526fb7109ca11",
            "_model_module": "@jupyter-widgets/controls",
            "children": [
              "IPY_MODEL_ddf2a13c15a2417e9d87b66d02604519",
              "IPY_MODEL_825afd3ab8404f0e92a4d38367db8427"
            ]
          }
        },
        "415df3189aca4408b4a526fb7109ca11": {
          "model_module": "@jupyter-widgets/base",
          "model_name": "LayoutModel",
          "state": {
            "_view_name": "LayoutView",
            "grid_template_rows": null,
            "right": null,
            "justify_content": null,
            "_view_module": "@jupyter-widgets/base",
            "overflow": null,
            "_model_module_version": "1.2.0",
            "_view_count": null,
            "flex_flow": null,
            "width": null,
            "min_width": null,
            "border": null,
            "align_items": null,
            "bottom": null,
            "_model_module": "@jupyter-widgets/base",
            "top": null,
            "grid_column": null,
            "overflow_y": null,
            "overflow_x": null,
            "grid_auto_flow": null,
            "grid_area": null,
            "grid_template_columns": null,
            "flex": null,
            "_model_name": "LayoutModel",
            "justify_items": null,
            "grid_row": null,
            "max_height": null,
            "align_content": null,
            "visibility": null,
            "align_self": null,
            "height": null,
            "min_height": null,
            "padding": null,
            "grid_auto_rows": null,
            "grid_gap": null,
            "max_width": null,
            "order": null,
            "_view_module_version": "1.2.0",
            "grid_template_areas": null,
            "object_position": null,
            "object_fit": null,
            "grid_auto_columns": null,
            "margin": null,
            "display": null,
            "left": null
          }
        },
        "ddf2a13c15a2417e9d87b66d02604519": {
          "model_module": "@jupyter-widgets/controls",
          "model_name": "FloatProgressModel",
          "state": {
            "_view_name": "ProgressView",
            "style": "IPY_MODEL_a7fef9d40b9444e2866e33b02fb9dce5",
            "_dom_classes": [],
            "description": "100%",
            "_model_name": "FloatProgressModel",
            "bar_style": "",
            "max": 48309,
            "_view_module": "@jupyter-widgets/controls",
            "_model_module_version": "1.5.0",
            "value": 48309,
            "_view_count": null,
            "_view_module_version": "1.5.0",
            "orientation": "horizontal",
            "min": 0,
            "description_tooltip": null,
            "_model_module": "@jupyter-widgets/controls",
            "layout": "IPY_MODEL_c2da6ccaedc34c428d2f7659d32816b9"
          }
        },
        "825afd3ab8404f0e92a4d38367db8427": {
          "model_module": "@jupyter-widgets/controls",
          "model_name": "HTMLModel",
          "state": {
            "_view_name": "HTMLView",
            "style": "IPY_MODEL_3a9342199b414592b74613ff84a3e884",
            "_dom_classes": [],
            "description": "",
            "_model_name": "HTMLModel",
            "placeholder": "​",
            "_view_module": "@jupyter-widgets/controls",
            "_model_module_version": "1.5.0",
            "value": " 48309/48309 [00:37&lt;00:00, 907.68it/s]",
            "_view_count": null,
            "_view_module_version": "1.5.0",
            "description_tooltip": null,
            "_model_module": "@jupyter-widgets/controls",
            "layout": "IPY_MODEL_5ad0c0f15c214df4b0133928f5cde58e"
          }
        },
        "a7fef9d40b9444e2866e33b02fb9dce5": {
          "model_module": "@jupyter-widgets/controls",
          "model_name": "ProgressStyleModel",
          "state": {
            "_view_name": "StyleView",
            "_model_name": "ProgressStyleModel",
            "description_width": "initial",
            "_view_module": "@jupyter-widgets/base",
            "_model_module_version": "1.5.0",
            "_view_count": null,
            "_view_module_version": "1.2.0",
            "bar_color": null,
            "_model_module": "@jupyter-widgets/controls"
          }
        },
        "c2da6ccaedc34c428d2f7659d32816b9": {
          "model_module": "@jupyter-widgets/base",
          "model_name": "LayoutModel",
          "state": {
            "_view_name": "LayoutView",
            "grid_template_rows": null,
            "right": null,
            "justify_content": null,
            "_view_module": "@jupyter-widgets/base",
            "overflow": null,
            "_model_module_version": "1.2.0",
            "_view_count": null,
            "flex_flow": null,
            "width": null,
            "min_width": null,
            "border": null,
            "align_items": null,
            "bottom": null,
            "_model_module": "@jupyter-widgets/base",
            "top": null,
            "grid_column": null,
            "overflow_y": null,
            "overflow_x": null,
            "grid_auto_flow": null,
            "grid_area": null,
            "grid_template_columns": null,
            "flex": null,
            "_model_name": "LayoutModel",
            "justify_items": null,
            "grid_row": null,
            "max_height": null,
            "align_content": null,
            "visibility": null,
            "align_self": null,
            "height": null,
            "min_height": null,
            "padding": null,
            "grid_auto_rows": null,
            "grid_gap": null,
            "max_width": null,
            "order": null,
            "_view_module_version": "1.2.0",
            "grid_template_areas": null,
            "object_position": null,
            "object_fit": null,
            "grid_auto_columns": null,
            "margin": null,
            "display": null,
            "left": null
          }
        },
        "3a9342199b414592b74613ff84a3e884": {
          "model_module": "@jupyter-widgets/controls",
          "model_name": "DescriptionStyleModel",
          "state": {
            "_view_name": "StyleView",
            "_model_name": "DescriptionStyleModel",
            "description_width": "",
            "_view_module": "@jupyter-widgets/base",
            "_model_module_version": "1.5.0",
            "_view_count": null,
            "_view_module_version": "1.2.0",
            "_model_module": "@jupyter-widgets/controls"
          }
        },
        "5ad0c0f15c214df4b0133928f5cde58e": {
          "model_module": "@jupyter-widgets/base",
          "model_name": "LayoutModel",
          "state": {
            "_view_name": "LayoutView",
            "grid_template_rows": null,
            "right": null,
            "justify_content": null,
            "_view_module": "@jupyter-widgets/base",
            "overflow": null,
            "_model_module_version": "1.2.0",
            "_view_count": null,
            "flex_flow": null,
            "width": null,
            "min_width": null,
            "border": null,
            "align_items": null,
            "bottom": null,
            "_model_module": "@jupyter-widgets/base",
            "top": null,
            "grid_column": null,
            "overflow_y": null,
            "overflow_x": null,
            "grid_auto_flow": null,
            "grid_area": null,
            "grid_template_columns": null,
            "flex": null,
            "_model_name": "LayoutModel",
            "justify_items": null,
            "grid_row": null,
            "max_height": null,
            "align_content": null,
            "visibility": null,
            "align_self": null,
            "height": null,
            "min_height": null,
            "padding": null,
            "grid_auto_rows": null,
            "grid_gap": null,
            "max_width": null,
            "order": null,
            "_view_module_version": "1.2.0",
            "grid_template_areas": null,
            "object_position": null,
            "object_fit": null,
            "grid_auto_columns": null,
            "margin": null,
            "display": null,
            "left": null
          }
        },
        "d9b249d0569c4463a01b2f4e9613266f": {
          "model_module": "@jupyter-widgets/controls",
          "model_name": "HBoxModel",
          "state": {
            "_view_name": "HBoxView",
            "_dom_classes": [],
            "_model_name": "HBoxModel",
            "_view_module": "@jupyter-widgets/controls",
            "_model_module_version": "1.5.0",
            "_view_count": null,
            "_view_module_version": "1.5.0",
            "box_style": "",
            "layout": "IPY_MODEL_4ee4c46636de4a62852f436939881519",
            "_model_module": "@jupyter-widgets/controls",
            "children": [
              "IPY_MODEL_a2f112a8eb40404abcd9ee035e65fec9",
              "IPY_MODEL_84dca6a666244fd2bf0760567d2e9c9c"
            ]
          }
        },
        "4ee4c46636de4a62852f436939881519": {
          "model_module": "@jupyter-widgets/base",
          "model_name": "LayoutModel",
          "state": {
            "_view_name": "LayoutView",
            "grid_template_rows": null,
            "right": null,
            "justify_content": null,
            "_view_module": "@jupyter-widgets/base",
            "overflow": null,
            "_model_module_version": "1.2.0",
            "_view_count": null,
            "flex_flow": null,
            "width": null,
            "min_width": null,
            "border": null,
            "align_items": null,
            "bottom": null,
            "_model_module": "@jupyter-widgets/base",
            "top": null,
            "grid_column": null,
            "overflow_y": null,
            "overflow_x": null,
            "grid_auto_flow": null,
            "grid_area": null,
            "grid_template_columns": null,
            "flex": null,
            "_model_name": "LayoutModel",
            "justify_items": null,
            "grid_row": null,
            "max_height": null,
            "align_content": null,
            "visibility": null,
            "align_self": null,
            "height": null,
            "min_height": null,
            "padding": null,
            "grid_auto_rows": null,
            "grid_gap": null,
            "max_width": null,
            "order": null,
            "_view_module_version": "1.2.0",
            "grid_template_areas": null,
            "object_position": null,
            "object_fit": null,
            "grid_auto_columns": null,
            "margin": null,
            "display": null,
            "left": null
          }
        },
        "a2f112a8eb40404abcd9ee035e65fec9": {
          "model_module": "@jupyter-widgets/controls",
          "model_name": "FloatProgressModel",
          "state": {
            "_view_name": "ProgressView",
            "style": "IPY_MODEL_c61c126366334f5382fac34f45f0fde9",
            "_dom_classes": [],
            "description": " 22%",
            "_model_name": "FloatProgressModel",
            "bar_style": "danger",
            "max": 125,
            "_view_module": "@jupyter-widgets/controls",
            "_model_module_version": "1.5.0",
            "value": 28,
            "_view_count": null,
            "_view_module_version": "1.5.0",
            "orientation": "horizontal",
            "min": 0,
            "description_tooltip": null,
            "_model_module": "@jupyter-widgets/controls",
            "layout": "IPY_MODEL_495381cf2be845bba2b305e31b571cf2"
          }
        },
        "84dca6a666244fd2bf0760567d2e9c9c": {
          "model_module": "@jupyter-widgets/controls",
          "model_name": "HTMLModel",
          "state": {
            "_view_name": "HTMLView",
            "style": "IPY_MODEL_1ba47209576c4387a902abc5b0dbe180",
            "_dom_classes": [],
            "description": "",
            "_model_name": "HTMLModel",
            "placeholder": "​",
            "_view_module": "@jupyter-widgets/controls",
            "_model_module_version": "1.5.0",
            "value": " 28/125 [01:07&lt;03:25,  2.12s/it]",
            "_view_count": null,
            "_view_module_version": "1.5.0",
            "description_tooltip": null,
            "_model_module": "@jupyter-widgets/controls",
            "layout": "IPY_MODEL_8578c2da68c44971a4869a5e37a3d171"
          }
        },
        "c61c126366334f5382fac34f45f0fde9": {
          "model_module": "@jupyter-widgets/controls",
          "model_name": "ProgressStyleModel",
          "state": {
            "_view_name": "StyleView",
            "_model_name": "ProgressStyleModel",
            "description_width": "initial",
            "_view_module": "@jupyter-widgets/base",
            "_model_module_version": "1.5.0",
            "_view_count": null,
            "_view_module_version": "1.2.0",
            "bar_color": null,
            "_model_module": "@jupyter-widgets/controls"
          }
        },
        "495381cf2be845bba2b305e31b571cf2": {
          "model_module": "@jupyter-widgets/base",
          "model_name": "LayoutModel",
          "state": {
            "_view_name": "LayoutView",
            "grid_template_rows": null,
            "right": null,
            "justify_content": null,
            "_view_module": "@jupyter-widgets/base",
            "overflow": null,
            "_model_module_version": "1.2.0",
            "_view_count": null,
            "flex_flow": null,
            "width": null,
            "min_width": null,
            "border": null,
            "align_items": null,
            "bottom": null,
            "_model_module": "@jupyter-widgets/base",
            "top": null,
            "grid_column": null,
            "overflow_y": null,
            "overflow_x": null,
            "grid_auto_flow": null,
            "grid_area": null,
            "grid_template_columns": null,
            "flex": null,
            "_model_name": "LayoutModel",
            "justify_items": null,
            "grid_row": null,
            "max_height": null,
            "align_content": null,
            "visibility": null,
            "align_self": null,
            "height": null,
            "min_height": null,
            "padding": null,
            "grid_auto_rows": null,
            "grid_gap": null,
            "max_width": null,
            "order": null,
            "_view_module_version": "1.2.0",
            "grid_template_areas": null,
            "object_position": null,
            "object_fit": null,
            "grid_auto_columns": null,
            "margin": null,
            "display": null,
            "left": null
          }
        },
        "1ba47209576c4387a902abc5b0dbe180": {
          "model_module": "@jupyter-widgets/controls",
          "model_name": "DescriptionStyleModel",
          "state": {
            "_view_name": "StyleView",
            "_model_name": "DescriptionStyleModel",
            "description_width": "",
            "_view_module": "@jupyter-widgets/base",
            "_model_module_version": "1.5.0",
            "_view_count": null,
            "_view_module_version": "1.2.0",
            "_model_module": "@jupyter-widgets/controls"
          }
        },
        "8578c2da68c44971a4869a5e37a3d171": {
          "model_module": "@jupyter-widgets/base",
          "model_name": "LayoutModel",
          "state": {
            "_view_name": "LayoutView",
            "grid_template_rows": null,
            "right": null,
            "justify_content": null,
            "_view_module": "@jupyter-widgets/base",
            "overflow": null,
            "_model_module_version": "1.2.0",
            "_view_count": null,
            "flex_flow": null,
            "width": null,
            "min_width": null,
            "border": null,
            "align_items": null,
            "bottom": null,
            "_model_module": "@jupyter-widgets/base",
            "top": null,
            "grid_column": null,
            "overflow_y": null,
            "overflow_x": null,
            "grid_auto_flow": null,
            "grid_area": null,
            "grid_template_columns": null,
            "flex": null,
            "_model_name": "LayoutModel",
            "justify_items": null,
            "grid_row": null,
            "max_height": null,
            "align_content": null,
            "visibility": null,
            "align_self": null,
            "height": null,
            "min_height": null,
            "padding": null,
            "grid_auto_rows": null,
            "grid_gap": null,
            "max_width": null,
            "order": null,
            "_view_module_version": "1.2.0",
            "grid_template_areas": null,
            "object_position": null,
            "object_fit": null,
            "grid_auto_columns": null,
            "margin": null,
            "display": null,
            "left": null
          }
        }
      }
    }
  },
  "cells": [
    {
      "cell_type": "markdown",
      "metadata": {
        "jupyter": {
          "outputs_hidden": true
        },
        "id": "ItxFQ_AGrUNC"
      },
      "source": [
        "# qa-nlp\n",
        "Question answering neural model based on the SQuAD dataset.\n",
        "\n",
        "Authors:\n",
        "- Lorenzo Mario Amorosa\n",
        "- Andrea Espis\n",
        "- Mattia Orlandi\n",
        "- Giacomo Pinardi"
      ]
    },
    {
      "cell_type": "markdown",
      "metadata": {
        "id": "pRQNkw-jrUNM"
      },
      "source": [
        "## 0. Environment setup"
      ]
    },
    {
      "cell_type": "code",
      "metadata": {
        "id": "va4wBPSvrUNN"
      },
      "source": [
        "%load_ext autoreload\n",
        "%autoreload 2"
      ],
      "execution_count": 1,
      "outputs": []
    },
    {
      "cell_type": "code",
      "metadata": {
        "colab": {
          "base_uri": "https://localhost:8080/"
        },
        "id": "hQzgf_JhrUNP",
        "outputId": "b8f75bee-4dc2-4f6d-c47c-e7259a2d7381"
      },
      "source": [
        "# Library to read json\n",
        "import json\n",
        "\n",
        "# Numeric and data manipulation tools\n",
        "import pandas as pd\n",
        "import numpy as np\n",
        "import random\n",
        "\n",
        "# Deep learning framework\n",
        "import torch\n",
        "import torch.nn as nn\n",
        "import torch.optim as optim\n",
        "import torch.nn.functional as F\n",
        "\n",
        "# Natural language tools\n",
        "import nltk\n",
        "from nltk.tokenize import TreebankWordTokenizer\n",
        "import gensim\n",
        "import gensim.downloader as gloader\n",
        "\n",
        "# Other tools\n",
        "from tqdm.notebook import tqdm\n",
        "from collections import OrderedDict, Counter\n",
        "from time import time\n",
        "from itertools import zip_longest\n",
        "\n",
        "# automatic mixed precision training:\n",
        "from torch.cuda.amp import autocast \n",
        "from torch.cuda.amp import GradScaler\n",
        "\n",
        "# Type hint\n",
        "from typing import Optional, Callable, Tuple, Dict, List, Union\n",
        "\n",
        "nltk.download('punkt')\n",
        "nltk.download('stopwords')\n",
        "\n",
        "# from sklearn.model_selection import train_test_split\n",
        "\n",
        "# Use GPU acceleration if possible\n",
        "DEVICE = torch.device('cuda:0' if torch.cuda.is_available() else 'cpu')\n",
        "print('Using this device:', DEVICE)\n",
        "\n",
        "if not(torch.cuda.is_available()):\n",
        "    raise Exception('Switch to runtime GPU, otherwise the code won\\'t work properly')\n",
        "   \n",
        "# to avoid memory problems:\n",
        "torch.backends.cudnn.enabled = False"
      ],
      "execution_count": 2,
      "outputs": [
        {
          "output_type": "stream",
          "text": [
            "[nltk_data] Downloading package punkt to /root/nltk_data...\n",
            "[nltk_data]   Unzipping tokenizers/punkt.zip.\n",
            "[nltk_data] Downloading package stopwords to /root/nltk_data...\n",
            "[nltk_data]   Unzipping corpora/stopwords.zip.\n",
            "Using this device: cuda:0\n"
          ],
          "name": "stdout"
        }
      ]
    },
    {
      "cell_type": "code",
      "metadata": {
        "id": "Dy5Oi3yQrUNS"
      },
      "source": [
        "# Set seed for reproducibility\n",
        "def fix_random(seed: int):\n",
        "    np.random.seed(seed)\n",
        "    torch.manual_seed(seed)\n",
        "    torch.cuda.manual_seed(seed)\n",
        "    torch.backends.cudnn.benchmark = False\n",
        "    torch.backends.cudnn.deterministic = True\n",
        "\n",
        "fix_random(42)"
      ],
      "execution_count": 3,
      "outputs": []
    },
    {
      "cell_type": "code",
      "metadata": {
        "colab": {
          "base_uri": "https://localhost:8080/"
        },
        "id": "fGjA5NMNrUNT",
        "outputId": "d37ca779-dc48-4227-ec8c-e3b8df31b7e5"
      },
      "source": [
        "# Use GPU acceleration if possible\n",
        "DEVICE = torch.device('cuda:0' if torch.cuda.is_available() else 'cpu')\n",
        "print(\"using this device:\", DEVICE)\n",
        "\n",
        "# Define special tokens\n",
        "PAD = '<PAD>'\n",
        "UNK = '<UNK>'"
      ],
      "execution_count": 4,
      "outputs": [
        {
          "output_type": "stream",
          "text": [
            "using this device: cuda:0\n"
          ],
          "name": "stdout"
        }
      ]
    },
    {
      "cell_type": "code",
      "metadata": {
        "id": "GbJ8fgEyrUNU"
      },
      "source": [
        "# Lambda for computing the mean of a list\n",
        "mean: Callable[[List[float]], float] = lambda l: sum(l) / len(l)\n",
        "\n",
        "# Lambda for transforming a list of tuples into a tuple of lists\n",
        "to_tuple_of_lists: Callable[[List[Tuple]], Tuple[List]] = lambda list_of_tuples: tuple(map(list, zip(*list_of_tuples)))\n",
        "\n",
        "# Lambda for transforming a tuple of lists into a list of tuples\n",
        "to_list_of_tuples: Callable[[Tuple[List]], List[Tuple]] = lambda tuple_of_lists: list(zip(*tuple_of_lists))\n",
        "\n",
        "# Lambda for iterating with batches (if the length of the sequences does not match with the batch size, tuples of empty lists are appended)\n",
        "batch_iteration: Callable[[List[Tuple]], zip] = lambda data, batch_size: zip_longest(*[iter(data)] * batch_size, fillvalue=([], [], []))"
      ],
      "execution_count": 5,
      "outputs": []
    },
    {
      "cell_type": "markdown",
      "metadata": {
        "id": "nZPwLx1IrUNU"
      },
      "source": [
        "## 1. Dataset preparation"
      ]
    },
    {
      "cell_type": "code",
      "metadata": {
        "colab": {
          "base_uri": "https://localhost:8080/",
          "height": 293
        },
        "id": "adXqWjOqrUNW",
        "outputId": "53d05a00-4666-499f-fabb-e1a81b7d3d4e"
      },
      "source": [
        "\"\"\"\n",
        "json structure:\n",
        "\n",
        "data []\n",
        "|---title\n",
        "|---paragraphs []\n",
        "|   |---context\n",
        "|   |---qas []\n",
        "|   |   |---answers []\n",
        "|   |   |   |---answer_start\n",
        "|   |   |   |---text\n",
        "|   |   |---question\n",
        "|   |   |---id\n",
        "version\n",
        "\n",
        "\"\"\"\n",
        "\n",
        "filename = 'training_set.json'\n",
        "\n",
        "with open(filename, 'r') as f:\n",
        "    raw_data = f.readlines()[0]\n",
        "\n",
        "parsed_data = json.loads(raw_data)['data']\n",
        "\n",
        "context_list = []\n",
        "context_index = -1\n",
        "paragraph_index = -1\n",
        "\n",
        "dataset = {'paragraph_index': [], 'context_index': [], 'question': [], 'id': [], 'answer_start': [], 'answer_end': [], 'answer_text': []}\n",
        "\n",
        "for i in range(len(parsed_data)):\n",
        "    paragraph_index += 1\n",
        "    for j in range(len(parsed_data[i]['paragraphs'])):\n",
        "        context_list.append(parsed_data[i]['paragraphs'][j]['context'])\n",
        "        context_index += 1\n",
        "\n",
        "        for k in range(len(parsed_data[i]['paragraphs'][j]['qas'])):\n",
        "            question = parsed_data[i]['paragraphs'][j]['qas'][k]['question']\n",
        "            id = parsed_data[i]['paragraphs'][j]['qas'][k]['id']\n",
        "\n",
        "            for l in range(len(parsed_data[i]['paragraphs'][j]['qas'][k]['answers'])): \n",
        "                answer_start = parsed_data[i]['paragraphs'][j]['qas'][k]['answers'][l]['answer_start']\n",
        "                answer_text = parsed_data[i]['paragraphs'][j]['qas'][k]['answers'][l]['text']\n",
        "\n",
        "                answer_end = answer_start + len(answer_text)\n",
        "\n",
        "                dataset['paragraph_index'].append(paragraph_index)\n",
        "                dataset['context_index'].append(context_index)\n",
        "                dataset['question'].append(question)\n",
        "                dataset['id'].append(id)\n",
        "                dataset['answer_start'].append(answer_start)\n",
        "                dataset['answer_end'].append(answer_end)\n",
        "                dataset['answer_text'].append(answer_text)\n",
        "\n",
        "df = pd.DataFrame.from_dict(dataset)\n",
        "\n",
        "df.head()"
      ],
      "execution_count": 7,
      "outputs": [
        {
          "output_type": "execute_result",
          "data": {
            "text/html": [
              "<div>\n",
              "<style scoped>\n",
              "    .dataframe tbody tr th:only-of-type {\n",
              "        vertical-align: middle;\n",
              "    }\n",
              "\n",
              "    .dataframe tbody tr th {\n",
              "        vertical-align: top;\n",
              "    }\n",
              "\n",
              "    .dataframe thead th {\n",
              "        text-align: right;\n",
              "    }\n",
              "</style>\n",
              "<table border=\"1\" class=\"dataframe\">\n",
              "  <thead>\n",
              "    <tr style=\"text-align: right;\">\n",
              "      <th></th>\n",
              "      <th>paragraph_index</th>\n",
              "      <th>context_index</th>\n",
              "      <th>question</th>\n",
              "      <th>id</th>\n",
              "      <th>answer_start</th>\n",
              "      <th>answer_end</th>\n",
              "      <th>answer_text</th>\n",
              "    </tr>\n",
              "  </thead>\n",
              "  <tbody>\n",
              "    <tr>\n",
              "      <th>0</th>\n",
              "      <td>0</td>\n",
              "      <td>0</td>\n",
              "      <td>To whom did the Virgin Mary allegedly appear i...</td>\n",
              "      <td>5733be284776f41900661182</td>\n",
              "      <td>515</td>\n",
              "      <td>541</td>\n",
              "      <td>Saint Bernadette Soubirous</td>\n",
              "    </tr>\n",
              "    <tr>\n",
              "      <th>1</th>\n",
              "      <td>0</td>\n",
              "      <td>0</td>\n",
              "      <td>What is in front of the Notre Dame Main Building?</td>\n",
              "      <td>5733be284776f4190066117f</td>\n",
              "      <td>188</td>\n",
              "      <td>213</td>\n",
              "      <td>a copper statue of Christ</td>\n",
              "    </tr>\n",
              "    <tr>\n",
              "      <th>2</th>\n",
              "      <td>0</td>\n",
              "      <td>0</td>\n",
              "      <td>The Basilica of the Sacred heart at Notre Dame...</td>\n",
              "      <td>5733be284776f41900661180</td>\n",
              "      <td>279</td>\n",
              "      <td>296</td>\n",
              "      <td>the Main Building</td>\n",
              "    </tr>\n",
              "    <tr>\n",
              "      <th>3</th>\n",
              "      <td>0</td>\n",
              "      <td>0</td>\n",
              "      <td>What is the Grotto at Notre Dame?</td>\n",
              "      <td>5733be284776f41900661181</td>\n",
              "      <td>381</td>\n",
              "      <td>420</td>\n",
              "      <td>a Marian place of prayer and reflection</td>\n",
              "    </tr>\n",
              "    <tr>\n",
              "      <th>4</th>\n",
              "      <td>0</td>\n",
              "      <td>0</td>\n",
              "      <td>What sits on top of the Main Building at Notre...</td>\n",
              "      <td>5733be284776f4190066117e</td>\n",
              "      <td>92</td>\n",
              "      <td>126</td>\n",
              "      <td>a golden statue of the Virgin Mary</td>\n",
              "    </tr>\n",
              "  </tbody>\n",
              "</table>\n",
              "</div>"
            ],
            "text/plain": [
              "   paragraph_index  ...                              answer_text\n",
              "0                0  ...               Saint Bernadette Soubirous\n",
              "1                0  ...                a copper statue of Christ\n",
              "2                0  ...                        the Main Building\n",
              "3                0  ...  a Marian place of prayer and reflection\n",
              "4                0  ...       a golden statue of the Virgin Mary\n",
              "\n",
              "[5 rows x 7 columns]"
            ]
          },
          "metadata": {
            "tags": []
          },
          "execution_count": 7
        }
      ]
    },
    {
      "cell_type": "code",
      "metadata": {
        "id": "33BLQqFLxZAB"
      },
      "source": [
        "# Solo per Giacomo e Lorenzo\n",
        "# Fixing \"ValueError: substring not found\"\n",
        "# https://github.com/nltk/nltk/issues/1750\n",
        "to_replace = {'\"': ' ', '\\'': ' ', '`': ' '}\n",
        "\n",
        "def replace_all(text):\n",
        "    for i, j in to_replace.items():\n",
        "        text = text.replace(i, j)\n",
        "\n",
        "    return text\n",
        "\n",
        "context_list = [replace_all(context) for context in context_list]\n",
        "df['question'] = df['question'].apply(lambda x: replace_all(x))"
      ],
      "execution_count": 16,
      "outputs": []
    },
    {
      "cell_type": "code",
      "metadata": {
        "id": "wdFLg01QrUNX"
      },
      "source": [
        "# L'unica cosa che si potrebbe rimuovere è la fonetica, ma è poco presente. Inoltre facendolo bisognerebbe aggiornare gli indici\n",
        "\n",
        "# Some examples of contexts and questions:\n",
        "for i in range(0, 4000, 100):\n",
        "    # print('Title:   ', title_list[df['title_index'][i]])\n",
        "    print('Context: ', context_list[df['context_index'][i]])\n",
        "    print('Question:', df['question'][i], \"\\n\")"
      ],
      "execution_count": null,
      "outputs": []
    },
    {
      "cell_type": "code",
      "metadata": {
        "colab": {
          "base_uri": "https://localhost:8080/"
        },
        "id": "DVvkIL6urUNY",
        "outputId": "7f99e12d-1083-446d-b826-30630b40d661"
      },
      "source": [
        "# Define split ratios\n",
        "test_ratio = 0.2\n",
        "val_ratio = 0.2\n",
        "\n",
        "# Build array of paragraphs indexes and shuffle them\n",
        "paragraph_indexes = df['paragraph_index'].unique()\n",
        "np.random.shuffle(paragraph_indexes)\n",
        "n_samples = len(paragraph_indexes)\n",
        "\n",
        "# Reserve indexes for test set\n",
        "test_size = int(test_ratio * n_samples)\n",
        "train_val_size = n_samples - test_size\n",
        "test_indexes = paragraph_indexes[-test_size:]\n",
        "# Reserve indexes for validation set\n",
        "val_size = int(val_ratio * train_val_size)\n",
        "train_size = train_val_size - val_size\n",
        "val_indexes = paragraph_indexes[-(test_size + val_size):-test_size]\n",
        "# Reserve indexes for training set\n",
        "train_indexes = paragraph_indexes[:train_size]\n",
        "\n",
        "assert train_size == len(train_indexes), 'Something went wrong with train set slicing'\n",
        "assert val_size == len(val_indexes), 'Something went wrong with val set slicing'\n",
        "assert test_size == len(test_indexes), 'Something went wrong with test set slicing'\n",
        "\n",
        "print('Number of train paragraphs:', train_size)\n",
        "print('Number of validation paragraphs:', val_size)\n",
        "print('Number of test paragraphs:', test_size)\n",
        "\n",
        "# Split dataframe\n",
        "df_train = df[np.in1d(df['paragraph_index'], train_indexes)]\n",
        "df_val = df[np.in1d(df['paragraph_index'], val_indexes)]\n",
        "df_test = df[np.in1d(df['paragraph_index'], test_indexes)]\n",
        "\n",
        "print('\\nNumber of train samples:', len(df_train))\n",
        "print('Number of validation samples:', len(df_val))\n",
        "print('Number of test samples:', len(df_test))"
      ],
      "execution_count": 18,
      "outputs": [
        {
          "output_type": "stream",
          "text": [
            "Number of train paragraphs: 284\n",
            "Number of validation paragraphs: 70\n",
            "Number of test paragraphs: 88\n",
            "\n",
            "Number of train samples: 56397\n",
            "Number of validation samples: 13719\n",
            "Number of test samples: 17483\n"
          ],
          "name": "stdout"
        }
      ]
    },
    {
      "cell_type": "markdown",
      "metadata": {
        "id": "Och7ZLyNrUNa"
      },
      "source": [
        "\n",
        "## 2. Embeddings"
      ]
    },
    {
      "cell_type": "code",
      "metadata": {
        "colab": {
          "base_uri": "https://localhost:8080/"
        },
        "id": "XKib809brUNa",
        "outputId": "53c26d6f-6214-4f87-8b3a-0ddeaf3c1ad4"
      },
      "source": [
        "print('Downloading GloVe model...')\n",
        "emb_dim = 50\n",
        "glove_model = gloader.load('glove-wiki-gigaword-' + str(emb_dim))\n",
        "print('\\nDownload completed.')"
      ],
      "execution_count": 9,
      "outputs": [
        {
          "output_type": "stream",
          "text": [
            "Downloading GloVe model...\n",
            "[==================================================] 100.0% 66.0/66.0MB downloaded\n",
            "\n",
            "Download completed.\n"
          ],
          "name": "stdout"
        }
      ]
    },
    {
      "cell_type": "code",
      "metadata": {
        "id": "O1iP7zxPrUNb"
      },
      "source": [
        "if False:\n",
        "    df_train = pd.concat([df_train , df_val], axis=0) \n",
        "    df_val = df_test\n",
        "    \n",
        "if True:\n",
        "    df_train = df_train[:1000]\n",
        "    df_val = df_val[:300]"
      ],
      "execution_count": 19,
      "outputs": []
    },
    {
      "cell_type": "code",
      "metadata": {
        "colab": {
          "base_uri": "https://localhost:8080/"
        },
        "id": "6xzChXGNrUNj",
        "outputId": "473f855f-6976-4ae1-c9e2-52984b904855"
      },
      "source": [
        "def tokenize_corpus(df: pd.DataFrame, context_list: List[str]):\n",
        "    twt = TreebankWordTokenizer()\n",
        "    \n",
        "    t_start = time()\n",
        "    # Retrieve contexts\n",
        "    contexts = df['context_index'].apply(lambda x: context_list[x])\n",
        "    # Tokenize both contexts and queries\n",
        "    x_ctx = contexts.apply(lambda x: twt.tokenize(x)).tolist()\n",
        "    x_qry = df['question'].apply(lambda x: twt.tokenize(x)).tolist()\n",
        "    # Get indexes to start_end characters\n",
        "    y_char = [(start, end) for start, end in zip(df['answer_start'].tolist(), df['answer_end'].tolist())]\n",
        "    # Get spans of tokens\n",
        "    spans_list = contexts.apply(lambda x: twt.span_tokenize(x)).tolist()\n",
        "    # Convert indexes s.t. the point to start/end tokens\n",
        "    y = []\n",
        "    for spans, (char_start, char_end) in zip(spans_list, y_char):\n",
        "        token_start, token_end = None, None\n",
        "        for i, span in enumerate(spans):\n",
        "            if span[0] <= char_start <= span[1]:\n",
        "                token_start = i\n",
        "            if span[0] <= char_end <= span[1]:\n",
        "                token_end = i\n",
        "        y.append((token_start, token_end))\n",
        "    print(f'[{time() - t_start:.3f} s]')\n",
        "    \n",
        "    return x_ctx, x_qry, y\n",
        "\n",
        "def build_vocabulary(corpus: List[List[str]],\n",
        "                     old_word_listing: Optional[List[str]] = None) -> (Dict[int, str], Dict[int, str], List[str]):\n",
        "    flat_tokens = [x for sub in corpus for x in sub]\n",
        "    \n",
        "    if old_word_listing is None:  # standard case\n",
        "        word_listing = [PAD] + list(OrderedDict.fromkeys(flat_tokens))\n",
        "    else:  # case in which we extend an already existing vocabulary\n",
        "        word_listing = list(OrderedDict.fromkeys(old_word_listing + flat_tokens))\n",
        "        \n",
        "    idx_to_word = {i: w for i, w in enumerate(word_listing)}\n",
        "    word_to_idx = {w: i for i, w in enumerate(word_listing)}\n",
        "\n",
        "    return idx_to_word, word_to_idx, word_listing\n",
        "\n",
        "# Tokenize corpus\n",
        "print('Tokenizing training corpus...', end=' ')\n",
        "X_trainC, X_trainQ, Y_train = tokenize_corpus(df_train, context_list)\n",
        "train_corpus = X_trainC + X_trainQ\n",
        "\n",
        "print('Tokenizing validation corpus...', end=' ')\n",
        "X_valC, X_valQ, Y_val = tokenize_corpus(df_val, context_list)\n",
        "val_corpus = X_valC + X_valQ\n",
        "\n",
        "print('Tokenizing test corpus...', end=' ')\n",
        "X_testC, X_testQ, Y_test = tokenize_corpus(df_test, context_list)\n",
        "test_corpus = X_testC + X_testQ\n",
        "\n",
        "# Get word and char mappings for each set\n",
        "train_i2w, train_w2i, train_wl = build_vocabulary(train_corpus)\n",
        "val_i2w, val_w2i, val_wl = build_vocabulary(val_corpus, train_wl)\n",
        "test_i2w, test_w2i, test_wl = build_vocabulary(test_corpus, val_wl)\n",
        "\n",
        "print('-' * 50)\n",
        "print('Words in training set:', len(train_wl))\n",
        "print('Words in validation set:', len(val_wl))\n",
        "print('Words in test set:', len(test_wl))"
      ],
      "execution_count": 20,
      "outputs": [
        {
          "output_type": "stream",
          "text": [
            "Tokenizing training corpus... [1.221 s]\n",
            "Tokenizing validation corpus... [0.340 s]\n",
            "Tokenizing test corpus... [17.530 s]\n",
            "--------------------------------------------------\n",
            "Words in training set: 4827\n",
            "Words in validation set: 6579\n",
            "Words in test set: 48309\n"
          ],
          "name": "stdout"
        }
      ]
    },
    {
      "cell_type": "code",
      "metadata": {
        "id": "fWxVpUV4rUNk",
        "outputId": "2e9b6eaf-05f9-4c86-8f68-4b635fc5fcbb"
      },
      "source": [
        "x = 0\n",
        "\n",
        "print(X_trainC[x][Y_train[x][0]:Y_train[x][1]])\n",
        "print(X_trainQ[x])\n"
      ],
      "execution_count": null,
      "outputs": [
        {
          "output_type": "stream",
          "text": [
            "['Saint', 'Bernadette']\n",
            "['To', 'whom', 'did', 'the', 'Virgin', 'Mary', 'allegedly', 'appear', 'in', '1858', 'in', 'Lourdes', 'France', '?']\n"
          ],
          "name": "stdout"
        }
      ]
    },
    {
      "cell_type": "code",
      "metadata": {
        "colab": {
          "base_uri": "https://localhost:8080/"
        },
        "id": "a2iq4-OXrUNm",
        "outputId": "27d3864b-9354-47c0-9be8-ebca165dd686"
      },
      "source": [
        "train_oov_words = [word for word in train_wl if word not in glove_model.vocab and word != PAD]\n",
        "val_oov_words = [word for word in val_wl if word not in glove_model.vocab and word != PAD]\n",
        "test_oov_words = [word for word in test_wl if word not in glove_model.vocab and word != PAD]\n",
        "\n",
        "print(f'Total OOV terms in training set: {len(train_oov_words)} ({float(len(train_oov_words)) / len(train_wl) * 100:.2f}%)')\n",
        "print(f'Total OOV terms in validation set: {len(val_oov_words)} ({float(len(val_oov_words)) / len(val_wl) * 100:.2f}%)')\n",
        "print(f'Total OOV terms in test set: {len(test_oov_words)} ({float(len(test_oov_words)) / len(test_wl) * 100:.2f}%)')"
      ],
      "execution_count": 21,
      "outputs": [
        {
          "output_type": "stream",
          "text": [
            "Total OOV terms in training set: 1880 (38.95%)\n",
            "Total OOV terms in validation set: 2533 (38.50%)\n",
            "Total OOV terms in test set: 25513 (52.81%)\n"
          ],
          "name": "stdout"
        }
      ]
    },
    {
      "cell_type": "code",
      "metadata": {
        "colab": {
          "base_uri": "https://localhost:8080/",
          "height": 69,
          "referenced_widgets": [
            "4a48f25aef0f475fbae1944fbf9a4d05",
            "ef3d223156da417d92125c64b4c15764",
            "4dbc27e6aef24580b9aa7c78386133c8",
            "0bd6509fd092475089975b43065992dd",
            "75c212b98d6d4eaea9deb68623d4d859",
            "f5d5bdf4c71e4d78a37e7bf24f3c2723",
            "d65a5a8f8dd7443baee8d268f2265cbe",
            "e920fa8938da488aa7341ff02ea3336b",
            "0d95617ece614abbb4d46b672bb9687d",
            "08539714529945e89b53eab0ac97b32f",
            "94c61c9a1afc4d1a810f57b678ea5d8c",
            "8a8e0c6344174c0e82b4a6f11d38a20c",
            "e8d4c75c65ab49208d7837b4b8721db5",
            "2f4049cce26948a7936965eac7644dd4",
            "7bba134079cf4465b3c5df28452c2cde",
            "2069ac0814074778bbc0df17f73c28be",
            "636ac053b5dc498ca449c119d9ef9135",
            "43d75ca086e44329b0a00d4c4272b78e",
            "7ab9cc7d5ff648c7a24cbb92a5982a4b",
            "7f0ee4bb7bc2439495d6568f2337c460",
            "68649099ea1540058a383a0fd22650f0",
            "9c88edb55a7443ec84d58cf920823ebc",
            "eb3a3002e9b74d258b276824d215c465",
            "be6e59d759fd47909dc6b1705bb7d03a",
            "b432b77c9bc243fc97f15a5b843d76d8",
            "53635f370ae047d7be069cf8cb322dd2",
            "ecc1c611a9f445be8386c6078ba2f2b6",
            "73eac1d1a3fb423fb3f43c7ddd85db8f",
            "fb0a5046440f4af4a5e339cd6edcf0d0",
            "c5ba907b448b47609ed8ffc5e0486320",
            "83833eeed95b4a3d834cbd357c18a8bf",
            "0e920d8c41974bdfac1d58fb46cf71ba",
            "edda3abe1a4b4eaa853539f3a62b0e61",
            "8ee21f1c0ac64447974a90da531497cc",
            "f71ae15e051e4f719c79d247e3465324",
            "74aa40cf109f4b6ebf7e2ef677e2c40d",
            "abad7cb634924003be6e261593ba4c19",
            "8952810a0e2e4383ba656e6310c29710",
            "e60e3d7789bd4bb19f5652254048999a",
            "1c1da5ccfc914b28b5a800e82aec22de",
            "e490f93cd74141679e29d16bbe300e74",
            "415df3189aca4408b4a526fb7109ca11",
            "ddf2a13c15a2417e9d87b66d02604519",
            "825afd3ab8404f0e92a4d38367db8427",
            "a7fef9d40b9444e2866e33b02fb9dce5",
            "c2da6ccaedc34c428d2f7659d32816b9",
            "3a9342199b414592b74613ff84a3e884",
            "5ad0c0f15c214df4b0133928f5cde58e"
          ]
        },
        "id": "vmoaacExrUNm",
        "outputId": "43ef3b74-45e4-41c1-9413-a31a2bb031bd"
      },
      "source": [
        "def build_word_embedding_matrix(embedding_model: gensim.models.keyedvectors.Word2VecKeyedVectors,\n",
        "                                word_to_idx: Dict[str, int],\n",
        "                                oov_words: List[str],\n",
        "                                old_word_embedding_matrix: Optional[np.ndarray] = None):\n",
        "    # Initialize embedding matrix with all zeros\n",
        "    embedding_matrix = np.zeros((len(word_to_idx), embedding_model.vector_size))\n",
        "    \n",
        "    # Analyze embeddings to get mean and standard deviation\n",
        "    mean_list, std_list = [], []\n",
        "    for word in tqdm(word_to_idx.keys(), leave=False):\n",
        "        if word not in oov_words and word != PAD:\n",
        "            embed = embedding_model[word]\n",
        "            # Compute mean and std\n",
        "            mean_list.append(np.mean(embed))\n",
        "            std_list.append(np.std(embed))\n",
        "\n",
        "    embedding_mean = mean(mean_list)\n",
        "    embedding_std = mean(std_list)\n",
        "\n",
        "    for word, idx in tqdm(word_to_idx.items(), leave=False):\n",
        "        # If word is PAD no action is performed (it will be assigned the zero vector)\n",
        "        if word not in oov_words and word != PAD:\n",
        "            embedding_matrix[idx] = embedding_model[word]\n",
        "        elif word in oov_words:\n",
        "            oov_idx = word_to_idx[word]\n",
        "            if old_word_embedding_matrix is None or oov_idx >= len(old_word_embedding_matrix):\n",
        "                embedding_matrix[idx] = np.random.normal(loc=embedding_mean, scale=embedding_std, size=embedding_model.vector_size)\n",
        "            else:\n",
        "                embedding_matrix[idx] = old_word_embedding_matrix[oov_idx]\n",
        "            \n",
        "    return embedding_matrix\n",
        "\n",
        "# Build word embedding matrix based only on the training set (for training)\n",
        "train_emb_mtx = build_word_embedding_matrix(glove_model, train_w2i, train_oov_words)\n",
        "print('Shape of word embedding matrix (training set):', train_emb_mtx.shape)\n",
        "\n",
        "# Build word embedding matrix based on training + validation set (for validation)\n",
        "val_emb_mtx = build_word_embedding_matrix(glove_model, val_w2i, val_oov_words, train_emb_mtx)\n",
        "print('Shape of word embedding matrix (validation set):', val_emb_mtx.shape)\n",
        "\n",
        "# Build word embedding matrix based on training + validation + test set (for test)\n",
        "test_emb_mtx = build_word_embedding_matrix(glove_model, test_w2i, test_oov_words, val_emb_mtx)\n",
        "print('Shape of word embedding matrix (test set):', test_emb_mtx.shape)"
      ],
      "execution_count": 22,
      "outputs": [
        {
          "output_type": "display_data",
          "data": {
            "application/vnd.jupyter.widget-view+json": {
              "model_id": "4a48f25aef0f475fbae1944fbf9a4d05",
              "version_minor": 0,
              "version_major": 2
            },
            "text/plain": [
              "HBox(children=(FloatProgress(value=0.0, max=4827.0), HTML(value='')))"
            ]
          },
          "metadata": {
            "tags": []
          }
        },
        {
          "output_type": "stream",
          "text": [
            "\r"
          ],
          "name": "stdout"
        },
        {
          "output_type": "display_data",
          "data": {
            "application/vnd.jupyter.widget-view+json": {
              "model_id": "0d95617ece614abbb4d46b672bb9687d",
              "version_minor": 0,
              "version_major": 2
            },
            "text/plain": [
              "HBox(children=(FloatProgress(value=0.0, max=4827.0), HTML(value='')))"
            ]
          },
          "metadata": {
            "tags": []
          }
        },
        {
          "output_type": "stream",
          "text": [
            "\rShape of word embedding matrix (training set): (4827, 50)\n"
          ],
          "name": "stdout"
        },
        {
          "output_type": "display_data",
          "data": {
            "application/vnd.jupyter.widget-view+json": {
              "model_id": "636ac053b5dc498ca449c119d9ef9135",
              "version_minor": 0,
              "version_major": 2
            },
            "text/plain": [
              "HBox(children=(FloatProgress(value=0.0, max=6579.0), HTML(value='')))"
            ]
          },
          "metadata": {
            "tags": []
          }
        },
        {
          "output_type": "stream",
          "text": [
            "\r"
          ],
          "name": "stdout"
        },
        {
          "output_type": "display_data",
          "data": {
            "application/vnd.jupyter.widget-view+json": {
              "model_id": "b432b77c9bc243fc97f15a5b843d76d8",
              "version_minor": 0,
              "version_major": 2
            },
            "text/plain": [
              "HBox(children=(FloatProgress(value=0.0, max=6579.0), HTML(value='')))"
            ]
          },
          "metadata": {
            "tags": []
          }
        },
        {
          "output_type": "stream",
          "text": [
            "\rShape of word embedding matrix (validation set): (6579, 50)\n"
          ],
          "name": "stdout"
        },
        {
          "output_type": "display_data",
          "data": {
            "application/vnd.jupyter.widget-view+json": {
              "model_id": "edda3abe1a4b4eaa853539f3a62b0e61",
              "version_minor": 0,
              "version_major": 2
            },
            "text/plain": [
              "HBox(children=(FloatProgress(value=0.0, max=48309.0), HTML(value='')))"
            ]
          },
          "metadata": {
            "tags": []
          }
        },
        {
          "output_type": "stream",
          "text": [
            "\r"
          ],
          "name": "stdout"
        },
        {
          "output_type": "display_data",
          "data": {
            "application/vnd.jupyter.widget-view+json": {
              "model_id": "e490f93cd74141679e29d16bbe300e74",
              "version_minor": 0,
              "version_major": 2
            },
            "text/plain": [
              "HBox(children=(FloatProgress(value=0.0, max=48309.0), HTML(value='')))"
            ]
          },
          "metadata": {
            "tags": []
          }
        },
        {
          "output_type": "stream",
          "text": [
            "\rShape of word embedding matrix (test set): (48309, 50)\n"
          ],
          "name": "stdout"
        }
      ]
    },
    {
      "cell_type": "code",
      "metadata": {
        "colab": {
          "base_uri": "https://localhost:8080/"
        },
        "id": "bM8RU5dWrUNm",
        "outputId": "fbeadd40-dc32-43d0-a5dc-9c6219cd68f5"
      },
      "source": [
        "def build_char_embedding_matrix(corpus: List[str],\n",
        "                                enc_dim: Optional[int] = 100):\n",
        "    # Flatten to obtain single characters\n",
        "    flat_chars = [c for sent in corpus for word in sent for c in word]\n",
        "    \n",
        "    # Sort characters by occurrences\n",
        "    unique_chars = Counter(flat_chars)\n",
        "    char_listing = sorted(unique_chars, key=unique_chars.get, reverse=True)\n",
        "    # Select only the enc_dim most frequent ones\n",
        "    if len(char_listing) > enc_dim - 1:\n",
        "        char_listing = char_listing[:enc_dim - 1]\n",
        "    char_listing = [PAD] + char_listing + [UNK]  # add PAD and UNK tokens\n",
        "    \n",
        "    idx_to_char = {i: c for i, c in enumerate(char_listing)}\n",
        "    char_to_idx = {c: i for i, c in enumerate(char_listing)}\n",
        "    \n",
        "    # Create one-hot vectors, reserving the last one for UNK (0...0, 1)\n",
        "    one_hot_chars = np.zeros((len(char_listing) - 1, enc_dim))\n",
        "    np.fill_diagonal(one_hot_chars, 1)\n",
        "    one_hot_chars = np.vstack([np.zeros((1, enc_dim)), one_hot_chars])  # stack zero vector on top for PAD\n",
        "    \n",
        "    return idx_to_char, char_to_idx, char_listing, one_hot_chars\n",
        "\n",
        "# Build char embedding matrix based only on the training set, and use it for validation and test too:\n",
        "# in fact, we can assume that characters appear uniformly in the three splits;\n",
        "# for those rare case in which this does not happen, we assign the UNK vector\n",
        "i2c, c2i, cl, char_emb_mtx = build_char_embedding_matrix(train_corpus)\n",
        "print('Shape of char embedding matrix (training set):', char_emb_mtx.shape)"
      ],
      "execution_count": 23,
      "outputs": [
        {
          "output_type": "stream",
          "text": [
            "Shape of char embedding matrix (training set): (94, 100)\n"
          ],
          "name": "stdout"
        }
      ]
    },
    {
      "cell_type": "markdown",
      "metadata": {
        "id": "5j0vL1w4rUNn"
      },
      "source": [
        "## 3. Training\n"
      ]
    },
    {
      "cell_type": "code",
      "metadata": {
        "colab": {
          "base_uri": "https://localhost:8080/",
          "height": 376
        },
        "id": "je4uXafprUNn",
        "outputId": "f897ff3c-5c37-46ec-c7f0-83f4c78b0f4f"
      },
      "source": [
        "from utils.bidaf_train_utils import training_loop\n",
        "\n",
        "import matplotlib.pyplot as plt\n",
        "%matplotlib inline\n",
        " \n",
        "\n",
        "def plot_history(history):    \n",
        "    # this function is simply used to plot and save the image (and the dictionary) about the train and val loss and accuracy during the training\n",
        "    \n",
        "    \n",
        "    fig1, axes = plt.subplots(nrows=1, ncols=1, figsize=(7.5, 5))\n",
        "    plt.suptitle('loss', size='xx-large')\n",
        "    plt.tight_layout(rect=[0, 0.03, 1, 0.])\n",
        "\n",
        "    axes.plot(history['loss'], label='train_loss')\n",
        "    axes.plot(history['val_loss'], label='val_loss')\n",
        "    axes.set_title('loss')\n",
        "    axes.set(xlabel='# Epochs')\n",
        "    axes.grid()\n",
        "    axes.legend();\n",
        "\n",
        "    fig2, axes = plt.subplots(nrows=1, ncols=2, figsize=(20, 5))\n",
        "    plt.suptitle('scores', size='xx-large')\n",
        "    plt.tight_layout(rect=[0, 0.03, 1, 0.95])\n",
        "    axes[0].plot(history['exact_score'], label='train_exact_score')\n",
        "    axes[0].plot(history['val_exact_score'], label='val_exact_score')\n",
        "    axes[0].set_title('exact_score')\n",
        "    axes[0].set(xlabel='# Epochs')\n",
        "    axes[0].grid()\n",
        "    axes[0].legend();\n",
        "\n",
        "    axes[1].plot(history['f1_score'], label='train_f1_score')\n",
        "    axes[1].plot(history['val_f1_score'], label='val_f1_score')\n",
        "    axes[1].set_title('f1_score')\n",
        "    axes[1].set(xlabel='# Epochs')\n",
        "    axes[1].grid()\n",
        "    axes[1].legend();\n",
        "    \n",
        "    fig3, axes = plt.subplots(nrows=1, ncols=2, figsize=(20, 5))\n",
        "    plt.suptitle('distances', size='xx-large')\n",
        "    plt.tight_layout(rect=[0, 0.03, 1, 0.95])\n",
        "    axes[0].plot(history['distance_end'], label='train_distance_end')\n",
        "    axes[0].plot(history['val_distance_end'], label='val_distance_end')\n",
        "    axes[0].set_title('distance_end')\n",
        "    axes[0].set(xlabel='# Epochs')\n",
        "    axes[0].grid()\n",
        "    axes[0].legend();\n",
        "\n",
        "    axes[1].plot(history['distance_start'], label='train_distance_start')\n",
        "    axes[1].plot(history['val_distance_start'], label='val_distance_start')\n",
        "    axes[1].set_title('distance_start')\n",
        "    axes[1].set(xlabel='# Epochs')\n",
        "    axes[1].grid()\n",
        "    axes[1].legend();"
      ],
      "execution_count": 24,
      "outputs": [
        {
          "output_type": "error",
          "ename": "ModuleNotFoundError",
          "evalue": "ignored",
          "traceback": [
            "\u001b[0;31m---------------------------------------------------------------------------\u001b[0m",
            "\u001b[0;31mModuleNotFoundError\u001b[0m                       Traceback (most recent call last)",
            "\u001b[0;32m<ipython-input-24-45aa77908441>\u001b[0m in \u001b[0;36m<module>\u001b[0;34m()\u001b[0m\n\u001b[0;32m----> 1\u001b[0;31m \u001b[0;32mfrom\u001b[0m \u001b[0mutils\u001b[0m\u001b[0;34m.\u001b[0m\u001b[0mbidaf_train_utils\u001b[0m \u001b[0;32mimport\u001b[0m \u001b[0mtraining_loop\u001b[0m\u001b[0;34m\u001b[0m\u001b[0;34m\u001b[0m\u001b[0m\n\u001b[0m\u001b[1;32m      2\u001b[0m \u001b[0;34m\u001b[0m\u001b[0m\n\u001b[1;32m      3\u001b[0m \u001b[0;32mimport\u001b[0m \u001b[0mmatplotlib\u001b[0m\u001b[0;34m.\u001b[0m\u001b[0mpyplot\u001b[0m \u001b[0;32mas\u001b[0m \u001b[0mplt\u001b[0m\u001b[0;34m\u001b[0m\u001b[0;34m\u001b[0m\u001b[0m\n\u001b[1;32m      4\u001b[0m \u001b[0mget_ipython\u001b[0m\u001b[0;34m(\u001b[0m\u001b[0;34m)\u001b[0m\u001b[0;34m.\u001b[0m\u001b[0mmagic\u001b[0m\u001b[0;34m(\u001b[0m\u001b[0;34m'matplotlib inline'\u001b[0m\u001b[0;34m)\u001b[0m\u001b[0;34m\u001b[0m\u001b[0;34m\u001b[0m\u001b[0m\n\u001b[1;32m      5\u001b[0m \u001b[0;34m\u001b[0m\u001b[0m\n",
            "\u001b[0;31mModuleNotFoundError\u001b[0m: No module named 'utils'",
            "",
            "\u001b[0;31m---------------------------------------------------------------------------\u001b[0;32m\nNOTE: If your import is failing due to a missing package, you can\nmanually install dependencies using either !pip or !apt.\n\nTo view examples of installing some common dependencies, click the\n\"Open Examples\" button below.\n\u001b[0;31m---------------------------------------------------------------------------\u001b[0m\n"
          ]
        }
      ]
    },
    {
      "cell_type": "markdown",
      "metadata": {
        "id": "USINcfvurUNn"
      },
      "source": [
        "# jojonki:"
      ]
    },
    {
      "cell_type": "code",
      "metadata": {
        "id": "A9pu_pkJrUNo"
      },
      "source": [
        "# clear gpu memory before another training:\n",
        "import torch, gc\n",
        "gc.collect()\n",
        "torch.cuda.empty_cache()"
      ],
      "execution_count": 25,
      "outputs": []
    },
    {
      "cell_type": "code",
      "metadata": {
        "id": "9XSaym8YrUNp"
      },
      "source": [
        "from model.bidaf import BiDAF\n",
        "from model.char_embedder import CharEmbedder\n",
        "from model.word_embedder import WordEmbedder\n",
        "from model.tensor_maker import TensorMaker\n",
        "\n",
        "char_embedder = CharEmbedder(c_embd_size = 8, vocab_size_c = len(c2i), out_chs = 100, filters = [[1, 5]])\n",
        "\n",
        "train_word_embedder = WordEmbedder(init_emb = torch.FloatTensor(train_emb_mtx))\n",
        "val_word_embedder = WordEmbedder(init_emb = torch.FloatTensor(val_emb_mtx))\n",
        "\n",
        "model_bidaf = BiDAF(char_embedder, train_word_embedder, val_word_embedder, use_constraint = True).to(DEVICE)\n",
        "\n",
        "train_tensor_maker = TensorMaker(train_w2i, c2i, device=DEVICE)\n",
        "val_tensor_maker = TensorMaker(val_w2i, c2i, device=DEVICE)"
      ],
      "execution_count": 27,
      "outputs": []
    },
    {
      "cell_type": "code",
      "metadata": {
        "scrolled": true,
        "id": "Ui_FUciGrUNp"
      },
      "source": [
        "from utils.squad_utils import squad_loss\n",
        "from utils.bidaf_train_utils import training_loop\n",
        "\n",
        "train_data = to_list_of_tuples((X_trainC, X_trainQ, Y_train))\n",
        "val_data = to_list_of_tuples((X_valC, X_valQ, Y_val))\n",
        "\n",
        "EP = 5\n",
        "BS = 8\n",
        "\n",
        "#optimizer = torch.optim.Adam(model_bidaf.parameters(), lr=5e-3)\n",
        "optimizer = torch.optim.Adam(filter(lambda p: p.requires_grad, model_bidaf.parameters()))\n",
        "#optimizer = torch.optim.Adadelta(model_bidaf.parameters(), lr=0.5, rho=0.999, eps=1e-06, weight_decay=0) # slower in time and in loss\n",
        "criterion = squad_loss\n",
        "\n",
        "\n",
        "history_noconst_jojonki_nohigh_1k = training_loop(model=model_bidaf,\n",
        "                        train_data=train_data,\n",
        "                        optimizer=optimizer,\n",
        "                        epochs=EP,\n",
        "                        batch_size=BS,\n",
        "                        criterion=criterion,\n",
        "                        train_tensor_maker=train_tensor_maker,\n",
        "                        val_tensor_maker=val_tensor_maker,\n",
        "                        val_data=val_data,\n",
        "                        early_stopping=True,\n",
        "                        patience = 15,\n",
        "                        checkpoint_path='bidaf_gru_noconstraint.pt',\n",
        "                        mix_scale = True)\n",
        "\n",
        "# eps =1e-7, #jojonki, # use_constraint, # BS = 8, #1ktrain, 3kval, lr=5e-3, patience = 30, EP = 50, emb = 100\n",
        "# adam optimizer # train+val"
      ],
      "execution_count": null,
      "outputs": []
    },
    {
      "cell_type": "code",
      "metadata": {
        "scrolled": true,
        "id": "Uq8ZMRMurUNq"
      },
      "source": [
        "plot_history(history_noconst_jojonki_nohigh_1k)"
      ],
      "execution_count": null,
      "outputs": []
    },
    {
      "cell_type": "markdown",
      "metadata": {
        "id": "iaFU-kvFrUNq"
      },
      "source": [
        "# our model:"
      ]
    },
    {
      "cell_type": "code",
      "metadata": {
        "id": "aue6E-tSrUNq"
      },
      "source": [
        "# clear gpu memory before another training:\n",
        "import torch, gc\n",
        "gc.collect()\n",
        "torch.cuda.empty_cache()"
      ],
      "execution_count": 31,
      "outputs": []
    },
    {
      "cell_type": "code",
      "metadata": {
        "id": "RucVq3VxrUNr"
      },
      "source": [
        "from model.bidaf import BiDAF\n",
        "from model.char_embedder import CharEmbedder\n",
        "from model.word_embedder import WordEmbedder\n",
        "from model.tensor_maker import TensorMaker\n",
        "\n",
        "char_embedder = CharEmbedder(init_emb = torch.FloatTensor(char_emb_mtx),\n",
        "                             out_char_emb_dim = emb_dim,\n",
        "                             hidden_dim = 64,\n",
        "                             input_channels = 1,\n",
        "                             output_channels = 100,\n",
        "                             kernel_height = 5,\n",
        "                             trainable = False)\n",
        "\n",
        "train_word_embedder = WordEmbedder(init_emb = torch.FloatTensor(train_emb_mtx))\n",
        "val_word_embedder = WordEmbedder(init_emb = torch.FloatTensor(val_emb_mtx))\n",
        "model_bidaf = BiDAF(char_embedder, train_word_embedder, val_word_embedder, use_constraint = True, use_dropout = False).to(DEVICE)\n",
        "train_tensor_maker = TensorMaker(train_w2i, c2i, device=DEVICE)\n",
        "val_tensor_maker = TensorMaker(val_w2i, c2i, device=DEVICE)\n",
        "\n"
      ],
      "execution_count": 44,
      "outputs": []
    },
    {
      "cell_type": "code",
      "metadata": {
        "scrolled": false,
        "colab": {
          "base_uri": "https://localhost:8080/",
          "height": 605,
          "referenced_widgets": [
            "d9b249d0569c4463a01b2f4e9613266f",
            "4ee4c46636de4a62852f436939881519",
            "a2f112a8eb40404abcd9ee035e65fec9",
            "84dca6a666244fd2bf0760567d2e9c9c",
            "c61c126366334f5382fac34f45f0fde9",
            "495381cf2be845bba2b305e31b571cf2",
            "1ba47209576c4387a902abc5b0dbe180",
            "8578c2da68c44971a4869a5e37a3d171"
          ]
        },
        "id": "X4aoEiT2rUNr",
        "outputId": "ae75bcb6-0ccd-4942-8967-6f8fcf7a3589"
      },
      "source": [
        "from utils.squad_utils import squad_loss\n",
        "from utils.bidaf_train_utils import training_loop\n",
        "\n",
        "train_data = to_list_of_tuples((X_trainC, X_trainQ, Y_train))\n",
        "val_data = to_list_of_tuples((X_valC, X_valQ, Y_val))\n",
        "\n",
        "EP = 5\n",
        "BS = 8\n",
        "\n",
        "optimizer = torch.optim.Adam(filter(lambda p: p.requires_grad, model_bidaf.parameters()))\n",
        "# optimizer = torch.optim.Adam(model_bidaf.parameters(), lr=5e-3)\n",
        "# optimizer = torch.optim.Adadelta(model_bidaf.parameters(), lr=0.5, rho=0.999, eps=1e-06, weight_decay=0) # slower in time and in loss\n",
        "criterion = squad_loss\n",
        "\n",
        "history_drop = training_loop(model=model_bidaf,\n",
        "                        train_data=train_data,\n",
        "                        optimizer=optimizer,\n",
        "                        epochs=EP,\n",
        "                        batch_size=BS,\n",
        "                        criterion=criterion,\n",
        "                        train_tensor_maker=train_tensor_maker,\n",
        "                        val_tensor_maker=val_tensor_maker,\n",
        "                        val_data=val_data,\n",
        "                        early_stopping=True,\n",
        "                        patience = 15,\n",
        "                        checkpoint_path='bidaf_gru_constraint.pt',\n",
        "                        mix_scale = True)\n",
        "\n",
        "# p_end > p_start"
      ],
      "execution_count": 45,
      "outputs": [
        {
          "output_type": "stream",
          "text": [
            "----------------------------------------------------------------------------------------------------\n",
            "Epoch 1/5\n"
          ],
          "name": "stdout"
        },
        {
          "output_type": "display_data",
          "data": {
            "application/vnd.jupyter.widget-view+json": {
              "model_id": "d9b249d0569c4463a01b2f4e9613266f",
              "version_minor": 0,
              "version_major": 2
            },
            "text/plain": [
              "HBox(children=(FloatProgress(value=0.0, max=125.0), HTML(value='')))"
            ]
          },
          "metadata": {
            "tags": []
          }
        },
        {
          "output_type": "error",
          "ename": "TypeError",
          "evalue": "ignored",
          "traceback": [
            "\u001b[0;31m---------------------------------------------------------------------------\u001b[0m",
            "\u001b[0;31mTypeError\u001b[0m                                 Traceback (most recent call last)",
            "\u001b[0;32m<ipython-input-45-c5dfd6c7fa22>\u001b[0m in \u001b[0;36m<module>\u001b[0;34m()\u001b[0m\n\u001b[1;32m     25\u001b[0m                         \u001b[0mpatience\u001b[0m \u001b[0;34m=\u001b[0m \u001b[0;36m15\u001b[0m\u001b[0;34m,\u001b[0m\u001b[0;34m\u001b[0m\u001b[0;34m\u001b[0m\u001b[0m\n\u001b[1;32m     26\u001b[0m                         \u001b[0mcheckpoint_path\u001b[0m\u001b[0;34m=\u001b[0m\u001b[0;34m'bidaf_gru_constraint.pt'\u001b[0m\u001b[0;34m,\u001b[0m\u001b[0;34m\u001b[0m\u001b[0;34m\u001b[0m\u001b[0m\n\u001b[0;32m---> 27\u001b[0;31m                         mix_scale = True)\n\u001b[0m\u001b[1;32m     28\u001b[0m \u001b[0;34m\u001b[0m\u001b[0m\n\u001b[1;32m     29\u001b[0m \u001b[0;31m# p_end > p_start\u001b[0m\u001b[0;34m\u001b[0m\u001b[0;34m\u001b[0m\u001b[0;34m\u001b[0m\u001b[0m\n",
            "\u001b[0;32m/content/utils/bidaf_train_utils.py\u001b[0m in \u001b[0;36mtraining_loop\u001b[0;34m(model, train_data, optimizer, epochs, batch_size, criterion, train_tensor_maker, val_tensor_maker, lr_scheduler, val_data, early_stopping, patience, tolerance, checkpoint_path, verbose, seed, mix_scale)\u001b[0m\n\u001b[1;32m    239\u001b[0m         \u001b[0mstart\u001b[0m \u001b[0;34m=\u001b[0m \u001b[0mtime\u001b[0m\u001b[0;34m(\u001b[0m\u001b[0;34m)\u001b[0m\u001b[0;34m\u001b[0m\u001b[0;34m\u001b[0m\u001b[0m\n\u001b[1;32m    240\u001b[0m         train_loss, train_distance_start, train_distance_end, exact_score, f1_score = train(model, train_data, batch_size, criterion,\n\u001b[0;32m--> 241\u001b[0;31m                                                                      optimizer, train_tensor_maker, verbose, scaler)\n\u001b[0m\u001b[1;32m    242\u001b[0m         \u001b[0mend\u001b[0m \u001b[0;34m=\u001b[0m \u001b[0mtime\u001b[0m\u001b[0;34m(\u001b[0m\u001b[0;34m)\u001b[0m\u001b[0;34m\u001b[0m\u001b[0;34m\u001b[0m\u001b[0m\n\u001b[1;32m    243\u001b[0m \u001b[0;34m\u001b[0m\u001b[0m\n",
            "\u001b[0;32m/content/utils/bidaf_train_utils.py\u001b[0m in \u001b[0;36mtrain\u001b[0;34m(model, data, batch_size, criterion, optimizer, tensor_maker, verbose, scaler)\u001b[0m\n\u001b[1;32m     53\u001b[0m         \u001b[0mcontext_word_tensor\u001b[0m\u001b[0;34m,\u001b[0m \u001b[0mcontext_char_tensor\u001b[0m\u001b[0;34m,\u001b[0m \u001b[0mcontext_lengths\u001b[0m \u001b[0;34m=\u001b[0m \u001b[0mtensor_maker\u001b[0m\u001b[0;34m.\u001b[0m\u001b[0mget_tensor\u001b[0m\u001b[0;34m(\u001b[0m\u001b[0mbatch_context\u001b[0m\u001b[0;34m)\u001b[0m\u001b[0;34m\u001b[0m\u001b[0;34m\u001b[0m\u001b[0m\n\u001b[1;32m     54\u001b[0m         \u001b[0mquery_word_tensor\u001b[0m\u001b[0;34m,\u001b[0m \u001b[0mquery_char_tensor\u001b[0m\u001b[0;34m,\u001b[0m \u001b[0mquery_lengths\u001b[0m \u001b[0;34m=\u001b[0m \u001b[0mtensor_maker\u001b[0m\u001b[0;34m.\u001b[0m\u001b[0mget_tensor\u001b[0m\u001b[0;34m(\u001b[0m\u001b[0mbatch_query\u001b[0m\u001b[0;34m)\u001b[0m\u001b[0;34m\u001b[0m\u001b[0;34m\u001b[0m\u001b[0m\n\u001b[0;32m---> 55\u001b[0;31m         \u001b[0mlabels_start\u001b[0m \u001b[0;34m=\u001b[0m \u001b[0mtorch\u001b[0m\u001b[0;34m.\u001b[0m\u001b[0mcuda\u001b[0m\u001b[0;34m.\u001b[0m\u001b[0mLongTensor\u001b[0m\u001b[0;34m(\u001b[0m\u001b[0mlabels_start\u001b[0m\u001b[0;34m)\u001b[0m\u001b[0;34m\u001b[0m\u001b[0;34m\u001b[0m\u001b[0m\n\u001b[0m\u001b[1;32m     56\u001b[0m         \u001b[0mlabels_end\u001b[0m \u001b[0;34m=\u001b[0m \u001b[0mtorch\u001b[0m\u001b[0;34m.\u001b[0m\u001b[0mcuda\u001b[0m\u001b[0;34m.\u001b[0m\u001b[0mLongTensor\u001b[0m\u001b[0;34m(\u001b[0m\u001b[0mlabels_end\u001b[0m\u001b[0;34m)\u001b[0m\u001b[0;34m\u001b[0m\u001b[0;34m\u001b[0m\u001b[0m\n\u001b[1;32m     57\u001b[0m \u001b[0;34m\u001b[0m\u001b[0m\n",
            "\u001b[0;31mTypeError\u001b[0m: an integer is required (got type NoneType)"
          ]
        }
      ]
    },
    {
      "cell_type": "code",
      "metadata": {
        "id": "Jd0Dk6I08M-c"
      },
      "source": [
        "torch.save(model_bidaf, \"bidaf_test.pt\")"
      ],
      "execution_count": 46,
      "outputs": []
    },
    {
      "cell_type": "code",
      "metadata": {
        "scrolled": true,
        "id": "-C2kr7dlrUNs"
      },
      "source": [
        "plot_history(history_drop)"
      ],
      "execution_count": null,
      "outputs": []
    },
    {
      "cell_type": "markdown",
      "metadata": {
        "id": "ksmi0edirUNs"
      },
      "source": [
        "# to do :\n",
        "\n",
        "- dropout\n",
        "- explanation for bad results: BS too small\n",
        "- our model: trainable embedder = True\n",
        "- torch.nn.utils.clip_grad_norm_(model.parameters(), 1.0)\n",
        "- propose distance as new metric (normalized wrt the number of characters in the context)\n",
        "\n",
        "\n",
        "\n",
        "our takes 2 hours per epoch\n",
        "\n",
        "jojonki takes \n",
        "\n"
      ]
    }
  ]
}