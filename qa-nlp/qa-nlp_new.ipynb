{
 "cells": [
  {
   "cell_type": "markdown",
   "metadata": {
    "jupyter": {
     "outputs_hidden": true
    }
   },
   "source": [
    "# qa-nlp\n",
    "Question answering neural model based on the SQuAD dataset.\n",
    "\n",
    "Authors:\n",
    "- Lorenzo Mario Amorosa\n",
    "- Andrea Espis\n",
    "- Mattia Orlandi\n",
    "- Giacomo Pinardi"
   ]
  },
  {
   "cell_type": "markdown",
   "metadata": {},
   "source": [
    "## 0. Environment setup"
   ]
  },
  {
   "cell_type": "code",
   "execution_count": 2,
   "metadata": {},
   "outputs": [
    {
     "name": "stdout",
     "output_type": "stream",
     "text": [
      "The autoreload extension is already loaded. To reload it, use:\n",
      "  %reload_ext autoreload\n"
     ]
    }
   ],
   "source": [
    "%load_ext autoreload\n",
    "%autoreload 2"
   ]
  },
  {
   "cell_type": "code",
   "execution_count": 3,
   "metadata": {},
   "outputs": [
    {
     "name": "stdout",
     "output_type": "stream",
     "text": [
      "Using this device: cuda:0\n"
     ]
    },
    {
     "name": "stderr",
     "output_type": "stream",
     "text": [
      "[nltk_data] Downloading package punkt to\n",
      "[nltk_data]     C:\\Users\\97and\\AppData\\Roaming\\nltk_data...\n",
      "[nltk_data]   Package punkt is already up-to-date!\n",
      "[nltk_data] Downloading package stopwords to\n",
      "[nltk_data]     C:\\Users\\97and\\AppData\\Roaming\\nltk_data...\n",
      "[nltk_data]   Package stopwords is already up-to-date!\n"
     ]
    }
   ],
   "source": [
    "# Library to read json\n",
    "import json\n",
    "\n",
    "# Numeric and data manipulation tools\n",
    "import pandas as pd\n",
    "import numpy as np\n",
    "import random\n",
    "\n",
    "# Deep learning framework\n",
    "import torch\n",
    "import torch.nn as nn\n",
    "import torch.optim as optim\n",
    "import torch.nn.functional as F\n",
    "\n",
    "# Natural language tools\n",
    "import nltk\n",
    "from nltk.tokenize import TreebankWordTokenizer\n",
    "import gensim\n",
    "import gensim.downloader as gloader\n",
    "\n",
    "# Other tools\n",
    "from tqdm.notebook import tqdm\n",
    "from collections import OrderedDict, Counter\n",
    "from time import time\n",
    "from itertools import zip_longest\n",
    "\n",
    "# automatic mixed precision training:\n",
    "from torch.cuda.amp import autocast \n",
    "from torch.cuda.amp import GradScaler\n",
    "\n",
    "# Type hint\n",
    "from typing import Optional, Callable, Tuple, Dict, List, Union\n",
    "\n",
    "nltk.download('punkt')\n",
    "nltk.download('stopwords')\n",
    "\n",
    "# from sklearn.model_selection import train_test_split\n",
    "\n",
    "# Use GPU acceleration if possible\n",
    "DEVICE = torch.device('cuda:0' if torch.cuda.is_available() else 'cpu')\n",
    "print('Using this device:', DEVICE)\n",
    "\n",
    "if not(torch.cuda.is_available()):\n",
    "    raise Exception('Switch to runtime GPU, otherwise the code won\\'t work properly')"
   ]
  },
  {
   "cell_type": "code",
   "execution_count": 4,
   "metadata": {},
   "outputs": [],
   "source": [
    "# Set seed for reproducibility\n",
    "def fix_random(seed: int):\n",
    "    np.random.seed(seed)\n",
    "    torch.manual_seed(seed)\n",
    "    torch.cuda.manual_seed(seed)\n",
    "    torch.backends.cudnn.benchmark = False\n",
    "    torch.backends.cudnn.deterministic = True\n",
    "\n",
    "fix_random(42)"
   ]
  },
  {
   "cell_type": "code",
   "execution_count": 5,
   "metadata": {},
   "outputs": [
    {
     "name": "stdout",
     "output_type": "stream",
     "text": [
      "using this device: cuda:0\n"
     ]
    }
   ],
   "source": [
    "# Use GPU acceleration if possible\n",
    "DEVICE = torch.device('cuda:0' if torch.cuda.is_available() else 'cpu')\n",
    "print(\"using this device:\", DEVICE)\n",
    "\n",
    "# Define special tokens\n",
    "PAD = '<PAD>'\n",
    "UNK = '<UNK>'"
   ]
  },
  {
   "cell_type": "code",
   "execution_count": 6,
   "metadata": {},
   "outputs": [],
   "source": [
    "# Lambda for computing the mean of a list\n",
    "mean: Callable[[List[float]], float] = lambda l: sum(l) / len(l)\n",
    "\n",
    "# Lambda for transforming a list of tuples into a tuple of lists\n",
    "to_tuple_of_lists: Callable[[List[Tuple]], Tuple[List]] = lambda list_of_tuples: tuple(map(list, zip(*list_of_tuples)))\n",
    "\n",
    "# Lambda for transforming a tuple of lists into a list of tuples\n",
    "to_list_of_tuples: Callable[[Tuple[List]], List[Tuple]] = lambda tuple_of_lists: list(zip(*tuple_of_lists))\n",
    "\n",
    "# Lambda for iterating with batches (if the length of the sequences does not match with the batch size, tuples of empty lists are appended)\n",
    "batch_iteration: Callable[[List[Tuple]], zip] = lambda data, batch_size: zip_longest(*[iter(data)] * batch_size, fillvalue=([], [], []))"
   ]
  },
  {
   "cell_type": "markdown",
   "metadata": {},
   "source": [
    "## 1. Dataset preparation"
   ]
  },
  {
   "cell_type": "code",
   "execution_count": 7,
   "metadata": {},
   "outputs": [
    {
     "data": {
      "text/html": [
       "<div>\n",
       "<style scoped>\n",
       "    .dataframe tbody tr th:only-of-type {\n",
       "        vertical-align: middle;\n",
       "    }\n",
       "\n",
       "    .dataframe tbody tr th {\n",
       "        vertical-align: top;\n",
       "    }\n",
       "\n",
       "    .dataframe thead th {\n",
       "        text-align: right;\n",
       "    }\n",
       "</style>\n",
       "<table border=\"1\" class=\"dataframe\">\n",
       "  <thead>\n",
       "    <tr style=\"text-align: right;\">\n",
       "      <th></th>\n",
       "      <th>paragraph_index</th>\n",
       "      <th>context_index</th>\n",
       "      <th>question</th>\n",
       "      <th>answer_start</th>\n",
       "      <th>answer_end</th>\n",
       "      <th>answer_text</th>\n",
       "    </tr>\n",
       "  </thead>\n",
       "  <tbody>\n",
       "    <tr>\n",
       "      <th>0</th>\n",
       "      <td>0</td>\n",
       "      <td>0</td>\n",
       "      <td>To whom did the Virgin Mary allegedly appear i...</td>\n",
       "      <td>515</td>\n",
       "      <td>541</td>\n",
       "      <td>Saint Bernadette Soubirous</td>\n",
       "    </tr>\n",
       "    <tr>\n",
       "      <th>1</th>\n",
       "      <td>0</td>\n",
       "      <td>0</td>\n",
       "      <td>What is in front of the Notre Dame Main Building?</td>\n",
       "      <td>188</td>\n",
       "      <td>213</td>\n",
       "      <td>a copper statue of Christ</td>\n",
       "    </tr>\n",
       "    <tr>\n",
       "      <th>2</th>\n",
       "      <td>0</td>\n",
       "      <td>0</td>\n",
       "      <td>The Basilica of the Sacred heart at Notre Dame...</td>\n",
       "      <td>279</td>\n",
       "      <td>296</td>\n",
       "      <td>the Main Building</td>\n",
       "    </tr>\n",
       "    <tr>\n",
       "      <th>3</th>\n",
       "      <td>0</td>\n",
       "      <td>0</td>\n",
       "      <td>What is the Grotto at Notre Dame?</td>\n",
       "      <td>381</td>\n",
       "      <td>420</td>\n",
       "      <td>a Marian place of prayer and reflection</td>\n",
       "    </tr>\n",
       "    <tr>\n",
       "      <th>4</th>\n",
       "      <td>0</td>\n",
       "      <td>0</td>\n",
       "      <td>What sits on top of the Main Building at Notre...</td>\n",
       "      <td>92</td>\n",
       "      <td>126</td>\n",
       "      <td>a golden statue of the Virgin Mary</td>\n",
       "    </tr>\n",
       "  </tbody>\n",
       "</table>\n",
       "</div>"
      ],
      "text/plain": [
       "   paragraph_index  context_index  \\\n",
       "0                0              0   \n",
       "1                0              0   \n",
       "2                0              0   \n",
       "3                0              0   \n",
       "4                0              0   \n",
       "\n",
       "                                            question  answer_start  \\\n",
       "0  To whom did the Virgin Mary allegedly appear i...           515   \n",
       "1  What is in front of the Notre Dame Main Building?           188   \n",
       "2  The Basilica of the Sacred heart at Notre Dame...           279   \n",
       "3                  What is the Grotto at Notre Dame?           381   \n",
       "4  What sits on top of the Main Building at Notre...            92   \n",
       "\n",
       "   answer_end                              answer_text  \n",
       "0         541               Saint Bernadette Soubirous  \n",
       "1         213                a copper statue of Christ  \n",
       "2         296                        the Main Building  \n",
       "3         420  a Marian place of prayer and reflection  \n",
       "4         126       a golden statue of the Virgin Mary  "
      ]
     },
     "execution_count": 7,
     "metadata": {},
     "output_type": "execute_result"
    }
   ],
   "source": [
    "\"\"\"\n",
    "json structure:\n",
    "\n",
    "data []\n",
    "|---title\n",
    "|---paragraphs []\n",
    "|   |---context\n",
    "|   |---qas []\n",
    "|   |   |---answers []\n",
    "|   |   |   |---answer_start\n",
    "|   |   |   |---text\n",
    "|   |   |---question\n",
    "|   |   |---id\n",
    "version\n",
    "\n",
    "\"\"\"\n",
    "\n",
    "filename = 'training_set.json'\n",
    "\n",
    "with open(filename, 'r') as f:\n",
    "    raw_data = f.readlines()[0]\n",
    "\n",
    "parsed_data = json.loads(raw_data)['data']\n",
    "\n",
    "context_list = []\n",
    "context_index = -1\n",
    "paragraph_index = -1\n",
    "\n",
    "dataset = {'paragraph_index': [], 'context_index': [], 'question': [], 'answer_start': [], 'answer_end': [], 'answer_text': []}\n",
    "\n",
    "for i in range(len(parsed_data)):\n",
    "    paragraph_index += 1\n",
    "    for j in range(len(parsed_data[i]['paragraphs'])):\n",
    "        context_list.append(parsed_data[i]['paragraphs'][j]['context'])\n",
    "        context_index += 1\n",
    "\n",
    "        for k in range(len(parsed_data[i]['paragraphs'][j]['qas'])):\n",
    "            question = parsed_data[i]['paragraphs'][j]['qas'][k]['question']\n",
    "\n",
    "            for l in range(len(parsed_data[i]['paragraphs'][j]['qas'][k]['answers'])): \n",
    "                answer_start = parsed_data[i]['paragraphs'][j]['qas'][k]['answers'][l]['answer_start']\n",
    "                answer_text = parsed_data[i]['paragraphs'][j]['qas'][k]['answers'][l]['text']\n",
    "\n",
    "                answer_end = answer_start + len(answer_text)\n",
    "\n",
    "                dataset['paragraph_index'].append(paragraph_index)\n",
    "                dataset['context_index'].append(context_index)\n",
    "                dataset['question'].append(question)\n",
    "                dataset['answer_start'].append(answer_start)\n",
    "                dataset['answer_end'].append(answer_end)\n",
    "                dataset['answer_text'].append(answer_text)\n",
    "\n",
    "df = pd.DataFrame.from_dict(dataset)\n",
    "\n",
    "df.head()"
   ]
  },
  {
   "cell_type": "code",
   "execution_count": 8,
   "metadata": {},
   "outputs": [
    {
     "name": "stdout",
     "output_type": "stream",
     "text": [
      "Context:  Architecturally, the school has a Catholic character. Atop the Main Building's gold dome is a golden statue of the Virgin Mary. Immediately in front of the Main Building and facing it, is a copper statue of Christ with arms upraised with the legend \"Venite Ad Me Omnes\". Next to the Main Building is the Basilica of the Sacred Heart. Immediately behind the basilica is the Grotto, a Marian place of prayer and reflection. It is a replica of the grotto at Lourdes, France where the Virgin Mary reputedly appeared to Saint Bernadette Soubirous in 1858. At the end of the main drive (and in a direct line that connects through 3 statues and the Gold Dome), is a simple, modern stone statue of Mary.\n",
      "Question: To whom did the Virgin Mary allegedly appear in 1858 in Lourdes France? \n",
      "\n",
      "Context:  One of the main driving forces in the growth of the University was its football team, the Notre Dame Fighting Irish. Knute Rockne became head coach in 1918. Under Rockne, the Irish would post a record of 105 wins, 12 losses, and five ties. During his 13 years the Irish won three national championships, had five undefeated seasons, won the Rose Bowl in 1925, and produced players such as George Gipp and the \"Four Horsemen\". Knute Rockne has the highest winning percentage (.881) in NCAA Division I/FBS football history. Rockne's offenses employed the Notre Dame Box and his defenses ran a 7–2–2 scheme. The last game Rockne coached was on December 14, 1930 when he led a group of Notre Dame all-stars against the New York Giants in New York City.\n",
      "Question: In what year did the team lead by Knute Rockne win the Rose Bowl? \n",
      "\n",
      "Context:  In 1842, the Bishop of Vincennes, Célestine Guynemer de la Hailandière, offered land to Father Edward Sorin of the Congregation of the Holy Cross, on the condition that he build a college in two years. Fr. Sorin arrived on the site with eight Holy Cross brothers from France and Ireland on November 26, 1842, and began the school using Father Stephen Badin's old log chapel. He soon erected additional buildings, including Old College, the first church, and the first main building. They immediately acquired two students and set about building additions to the campus.\n",
      "Question: In what year was Father Edward Sorin given two years to create a college? \n",
      "\n",
      "Context:  Following the disbandment of Destiny's Child in June 2005, she released her second solo album, B'Day (2006), which contained hits \"Déjà Vu\", \"Irreplaceable\", and \"Beautiful Liar\". Beyoncé also ventured into acting, with a Golden Globe-nominated performance in Dreamgirls (2006), and starring roles in The Pink Panther (2006) and Obsessed (2009). Her marriage to rapper Jay Z and portrayal of Etta James in Cadillac Records (2008) influenced her third album, I Am... Sasha Fierce (2008), which saw the birth of her alter-ego Sasha Fierce and earned a record-setting six Grammy Awards in 2010, including Song of the Year for \"Single Ladies (Put a Ring on It)\". Beyoncé took a hiatus from music in 2010 and took over management of her career; her fourth album 4 (2011) was subsequently mellower in tone, exploring 1970s funk, 1980s pop, and 1990s soul. Her critically acclaimed fifth studio album, Beyoncé (2013), was distinguished from previous releases by its experimental production and exploration of darker themes.\n",
      "Question: What is the name of Beyoncé's alter-ego? \n",
      "\n",
      "Context:  Beyoncé's first solo recording was a feature on Jay Z's \"'03 Bonnie & Clyde\" that was released in October 2002, peaking at number four on the U.S. Billboard Hot 100 chart. Her first solo album Dangerously in Love was released on June 24, 2003, after Michelle Williams and Kelly Rowland had released their solo efforts. The album sold 317,000 copies in its first week, debuted atop the Billboard 200, and has since sold 11 million copies worldwide. The album's lead single, \"Crazy in Love\", featuring Jay Z, became Beyoncé's first number-one single as a solo artist in the US. The single \"Baby Boy\" also reached number one, and singles, \"Me, Myself and I\" and \"Naughty Girl\", both reached the top-five. The album earned Beyoncé a then record-tying five awards at the 46th Annual Grammy Awards; Best Contemporary R&B Album, Best Female R&B Vocal Performance for \"Dangerously in Love 2\", Best R&B Song and Best Rap/Sung Collaboration for \"Crazy in Love\", and Best R&B Performance by a Duo or Group with Vocals for \"The Closer I Get to You\" with Luther Vandross.\n",
      "Question: Beyonce's first album by herself was called what? \n",
      "\n",
      "Context:  In 2011, documents obtained by WikiLeaks revealed that Beyoncé was one of many entertainers who performed for the family of Libyan ruler Muammar Gaddafi. Rolling Stone reported that the music industry was urging them to return the money they earned for the concerts; a spokesperson for Beyoncé later confirmed to The Huffington Post that she donated the money to the Clinton Bush Haiti Fund. Later that year she became the first solo female artist to headline the main Pyramid stage at the 2011 Glastonbury Festival in over twenty years, and was named the highest-paid performer in the world per minute.\n",
      "Question: Who did Beyonce donate the money to earned from her shows? \n",
      "\n",
      "Context:  Beyoncé is believed to have first started a relationship with Jay Z after a collaboration on \"'03 Bonnie & Clyde\", which appeared on his seventh album The Blueprint 2: The Gift & The Curse (2002). Beyoncé appeared as Jay Z's girlfriend in the music video for the song, which would further fuel speculation of their relationship. On April 4, 2008, Beyoncé and Jay Z were married without publicity. As of April 2014, the couple have sold a combined 300 million records together. The couple are known for their private relationship, although they have appeared to become more relaxed in recent years. Beyoncé suffered a miscarriage in 2010 or 2011, describing it as \"the saddest thing\" she had ever endured. She returned to the studio and wrote music in order to cope with the loss. In April 2011, Beyoncé and Jay Z traveled to Paris in order to shoot the album cover for her 4, and unexpectedly became pregnant in Paris.\n",
      "Question: Who did Beyonce have a relationship with? \n",
      "\n",
      "Context:  Beyoncé's music is generally R&B, but she also incorporates pop, soul and funk into her songs. 4 demonstrated Beyoncé's exploration of 90s-style R&B, as well as further use of soul and hip hop than compared to previous releases. While she almost exclusively releases English songs, Beyoncé recorded several Spanish songs for Irreemplazable (re-recordings of songs from B'Day for a Spanish-language audience), and the re-release of B'Day. To record these, Beyoncé was coached phonetically by American record producer Rudy Perez.\n",
      "Question: What language does she mainly sing? \n",
      "\n",
      "Context:  In September 2010, Beyoncé made her runway modelling debut at Tom Ford's Spring/Summer 2011 fashion show. She was named \"World's Most Beautiful Woman\" by People and the \"Hottest Female Singer of All Time\" by Complex in 2012. In January 2013, GQ placed her on its cover, featuring her atop its \"100 Sexiest Women of the 21st Century\" list. VH1 listed her at number 1 on its 100 Sexiest Artists list. Several wax figures of Beyoncé are found at Madame Tussauds Wax Museums in major cities around the world, including New York, Washington, D.C., Amsterdam, Bangkok, Hollywood and Sydney.\n",
      "Question: in September 2010, what career area did Beyonce start exploring? \n",
      "\n",
      "Context:  Beyoncé has won 20 Grammy Awards, both as a solo artist and member of Destiny's Child, making her the second most honored female artist by the Grammys, behind Alison Krauss and the most nominated woman in Grammy Award history with 52 nominations. \"Single Ladies (Put a Ring on It)\" won Song of the Year in 2010 while \"Say My Name\" and \"Crazy in Love\" had previously won Best R&B Song. Dangerously in Love, B'Day and I Am... Sasha Fierce have all won Best Contemporary R&B Album. Beyoncé set the record for the most Grammy awards won by a female artist in one night in 2010 when she won six awards, breaking the tie she previously held with Alicia Keys, Norah Jones, Alison Krauss, and Amy Winehouse, with Adele equaling this in 2012. Following her role in Dreamgirls she was nominated for Best Original Song for \"Listen\" and Best Actress at the Golden Globe Awards, and Outstanding Actress in a Motion Picture at the NAACP Image Awards. Beyoncé won two awards at the Broadcast Film Critics Association Awards 2006; Best Song for \"Listen\" and Best Original Soundtrack for Dreamgirls: Music from the Motion Picture.\n",
      "Question: Who is the only other woman with more Grammy awards than Beyonce? \n",
      "\n",
      "Context:  After Hurricane Katrina in 2005, Beyoncé and Rowland founded the Survivor Foundation to provide transitional housing for victims in the Houston area, to which Beyoncé contributed an initial $250,000. The foundation has since expanded to work with other charities in the city, and also provided relief following Hurricane Ike three years later.\n",
      "Question: How much did Beyonce initially contribute to the foundation? \n",
      "\n",
      "Context:  Montana is home to a diverse array of fauna that includes 14 amphibian, 90 fish, 117 mammal, 20 reptile and 427 bird species. Additionally, there are over 10,000 invertebrate species, including 180 mollusks and 30 crustaceans. Montana has the largest grizzly bear population in the lower 48 states. Montana hosts five federally endangered species–black-footed ferret, whooping crane, least tern, pallid sturgeon and white sturgeon and seven threatened species including the grizzly bear, Canadian lynx and bull trout. The Montana Department of Fish, Wildlife and Parks manages fishing and hunting seasons for at least 17 species of game fish including seven species of trout, walleye and smallmouth bass and at least 29 species of game birds and animals including ring-neck pheasant, grey partridge, elk, pronghorn antelope, mule deer, whitetail deer, gray wolf and bighorn sheep.\n",
      "Question: How many species of game fish have hunting seasons? \n",
      "\n",
      "Context:  In 2007 the European Court of Human Rights (ECHR), noted in its judgement on Jorgic v. Germany case that in 1992 the majority of legal scholars took the narrow view that \"intent to destroy\" in the CPPCG meant the intended physical-biological destruction of the protected group and that this was still the majority opinion. But the ECHR also noted that a minority took a broader view and did not consider biological-physical destruction was necessary as the intent to destroy a national, racial, religious or ethnic group was enough to qualify as genocide.\n",
      "Question: What form of destruction was considered too limited by a smaller group of experts? \n",
      "\n",
      "Context:  There has been much debate over categorizing the situation in Darfur as genocide. The ongoing conflict in Darfur, Sudan, which started in 2003, was declared a \"genocide\" by United States Secretary of State Colin Powell on 9 September 2004 in testimony before the Senate Foreign Relations Committee. Since that time however, no other permanent member of the UN Security Council followed suit. In fact, in January 2005, an International Commission of Inquiry on Darfur, authorized by UN Security Council Resolution 1564 of 2004, issued a report to the Secretary-General stating that \"the Government of the Sudan has not pursued a policy of genocide.\" Nevertheless, the Commission cautioned that \"The conclusion that no genocidal policy has been pursued and implemented in Darfur by the Government authorities, directly or through the militias under their control, should not be taken in any way as detracting from the gravity of the crimes perpetrated in that region. International offences such as the crimes against humanity and war crimes that have been committed in Darfur may be no less serious and heinous than genocide.\"\n",
      "Question: What has been widely debated as a possible act of genocide in Sudan? \n",
      "\n",
      "Context:  The majority of studies indicate antibiotics do interfere with contraceptive pills, such as clinical studies that suggest the failure rate of contraceptive pills caused by antibiotics is very low (about 1%). In cases where antibacterials have been suggested to affect the efficiency of birth control pills, such as for the broad-spectrum antibacterial rifampicin, these cases may be due to an increase in the activities of hepatic liver enzymes' causing increased breakdown of the pill's active ingredients. Effects on the intestinal flora, which might result in reduced absorption of estrogens in the colon, have also been suggested, but such suggestions have been inconclusive and controversial. Clinicians have recommended that extra contraceptive measures be applied during therapies using antibacterials that are suspected to interact with oral contraceptives.\n",
      "Question: What do antibiotics interfere with? \n",
      "\n",
      "Context:  Frédéric François Chopin (/ˈʃoʊpæn/; French pronunciation: ​[fʁe.de.ʁik fʁɑ̃.swa ʃɔ.pɛ̃]; 22 February or 1 March 1810 – 17 October 1849), born Fryderyk Franciszek Chopin,[n 1] was a Polish and French (by citizenship and birth of father) composer and a virtuoso pianist of the Romantic era, who wrote primarily for the solo piano. He gained and has maintained renown worldwide as one of the leading musicians of his era, whose \"poetic genius was based on a professional technique that was without equal in his generation.\" Chopin was born in what was then the Duchy of Warsaw, and grew up in Warsaw, which after 1815 became part of Congress Poland. A child prodigy, he completed his musical education and composed his earlier works in Warsaw before leaving Poland at the age of 20, less than a month before the outbreak of the November 1830 Uprising.\n",
      "Question: In what era of music did Chopin compose? \n",
      "\n",
      "Context:  Fryderyk may have had some piano instruction from his mother, but his first professional music tutor, from 1816 to 1821, was the Czech pianist Wojciech Żywny. His elder sister Ludwika also took lessons from Żywny, and occasionally played duets with her brother. It quickly became apparent that he was a child prodigy. By the age of seven Fryderyk had begun giving public concerts, and in 1817 he composed two polonaises, in G minor and B-flat major. His next work, a polonaise in A-flat major of 1821, dedicated to Żywny, is his earliest surviving musical manuscript.\n",
      "Question: How old was Chopin when he began to perform for the public? \n",
      "\n",
      "Context:  Chopin's successes as a composer and performer opened the door to western Europe for him, and on 2 November 1830, he set out, in the words of Zdzisław Jachimecki, \"into the wide world, with no very clearly defined aim, forever.\" With Woyciechowski, he headed for Austria, intending to go on to Italy. Later that month, in Warsaw, the November 1830 Uprising broke out, and Woyciechowski returned to Poland to enlist. Chopin, now alone in Vienna, was nostalgic for his homeland, and wrote to a friend, \"I curse the moment of my departure.\" When in September 1831 he learned, while travelling from Vienna to Paris, that the uprising had been crushed, he expressed his anguish in the pages of his private journal: \"Oh God! ... You are there, and yet you do not take vengeance!\" Jachimecki ascribes to these events the composer's maturing \"into an inspired national bard who intuited the past, present and future of his native Poland.\"\n",
      "Question: What geographicla region was opened for Chopin due to his composing and performances? \n",
      "\n",
      "Context:  In 1836, at a party hosted by Marie d'Agoult, Chopin met the French author George Sand (born [Amantine] Aurore [Lucile] Dupin). Short (under five feet, or 152 cm), dark, big-eyed and a cigar smoker, she initially repelled Chopin, who remarked, \"What an unattractive person la Sand is. Is she really a woman?\" However, by early 1837 Maria Wodzińska's mother had made it clear to Chopin in correspondence that a marriage with her daughter was unlikely to proceed. It is thought that she was influenced by his poor health and possibly also by rumours about his associations with women such as d'Agoult and Sand. Chopin finally placed the letters from Maria and her mother in a package on which he wrote, in Polish, \"My tragedy\". Sand, in a letter to Grzymała of June 1838, admitted strong feelings for the composer and debated whether to abandon a current affair in order to begin a relationship with Chopin; she asked Grzymała to assess Chopin's relationship with Maria Wodzińska, without realising that the affair, at least from Maria's side, was over.\n",
      "Question: What is the name of the author Chopin met at a gathering put on by Marie d'Agoult? \n",
      "\n",
      "Context:  Chopin's public popularity as a virtuoso began to wane, as did the number of his pupils, and this, together with the political strife and instability of the time, caused him to struggle financially. In February 1848, with the cellist Auguste Franchomme, he gave his last Paris concert, which included three movements of the Cello Sonata Op. 65.\n",
      "Question: Who did Chopin have at his last Parisian concert in 1848? \n",
      "\n",
      "Context:  With his health further deteriorating, Chopin desired to have a family member with him. In June 1849 his sister Ludwika came to Paris with her husband and daughter, and in September, supported by a loan from Jane Stirling, he took an apartment at Place Vendôme 12. After 15 October, when his condition took a marked turn for the worse, only a handful of his closest friends remained with him, although Viardot remarked sardonically that \"all the grand Parisian ladies considered it de rigueur to faint in his room.\"\n",
      "Question: Who accompanied Chopin's sister to Paris? \n",
      "\n",
      "Context:  Chopin's mazurkas and waltzes are all in straightforward ternary or episodic form, sometimes with a coda. The mazurkas often show more folk features than many of his other works, sometimes including modal scales and harmonies and the use of drone basses. However, some also show unusual sophistication, for example Op. 63 No. 3, which includes a canon at one beat's distance, a great rarity in music.\n",
      "Question: What does Chopin's Op. 63 No. 3 have that is rare? \n",
      "\n",
      "Context:  In 1207, the Mongol ruler Genghis Khan (r. 1206–1227) conquered and subjugated the ethnic Tangut state of the Western Xia (1038–1227). In the same year, he established diplomatic relations with Tibet by sending envoys there. The conquest of the Western Xia alarmed Tibetan rulers, who decided to pay tribute to the Mongols. However, when they ceased to pay tribute after Genghis Khan's death, his successor Ögedei Khan (r. 1229–1241) launched an invasion into Tibet.\n",
      "Question: Which ruler took Western Xia under their control? \n",
      "\n",
      "Context:  A. Tom Grunfeld says that Tsongkhapa claimed ill health in his refusal to appear at the Ming court, while Rossabi adds that Tsongkhapa cited the \"length and arduousness of the journey\" to China as another reason not to make an appearance. This first request by the Ming was made in 1407, but the Ming court sent another embassy in 1413, this one led by the eunuch Hou Xian (候顯; fl. 1403–1427), which was again refused by Tsongkhapa. Rossabi writes that Tsongkhapa did not want to entirely alienate the Ming court, so he sent his disciple Chosrje Shākya Yeshes to Nanjing in 1414 on his behalf, and upon his arrival in 1415 the Yongle Emperor bestowed upon him the title of \"State Teacher\"—the same title earlier awarded the Phagmodrupa ruler of Tibet. The Xuande Emperor (r. 1425–1435) even granted this disciple Chosrje Shākya Yeshes the title of a \"King\" (王). This title does not appear to have held any practical meaning, or to have given its holder any power, at Tsongkhapa's Ganden Monastery. Wylie notes that this—like the Karma Kargyu—cannot be seen as a reappointment of Mongol Yuan offices, since the Gelug school was created after the fall of the Yuan dynasty.\n",
      "Question: When was Chosrje Shākya Yeshes sent to Nanjing? \n",
      "\n",
      "Context:  China Daily, a CCP-controlled news organization since 1981, states in a 2008 article that although there were dynastic changes after Tibet was incorporated into the territory of Yuan dynasty's China in the 13th century, \"Tibet has remained under the jurisdiction of the central government of China.\" It also states that the Ming dynasty \"inherited the right to rule Tibet\" from the Yuan dynasty, and repeats the claims in the Mingshi about the Ming establishing two itinerant high commands over Tibet. China Daily states that the Ming handled Tibet's civil administration, appointed all leading officials of these administrative organs, and punished Tibetans who broke the law. The party-controlled People's Daily, the state-controlled Xinhua News Agency, and the state-controlled national television network China Central Television posted the same article that China Daily had, the only difference being their headlines and some additional text.\n",
      "Question: When was Tibet included into the territory of Yuan dynasty's China? \n",
      "\n",
      "Context:  In mid-2015, a new model of the iPod Touch was announced by Apple, and was officially released on the Apple store on July 15, 2015. The sixth generation iPod Touch includes a wide variety of spec improvements such as the upgraded A8 processor and higher-quality screen. The core is over 5 times faster than previous models and is built to be roughly on par with the iPhone 5S. It is available in 5 different colors: Space grey, pink, gold, silver and Product (red).\n",
      "Question: What type of processor does the current iPod Touch use? \n",
      "\n",
      "Context:  Some independent stereo manufacturers including JVC, Pioneer, Kenwood, Alpine, Sony, and Harman Kardon also have iPod-specific integration solutions. Alternative connection methods include adapter kits (that use the cassette deck or the CD changer port), audio input jacks, and FM transmitters such as the iTrip—although personal FM transmitters are illegal in some countries. Many car manufacturers have added audio input jacks as standard.\n",
      "Question: What type of transmitter is used in the iTrip? \n",
      "\n",
      "Context:  On August 24, 2006, Apple and Creative announced a broad settlement to end their legal disputes. Apple will pay Creative US$100 million for a paid-up license, to use Creative's awarded patent in all Apple products. As part of the agreement, Apple will recoup part of its payment, if Creative is successful in licensing the patent. Creative then announced its intention to produce iPod accessories by joining the Made for iPod program.\n",
      "Question: How much did Apple pay to Creative Technologies to settle their 2006 suit? \n",
      "\n",
      "Context:  The Legend of Zelda: Twilight Princess (Japanese: ゼルダの伝説 トワイライトプリンセス, Hepburn: Zeruda no Densetsu: Towairaito Purinsesu?) is an action-adventure game developed and published by Nintendo for the GameCube and Wii home video game consoles. It is the thirteenth installment in the The Legend of Zelda series. Originally planned for release on the GameCube in November 2005, Twilight Princess was delayed by Nintendo to allow its developers to refine the game, add more content, and port it to the Wii. The Wii version was released alongside the console in North America in November 2006, and in Japan, Europe, and Australia the following month. The GameCube version was released worldwide in December 2006.[b]\n",
      "Question: When was Twilight Princess launched in North America? \n",
      "\n",
      "Context:  Ganondorf then revives, and Midna teleports Link and Zelda outside the castle so she can hold him off with the Fused Shadows. However, as Hyrule Castle collapses, it is revealed that Ganondorf was victorious as he crushes Midna's helmet. Ganondorf engages Link on horseback, and, assisted by Zelda and the Light Spirits, Link eventually knocks Ganondorf off his horse and they duel on foot before Link strikes down Ganondorf and plunges the Master Sword into his chest. With Ganondorf dead, the Light Spirits not only bring Midna back to life, but restore her to her true form. After bidding farewell to Link and Zelda, Midna returns home before destroying the Mirror of Twilight with a tear to maintain balance between Hyrule and the Twilight Realm. Near the end, as Hyrule Castle is rebuilt, Link is shown leaving Ordon Village heading to parts unknown.\n",
      "Question: What does Midna destroy? \n",
      "\n",
      "Context:  Twilight Princess received the awards for Best Artistic Design, Best Original Score, and Best Use of Sound from IGN for its GameCube version. Both IGN and Nintendo Power gave Twilight Princess the awards for Best Graphics and Best Story. Twilight Princess received Game of the Year awards from GameTrailers, 1UP.com, Electronic Gaming Monthly, Game Informer, Games Radar, GameSpy, Spacey Awards, X-Play and Nintendo Power. It was also given awards for Best Adventure Game from the Game Critics Awards, X-Play, IGN, GameTrailers, 1UP.com, and Nintendo Power. The game was considered the Best Console Game by the Game Critics Awards and GameSpy. The game placed 16th in Official Nintendo Magazine's list of the 100 Greatest Nintendo Games of All Time. IGN ranked the game as the 4th-best Wii game. Nintendo Power ranked the game as the third-best game to be released on a Nintendo system in the 2000s decade.\n",
      "Question: What place did the game take in Nintendo's Official list of 100 Greatest Nintendo Games of All Time? \n",
      "\n",
      "Context:  Despite being an original story, Spectre draws on Ian Fleming's source material, most notably in the character of Franz Oberhauser, played by Christoph Waltz. Oberhauser shares his name with Hannes Oberhauser, a background character in the short story \"Octopussy\" from the Octopussy and The Living Daylights collection, and who is named in the film as having been a temporary legal guardian of a young Bond in 1983. Similarly, Charmian Bond is shown to have been his full-time guardian, observing the back story established by Fleming. With the acquisition of the rights to Spectre and its associated characters, screenwriters Neal Purvis and Robert Wade revealed that the film would provide a minor retcon to the continuity of the previous films, with the Quantum organisation alluded to in Casino Royale and introduced in Quantum of Solace reimagined as a division within Spectre rather than an independent organisation.\n",
      "Question: What is the name of the short story in which Hannes Oberhauser appeared? \n",
      "\n",
      "Context:  Thomas Newman returned as Spectre's composer. Rather than composing the score once the film had moved into post-production, Newman worked during filming. The theatrical trailer released in July 2015 contained a rendition of John Barry's On Her Majesty's Secret Service theme. Mendes revealed that the final film would have more than one hundred minutes of music. The soundtrack album was released on 23 October 2015 in the UK and 6 November 2015 in the USA on the Decca Records label.\n",
      "Question: Which record label was the soundtrack album released on? \n",
      "\n",
      "Context:  It is also known as the Wenchuan earthquake (Chinese: 汶川大地震; pinyin: Wènchuān dà dìzhèn; literally: \"Great Wenchuan earthquake\"), after the location of the earthquake's epicenter, Wenchuan County, Sichuan. The epicenter was 80 kilometres (50 mi) west-northwest of Chengdu, the provincial capital, with a focal depth of 19 km (12 mi). The earthquake was also felt in nearby countries and as far away as both Beijing and Shanghai—1,500 km (930 mi) and 1,700 km (1,060 mi) away—where office buildings swayed with the tremor. Strong aftershocks, some exceeding magnitude 6, continued to hit the area even months after the main quake, causing new casualties and damage.\n",
      "Question: What was the focal depth of the quake? \n",
      "\n",
      "Context:  All of the highways into Wenchuan, and others throughout the province, were damaged, resulting in delayed arrival of the rescue troops. In Beichuan County, 80% of the buildings collapsed according to Xinhua News. In the city of Shifang, the collapse of two chemical plants led to leakage of some 80 tons of liquid ammonia, with hundreds of people reported buried. In the city of Dujiangyan, south-east of the epicenter, a whole school collapsed with 900 students buried and fewer than 60 survived. The Juyuan Middle School, where many teenagers were buried, was excavated by civilians and cranes. Dujiangyan is home of the Dujiangyan Irrigation System, an ancient water diversion project which is still in use and is a UNESCO World Heritage Site. The project's famous Fish Mouth was cracked but not severely damaged otherwise.\n",
      "Question: What leaked liquid ammonia in Shifang? \n",
      "\n",
      "Context:  In the days following the disaster, an international reconnaissance team of engineers was dispatched to the region to make a detailed preliminary survey of damaged buildings. Their findings show a variety of reasons why many constructions failed to withstand the earthquake.\n",
      "Question: What did the team of engineers do? \n",
      "\n",
      "Context:  In 2002, Chinese geologist Chen Xuezhong published a Seismic Risk Analysis study in which he came to the conclusion that beginning with 2003, attention should be paid to the possibility of an earthquake with a magnitude of over 7.0 occurring in Sichuan region. He based his study on statistical correlation. That Sichuan is a seismically active area has been discussed for years prior to the quake, though few studies point to a specific date and time.\n",
      "Question: Who published a Seismic Risk Analysis Study? \n",
      "\n",
      "Context:  On the evening of May 18, CCTV-1 hosted a special four-hour program called The Giving of Love (simplified Chinese: 爱的奉献; traditional Chinese: 愛的奉獻), hosted by regulars from the CCTV New Year's Gala and round-the-clock coverage anchor Bai Yansong. It was attended by a wide range of entertainment, literary, business and political figures from mainland China, Hong Kong, Singapore and Taiwan. Donations of the evening totalled 1.5 billion Chinese Yuan (~US$208 million). Of the donations, CCTV gave the biggest corporate contribution at ¥50 million. Almost at the same time in Taiwan, a similarly themed programme was on air hosted by the sitting president Ma Ying-jeou. In June, Hong Kong actor Jackie Chan, who donated $1.57 million to the victims, made a music video alongside other artists entitled \"Promise\"; the song was composed by Andy Lau. The Artistes 512 Fund Raising Campaign, an 8-hour fundraising marathon, was held on June 1 in Hong Kong; it was attended by some 200 Sinosphere musicians and celebrities. In Singapore, MediaCorp Channel 8 hosted a 'live' programme 让爱川流不息 to raise funds for the victims.\n",
      "Question: How much did actor Jackie Chan donate? \n",
      "\n",
      "Context:  On May 15, 2008 Geoffery York of the Globeandmail.com reported that the shoddily constructed buildings are commonly called \"tofu buildings\" because builders cut corners by replacing steel rods with thin iron wires for concrete re-inforcement; using inferior grade cement, if any at all; and using fewer bricks than they should. One local was quoted in the article as saying that \"the supervising agencies did not check to see if it met the national standards.\"\n",
      "Question: What did builder's use in place of steel rods as re-inforcement? \n",
      "\n",
      "Context:  New York grew in importance as a trading port while under British rule in the early 1700s. It also became a center of slavery, with 42% of households holding slaves by 1730, more than any other city other than Charleston, South Carolina. Most slaveholders held a few or several domestic slaves, but others hired them out to work at labor. Slavery became integrally tied to New York's economy through the labor of slaves throughout the port, and the banks and shipping tied to the South. Discovery of the African Burying Ground in the 1990s, during construction of a new federal courthouse near Foley Square, revealed that tens of thousands of Africans had been buried in the area in the colonial years.\n",
      "Question: What was being built that resulted in the discovery of the African Burial Ground? \n",
      "\n"
     ]
    }
   ],
   "source": [
    "# L'unica cosa che si potrebbe rimuovere è la fonetica, ma è poco presente. Inoltre facendolo bisognerebbe aggiornare gli indici\n",
    "\n",
    "# Some examples of contexts and questions:\n",
    "for i in range(0, 4000, 100):\n",
    "    # print('Title:   ', title_list[df['title_index'][i]])\n",
    "    print('Context: ', context_list[df['context_index'][i]])\n",
    "    print('Question:', df['question'][i], \"\\n\")"
   ]
  },
  {
   "cell_type": "code",
   "execution_count": 9,
   "metadata": {},
   "outputs": [
    {
     "name": "stdout",
     "output_type": "stream",
     "text": [
      "Number of train paragraphs: 284\n",
      "Number of validation paragraphs: 70\n",
      "Number of test paragraphs: 88\n",
      "\n",
      "Number of train samples: 57451\n",
      "Number of validation samples: 12921\n",
      "Number of test samples: 17227\n"
     ]
    }
   ],
   "source": [
    "# Define split ratios\n",
    "test_ratio = 0.2\n",
    "val_ratio = 0.2\n",
    "\n",
    "# Build array of paragraphs indexes and shuffle them\n",
    "paragraph_indexes = df['paragraph_index'].unique()\n",
    "np.random.shuffle(paragraph_indexes)\n",
    "n_samples = len(paragraph_indexes)\n",
    "\n",
    "# Reserve indexes for test set\n",
    "test_size = int(test_ratio * n_samples)\n",
    "train_val_size = n_samples - test_size\n",
    "test_indexes = paragraph_indexes[-test_size:]\n",
    "# Reserve indexes for validation set\n",
    "val_size = int(val_ratio * train_val_size)\n",
    "train_size = train_val_size - val_size\n",
    "val_indexes = paragraph_indexes[-(test_size + val_size):-test_size]\n",
    "# Reserve indexes for training set\n",
    "train_indexes = paragraph_indexes[:train_size]\n",
    "\n",
    "assert train_size == len(train_indexes), 'Something went wrong with train set slicing'\n",
    "assert val_size == len(val_indexes), 'Something went wrong with val set slicing'\n",
    "assert test_size == len(test_indexes), 'Something went wrong with test set slicing'\n",
    "\n",
    "print('Number of train paragraphs:', train_size)\n",
    "print('Number of validation paragraphs:', val_size)\n",
    "print('Number of test paragraphs:', test_size)\n",
    "\n",
    "# Split dataframe\n",
    "df_train = df[np.in1d(df['paragraph_index'], train_indexes)]\n",
    "df_val = df[np.in1d(df['paragraph_index'], val_indexes)]\n",
    "df_test = df[np.in1d(df['paragraph_index'], test_indexes)]\n",
    "\n",
    "print('\\nNumber of train samples:', len(df_train))\n",
    "print('Number of validation samples:', len(df_val))\n",
    "print('Number of test samples:', len(df_test))"
   ]
  },
  {
   "cell_type": "markdown",
   "metadata": {},
   "source": [
    "## 2. Embeddings"
   ]
  },
  {
   "cell_type": "code",
   "execution_count": 10,
   "metadata": {},
   "outputs": [
    {
     "name": "stdout",
     "output_type": "stream",
     "text": [
      "Downloading GloVe model...\n",
      "\n",
      "Download completed.\n"
     ]
    }
   ],
   "source": [
    "print('Downloading GloVe model...')\n",
    "emb_dim = 50\n",
    "glove_model = gloader.load('glove-wiki-gigaword-' + str(emb_dim))\n",
    "print('\\nDownload completed.')"
   ]
  },
  {
   "cell_type": "code",
   "execution_count": 11,
   "metadata": {},
   "outputs": [],
   "source": [
    "if True:\n",
    "    df_train = df_train[:10000]\n",
    "    df_val = df_val[:3000]\n",
    "    df_test = df_test[:100]"
   ]
  },
  {
   "cell_type": "code",
   "execution_count": 12,
   "metadata": {},
   "outputs": [
    {
     "name": "stdout",
     "output_type": "stream",
     "text": [
      "Tokenizing training corpus... [6.223 s]\n",
      "Tokenizing validation corpus... [1.748 s]\n",
      "Tokenizing test corpus... [0.088 s]\n",
      "--------------------------------------------------\n",
      "Words in training set: 29372\n",
      "Words in validation set: 36014\n",
      "Words in test set: 36107\n"
     ]
    }
   ],
   "source": [
    "def tokenize_corpus(df: pd.DataFrame, context_list: List[str]):\n",
    "    twt = TreebankWordTokenizer()\n",
    "    \n",
    "    t_start = time()\n",
    "    # Retrieve contexts\n",
    "    contexts = df['context_index'].apply(lambda x: context_list[x])\n",
    "    # Tokenize both contexts and queries\n",
    "    x_ctx = contexts.apply(lambda x: twt.tokenize(x)).tolist()\n",
    "    x_qry = df['question'].apply(lambda x: twt.tokenize(x)).tolist()\n",
    "    # Get indexes to start_end characters\n",
    "    y_char = [(start, end) for start, end in zip(df['answer_start'].tolist(), df['answer_end'].tolist())]\n",
    "    # Get spans of tokens\n",
    "    spans_list = contexts.apply(lambda x: twt.span_tokenize(x)).tolist()\n",
    "    # Convert indexes s.t. the point to start/end tokens\n",
    "    y = []\n",
    "    for spans, (char_start, char_end) in zip(spans_list, y_char):\n",
    "        token_start, token_end = None, None\n",
    "        for i, span in enumerate(spans):\n",
    "            if span[0] <= char_start <= span[1]:\n",
    "                token_start = i\n",
    "            if span[0] <= char_end <= span[1]:\n",
    "                token_end = i\n",
    "        y.append((token_start, token_end))\n",
    "    print(f'[{time() - t_start:.3f} s]')\n",
    "    \n",
    "    return x_ctx, x_qry, y\n",
    "\n",
    "def build_vocabulary(corpus: List[List[str]],\n",
    "                     old_word_listing: Optional[List[str]] = None) -> (Dict[int, str], Dict[int, str], List[str]):\n",
    "    flat_tokens = [x for sub in corpus for x in sub]\n",
    "    \n",
    "    if old_word_listing is None:  # standard case\n",
    "        word_listing = [PAD] + list(OrderedDict.fromkeys(flat_tokens))\n",
    "    else:  # case in which we extend an already existing vocabulary\n",
    "        word_listing = list(OrderedDict.fromkeys(old_word_listing + flat_tokens))\n",
    "        \n",
    "    idx_to_word = {i: w for i, w in enumerate(word_listing)}\n",
    "    word_to_idx = {w: i for i, w in enumerate(word_listing)}\n",
    "\n",
    "    return idx_to_word, word_to_idx, word_listing\n",
    "\n",
    "# Tokenize corpus\n",
    "print('Tokenizing training corpus...', end=' ')\n",
    "X_trainC, X_trainQ, Y_train = tokenize_corpus(df_train, context_list)\n",
    "train_corpus = X_trainC + X_trainQ\n",
    "\n",
    "print('Tokenizing validation corpus...', end=' ')\n",
    "X_valC, X_valQ, Y_val = tokenize_corpus(df_val, context_list)\n",
    "val_corpus = X_valC + X_valQ\n",
    "\n",
    "print('Tokenizing test corpus...', end=' ')\n",
    "X_testC, X_testQ, Y_test = tokenize_corpus(df_test, context_list)\n",
    "test_corpus = X_testC + X_testQ\n",
    "\n",
    "# Get word and char mappings for each set\n",
    "train_i2w, train_w2i, train_wl = build_vocabulary(train_corpus)\n",
    "val_i2w, val_w2i, val_wl = build_vocabulary(val_corpus, train_wl)\n",
    "test_i2w, test_w2i, test_wl = build_vocabulary(test_corpus, val_wl)\n",
    "\n",
    "print('-' * 50)\n",
    "print('Words in training set:', len(train_wl))\n",
    "print('Words in validation set:', len(val_wl))\n",
    "print('Words in test set:', len(test_wl))"
   ]
  },
  {
   "cell_type": "code",
   "execution_count": 13,
   "metadata": {},
   "outputs": [
    {
     "name": "stdout",
     "output_type": "stream",
     "text": [
      "Total OOV terms in training set: 14167 (48.23%)\n",
      "Total OOV terms in validation set: 17909 (49.73%)\n",
      "Total OOV terms in test set: 17980 (49.80%)\n"
     ]
    }
   ],
   "source": [
    "train_oov_words = [word for word in train_wl if word not in glove_model.vocab and word != PAD]\n",
    "val_oov_words = [word for word in val_wl if word not in glove_model.vocab and word != PAD]\n",
    "test_oov_words = [word for word in test_wl if word not in glove_model.vocab and word != PAD]\n",
    "\n",
    "print(f'Total OOV terms in training set: {len(train_oov_words)} ({float(len(train_oov_words)) / len(train_wl) * 100:.2f}%)')\n",
    "print(f'Total OOV terms in validation set: {len(val_oov_words)} ({float(len(val_oov_words)) / len(val_wl) * 100:.2f}%)')\n",
    "print(f'Total OOV terms in test set: {len(test_oov_words)} ({float(len(test_oov_words)) / len(test_wl) * 100:.2f}%)')"
   ]
  },
  {
   "cell_type": "code",
   "execution_count": 14,
   "metadata": {},
   "outputs": [
    {
     "data": {
      "application/vnd.jupyter.widget-view+json": {
       "model_id": "",
       "version_major": 2,
       "version_minor": 0
      },
      "text/plain": [
       "HBox(children=(HTML(value=''), FloatProgress(value=0.0, max=29372.0), HTML(value='')))"
      ]
     },
     "metadata": {},
     "output_type": "display_data"
    },
    {
     "data": {
      "application/vnd.jupyter.widget-view+json": {
       "model_id": "",
       "version_major": 2,
       "version_minor": 0
      },
      "text/plain": [
       "HBox(children=(HTML(value=''), FloatProgress(value=0.0, max=29372.0), HTML(value='')))"
      ]
     },
     "metadata": {},
     "output_type": "display_data"
    },
    {
     "name": "stdout",
     "output_type": "stream",
     "text": [
      "Shape of word embedding matrix (training set): (29372, 50)\n"
     ]
    },
    {
     "data": {
      "application/vnd.jupyter.widget-view+json": {
       "model_id": "",
       "version_major": 2,
       "version_minor": 0
      },
      "text/plain": [
       "HBox(children=(HTML(value=''), FloatProgress(value=0.0, max=36014.0), HTML(value='')))"
      ]
     },
     "metadata": {},
     "output_type": "display_data"
    },
    {
     "data": {
      "application/vnd.jupyter.widget-view+json": {
       "model_id": "",
       "version_major": 2,
       "version_minor": 0
      },
      "text/plain": [
       "HBox(children=(HTML(value=''), FloatProgress(value=0.0, max=36014.0), HTML(value='')))"
      ]
     },
     "metadata": {},
     "output_type": "display_data"
    },
    {
     "name": "stdout",
     "output_type": "stream",
     "text": [
      "Shape of word embedding matrix (validation set): (36014, 50)\n"
     ]
    },
    {
     "data": {
      "application/vnd.jupyter.widget-view+json": {
       "model_id": "",
       "version_major": 2,
       "version_minor": 0
      },
      "text/plain": [
       "HBox(children=(HTML(value=''), FloatProgress(value=0.0, max=36107.0), HTML(value='')))"
      ]
     },
     "metadata": {},
     "output_type": "display_data"
    },
    {
     "data": {
      "application/vnd.jupyter.widget-view+json": {
       "model_id": "",
       "version_major": 2,
       "version_minor": 0
      },
      "text/plain": [
       "HBox(children=(HTML(value=''), FloatProgress(value=0.0, max=36107.0), HTML(value='')))"
      ]
     },
     "metadata": {},
     "output_type": "display_data"
    },
    {
     "name": "stdout",
     "output_type": "stream",
     "text": [
      "Shape of word embedding matrix (test set): (36107, 50)\n"
     ]
    }
   ],
   "source": [
    "def build_word_embedding_matrix(embedding_model: gensim.models.keyedvectors.Word2VecKeyedVectors,\n",
    "                                word_to_idx: Dict[str, int],\n",
    "                                oov_words: List[str],\n",
    "                                old_word_embedding_matrix: Optional[np.ndarray] = None):\n",
    "    # Initialize embedding matrix with all zeros\n",
    "    embedding_matrix = np.zeros((len(word_to_idx), embedding_model.vector_size))\n",
    "    \n",
    "    # Analyze embeddings to get mean and standard deviation\n",
    "    mean_list, std_list = [], []\n",
    "    for word in tqdm(word_to_idx.keys(), leave=False):\n",
    "        if word not in oov_words and word != PAD:\n",
    "            embed = embedding_model[word]\n",
    "            # Compute mean and std\n",
    "            mean_list.append(np.mean(embed))\n",
    "            std_list.append(np.std(embed))\n",
    "\n",
    "    embedding_mean = mean(mean_list)\n",
    "    embedding_std = mean(std_list)\n",
    "\n",
    "    for word, idx in tqdm(word_to_idx.items(), leave=False):\n",
    "        # If word is PAD no action is performed (it will be assigned the zero vector)\n",
    "        if word not in oov_words and word != PAD:\n",
    "            embedding_matrix[idx] = embedding_model[word]\n",
    "        elif word in oov_words:\n",
    "            oov_idx = word_to_idx[word]\n",
    "            if old_word_embedding_matrix is None or oov_idx >= len(old_word_embedding_matrix):\n",
    "                embedding_matrix[idx] = np.random.normal(loc=embedding_mean, scale=embedding_std, size=embedding_model.vector_size)\n",
    "            else:\n",
    "                embedding_matrix[idx] = old_word_embedding_matrix[oov_idx]\n",
    "            \n",
    "    return embedding_matrix\n",
    "\n",
    "# Build word embedding matrix based only on the training set (for training)\n",
    "train_emb_mtx = build_word_embedding_matrix(glove_model, train_w2i, train_oov_words)\n",
    "print('Shape of word embedding matrix (training set):', train_emb_mtx.shape)\n",
    "\n",
    "# Build word embedding matrix based on training + validation set (for validation)\n",
    "val_emb_mtx = build_word_embedding_matrix(glove_model, val_w2i, val_oov_words, train_emb_mtx)\n",
    "print('Shape of word embedding matrix (validation set):', val_emb_mtx.shape)\n",
    "\n",
    "# Build word embedding matrix based on training + validation + test set (for test)\n",
    "test_emb_mtx = build_word_embedding_matrix(glove_model, test_w2i, test_oov_words, val_emb_mtx)\n",
    "print('Shape of word embedding matrix (test set):', test_emb_mtx.shape)"
   ]
  },
  {
   "cell_type": "code",
   "execution_count": 15,
   "metadata": {},
   "outputs": [
    {
     "name": "stdout",
     "output_type": "stream",
     "text": [
      "Shape of char embedding matrix (training set): (101, 100)\n"
     ]
    }
   ],
   "source": [
    "def build_char_embedding_matrix(corpus: List[str],\n",
    "                                enc_dim: Optional[int] = 100):\n",
    "    # Flatten to obtain single characters\n",
    "    flat_chars = [c for sent in corpus for word in sent for c in word]\n",
    "    \n",
    "    # Sort characters by occurrences\n",
    "    unique_chars = Counter(flat_chars)\n",
    "    char_listing = sorted(unique_chars, key=unique_chars.get, reverse=True)\n",
    "    # Select only the enc_dim most frequent ones\n",
    "    if len(char_listing) > enc_dim - 1:\n",
    "        char_listing = char_listing[:enc_dim - 1]\n",
    "    char_listing = [PAD] + char_listing + [UNK]  # add PAD and UNK tokens\n",
    "    \n",
    "    idx_to_char = {i: c for i, c in enumerate(char_listing)}\n",
    "    char_to_idx = {c: i for i, c in enumerate(char_listing)}\n",
    "    \n",
    "    # Create one-hot vectors, reserving the last one for UNK (0...0, 1)\n",
    "    one_hot_chars = np.zeros((len(char_listing) - 1, enc_dim))\n",
    "    np.fill_diagonal(one_hot_chars, 1)\n",
    "    one_hot_chars = np.vstack([np.zeros((1, enc_dim)), one_hot_chars])  # stack zero vector on top for PAD\n",
    "    \n",
    "    return idx_to_char, char_to_idx, char_listing, one_hot_chars\n",
    "\n",
    "# Build char embedding matrix based only on the training set, and use it for validation and test too:\n",
    "# in fact, we can assume that characters appear uniformly in the three splits;\n",
    "# for those rare case in which this does not happen, we assign the UNK vector\n",
    "i2c, c2i, cl, char_emb_mtx = build_char_embedding_matrix(train_corpus)\n",
    "print('Shape of char embedding matrix (training set):', char_emb_mtx.shape)"
   ]
  },
  {
   "cell_type": "markdown",
   "metadata": {},
   "source": [
    "## 3. Training\n"
   ]
  },
  {
   "cell_type": "code",
   "execution_count": 16,
   "metadata": {},
   "outputs": [],
   "source": [
    "from utils.train_utils import training_loop"
   ]
  },
  {
   "cell_type": "code",
   "execution_count": 17,
   "metadata": {},
   "outputs": [],
   "source": [
    "from model.bidaf import BiDAF\n",
    "from model.char_embedder import CharEmbedder\n",
    "from model.word_embedder import WordEmbedder\n",
    "from model.tensor_maker import TensorMaker\n",
    "\n",
    "char_embedder = CharEmbedder(init_emb = torch.FloatTensor(char_emb_mtx),\n",
    "                             out_char_emb_dim = emb_dim,\n",
    "                             hidden_dim = 64,\n",
    "                             input_channels = 1,\n",
    "                             output_channels = 100,\n",
    "                             kernel_height = 5,\n",
    "                             trainable = False)\n",
    "\n",
    "train_word_embedder = WordEmbedder(init_emb = torch.FloatTensor(train_emb_mtx))\n",
    "val_word_embedder = WordEmbedder(init_emb = torch.FloatTensor(val_emb_mtx))\n",
    "\n",
    "model_bidaf = BiDAF(char_embedder, train_word_embedder, val_word_embedder, use_constraint = False).to(DEVICE)\n",
    "\n",
    "train_tensor_maker = TensorMaker(train_w2i, c2i, device=DEVICE)\n",
    "val_tensor_maker = TensorMaker(val_w2i, c2i, device=DEVICE)"
   ]
  },
  {
   "cell_type": "code",
   "execution_count": 18,
   "metadata": {},
   "outputs": [
    {
     "name": "stdout",
     "output_type": "stream",
     "text": [
      "----------------------------------------------------------------------------------------------------\n",
      "Epoch 1/100\n"
     ]
    },
    {
     "data": {
      "application/vnd.jupyter.widget-view+json": {
       "model_id": "e39ad8347da44aa1821bfa5097752161",
       "version_major": 2,
       "version_minor": 0
      },
      "text/plain": [
       "HBox(children=(HTML(value=''), FloatProgress(value=0.0, max=313.0), HTML(value='')))"
      ]
     },
     "metadata": {},
     "output_type": "display_data"
    },
    {
     "ename": "KeyboardInterrupt",
     "evalue": "",
     "output_type": "error",
     "traceback": [
      "\u001b[1;31m---------------------------------------------------------------------------\u001b[0m",
      "\u001b[1;31mKeyboardInterrupt\u001b[0m                         Traceback (most recent call last)",
      "\u001b[1;32m<ipython-input-18-0a4d8884190f>\u001b[0m in \u001b[0;36m<module>\u001b[1;34m\u001b[0m\n\u001b[0;32m     11\u001b[0m \u001b[0mcriterion\u001b[0m \u001b[1;33m=\u001b[0m \u001b[0mbidaf_loss\u001b[0m\u001b[1;33m\u001b[0m\u001b[1;33m\u001b[0m\u001b[0m\n\u001b[0;32m     12\u001b[0m \u001b[1;33m\u001b[0m\u001b[0m\n\u001b[1;32m---> 13\u001b[1;33m history = training_loop(model=model_bidaf,\n\u001b[0m\u001b[0;32m     14\u001b[0m                         \u001b[0mtrain_data\u001b[0m\u001b[1;33m=\u001b[0m\u001b[0mtrain_data\u001b[0m\u001b[1;33m,\u001b[0m\u001b[1;33m\u001b[0m\u001b[1;33m\u001b[0m\u001b[0m\n\u001b[0;32m     15\u001b[0m                         \u001b[0moptimizer\u001b[0m\u001b[1;33m=\u001b[0m\u001b[0moptimizer\u001b[0m\u001b[1;33m,\u001b[0m\u001b[1;33m\u001b[0m\u001b[1;33m\u001b[0m\u001b[0m\n",
      "\u001b[1;32m~\\OneDrive\\Desktop\\UNI AI\\2year_1semester\\NLP\\final_project\\qa-nlp\\qa-nlp\\utils\\train_utils.py\u001b[0m in \u001b[0;36mtraining_loop\u001b[1;34m(model, train_data, optimizer, epochs, batch_size, criterion, train_tensor_maker, val_tensor_maker, lr_scheduler, val_data, early_stopping, patience, tolerance, checkpoint_path, verbose, seed, mix_scale)\u001b[0m\n\u001b[0;32m    262\u001b[0m \u001b[1;33m\u001b[0m\u001b[0m\n\u001b[0;32m    263\u001b[0m         \u001b[0mstart\u001b[0m \u001b[1;33m=\u001b[0m \u001b[0mtime\u001b[0m\u001b[1;33m(\u001b[0m\u001b[1;33m)\u001b[0m\u001b[1;33m\u001b[0m\u001b[1;33m\u001b[0m\u001b[0m\n\u001b[1;32m--> 264\u001b[1;33m         train_loss, train_distance_start, train_distance_end = train(model, train_data, batch_size, criterion,\n\u001b[0m\u001b[0;32m    265\u001b[0m                                                                      optimizer, train_tensor_maker, verbose, scaler)\n\u001b[0;32m    266\u001b[0m         \u001b[0mend\u001b[0m \u001b[1;33m=\u001b[0m \u001b[0mtime\u001b[0m\u001b[1;33m(\u001b[0m\u001b[1;33m)\u001b[0m\u001b[1;33m\u001b[0m\u001b[1;33m\u001b[0m\u001b[0m\n",
      "\u001b[1;32m~\\OneDrive\\Desktop\\UNI AI\\2year_1semester\\NLP\\final_project\\qa-nlp\\qa-nlp\\utils\\train_utils.py\u001b[0m in \u001b[0;36mtrain\u001b[1;34m(model, data, batch_size, criterion, optimizer, tensor_maker, verbose, scaler)\u001b[0m\n\u001b[0;32m    127\u001b[0m         \u001b[0mend_dist\u001b[0m \u001b[1;33m=\u001b[0m \u001b[0mtorch\u001b[0m\u001b[1;33m.\u001b[0m\u001b[0mabs\u001b[0m\u001b[1;33m(\u001b[0m\u001b[0mp_end\u001b[0m \u001b[1;33m-\u001b[0m \u001b[0mlabels_end\u001b[0m\u001b[1;33m)\u001b[0m\u001b[1;33m.\u001b[0m\u001b[0msum\u001b[0m\u001b[1;33m(\u001b[0m\u001b[1;33m)\u001b[0m\u001b[1;33m\u001b[0m\u001b[1;33m\u001b[0m\u001b[0m\n\u001b[0;32m    128\u001b[0m \u001b[1;33m\u001b[0m\u001b[0m\n\u001b[1;32m--> 129\u001b[1;33m         \u001b[0mexact_scores\u001b[0m\u001b[1;33m,\u001b[0m \u001b[0mf1_scores\u001b[0m \u001b[1;33m=\u001b[0m \u001b[0mget_raw_scores\u001b[0m\u001b[1;33m(\u001b[0m\u001b[0mbatch_context\u001b[0m\u001b[1;33m,\u001b[0m \u001b[0mlabels_start\u001b[0m\u001b[1;33m,\u001b[0m \u001b[0mlabels_end\u001b[0m\u001b[1;33m,\u001b[0m \u001b[0mp_start\u001b[0m\u001b[1;33m,\u001b[0m \u001b[0mp_end\u001b[0m\u001b[1;33m)\u001b[0m\u001b[1;33m\u001b[0m\u001b[1;33m\u001b[0m\u001b[0m\n\u001b[0m\u001b[0;32m    130\u001b[0m \u001b[1;33m\u001b[0m\u001b[0m\n\u001b[0;32m    131\u001b[0m         \u001b[1;31m# Update history\u001b[0m\u001b[1;33m\u001b[0m\u001b[1;33m\u001b[0m\u001b[1;33m\u001b[0m\u001b[0m\n",
      "\u001b[1;32m~\\OneDrive\\Desktop\\UNI AI\\2year_1semester\\NLP\\final_project\\qa-nlp\\qa-nlp\\utils\\train_utils.py\u001b[0m in \u001b[0;36mget_raw_scores\u001b[1;34m(context, label_start, label_end, p_start, p_end)\u001b[0m\n\u001b[0;32m     50\u001b[0m     \u001b[1;32mfor\u001b[0m \u001b[0mi\u001b[0m\u001b[1;33m,\u001b[0m \u001b[0mc\u001b[0m \u001b[1;32min\u001b[0m \u001b[0menumerate\u001b[0m\u001b[1;33m(\u001b[0m\u001b[0mcontext\u001b[0m\u001b[1;33m)\u001b[0m\u001b[1;33m:\u001b[0m\u001b[1;33m\u001b[0m\u001b[1;33m\u001b[0m\u001b[0m\n\u001b[0;32m     51\u001b[0m         \u001b[0mtrue_answer\u001b[0m \u001b[1;33m=\u001b[0m \u001b[0mc\u001b[0m\u001b[1;33m[\u001b[0m\u001b[0mlabel_start\u001b[0m\u001b[1;33m[\u001b[0m\u001b[0mi\u001b[0m\u001b[1;33m]\u001b[0m\u001b[1;33m:\u001b[0m\u001b[0mlabel_end\u001b[0m\u001b[1;33m[\u001b[0m\u001b[0mi\u001b[0m\u001b[1;33m]\u001b[0m\u001b[1;33m]\u001b[0m\u001b[1;33m\u001b[0m\u001b[1;33m\u001b[0m\u001b[0m\n\u001b[1;32m---> 52\u001b[1;33m         \u001b[0mpredicted_answer\u001b[0m \u001b[1;33m=\u001b[0m \u001b[0mc\u001b[0m\u001b[1;33m[\u001b[0m\u001b[0mp_start\u001b[0m\u001b[1;33m[\u001b[0m\u001b[0mi\u001b[0m\u001b[1;33m]\u001b[0m\u001b[1;33m:\u001b[0m\u001b[0mp_end\u001b[0m\u001b[1;33m[\u001b[0m\u001b[0mi\u001b[0m\u001b[1;33m]\u001b[0m\u001b[1;33m]\u001b[0m\u001b[1;33m\u001b[0m\u001b[1;33m\u001b[0m\u001b[0m\n\u001b[0m\u001b[0;32m     53\u001b[0m \u001b[1;33m\u001b[0m\u001b[0m\n\u001b[0;32m     54\u001b[0m         \u001b[0mexact_scores\u001b[0m\u001b[1;33m.\u001b[0m\u001b[0mappend\u001b[0m\u001b[1;33m(\u001b[0m\u001b[0mint\u001b[0m\u001b[1;33m(\u001b[0m\u001b[0mtrue_answer\u001b[0m \u001b[1;33m==\u001b[0m \u001b[0mpredicted_answer\u001b[0m\u001b[1;33m)\u001b[0m\u001b[1;33m)\u001b[0m\u001b[1;33m\u001b[0m\u001b[1;33m\u001b[0m\u001b[0m\n",
      "\u001b[1;31mKeyboardInterrupt\u001b[0m: "
     ]
    }
   ],
   "source": [
    "from utils.bidaf_loss import bidaf_loss\n",
    "\n",
    "train_data = to_list_of_tuples((X_trainC, X_trainQ, Y_train))\n",
    "val_data = to_list_of_tuples((X_valC, X_valQ, Y_val))\n",
    "\n",
    "EP = 100\n",
    "BS = 32\n",
    "\n",
    "optimizer = torch.optim.Adam(model_bidaf.parameters(), lr=5e-3)\n",
    "#optimizer = torch.optim.Adadelta(model_bidaf.parameters(), lr=0.5, rho=0.999, eps=1e-06, weight_decay=0) # slower in time and in loss\n",
    "criterion = bidaf_loss\n",
    "\n",
    "history = training_loop(model=model_bidaf,\n",
    "                        train_data=train_data,\n",
    "                        optimizer=optimizer,\n",
    "                        epochs=EP,\n",
    "                        batch_size=BS,\n",
    "                        criterion=criterion,\n",
    "                        train_tensor_maker=train_tensor_maker,\n",
    "                        val_tensor_maker=val_tensor_maker,\n",
    "                        val_data=val_data,\n",
    "                        early_stopping=False,\n",
    "                        patience = 15,\n",
    "                        checkpoint_path='bidaf_baseline.pt')"
   ]
  },
  {
   "cell_type": "code",
   "execution_count": 17,
   "metadata": {},
   "outputs": [
    {
     "name": "stdout",
     "output_type": "stream",
     "text": [
      "----------------------------------------------------------------------------------------------------\n",
      "Epoch 1/100\n"
     ]
    },
    {
     "data": {
      "application/vnd.jupyter.widget-view+json": {
       "model_id": "",
       "version_major": 2,
       "version_minor": 0
      },
      "text/plain": [
       "HBox(children=(HTML(value=''), FloatProgress(value=0.0, max=313.0), HTML(value='')))"
      ]
     },
     "metadata": {},
     "output_type": "display_data"
    },
    {
     "name": "stdout",
     "output_type": "stream",
     "text": [
      "Start (p): 0, End (p): 0, Start (T): 44, End (T): 45\n",
      "\tLoss: 7.60800 - Distance start: 37 - Distance end: 37 [Time elapsed: 110.05 s]\n"
     ]
    },
    {
     "data": {
      "application/vnd.jupyter.widget-view+json": {
       "model_id": "",
       "version_major": 2,
       "version_minor": 0
      },
      "text/plain": [
       "HBox(children=(HTML(value=''), FloatProgress(value=0.0, max=94.0), HTML(value='')))"
      ]
     },
     "metadata": {},
     "output_type": "display_data"
    },
    {
     "name": "stdout",
     "output_type": "stream",
     "text": [
      "Start (p): 24, End (p): 7, Start (T): 6, End (T): 7\n",
      "\tValidation loss: 7.11024 - Distance start: 35.00 - Distance end: 35.00 [Time elapsed: 11.67 s]\n",
      "----------------------------------------------------------------------------------------------------\n",
      "Epoch 2/100\n"
     ]
    },
    {
     "data": {
      "application/vnd.jupyter.widget-view+json": {
       "model_id": "",
       "version_major": 2,
       "version_minor": 0
      },
      "text/plain": [
       "HBox(children=(HTML(value=''), FloatProgress(value=0.0, max=313.0), HTML(value='')))"
      ]
     },
     "metadata": {},
     "output_type": "display_data"
    },
    {
     "name": "stdout",
     "output_type": "stream",
     "text": [
      "Start (p): 121, End (p): 27, Start (T): 78, End (T): 81\n",
      "\tLoss: 6.94451 - Distance start: 36 - Distance end: 37 [Time elapsed: 115.41 s]\n"
     ]
    },
    {
     "data": {
      "application/vnd.jupyter.widget-view+json": {
       "model_id": "",
       "version_major": 2,
       "version_minor": 0
      },
      "text/plain": [
       "HBox(children=(HTML(value=''), FloatProgress(value=0.0, max=94.0), HTML(value='')))"
      ]
     },
     "metadata": {},
     "output_type": "display_data"
    },
    {
     "name": "stdout",
     "output_type": "stream",
     "text": [
      "Start (p): 84, End (p): 85, Start (T): 164, End (T): 166\n",
      "\tValidation loss: 7.02693 - Distance start: 35.00 - Distance end: 36.00 [Time elapsed: 12.60 s]\n",
      "----------------------------------------------------------------------------------------------------\n",
      "Epoch 3/100\n"
     ]
    },
    {
     "data": {
      "application/vnd.jupyter.widget-view+json": {
       "model_id": "",
       "version_major": 2,
       "version_minor": 0
      },
      "text/plain": [
       "HBox(children=(HTML(value=''), FloatProgress(value=0.0, max=313.0), HTML(value='')))"
      ]
     },
     "metadata": {},
     "output_type": "display_data"
    },
    {
     "name": "stdout",
     "output_type": "stream",
     "text": [
      "Start (p): 0, End (p): 1, Start (T): 153, End (T): 157\n",
      "\tLoss: 6.71470 - Distance start: 35 - Distance end: 36 [Time elapsed: 110.19 s]\n"
     ]
    },
    {
     "data": {
      "application/vnd.jupyter.widget-view+json": {
       "model_id": "",
       "version_major": 2,
       "version_minor": 0
      },
      "text/plain": [
       "HBox(children=(HTML(value=''), FloatProgress(value=0.0, max=94.0), HTML(value='')))"
      ]
     },
     "metadata": {},
     "output_type": "display_data"
    },
    {
     "name": "stdout",
     "output_type": "stream",
     "text": [
      "Start (p): 32, End (p): 82, Start (T): 7, End (T): 7\n",
      "\tValidation loss: 6.84756 - Distance start: 34.00 - Distance end: 35.00 [Time elapsed: 11.37 s]\n",
      "----------------------------------------------------------------------------------------------------\n",
      "Epoch 4/100\n"
     ]
    },
    {
     "data": {
      "application/vnd.jupyter.widget-view+json": {
       "model_id": "",
       "version_major": 2,
       "version_minor": 0
      },
      "text/plain": [
       "HBox(children=(HTML(value=''), FloatProgress(value=0.0, max=313.0), HTML(value='')))"
      ]
     },
     "metadata": {},
     "output_type": "display_data"
    },
    {
     "name": "stdout",
     "output_type": "stream",
     "text": [
      "Start (p): 3, End (p): 6, Start (T): 67, End (T): 68\n",
      "\tLoss: 6.57629 - Distance start: 36 - Distance end: 36 [Time elapsed: 106.70 s]\n"
     ]
    },
    {
     "data": {
      "application/vnd.jupyter.widget-view+json": {
       "model_id": "",
       "version_major": 2,
       "version_minor": 0
      },
      "text/plain": [
       "HBox(children=(HTML(value=''), FloatProgress(value=0.0, max=94.0), HTML(value='')))"
      ]
     },
     "metadata": {},
     "output_type": "display_data"
    },
    {
     "name": "stdout",
     "output_type": "stream",
     "text": [
      "Start (p): 50, End (p): 12, Start (T): 6, End (T): 7\n",
      "\tValidation loss: 6.89861 - Distance start: 34.00 - Distance end: 35.00 [Time elapsed: 11.69 s]\n",
      "----------------------------------------------------------------------------------------------------\n",
      "Epoch 5/100\n"
     ]
    },
    {
     "data": {
      "application/vnd.jupyter.widget-view+json": {
       "model_id": "",
       "version_major": 2,
       "version_minor": 0
      },
      "text/plain": [
       "HBox(children=(HTML(value=''), FloatProgress(value=0.0, max=313.0), HTML(value='')))"
      ]
     },
     "metadata": {},
     "output_type": "display_data"
    },
    {
     "name": "stdout",
     "output_type": "stream",
     "text": [
      "Start (p): 37, End (p): 64, Start (T): 21, End (T): 24\n",
      "\tLoss: 6.46257 - Distance start: 35 - Distance end: 36 [Time elapsed: 107.13 s]\n"
     ]
    },
    {
     "data": {
      "application/vnd.jupyter.widget-view+json": {
       "model_id": "",
       "version_major": 2,
       "version_minor": 0
      },
      "text/plain": [
       "HBox(children=(HTML(value=''), FloatProgress(value=0.0, max=94.0), HTML(value='')))"
      ]
     },
     "metadata": {},
     "output_type": "display_data"
    },
    {
     "name": "stdout",
     "output_type": "stream",
     "text": [
      "Start (p): 162, End (p): 73, Start (T): 170, End (T): 174\n",
      "\tValidation loss: 6.78625 - Distance start: 33.00 - Distance end: 34.00 [Time elapsed: 11.55 s]\n",
      "----------------------------------------------------------------------------------------------------\n",
      "Epoch 6/100\n"
     ]
    },
    {
     "data": {
      "application/vnd.jupyter.widget-view+json": {
       "model_id": "",
       "version_major": 2,
       "version_minor": 0
      },
      "text/plain": [
       "HBox(children=(HTML(value=''), FloatProgress(value=0.0, max=313.0), HTML(value='')))"
      ]
     },
     "metadata": {},
     "output_type": "display_data"
    },
    {
     "name": "stdout",
     "output_type": "stream",
     "text": [
      "Start (p): 103, End (p): 105, Start (T): 2, End (T): 3\n",
      "\tLoss: 6.36714 - Distance start: 35 - Distance end: 36 [Time elapsed: 106.21 s]\n"
     ]
    },
    {
     "data": {
      "application/vnd.jupyter.widget-view+json": {
       "model_id": "",
       "version_major": 2,
       "version_minor": 0
      },
      "text/plain": [
       "HBox(children=(HTML(value=''), FloatProgress(value=0.0, max=94.0), HTML(value='')))"
      ]
     },
     "metadata": {},
     "output_type": "display_data"
    },
    {
     "name": "stdout",
     "output_type": "stream",
     "text": [
      "Start (p): 3, End (p): 27, Start (T): 85, End (T): 90\n",
      "\tValidation loss: 6.83648 - Distance start: 34.00 - Distance end: 37.00 [Time elapsed: 11.59 s]\n",
      "----------------------------------------------------------------------------------------------------\n",
      "Epoch 7/100\n"
     ]
    },
    {
     "data": {
      "application/vnd.jupyter.widget-view+json": {
       "model_id": "",
       "version_major": 2,
       "version_minor": 0
      },
      "text/plain": [
       "HBox(children=(HTML(value=''), FloatProgress(value=0.0, max=313.0), HTML(value='')))"
      ]
     },
     "metadata": {},
     "output_type": "display_data"
    },
    {
     "name": "stdout",
     "output_type": "stream",
     "text": [
      "Start (p): 3, End (p): 4, Start (T): 94, End (T): 96\n",
      "\tLoss: 6.28323 - Distance start: 35 - Distance end: 35 [Time elapsed: 107.80 s]\n"
     ]
    },
    {
     "data": {
      "application/vnd.jupyter.widget-view+json": {
       "model_id": "",
       "version_major": 2,
       "version_minor": 0
      },
      "text/plain": [
       "HBox(children=(HTML(value=''), FloatProgress(value=0.0, max=94.0), HTML(value='')))"
      ]
     },
     "metadata": {},
     "output_type": "display_data"
    },
    {
     "name": "stdout",
     "output_type": "stream",
     "text": [
      "Start (p): 16, End (p): 25, Start (T): 16, End (T): 16\n",
      "\tValidation loss: 6.86531 - Distance start: 34.00 - Distance end: 34.00 [Time elapsed: 11.64 s]\n",
      "----------------------------------------------------------------------------------------------------\n",
      "Epoch 8/100\n"
     ]
    },
    {
     "data": {
      "application/vnd.jupyter.widget-view+json": {
       "model_id": "",
       "version_major": 2,
       "version_minor": 0
      },
      "text/plain": [
       "HBox(children=(HTML(value=''), FloatProgress(value=0.0, max=313.0), HTML(value='')))"
      ]
     },
     "metadata": {},
     "output_type": "display_data"
    },
    {
     "name": "stdout",
     "output_type": "stream",
     "text": [
      "Start (p): 59, End (p): 52, Start (T): 35, End (T): 37\n",
      "\tLoss: 6.29321 - Distance start: 35 - Distance end: 35 [Time elapsed: 106.35 s]\n"
     ]
    },
    {
     "data": {
      "application/vnd.jupyter.widget-view+json": {
       "model_id": "",
       "version_major": 2,
       "version_minor": 0
      },
      "text/plain": [
       "HBox(children=(HTML(value=''), FloatProgress(value=0.0, max=94.0), HTML(value='')))"
      ]
     },
     "metadata": {},
     "output_type": "display_data"
    },
    {
     "name": "stdout",
     "output_type": "stream",
     "text": [
      "Start (p): 6, End (p): 6, Start (T): 19, End (T): 20\n",
      "\tValidation loss: 6.85963 - Distance start: 33.00 - Distance end: 35.00 [Time elapsed: 11.72 s]\n",
      "----------------------------------------------------------------------------------------------------\n",
      "Epoch 9/100\n"
     ]
    },
    {
     "data": {
      "application/vnd.jupyter.widget-view+json": {
       "model_id": "",
       "version_major": 2,
       "version_minor": 0
      },
      "text/plain": [
       "HBox(children=(HTML(value=''), FloatProgress(value=0.0, max=313.0), HTML(value='')))"
      ]
     },
     "metadata": {},
     "output_type": "display_data"
    },
    {
     "name": "stdout",
     "output_type": "stream",
     "text": [
      "Start (p): 33, End (p): 40, Start (T): 75, End (T): 75\n",
      "\tLoss: 6.14563 - Distance start: 35 - Distance end: 35 [Time elapsed: 108.96 s]\n"
     ]
    },
    {
     "data": {
      "application/vnd.jupyter.widget-view+json": {
       "model_id": "",
       "version_major": 2,
       "version_minor": 0
      },
      "text/plain": [
       "HBox(children=(HTML(value=''), FloatProgress(value=0.0, max=94.0), HTML(value='')))"
      ]
     },
     "metadata": {},
     "output_type": "display_data"
    },
    {
     "name": "stdout",
     "output_type": "stream",
     "text": [
      "Start (p): 8, End (p): 11, Start (T): 30, End (T): 32\n",
      "\tValidation loss: 6.91665 - Distance start: 35.00 - Distance end: 35.00 [Time elapsed: 11.74 s]\n",
      "----------------------------------------------------------------------------------------------------\n",
      "Epoch 10/100\n"
     ]
    },
    {
     "data": {
      "application/vnd.jupyter.widget-view+json": {
       "model_id": "",
       "version_major": 2,
       "version_minor": 0
      },
      "text/plain": [
       "HBox(children=(HTML(value=''), FloatProgress(value=0.0, max=313.0), HTML(value='')))"
      ]
     },
     "metadata": {},
     "output_type": "display_data"
    },
    {
     "name": "stdout",
     "output_type": "stream",
     "text": [
      "Start (p): 107, End (p): 108, Start (T): 95, End (T): 96\n",
      "\tLoss: 6.02395 - Distance start: 34 - Distance end: 34 [Time elapsed: 109.16 s]\n"
     ]
    },
    {
     "data": {
      "application/vnd.jupyter.widget-view+json": {
       "model_id": "",
       "version_major": 2,
       "version_minor": 0
      },
      "text/plain": [
       "HBox(children=(HTML(value=''), FloatProgress(value=0.0, max=94.0), HTML(value='')))"
      ]
     },
     "metadata": {},
     "output_type": "display_data"
    },
    {
     "name": "stdout",
     "output_type": "stream",
     "text": [
      "Start (p): 20, End (p): 20, Start (T): 20, End (T): 22\n",
      "\tValidation loss: 6.95041 - Distance start: 35.00 - Distance end: 36.00 [Time elapsed: 11.86 s]\n",
      "----------------------------------------------------------------------------------------------------\n",
      "Epoch 11/100\n"
     ]
    },
    {
     "data": {
      "application/vnd.jupyter.widget-view+json": {
       "model_id": "",
       "version_major": 2,
       "version_minor": 0
      },
      "text/plain": [
       "HBox(children=(HTML(value=''), FloatProgress(value=0.0, max=313.0), HTML(value='')))"
      ]
     },
     "metadata": {},
     "output_type": "display_data"
    },
    {
     "name": "stdout",
     "output_type": "stream",
     "text": [
      "Start (p): 8, End (p): 14, Start (T): 16, End (T): 16\n",
      "\tLoss: 5.88436 - Distance start: 33 - Distance end: 34 [Time elapsed: 111.32 s]\n"
     ]
    },
    {
     "data": {
      "application/vnd.jupyter.widget-view+json": {
       "model_id": "",
       "version_major": 2,
       "version_minor": 0
      },
      "text/plain": [
       "HBox(children=(HTML(value=''), FloatProgress(value=0.0, max=94.0), HTML(value='')))"
      ]
     },
     "metadata": {},
     "output_type": "display_data"
    },
    {
     "name": "stdout",
     "output_type": "stream",
     "text": [
      "Start (p): 0, End (p): 2, Start (T): 0, End (T): 2\n",
      "\tValidation loss: 6.89500 - Distance start: 35.00 - Distance end: 35.00 [Time elapsed: 11.80 s]\n",
      "----------------------------------------------------------------------------------------------------\n",
      "Epoch 12/100\n"
     ]
    },
    {
     "data": {
      "application/vnd.jupyter.widget-view+json": {
       "model_id": "",
       "version_major": 2,
       "version_minor": 0
      },
      "text/plain": [
       "HBox(children=(HTML(value=''), FloatProgress(value=0.0, max=313.0), HTML(value='')))"
      ]
     },
     "metadata": {},
     "output_type": "display_data"
    },
    {
     "name": "stdout",
     "output_type": "stream",
     "text": [
      "Start (p): 15, End (p): 11, Start (T): 97, End (T): 98\n",
      "\tLoss: 5.77109 - Distance start: 32 - Distance end: 33 [Time elapsed: 95.95 s]\n"
     ]
    },
    {
     "data": {
      "application/vnd.jupyter.widget-view+json": {
       "model_id": "",
       "version_major": 2,
       "version_minor": 0
      },
      "text/plain": [
       "HBox(children=(HTML(value=''), FloatProgress(value=0.0, max=94.0), HTML(value='')))"
      ]
     },
     "metadata": {},
     "output_type": "display_data"
    },
    {
     "name": "stdout",
     "output_type": "stream",
     "text": [
      "Start (p): 11, End (p): 13, Start (T): 35, End (T): 36\n",
      "\tValidation loss: 6.96675 - Distance start: 33.00 - Distance end: 34.00 [Time elapsed: 4.08 s]\n",
      "----------------------------------------------------------------------------------------------------\n",
      "Epoch 13/100\n"
     ]
    },
    {
     "data": {
      "application/vnd.jupyter.widget-view+json": {
       "model_id": "",
       "version_major": 2,
       "version_minor": 0
      },
      "text/plain": [
       "HBox(children=(HTML(value=''), FloatProgress(value=0.0, max=313.0), HTML(value='')))"
      ]
     },
     "metadata": {},
     "output_type": "display_data"
    },
    {
     "name": "stdout",
     "output_type": "stream",
     "text": [
      "Start (p): 40, End (p): 67, Start (T): 92, End (T): 93\n",
      "\tLoss: 5.61458 - Distance start: 32 - Distance end: 32 [Time elapsed: 36.64 s]\n"
     ]
    },
    {
     "data": {
      "application/vnd.jupyter.widget-view+json": {
       "model_id": "",
       "version_major": 2,
       "version_minor": 0
      },
      "text/plain": [
       "HBox(children=(HTML(value=''), FloatProgress(value=0.0, max=94.0), HTML(value='')))"
      ]
     },
     "metadata": {},
     "output_type": "display_data"
    },
    {
     "name": "stdout",
     "output_type": "stream",
     "text": [
      "Start (p): 20, End (p): 45, Start (T): 285, End (T): 286\n",
      "\tValidation loss: 6.87643 - Distance start: 34.00 - Distance end: 33.00 [Time elapsed: 4.27 s]\n",
      "----------------------------------------------------------------------------------------------------\n",
      "Epoch 14/100\n"
     ]
    },
    {
     "data": {
      "application/vnd.jupyter.widget-view+json": {
       "model_id": "",
       "version_major": 2,
       "version_minor": 0
      },
      "text/plain": [
       "HBox(children=(HTML(value=''), FloatProgress(value=0.0, max=313.0), HTML(value='')))"
      ]
     },
     "metadata": {},
     "output_type": "display_data"
    },
    {
     "name": "stdout",
     "output_type": "stream",
     "text": [
      "Start (p): 74, End (p): 75, Start (T): 75, End (T): 75\n",
      "\tLoss: 5.39935 - Distance start: 31 - Distance end: 31 [Time elapsed: 36.71 s]\n"
     ]
    },
    {
     "data": {
      "application/vnd.jupyter.widget-view+json": {
       "model_id": "",
       "version_major": 2,
       "version_minor": 0
      },
      "text/plain": [
       "HBox(children=(HTML(value=''), FloatProgress(value=0.0, max=94.0), HTML(value='')))"
      ]
     },
     "metadata": {},
     "output_type": "display_data"
    },
    {
     "name": "stdout",
     "output_type": "stream",
     "text": [
      "Start (p): 12, End (p): 30, Start (T): 0, End (T): 1\n",
      "\tValidation loss: 6.73237 - Distance start: 33.00 - Distance end: 32.00 [Time elapsed: 4.28 s]\n",
      "----------------------------------------------------------------------------------------------------\n",
      "Epoch 15/100\n"
     ]
    },
    {
     "data": {
      "application/vnd.jupyter.widget-view+json": {
       "model_id": "",
       "version_major": 2,
       "version_minor": 0
      },
      "text/plain": [
       "HBox(children=(HTML(value=''), FloatProgress(value=0.0, max=313.0), HTML(value='')))"
      ]
     },
     "metadata": {},
     "output_type": "display_data"
    },
    {
     "name": "stdout",
     "output_type": "stream",
     "text": [
      "Start (p): 1, End (p): 11, Start (T): 37, End (T): 38\n",
      "\tLoss: 5.23829 - Distance start: 30 - Distance end: 30 [Time elapsed: 37.11 s]\n"
     ]
    },
    {
     "data": {
      "application/vnd.jupyter.widget-view+json": {
       "model_id": "",
       "version_major": 2,
       "version_minor": 0
      },
      "text/plain": [
       "HBox(children=(HTML(value=''), FloatProgress(value=0.0, max=94.0), HTML(value='')))"
      ]
     },
     "metadata": {},
     "output_type": "display_data"
    },
    {
     "name": "stdout",
     "output_type": "stream",
     "text": [
      "Start (p): 44, End (p): 45, Start (T): 107, End (T): 108\n",
      "\tValidation loss: 6.73815 - Distance start: 34.00 - Distance end: 34.00 [Time elapsed: 4.29 s]\n",
      "----------------------------------------------------------------------------------------------------\n",
      "Epoch 16/100\n"
     ]
    },
    {
     "data": {
      "application/vnd.jupyter.widget-view+json": {
       "model_id": "",
       "version_major": 2,
       "version_minor": 0
      },
      "text/plain": [
       "HBox(children=(HTML(value=''), FloatProgress(value=0.0, max=313.0), HTML(value='')))"
      ]
     },
     "metadata": {},
     "output_type": "display_data"
    },
    {
     "name": "stdout",
     "output_type": "stream",
     "text": [
      "Start (p): 160, End (p): 104, Start (T): 87, End (T): 90\n",
      "\tLoss: 5.12539 - Distance start: 30 - Distance end: 30 [Time elapsed: 36.71 s]\n"
     ]
    },
    {
     "data": {
      "application/vnd.jupyter.widget-view+json": {
       "model_id": "",
       "version_major": 2,
       "version_minor": 0
      },
      "text/plain": [
       "HBox(children=(HTML(value=''), FloatProgress(value=0.0, max=94.0), HTML(value='')))"
      ]
     },
     "metadata": {},
     "output_type": "display_data"
    },
    {
     "name": "stdout",
     "output_type": "stream",
     "text": [
      "Start (p): 33, End (p): 9, Start (T): 7, End (T): 9\n",
      "\tValidation loss: 6.70006 - Distance start: 33.00 - Distance end: 34.00 [Time elapsed: 4.25 s]\n",
      "----------------------------------------------------------------------------------------------------\n",
      "Epoch 17/100\n"
     ]
    },
    {
     "data": {
      "application/vnd.jupyter.widget-view+json": {
       "model_id": "",
       "version_major": 2,
       "version_minor": 0
      },
      "text/plain": [
       "HBox(children=(HTML(value=''), FloatProgress(value=0.0, max=313.0), HTML(value='')))"
      ]
     },
     "metadata": {},
     "output_type": "display_data"
    },
    {
     "name": "stdout",
     "output_type": "stream",
     "text": [
      "Start (p): 15, End (p): 22, Start (T): 15, End (T): 16\n",
      "\tLoss: 5.01007 - Distance start: 29 - Distance end: 30 [Time elapsed: 36.79 s]\n"
     ]
    },
    {
     "data": {
      "application/vnd.jupyter.widget-view+json": {
       "model_id": "",
       "version_major": 2,
       "version_minor": 0
      },
      "text/plain": [
       "HBox(children=(HTML(value=''), FloatProgress(value=0.0, max=94.0), HTML(value='')))"
      ]
     },
     "metadata": {},
     "output_type": "display_data"
    },
    {
     "name": "stdout",
     "output_type": "stream",
     "text": [
      "Start (p): 0, End (p): 58, Start (T): 86, End (T): 87\n",
      "\tValidation loss: 6.82358 - Distance start: 34.00 - Distance end: 32.00 [Time elapsed: 4.24 s]\n",
      "----------------------------------------------------------------------------------------------------\n",
      "Epoch 18/100\n"
     ]
    },
    {
     "data": {
      "application/vnd.jupyter.widget-view+json": {
       "model_id": "",
       "version_major": 2,
       "version_minor": 0
      },
      "text/plain": [
       "HBox(children=(HTML(value=''), FloatProgress(value=0.0, max=313.0), HTML(value='')))"
      ]
     },
     "metadata": {},
     "output_type": "display_data"
    },
    {
     "name": "stdout",
     "output_type": "stream",
     "text": [
      "Start (p): 4, End (p): 6, Start (T): 82, End (T): 86\n",
      "\tLoss: 4.91866 - Distance start: 29 - Distance end: 29 [Time elapsed: 36.88 s]\n"
     ]
    },
    {
     "data": {
      "application/vnd.jupyter.widget-view+json": {
       "model_id": "",
       "version_major": 2,
       "version_minor": 0
      },
      "text/plain": [
       "HBox(children=(HTML(value=''), FloatProgress(value=0.0, max=94.0), HTML(value='')))"
      ]
     },
     "metadata": {},
     "output_type": "display_data"
    },
    {
     "name": "stdout",
     "output_type": "stream",
     "text": [
      "Start (p): 8, End (p): 142, Start (T): 222, End (T): 223\n",
      "\tValidation loss: 6.73958 - Distance start: 32.00 - Distance end: 32.00 [Time elapsed: 4.28 s]\n",
      "----------------------------------------------------------------------------------------------------\n",
      "Epoch 19/100\n"
     ]
    },
    {
     "data": {
      "application/vnd.jupyter.widget-view+json": {
       "model_id": "",
       "version_major": 2,
       "version_minor": 0
      },
      "text/plain": [
       "HBox(children=(HTML(value=''), FloatProgress(value=0.0, max=313.0), HTML(value='')))"
      ]
     },
     "metadata": {},
     "output_type": "display_data"
    },
    {
     "name": "stdout",
     "output_type": "stream",
     "text": [
      "Start (p): 55, End (p): 61, Start (T): 55, End (T): 61\n",
      "\tLoss: 4.80497 - Distance start: 29 - Distance end: 29 [Time elapsed: 36.91 s]\n"
     ]
    },
    {
     "data": {
      "application/vnd.jupyter.widget-view+json": {
       "model_id": "",
       "version_major": 2,
       "version_minor": 0
      },
      "text/plain": [
       "HBox(children=(HTML(value=''), FloatProgress(value=0.0, max=94.0), HTML(value='')))"
      ]
     },
     "metadata": {},
     "output_type": "display_data"
    },
    {
     "name": "stdout",
     "output_type": "stream",
     "text": [
      "Start (p): 14, End (p): 18, Start (T): 14, End (T): 18\n",
      "\tValidation loss: 6.80873 - Distance start: 33.00 - Distance end: 33.00 [Time elapsed: 4.27 s]\n",
      "----------------------------------------------------------------------------------------------------\n",
      "Epoch 20/100\n"
     ]
    },
    {
     "data": {
      "application/vnd.jupyter.widget-view+json": {
       "model_id": "",
       "version_major": 2,
       "version_minor": 0
      },
      "text/plain": [
       "HBox(children=(HTML(value=''), FloatProgress(value=0.0, max=313.0), HTML(value='')))"
      ]
     },
     "metadata": {},
     "output_type": "display_data"
    },
    {
     "name": "stdout",
     "output_type": "stream",
     "text": [
      "Start (p): 0, End (p): 5, Start (T): 70, End (T): 76\n",
      "\tLoss: 4.75277 - Distance start: 28 - Distance end: 28 [Time elapsed: 36.68 s]\n"
     ]
    },
    {
     "data": {
      "application/vnd.jupyter.widget-view+json": {
       "model_id": "",
       "version_major": 2,
       "version_minor": 0
      },
      "text/plain": [
       "HBox(children=(HTML(value=''), FloatProgress(value=0.0, max=94.0), HTML(value='')))"
      ]
     },
     "metadata": {},
     "output_type": "display_data"
    },
    {
     "name": "stdout",
     "output_type": "stream",
     "text": [
      "Start (p): 2, End (p): 2, Start (T): 43, End (T): 43\n",
      "\tValidation loss: 6.93565 - Distance start: 33.00 - Distance end: 33.00 [Time elapsed: 4.23 s]\n",
      "----------------------------------------------------------------------------------------------------\n",
      "Epoch 21/100\n"
     ]
    },
    {
     "data": {
      "application/vnd.jupyter.widget-view+json": {
       "model_id": "",
       "version_major": 2,
       "version_minor": 0
      },
      "text/plain": [
       "HBox(children=(HTML(value=''), FloatProgress(value=0.0, max=313.0), HTML(value='')))"
      ]
     },
     "metadata": {},
     "output_type": "display_data"
    },
    {
     "name": "stdout",
     "output_type": "stream",
     "text": [
      "Start (p): 53, End (p): 34, Start (T): 34, End (T): 34\n",
      "\tLoss: 4.68482 - Distance start: 28 - Distance end: 28 [Time elapsed: 36.68 s]\n"
     ]
    },
    {
     "data": {
      "application/vnd.jupyter.widget-view+json": {
       "model_id": "",
       "version_major": 2,
       "version_minor": 0
      },
      "text/plain": [
       "HBox(children=(HTML(value=''), FloatProgress(value=0.0, max=94.0), HTML(value='')))"
      ]
     },
     "metadata": {},
     "output_type": "display_data"
    },
    {
     "name": "stdout",
     "output_type": "stream",
     "text": [
      "Start (p): 0, End (p): 52, Start (T): 92, End (T): 95\n",
      "\tValidation loss: 6.78162 - Distance start: 33.00 - Distance end: 33.00 [Time elapsed: 4.26 s]\n",
      "----------------------------------------------------------------------------------------------------\n",
      "Epoch 22/100\n"
     ]
    },
    {
     "data": {
      "application/vnd.jupyter.widget-view+json": {
       "model_id": "",
       "version_major": 2,
       "version_minor": 0
      },
      "text/plain": [
       "HBox(children=(HTML(value=''), FloatProgress(value=0.0, max=313.0), HTML(value='')))"
      ]
     },
     "metadata": {},
     "output_type": "display_data"
    },
    {
     "name": "stdout",
     "output_type": "stream",
     "text": [
      "Start (p): 0, End (p): 47, Start (T): 43, End (T): 47\n",
      "\tLoss: 4.59838 - Distance start: 27 - Distance end: 28 [Time elapsed: 36.59 s]\n"
     ]
    },
    {
     "data": {
      "application/vnd.jupyter.widget-view+json": {
       "model_id": "",
       "version_major": 2,
       "version_minor": 0
      },
      "text/plain": [
       "HBox(children=(HTML(value=''), FloatProgress(value=0.0, max=94.0), HTML(value='')))"
      ]
     },
     "metadata": {},
     "output_type": "display_data"
    },
    {
     "name": "stdout",
     "output_type": "stream",
     "text": [
      "Start (p): 26, End (p): 83, Start (T): 115, End (T): 115\n",
      "\tValidation loss: 6.95624 - Distance start: 33.00 - Distance end: 32.00 [Time elapsed: 4.22 s]\n",
      "----------------------------------------------------------------------------------------------------\n",
      "Epoch 23/100\n"
     ]
    },
    {
     "data": {
      "application/vnd.jupyter.widget-view+json": {
       "model_id": "",
       "version_major": 2,
       "version_minor": 0
      },
      "text/plain": [
       "HBox(children=(HTML(value=''), FloatProgress(value=0.0, max=313.0), HTML(value='')))"
      ]
     },
     "metadata": {},
     "output_type": "display_data"
    },
    {
     "name": "stdout",
     "output_type": "stream",
     "text": [
      "Start (p): 126, End (p): 117, Start (T): 39, End (T): 45\n",
      "\tLoss: 4.52437 - Distance start: 27 - Distance end: 27 [Time elapsed: 36.89 s]\n"
     ]
    },
    {
     "data": {
      "application/vnd.jupyter.widget-view+json": {
       "model_id": "",
       "version_major": 2,
       "version_minor": 0
      },
      "text/plain": [
       "HBox(children=(HTML(value=''), FloatProgress(value=0.0, max=94.0), HTML(value='')))"
      ]
     },
     "metadata": {},
     "output_type": "display_data"
    },
    {
     "name": "stdout",
     "output_type": "stream",
     "text": [
      "Start (p): 75, End (p): 77, Start (T): 18, End (T): 21\n",
      "\tValidation loss: 7.03176 - Distance start: 33.00 - Distance end: 32.00 [Time elapsed: 4.30 s]\n",
      "----------------------------------------------------------------------------------------------------\n",
      "Epoch 24/100\n"
     ]
    },
    {
     "data": {
      "application/vnd.jupyter.widget-view+json": {
       "model_id": "",
       "version_major": 2,
       "version_minor": 0
      },
      "text/plain": [
       "HBox(children=(HTML(value=''), FloatProgress(value=0.0, max=313.0), HTML(value='')))"
      ]
     },
     "metadata": {},
     "output_type": "display_data"
    },
    {
     "name": "stdout",
     "output_type": "stream",
     "text": [
      "Start (p): 6, End (p): 7, Start (T): 6, End (T): 7\n",
      "\tLoss: 4.46710 - Distance start: 27 - Distance end: 27 [Time elapsed: 36.60 s]\n"
     ]
    },
    {
     "data": {
      "application/vnd.jupyter.widget-view+json": {
       "model_id": "",
       "version_major": 2,
       "version_minor": 0
      },
      "text/plain": [
       "HBox(children=(HTML(value=''), FloatProgress(value=0.0, max=94.0), HTML(value='')))"
      ]
     },
     "metadata": {},
     "output_type": "display_data"
    },
    {
     "name": "stdout",
     "output_type": "stream",
     "text": [
      "Start (p): 12, End (p): 15, Start (T): 20, End (T): 21\n",
      "\tValidation loss: 7.06623 - Distance start: 33.00 - Distance end: 33.00 [Time elapsed: 4.26 s]\n",
      "----------------------------------------------------------------------------------------------------\n",
      "Epoch 25/100\n"
     ]
    },
    {
     "data": {
      "application/vnd.jupyter.widget-view+json": {
       "model_id": "",
       "version_major": 2,
       "version_minor": 0
      },
      "text/plain": [
       "HBox(children=(HTML(value=''), FloatProgress(value=0.0, max=313.0), HTML(value='')))"
      ]
     },
     "metadata": {},
     "output_type": "display_data"
    },
    {
     "name": "stdout",
     "output_type": "stream",
     "text": [
      "Start (p): 45, End (p): 46, Start (T): 45, End (T): 46\n",
      "\tLoss: 4.40651 - Distance start: 27 - Distance end: 27 [Time elapsed: 36.35 s]\n"
     ]
    },
    {
     "data": {
      "application/vnd.jupyter.widget-view+json": {
       "model_id": "",
       "version_major": 2,
       "version_minor": 0
      },
      "text/plain": [
       "HBox(children=(HTML(value=''), FloatProgress(value=0.0, max=94.0), HTML(value='')))"
      ]
     },
     "metadata": {},
     "output_type": "display_data"
    },
    {
     "name": "stdout",
     "output_type": "stream",
     "text": [
      "Start (p): 1, End (p): 1, Start (T): 8, End (T): 9\n",
      "\tValidation loss: 7.12683 - Distance start: 32.00 - Distance end: 32.00 [Time elapsed: 4.22 s]\n",
      "----------------------------------------------------------------------------------------------------\n",
      "Epoch 26/100\n"
     ]
    },
    {
     "data": {
      "application/vnd.jupyter.widget-view+json": {
       "model_id": "",
       "version_major": 2,
       "version_minor": 0
      },
      "text/plain": [
       "HBox(children=(HTML(value=''), FloatProgress(value=0.0, max=313.0), HTML(value='')))"
      ]
     },
     "metadata": {},
     "output_type": "display_data"
    },
    {
     "name": "stdout",
     "output_type": "stream",
     "text": [
      "Start (p): 115, End (p): 5, Start (T): 171, End (T): 174\n",
      "\tLoss: 4.33829 - Distance start: 26 - Distance end: 26 [Time elapsed: 36.58 s]\n"
     ]
    },
    {
     "data": {
      "application/vnd.jupyter.widget-view+json": {
       "model_id": "",
       "version_major": 2,
       "version_minor": 0
      },
      "text/plain": [
       "HBox(children=(HTML(value=''), FloatProgress(value=0.0, max=94.0), HTML(value='')))"
      ]
     },
     "metadata": {},
     "output_type": "display_data"
    },
    {
     "name": "stdout",
     "output_type": "stream",
     "text": [
      "Start (p): 6, End (p): 47, Start (T): 72, End (T): 76\n",
      "\tValidation loss: 7.15982 - Distance start: 32.00 - Distance end: 31.00 [Time elapsed: 4.23 s]\n",
      "----------------------------------------------------------------------------------------------------\n",
      "Epoch 27/100\n"
     ]
    },
    {
     "data": {
      "application/vnd.jupyter.widget-view+json": {
       "model_id": "",
       "version_major": 2,
       "version_minor": 0
      },
      "text/plain": [
       "HBox(children=(HTML(value=''), FloatProgress(value=0.0, max=313.0), HTML(value='')))"
      ]
     },
     "metadata": {},
     "output_type": "display_data"
    },
    {
     "name": "stdout",
     "output_type": "stream",
     "text": [
      "Start (p): 43, End (p): 37, Start (T): 128, End (T): 142\n",
      "\tLoss: 4.31186 - Distance start: 26 - Distance end: 26 [Time elapsed: 36.65 s]\n"
     ]
    },
    {
     "data": {
      "application/vnd.jupyter.widget-view+json": {
       "model_id": "",
       "version_major": 2,
       "version_minor": 0
      },
      "text/plain": [
       "HBox(children=(HTML(value=''), FloatProgress(value=0.0, max=94.0), HTML(value='')))"
      ]
     },
     "metadata": {},
     "output_type": "display_data"
    },
    {
     "name": "stdout",
     "output_type": "stream",
     "text": [
      "Start (p): 3, End (p): 3, Start (T): 36, End (T): 37\n",
      "\tValidation loss: 7.39431 - Distance start: 32.00 - Distance end: 32.00 [Time elapsed: 4.25 s]\n",
      "----------------------------------------------------------------------------------------------------\n",
      "Epoch 28/100\n"
     ]
    },
    {
     "data": {
      "application/vnd.jupyter.widget-view+json": {
       "model_id": "",
       "version_major": 2,
       "version_minor": 0
      },
      "text/plain": [
       "HBox(children=(HTML(value=''), FloatProgress(value=0.0, max=313.0), HTML(value='')))"
      ]
     },
     "metadata": {},
     "output_type": "display_data"
    },
    {
     "name": "stdout",
     "output_type": "stream",
     "text": [
      "Start (p): 69, End (p): 70, Start (T): 109, End (T): 111\n",
      "\tLoss: 4.24072 - Distance start: 26 - Distance end: 26 [Time elapsed: 36.63 s]\n"
     ]
    },
    {
     "data": {
      "application/vnd.jupyter.widget-view+json": {
       "model_id": "",
       "version_major": 2,
       "version_minor": 0
      },
      "text/plain": [
       "HBox(children=(HTML(value=''), FloatProgress(value=0.0, max=94.0), HTML(value='')))"
      ]
     },
     "metadata": {},
     "output_type": "display_data"
    },
    {
     "name": "stdout",
     "output_type": "stream",
     "text": [
      "Start (p): 3, End (p): 1, Start (T): 18, End (T): 18\n",
      "\tValidation loss: 7.13809 - Distance start: 33.00 - Distance end: 33.00 [Time elapsed: 4.23 s]\n",
      "----------------------------------------------------------------------------------------------------\n",
      "Epoch 29/100\n"
     ]
    },
    {
     "data": {
      "application/vnd.jupyter.widget-view+json": {
       "model_id": "",
       "version_major": 2,
       "version_minor": 0
      },
      "text/plain": [
       "HBox(children=(HTML(value=''), FloatProgress(value=0.0, max=313.0), HTML(value='')))"
      ]
     },
     "metadata": {},
     "output_type": "display_data"
    },
    {
     "name": "stdout",
     "output_type": "stream",
     "text": [
      "Start (p): 61, End (p): 30, Start (T): 61, End (T): 99\n",
      "\tLoss: 4.17142 - Distance start: 26 - Distance end: 26 [Time elapsed: 36.31 s]\n"
     ]
    },
    {
     "data": {
      "application/vnd.jupyter.widget-view+json": {
       "model_id": "",
       "version_major": 2,
       "version_minor": 0
      },
      "text/plain": [
       "HBox(children=(HTML(value=''), FloatProgress(value=0.0, max=94.0), HTML(value='')))"
      ]
     },
     "metadata": {},
     "output_type": "display_data"
    },
    {
     "name": "stdout",
     "output_type": "stream",
     "text": [
      "Start (p): 66, End (p): 69, Start (T): 68, End (T): 69\n",
      "\tValidation loss: 7.30322 - Distance start: 32.00 - Distance end: 32.00 [Time elapsed: 4.26 s]\n",
      "----------------------------------------------------------------------------------------------------\n",
      "Epoch 30/100\n"
     ]
    },
    {
     "data": {
      "application/vnd.jupyter.widget-view+json": {
       "model_id": "",
       "version_major": 2,
       "version_minor": 0
      },
      "text/plain": [
       "HBox(children=(HTML(value=''), FloatProgress(value=0.0, max=313.0), HTML(value='')))"
      ]
     },
     "metadata": {},
     "output_type": "display_data"
    },
    {
     "name": "stdout",
     "output_type": "stream",
     "text": [
      "Start (p): 51, End (p): 51, Start (T): 19, End (T): 20\n",
      "\tLoss: 4.10519 - Distance start: 25 - Distance end: 25 [Time elapsed: 36.86 s]\n"
     ]
    },
    {
     "data": {
      "application/vnd.jupyter.widget-view+json": {
       "model_id": "",
       "version_major": 2,
       "version_minor": 0
      },
      "text/plain": [
       "HBox(children=(HTML(value=''), FloatProgress(value=0.0, max=94.0), HTML(value='')))"
      ]
     },
     "metadata": {},
     "output_type": "display_data"
    },
    {
     "name": "stdout",
     "output_type": "stream",
     "text": [
      "Start (p): 41, End (p): 42, Start (T): 3, End (T): 4\n",
      "\tValidation loss: 7.19459 - Distance start: 32.00 - Distance end: 32.00 [Time elapsed: 4.22 s]\n",
      "----------------------------------------------------------------------------------------------------\n",
      "Epoch 31/100\n"
     ]
    },
    {
     "data": {
      "application/vnd.jupyter.widget-view+json": {
       "model_id": "",
       "version_major": 2,
       "version_minor": 0
      },
      "text/plain": [
       "HBox(children=(HTML(value=''), FloatProgress(value=0.0, max=313.0), HTML(value='')))"
      ]
     },
     "metadata": {},
     "output_type": "display_data"
    },
    {
     "name": "stdout",
     "output_type": "stream",
     "text": [
      "Start (p): 31, End (p): 32, Start (T): 0, End (T): 2\n",
      "\tLoss: 4.06801 - Distance start: 25 - Distance end: 25 [Time elapsed: 36.79 s]\n"
     ]
    },
    {
     "data": {
      "application/vnd.jupyter.widget-view+json": {
       "model_id": "",
       "version_major": 2,
       "version_minor": 0
      },
      "text/plain": [
       "HBox(children=(HTML(value=''), FloatProgress(value=0.0, max=94.0), HTML(value='')))"
      ]
     },
     "metadata": {},
     "output_type": "display_data"
    },
    {
     "name": "stdout",
     "output_type": "stream",
     "text": [
      "Start (p): 29, End (p): 4, Start (T): 50, End (T): 50\n",
      "\tValidation loss: 7.43723 - Distance start: 31.00 - Distance end: 32.00 [Time elapsed: 4.17 s]\n",
      "----------------------------------------------------------------------------------------------------\n",
      "Epoch 32/100\n"
     ]
    },
    {
     "data": {
      "application/vnd.jupyter.widget-view+json": {
       "model_id": "",
       "version_major": 2,
       "version_minor": 0
      },
      "text/plain": [
       "HBox(children=(HTML(value=''), FloatProgress(value=0.0, max=313.0), HTML(value='')))"
      ]
     },
     "metadata": {},
     "output_type": "display_data"
    },
    {
     "name": "stdout",
     "output_type": "stream",
     "text": [
      "Start (p): 16, End (p): 22, Start (T): 18, End (T): 19\n",
      "\tLoss: 4.02303 - Distance start: 24 - Distance end: 25 [Time elapsed: 36.64 s]\n"
     ]
    },
    {
     "data": {
      "application/vnd.jupyter.widget-view+json": {
       "model_id": "",
       "version_major": 2,
       "version_minor": 0
      },
      "text/plain": [
       "HBox(children=(HTML(value=''), FloatProgress(value=0.0, max=94.0), HTML(value='')))"
      ]
     },
     "metadata": {},
     "output_type": "display_data"
    },
    {
     "name": "stdout",
     "output_type": "stream",
     "text": [
      "Start (p): 72, End (p): 122, Start (T): 40, End (T): 42\n",
      "\tValidation loss: 7.39556 - Distance start: 32.00 - Distance end: 31.00 [Time elapsed: 4.24 s]\n",
      "----------------------------------------------------------------------------------------------------\n",
      "Epoch 33/100\n"
     ]
    },
    {
     "data": {
      "application/vnd.jupyter.widget-view+json": {
       "model_id": "",
       "version_major": 2,
       "version_minor": 0
      },
      "text/plain": [
       "HBox(children=(HTML(value=''), FloatProgress(value=0.0, max=313.0), HTML(value='')))"
      ]
     },
     "metadata": {},
     "output_type": "display_data"
    },
    {
     "name": "stdout",
     "output_type": "stream",
     "text": [
      "Start (p): 185, End (p): 186, Start (T): 23, End (T): 34\n",
      "\tLoss: 3.94810 - Distance start: 24 - Distance end: 24 [Time elapsed: 36.78 s]\n"
     ]
    },
    {
     "data": {
      "application/vnd.jupyter.widget-view+json": {
       "model_id": "",
       "version_major": 2,
       "version_minor": 0
      },
      "text/plain": [
       "HBox(children=(HTML(value=''), FloatProgress(value=0.0, max=94.0), HTML(value='')))"
      ]
     },
     "metadata": {},
     "output_type": "display_data"
    },
    {
     "name": "stdout",
     "output_type": "stream",
     "text": [
      "Start (p): 26, End (p): 26, Start (T): 41, End (T): 42\n",
      "\tValidation loss: 7.73571 - Distance start: 32.00 - Distance end: 32.00 [Time elapsed: 4.18 s]\n",
      "----------------------------------------------------------------------------------------------------\n",
      "Epoch 34/100\n"
     ]
    },
    {
     "data": {
      "application/vnd.jupyter.widget-view+json": {
       "model_id": "",
       "version_major": 2,
       "version_minor": 0
      },
      "text/plain": [
       "HBox(children=(HTML(value=''), FloatProgress(value=0.0, max=313.0), HTML(value='')))"
      ]
     },
     "metadata": {},
     "output_type": "display_data"
    },
    {
     "name": "stdout",
     "output_type": "stream",
     "text": [
      "Start (p): 1, End (p): 27, Start (T): 1, End (T): 2\n",
      "\tLoss: 3.89757 - Distance start: 24 - Distance end: 24 [Time elapsed: 36.58 s]\n"
     ]
    },
    {
     "data": {
      "application/vnd.jupyter.widget-view+json": {
       "model_id": "",
       "version_major": 2,
       "version_minor": 0
      },
      "text/plain": [
       "HBox(children=(HTML(value=''), FloatProgress(value=0.0, max=94.0), HTML(value='')))"
      ]
     },
     "metadata": {},
     "output_type": "display_data"
    },
    {
     "name": "stdout",
     "output_type": "stream",
     "text": [
      "Start (p): 16, End (p): 1, Start (T): 16, End (T): 19\n",
      "\tValidation loss: 7.62496 - Distance start: 32.00 - Distance end: 32.00 [Time elapsed: 4.20 s]\n",
      "----------------------------------------------------------------------------------------------------\n",
      "Epoch 35/100\n"
     ]
    },
    {
     "data": {
      "application/vnd.jupyter.widget-view+json": {
       "model_id": "",
       "version_major": 2,
       "version_minor": 0
      },
      "text/plain": [
       "HBox(children=(HTML(value=''), FloatProgress(value=0.0, max=313.0), HTML(value='')))"
      ]
     },
     "metadata": {},
     "output_type": "display_data"
    },
    {
     "name": "stdout",
     "output_type": "stream",
     "text": [
      "Start (p): 1, End (p): 20, Start (T): 1, End (T): 2\n",
      "\tLoss: 3.88929 - Distance start: 24 - Distance end: 24 [Time elapsed: 36.84 s]\n"
     ]
    },
    {
     "data": {
      "application/vnd.jupyter.widget-view+json": {
       "model_id": "",
       "version_major": 2,
       "version_minor": 0
      },
      "text/plain": [
       "HBox(children=(HTML(value=''), FloatProgress(value=0.0, max=94.0), HTML(value='')))"
      ]
     },
     "metadata": {},
     "output_type": "display_data"
    },
    {
     "name": "stdout",
     "output_type": "stream",
     "text": [
      "Start (p): 40, End (p): 44, Start (T): 9, End (T): 12\n",
      "\tValidation loss: 7.62533 - Distance start: 31.00 - Distance end: 33.00 [Time elapsed: 4.24 s]\n",
      "----------------------------------------------------------------------------------------------------\n",
      "Epoch 36/100\n"
     ]
    },
    {
     "data": {
      "application/vnd.jupyter.widget-view+json": {
       "model_id": "",
       "version_major": 2,
       "version_minor": 0
      },
      "text/plain": [
       "HBox(children=(HTML(value=''), FloatProgress(value=0.0, max=313.0), HTML(value='')))"
      ]
     },
     "metadata": {},
     "output_type": "display_data"
    },
    {
     "name": "stdout",
     "output_type": "stream",
     "text": [
      "Start (p): 37, End (p): 38, Start (T): 37, End (T): 38\n",
      "\tLoss: 3.86908 - Distance start: 24 - Distance end: 24 [Time elapsed: 36.65 s]\n"
     ]
    },
    {
     "data": {
      "application/vnd.jupyter.widget-view+json": {
       "model_id": "",
       "version_major": 2,
       "version_minor": 0
      },
      "text/plain": [
       "HBox(children=(HTML(value=''), FloatProgress(value=0.0, max=94.0), HTML(value='')))"
      ]
     },
     "metadata": {},
     "output_type": "display_data"
    },
    {
     "name": "stdout",
     "output_type": "stream",
     "text": [
      "Start (p): 26, End (p): 27, Start (T): 113, End (T): 113\n",
      "\tValidation loss: 7.63650 - Distance start: 32.00 - Distance end: 32.00 [Time elapsed: 4.21 s]\n",
      "----------------------------------------------------------------------------------------------------\n",
      "Epoch 37/100\n"
     ]
    },
    {
     "data": {
      "application/vnd.jupyter.widget-view+json": {
       "model_id": "",
       "version_major": 2,
       "version_minor": 0
      },
      "text/plain": [
       "HBox(children=(HTML(value=''), FloatProgress(value=0.0, max=313.0), HTML(value='')))"
      ]
     },
     "metadata": {},
     "output_type": "display_data"
    },
    {
     "name": "stdout",
     "output_type": "stream",
     "text": [
      "Start (p): 132, End (p): 120, Start (T): 40, End (T): 42\n",
      "\tLoss: 3.79643 - Distance start: 23 - Distance end: 23 [Time elapsed: 36.74 s]\n"
     ]
    },
    {
     "data": {
      "application/vnd.jupyter.widget-view+json": {
       "model_id": "",
       "version_major": 2,
       "version_minor": 0
      },
      "text/plain": [
       "HBox(children=(HTML(value=''), FloatProgress(value=0.0, max=94.0), HTML(value='')))"
      ]
     },
     "metadata": {},
     "output_type": "display_data"
    },
    {
     "name": "stdout",
     "output_type": "stream",
     "text": [
      "Start (p): 29, End (p): 36, Start (T): 29, End (T): 31\n",
      "\tValidation loss: 7.68698 - Distance start: 32.00 - Distance end: 34.00 [Time elapsed: 4.25 s]\n",
      "----------------------------------------------------------------------------------------------------\n",
      "Epoch 38/100\n"
     ]
    },
    {
     "data": {
      "application/vnd.jupyter.widget-view+json": {
       "model_id": "",
       "version_major": 2,
       "version_minor": 0
      },
      "text/plain": [
       "HBox(children=(HTML(value=''), FloatProgress(value=0.0, max=313.0), HTML(value='')))"
      ]
     },
     "metadata": {},
     "output_type": "display_data"
    },
    {
     "name": "stdout",
     "output_type": "stream",
     "text": [
      "Start (p): 85, End (p): 86, Start (T): 85, End (T): 86\n",
      "\tLoss: 3.72313 - Distance start: 23 - Distance end: 23 [Time elapsed: 36.38 s]\n"
     ]
    },
    {
     "data": {
      "application/vnd.jupyter.widget-view+json": {
       "model_id": "",
       "version_major": 2,
       "version_minor": 0
      },
      "text/plain": [
       "HBox(children=(HTML(value=''), FloatProgress(value=0.0, max=94.0), HTML(value='')))"
      ]
     },
     "metadata": {},
     "output_type": "display_data"
    },
    {
     "name": "stdout",
     "output_type": "stream",
     "text": [
      "Start (p): 14, End (p): 15, Start (T): 111, End (T): 113\n",
      "\tValidation loss: 7.84459 - Distance start: 31.00 - Distance end: 33.00 [Time elapsed: 4.27 s]\n",
      "----------------------------------------------------------------------------------------------------\n",
      "Epoch 39/100\n"
     ]
    },
    {
     "data": {
      "application/vnd.jupyter.widget-view+json": {
       "model_id": "",
       "version_major": 2,
       "version_minor": 0
      },
      "text/plain": [
       "HBox(children=(HTML(value=''), FloatProgress(value=0.0, max=313.0), HTML(value='')))"
      ]
     },
     "metadata": {},
     "output_type": "display_data"
    },
    {
     "name": "stdout",
     "output_type": "stream",
     "text": [
      "Start (p): 0, End (p): 0, Start (T): 0, End (T): 0\n",
      "\tLoss: 3.72567 - Distance start: 23 - Distance end: 23 [Time elapsed: 36.78 s]\n"
     ]
    },
    {
     "data": {
      "application/vnd.jupyter.widget-view+json": {
       "model_id": "",
       "version_major": 2,
       "version_minor": 0
      },
      "text/plain": [
       "HBox(children=(HTML(value=''), FloatProgress(value=0.0, max=94.0), HTML(value='')))"
      ]
     },
     "metadata": {},
     "output_type": "display_data"
    },
    {
     "name": "stdout",
     "output_type": "stream",
     "text": [
      "Start (p): 101, End (p): 63, Start (T): 122, End (T): 123\n",
      "\tValidation loss: 7.78774 - Distance start: 32.00 - Distance end: 32.00 [Time elapsed: 4.27 s]\n",
      "----------------------------------------------------------------------------------------------------\n",
      "Epoch 40/100\n"
     ]
    },
    {
     "data": {
      "application/vnd.jupyter.widget-view+json": {
       "model_id": "",
       "version_major": 2,
       "version_minor": 0
      },
      "text/plain": [
       "HBox(children=(HTML(value=''), FloatProgress(value=0.0, max=313.0), HTML(value='')))"
      ]
     },
     "metadata": {},
     "output_type": "display_data"
    },
    {
     "name": "stdout",
     "output_type": "stream",
     "text": [
      "Start (p): 7, End (p): 28, Start (T): 27, End (T): 28\n",
      "\tLoss: 3.62329 - Distance start: 22 - Distance end: 22 [Time elapsed: 36.49 s]\n"
     ]
    },
    {
     "data": {
      "application/vnd.jupyter.widget-view+json": {
       "model_id": "",
       "version_major": 2,
       "version_minor": 0
      },
      "text/plain": [
       "HBox(children=(HTML(value=''), FloatProgress(value=0.0, max=94.0), HTML(value='')))"
      ]
     },
     "metadata": {},
     "output_type": "display_data"
    },
    {
     "name": "stdout",
     "output_type": "stream",
     "text": [
      "Start (p): 77, End (p): 35, Start (T): 11, End (T): 11\n",
      "\tValidation loss: 8.03576 - Distance start: 33.00 - Distance end: 33.00 [Time elapsed: 4.21 s]\n",
      "----------------------------------------------------------------------------------------------------\n",
      "Epoch 41/100\n"
     ]
    },
    {
     "data": {
      "application/vnd.jupyter.widget-view+json": {
       "model_id": "",
       "version_major": 2,
       "version_minor": 0
      },
      "text/plain": [
       "HBox(children=(HTML(value=''), FloatProgress(value=0.0, max=313.0), HTML(value='')))"
      ]
     },
     "metadata": {},
     "output_type": "display_data"
    },
    {
     "name": "stdout",
     "output_type": "stream",
     "text": [
      "Start (p): 6, End (p): 12, Start (T): 6, End (T): 12\n",
      "\tLoss: 3.60884 - Distance start: 22 - Distance end: 22 [Time elapsed: 36.82 s]\n"
     ]
    },
    {
     "data": {
      "application/vnd.jupyter.widget-view+json": {
       "model_id": "",
       "version_major": 2,
       "version_minor": 0
      },
      "text/plain": [
       "HBox(children=(HTML(value=''), FloatProgress(value=0.0, max=94.0), HTML(value='')))"
      ]
     },
     "metadata": {},
     "output_type": "display_data"
    },
    {
     "name": "stdout",
     "output_type": "stream",
     "text": [
      "Start (p): 87, End (p): 25, Start (T): 88, End (T): 90\n",
      "\tValidation loss: 8.10044 - Distance start: 32.00 - Distance end: 33.00 [Time elapsed: 4.23 s]\n",
      "----------------------------------------------------------------------------------------------------\n",
      "Epoch 42/100\n"
     ]
    },
    {
     "data": {
      "application/vnd.jupyter.widget-view+json": {
       "model_id": "",
       "version_major": 2,
       "version_minor": 0
      },
      "text/plain": [
       "HBox(children=(HTML(value=''), FloatProgress(value=0.0, max=313.0), HTML(value='')))"
      ]
     },
     "metadata": {},
     "output_type": "display_data"
    },
    {
     "name": "stdout",
     "output_type": "stream",
     "text": [
      "Start (p): 16, End (p): 5, Start (T): 16, End (T): 18\n",
      "\tLoss: 3.57909 - Distance start: 22 - Distance end: 23 [Time elapsed: 36.64 s]\n"
     ]
    },
    {
     "data": {
      "application/vnd.jupyter.widget-view+json": {
       "model_id": "",
       "version_major": 2,
       "version_minor": 0
      },
      "text/plain": [
       "HBox(children=(HTML(value=''), FloatProgress(value=0.0, max=94.0), HTML(value='')))"
      ]
     },
     "metadata": {},
     "output_type": "display_data"
    },
    {
     "name": "stdout",
     "output_type": "stream",
     "text": [
      "Start (p): 112, End (p): 116, Start (T): 68, End (T): 69\n",
      "\tValidation loss: 8.32521 - Distance start: 31.00 - Distance end: 32.00 [Time elapsed: 4.28 s]\n",
      "----------------------------------------------------------------------------------------------------\n",
      "Epoch 43/100\n"
     ]
    },
    {
     "data": {
      "application/vnd.jupyter.widget-view+json": {
       "model_id": "",
       "version_major": 2,
       "version_minor": 0
      },
      "text/plain": [
       "HBox(children=(HTML(value=''), FloatProgress(value=0.0, max=313.0), HTML(value='')))"
      ]
     },
     "metadata": {},
     "output_type": "display_data"
    },
    {
     "name": "stdout",
     "output_type": "stream",
     "text": [
      "Start (p): 6, End (p): 85, Start (T): 30, End (T): 31\n",
      "\tLoss: 3.55529 - Distance start: 22 - Distance end: 22 [Time elapsed: 36.53 s]\n"
     ]
    },
    {
     "data": {
      "application/vnd.jupyter.widget-view+json": {
       "model_id": "",
       "version_major": 2,
       "version_minor": 0
      },
      "text/plain": [
       "HBox(children=(HTML(value=''), FloatProgress(value=0.0, max=94.0), HTML(value='')))"
      ]
     },
     "metadata": {},
     "output_type": "display_data"
    },
    {
     "name": "stdout",
     "output_type": "stream",
     "text": [
      "Start (p): 69, End (p): 70, Start (T): 75, End (T): 77\n",
      "\tValidation loss: 7.98856 - Distance start: 32.00 - Distance end: 32.00 [Time elapsed: 4.23 s]\n",
      "----------------------------------------------------------------------------------------------------\n",
      "Epoch 44/100\n"
     ]
    },
    {
     "data": {
      "application/vnd.jupyter.widget-view+json": {
       "model_id": "",
       "version_major": 2,
       "version_minor": 0
      },
      "text/plain": [
       "HBox(children=(HTML(value=''), FloatProgress(value=0.0, max=313.0), HTML(value='')))"
      ]
     },
     "metadata": {},
     "output_type": "display_data"
    },
    {
     "name": "stdout",
     "output_type": "stream",
     "text": [
      "Start (p): 77, End (p): 148, Start (T): 54, End (T): 55\n",
      "\tLoss: 3.51295 - Distance start: 22 - Distance end: 22 [Time elapsed: 36.37 s]\n"
     ]
    },
    {
     "data": {
      "application/vnd.jupyter.widget-view+json": {
       "model_id": "",
       "version_major": 2,
       "version_minor": 0
      },
      "text/plain": [
       "HBox(children=(HTML(value=''), FloatProgress(value=0.0, max=94.0), HTML(value='')))"
      ]
     },
     "metadata": {},
     "output_type": "display_data"
    },
    {
     "name": "stdout",
     "output_type": "stream",
     "text": [
      "Start (p): 9, End (p): 7, Start (T): 47, End (T): 47\n",
      "\tValidation loss: 8.12136 - Distance start: 32.00 - Distance end: 32.00 [Time elapsed: 4.22 s]\n",
      "----------------------------------------------------------------------------------------------------\n",
      "Epoch 45/100\n"
     ]
    },
    {
     "data": {
      "application/vnd.jupyter.widget-view+json": {
       "model_id": "",
       "version_major": 2,
       "version_minor": 0
      },
      "text/plain": [
       "HBox(children=(HTML(value=''), FloatProgress(value=0.0, max=313.0), HTML(value='')))"
      ]
     },
     "metadata": {},
     "output_type": "display_data"
    },
    {
     "name": "stdout",
     "output_type": "stream",
     "text": [
      "Start (p): 72, End (p): 66, Start (T): 69, End (T): 70\n",
      "\tLoss: 3.47308 - Distance start: 21 - Distance end: 22 [Time elapsed: 36.63 s]\n"
     ]
    },
    {
     "data": {
      "application/vnd.jupyter.widget-view+json": {
       "model_id": "",
       "version_major": 2,
       "version_minor": 0
      },
      "text/plain": [
       "HBox(children=(HTML(value=''), FloatProgress(value=0.0, max=94.0), HTML(value='')))"
      ]
     },
     "metadata": {},
     "output_type": "display_data"
    },
    {
     "name": "stdout",
     "output_type": "stream",
     "text": [
      "Start (p): 0, End (p): 2, Start (T): 65, End (T): 66\n",
      "\tValidation loss: 8.18003 - Distance start: 32.00 - Distance end: 33.00 [Time elapsed: 4.21 s]\n",
      "----------------------------------------------------------------------------------------------------\n",
      "Epoch 46/100\n"
     ]
    },
    {
     "data": {
      "application/vnd.jupyter.widget-view+json": {
       "model_id": "",
       "version_major": 2,
       "version_minor": 0
      },
      "text/plain": [
       "HBox(children=(HTML(value=''), FloatProgress(value=0.0, max=313.0), HTML(value='')))"
      ]
     },
     "metadata": {},
     "output_type": "display_data"
    },
    {
     "name": "stdout",
     "output_type": "stream",
     "text": [
      "Start (p): 31, End (p): 6, Start (T): 5, End (T): 6\n",
      "\tLoss: 3.45379 - Distance start: 21 - Distance end: 22 [Time elapsed: 36.60 s]\n"
     ]
    },
    {
     "data": {
      "application/vnd.jupyter.widget-view+json": {
       "model_id": "",
       "version_major": 2,
       "version_minor": 0
      },
      "text/plain": [
       "HBox(children=(HTML(value=''), FloatProgress(value=0.0, max=94.0), HTML(value='')))"
      ]
     },
     "metadata": {},
     "output_type": "display_data"
    },
    {
     "name": "stdout",
     "output_type": "stream",
     "text": [
      "Start (p): 93, End (p): 95, Start (T): 93, End (T): 95\n",
      "\tValidation loss: inf - Distance start: 31.00 - Distance end: 32.00 [Time elapsed: 4.23 s]\n",
      "----------------------------------------------------------------------------------------------------\n",
      "Epoch 47/100\n"
     ]
    },
    {
     "data": {
      "application/vnd.jupyter.widget-view+json": {
       "model_id": "",
       "version_major": 2,
       "version_minor": 0
      },
      "text/plain": [
       "HBox(children=(HTML(value=''), FloatProgress(value=0.0, max=313.0), HTML(value='')))"
      ]
     },
     "metadata": {},
     "output_type": "display_data"
    },
    {
     "name": "stdout",
     "output_type": "stream",
     "text": [
      "Start (p): 95, End (p): 130, Start (T): 129, End (T): 130\n",
      "\tLoss: 3.42979 - Distance start: 21 - Distance end: 21 [Time elapsed: 36.73 s]\n"
     ]
    },
    {
     "data": {
      "application/vnd.jupyter.widget-view+json": {
       "model_id": "",
       "version_major": 2,
       "version_minor": 0
      },
      "text/plain": [
       "HBox(children=(HTML(value=''), FloatProgress(value=0.0, max=94.0), HTML(value='')))"
      ]
     },
     "metadata": {},
     "output_type": "display_data"
    },
    {
     "name": "stdout",
     "output_type": "stream",
     "text": [
      "Start (p): 43, End (p): 43, Start (T): 43, End (T): 43\n",
      "\tValidation loss: 8.32703 - Distance start: 33.00 - Distance end: 32.00 [Time elapsed: 4.19 s]\n",
      "----------------------------------------------------------------------------------------------------\n",
      "Epoch 48/100\n"
     ]
    },
    {
     "data": {
      "application/vnd.jupyter.widget-view+json": {
       "model_id": "",
       "version_major": 2,
       "version_minor": 0
      },
      "text/plain": [
       "HBox(children=(HTML(value=''), FloatProgress(value=0.0, max=313.0), HTML(value='')))"
      ]
     },
     "metadata": {},
     "output_type": "display_data"
    },
    {
     "name": "stdout",
     "output_type": "stream",
     "text": [
      "Start (p): 88, End (p): 90, Start (T): 88, End (T): 90\n",
      "\tLoss: 3.35345 - Distance start: 21 - Distance end: 21 [Time elapsed: 36.50 s]\n"
     ]
    },
    {
     "data": {
      "application/vnd.jupyter.widget-view+json": {
       "model_id": "",
       "version_major": 2,
       "version_minor": 0
      },
      "text/plain": [
       "HBox(children=(HTML(value=''), FloatProgress(value=0.0, max=94.0), HTML(value='')))"
      ]
     },
     "metadata": {},
     "output_type": "display_data"
    },
    {
     "name": "stdout",
     "output_type": "stream",
     "text": [
      "Start (p): 43, End (p): 2, Start (T): 7, End (T): 8\n",
      "\tValidation loss: 8.33488 - Distance start: 31.00 - Distance end: 31.00 [Time elapsed: 4.22 s]\n",
      "----------------------------------------------------------------------------------------------------\n",
      "Epoch 49/100\n"
     ]
    },
    {
     "data": {
      "application/vnd.jupyter.widget-view+json": {
       "model_id": "",
       "version_major": 2,
       "version_minor": 0
      },
      "text/plain": [
       "HBox(children=(HTML(value=''), FloatProgress(value=0.0, max=313.0), HTML(value='')))"
      ]
     },
     "metadata": {},
     "output_type": "display_data"
    },
    {
     "name": "stdout",
     "output_type": "stream",
     "text": [
      "Start (p): 0, End (p): 1, Start (T): 0, End (T): 1\n",
      "\tLoss: 3.35723 - Distance start: 21 - Distance end: 21 [Time elapsed: 36.75 s]\n"
     ]
    },
    {
     "data": {
      "application/vnd.jupyter.widget-view+json": {
       "model_id": "",
       "version_major": 2,
       "version_minor": 0
      },
      "text/plain": [
       "HBox(children=(HTML(value=''), FloatProgress(value=0.0, max=94.0), HTML(value='')))"
      ]
     },
     "metadata": {},
     "output_type": "display_data"
    },
    {
     "name": "stdout",
     "output_type": "stream",
     "text": [
      "Start (p): 37, End (p): 37, Start (T): 34, End (T): 35\n",
      "\tValidation loss: 8.49029 - Distance start: 32.00 - Distance end: 32.00 [Time elapsed: 4.35 s]\n",
      "----------------------------------------------------------------------------------------------------\n",
      "Epoch 50/100\n"
     ]
    },
    {
     "data": {
      "application/vnd.jupyter.widget-view+json": {
       "model_id": "",
       "version_major": 2,
       "version_minor": 0
      },
      "text/plain": [
       "HBox(children=(HTML(value=''), FloatProgress(value=0.0, max=313.0), HTML(value='')))"
      ]
     },
     "metadata": {},
     "output_type": "display_data"
    },
    {
     "name": "stdout",
     "output_type": "stream",
     "text": [
      "Start (p): 18, End (p): 33, Start (T): 32, End (T): 34\n",
      "\tLoss: 3.30720 - Distance start: 20 - Distance end: 20 [Time elapsed: 36.82 s]\n"
     ]
    },
    {
     "data": {
      "application/vnd.jupyter.widget-view+json": {
       "model_id": "",
       "version_major": 2,
       "version_minor": 0
      },
      "text/plain": [
       "HBox(children=(HTML(value=''), FloatProgress(value=0.0, max=94.0), HTML(value='')))"
      ]
     },
     "metadata": {},
     "output_type": "display_data"
    },
    {
     "name": "stdout",
     "output_type": "stream",
     "text": [
      "Start (p): 87, End (p): 5, Start (T): 45, End (T): 47\n",
      "\tValidation loss: 8.44391 - Distance start: 32.00 - Distance end: 32.00 [Time elapsed: 4.30 s]\n",
      "----------------------------------------------------------------------------------------------------\n",
      "Epoch 51/100\n"
     ]
    },
    {
     "data": {
      "application/vnd.jupyter.widget-view+json": {
       "model_id": "",
       "version_major": 2,
       "version_minor": 0
      },
      "text/plain": [
       "HBox(children=(HTML(value=''), FloatProgress(value=0.0, max=313.0), HTML(value='')))"
      ]
     },
     "metadata": {},
     "output_type": "display_data"
    },
    {
     "name": "stdout",
     "output_type": "stream",
     "text": [
      "Start (p): 76, End (p): 78, Start (T): 76, End (T): 78\n",
      "\tLoss: 3.24740 - Distance start: 20 - Distance end: 20 [Time elapsed: 36.81 s]\n"
     ]
    },
    {
     "data": {
      "application/vnd.jupyter.widget-view+json": {
       "model_id": "",
       "version_major": 2,
       "version_minor": 0
      },
      "text/plain": [
       "HBox(children=(HTML(value=''), FloatProgress(value=0.0, max=94.0), HTML(value='')))"
      ]
     },
     "metadata": {},
     "output_type": "display_data"
    },
    {
     "name": "stdout",
     "output_type": "stream",
     "text": [
      "Start (p): 6, End (p): 7, Start (T): 122, End (T): 123\n",
      "\tValidation loss: 8.51226 - Distance start: 32.00 - Distance end: 31.00 [Time elapsed: 4.24 s]\n",
      "----------------------------------------------------------------------------------------------------\n",
      "Epoch 52/100\n"
     ]
    },
    {
     "data": {
      "application/vnd.jupyter.widget-view+json": {
       "model_id": "",
       "version_major": 2,
       "version_minor": 0
      },
      "text/plain": [
       "HBox(children=(HTML(value=''), FloatProgress(value=0.0, max=313.0), HTML(value='')))"
      ]
     },
     "metadata": {},
     "output_type": "display_data"
    },
    {
     "name": "stdout",
     "output_type": "stream",
     "text": [
      "Start (p): 69, End (p): 28, Start (T): 69, End (T): 70\n",
      "\tLoss: 3.25597 - Distance start: 20 - Distance end: 20 [Time elapsed: 36.67 s]\n"
     ]
    },
    {
     "data": {
      "application/vnd.jupyter.widget-view+json": {
       "model_id": "",
       "version_major": 2,
       "version_minor": 0
      },
      "text/plain": [
       "HBox(children=(HTML(value=''), FloatProgress(value=0.0, max=94.0), HTML(value='')))"
      ]
     },
     "metadata": {},
     "output_type": "display_data"
    },
    {
     "name": "stdout",
     "output_type": "stream",
     "text": [
      "Start (p): 6, End (p): 6, Start (T): 13, End (T): 13\n",
      "\tValidation loss: 8.76695 - Distance start: 31.00 - Distance end: 32.00 [Time elapsed: 4.19 s]\n",
      "----------------------------------------------------------------------------------------------------\n",
      "Epoch 53/100\n"
     ]
    },
    {
     "data": {
      "application/vnd.jupyter.widget-view+json": {
       "model_id": "",
       "version_major": 2,
       "version_minor": 0
      },
      "text/plain": [
       "HBox(children=(HTML(value=''), FloatProgress(value=0.0, max=313.0), HTML(value='')))"
      ]
     },
     "metadata": {},
     "output_type": "display_data"
    },
    {
     "name": "stdout",
     "output_type": "stream",
     "text": [
      "Start (p): 25, End (p): 25, Start (T): 22, End (T): 25\n",
      "\tLoss: 3.24561 - Distance start: 20 - Distance end: 20 [Time elapsed: 38.87 s]\n"
     ]
    },
    {
     "data": {
      "application/vnd.jupyter.widget-view+json": {
       "model_id": "",
       "version_major": 2,
       "version_minor": 0
      },
      "text/plain": [
       "HBox(children=(HTML(value=''), FloatProgress(value=0.0, max=94.0), HTML(value='')))"
      ]
     },
     "metadata": {},
     "output_type": "display_data"
    },
    {
     "name": "stdout",
     "output_type": "stream",
     "text": [
      "Start (p): 61, End (p): 61, Start (T): 104, End (T): 105\n",
      "\tValidation loss: 8.74259 - Distance start: 32.00 - Distance end: 32.00 [Time elapsed: 4.85 s]\n",
      "----------------------------------------------------------------------------------------------------\n",
      "Epoch 54/100\n"
     ]
    },
    {
     "data": {
      "application/vnd.jupyter.widget-view+json": {
       "model_id": "",
       "version_major": 2,
       "version_minor": 0
      },
      "text/plain": [
       "HBox(children=(HTML(value=''), FloatProgress(value=0.0, max=313.0), HTML(value='')))"
      ]
     },
     "metadata": {},
     "output_type": "display_data"
    },
    {
     "name": "stdout",
     "output_type": "stream",
     "text": [
      "Start (p): 27, End (p): 27, Start (T): 27, End (T): 27\n",
      "\tLoss: 3.17911 - Distance start: 20 - Distance end: 20 [Time elapsed: 38.38 s]\n"
     ]
    },
    {
     "data": {
      "application/vnd.jupyter.widget-view+json": {
       "model_id": "",
       "version_major": 2,
       "version_minor": 0
      },
      "text/plain": [
       "HBox(children=(HTML(value=''), FloatProgress(value=0.0, max=94.0), HTML(value='')))"
      ]
     },
     "metadata": {},
     "output_type": "display_data"
    },
    {
     "name": "stdout",
     "output_type": "stream",
     "text": [
      "Start (p): 61, End (p): 16, Start (T): 37, End (T): 39\n",
      "\tValidation loss: 8.46342 - Distance start: 32.00 - Distance end: 32.00 [Time elapsed: 4.55 s]\n",
      "----------------------------------------------------------------------------------------------------\n",
      "Epoch 55/100\n"
     ]
    },
    {
     "data": {
      "application/vnd.jupyter.widget-view+json": {
       "model_id": "",
       "version_major": 2,
       "version_minor": 0
      },
      "text/plain": [
       "HBox(children=(HTML(value=''), FloatProgress(value=0.0, max=313.0), HTML(value='')))"
      ]
     },
     "metadata": {},
     "output_type": "display_data"
    },
    {
     "name": "stdout",
     "output_type": "stream",
     "text": [
      "Start (p): 32, End (p): 11, Start (T): 9, End (T): 11\n",
      "\tLoss: 3.20915 - Distance start: 20 - Distance end: 20 [Time elapsed: 37.57 s]\n"
     ]
    },
    {
     "data": {
      "application/vnd.jupyter.widget-view+json": {
       "model_id": "",
       "version_major": 2,
       "version_minor": 0
      },
      "text/plain": [
       "HBox(children=(HTML(value=''), FloatProgress(value=0.0, max=94.0), HTML(value='')))"
      ]
     },
     "metadata": {},
     "output_type": "display_data"
    },
    {
     "name": "stdout",
     "output_type": "stream",
     "text": [
      "Start (p): 53, End (p): 53, Start (T): 34, End (T): 34\n",
      "\tValidation loss: 8.61791 - Distance start: 31.00 - Distance end: 32.00 [Time elapsed: 4.25 s]\n",
      "----------------------------------------------------------------------------------------------------\n",
      "Epoch 56/100\n"
     ]
    },
    {
     "data": {
      "application/vnd.jupyter.widget-view+json": {
       "model_id": "",
       "version_major": 2,
       "version_minor": 0
      },
      "text/plain": [
       "HBox(children=(HTML(value=''), FloatProgress(value=0.0, max=313.0), HTML(value='')))"
      ]
     },
     "metadata": {},
     "output_type": "display_data"
    },
    {
     "name": "stdout",
     "output_type": "stream",
     "text": [
      "Start (p): 184, End (p): 245, Start (T): 105, End (T): 106\n",
      "\tLoss: 3.17890 - Distance start: 19 - Distance end: 20 [Time elapsed: 36.76 s]\n"
     ]
    },
    {
     "data": {
      "application/vnd.jupyter.widget-view+json": {
       "model_id": "",
       "version_major": 2,
       "version_minor": 0
      },
      "text/plain": [
       "HBox(children=(HTML(value=''), FloatProgress(value=0.0, max=94.0), HTML(value='')))"
      ]
     },
     "metadata": {},
     "output_type": "display_data"
    },
    {
     "name": "stdout",
     "output_type": "stream",
     "text": [
      "Start (p): 42, End (p): 48, Start (T): 47, End (T): 48\n",
      "\tValidation loss: 8.76885 - Distance start: 32.00 - Distance end: 32.00 [Time elapsed: 4.23 s]\n",
      "----------------------------------------------------------------------------------------------------\n",
      "Epoch 57/100\n"
     ]
    },
    {
     "data": {
      "application/vnd.jupyter.widget-view+json": {
       "model_id": "",
       "version_major": 2,
       "version_minor": 0
      },
      "text/plain": [
       "HBox(children=(HTML(value=''), FloatProgress(value=0.0, max=313.0), HTML(value='')))"
      ]
     },
     "metadata": {},
     "output_type": "display_data"
    },
    {
     "name": "stdout",
     "output_type": "stream",
     "text": [
      "Start (p): 54, End (p): 54, Start (T): 54, End (T): 54\n",
      "\tLoss: 3.14039 - Distance start: 19 - Distance end: 19 [Time elapsed: 36.74 s]\n"
     ]
    },
    {
     "data": {
      "application/vnd.jupyter.widget-view+json": {
       "model_id": "",
       "version_major": 2,
       "version_minor": 0
      },
      "text/plain": [
       "HBox(children=(HTML(value=''), FloatProgress(value=0.0, max=94.0), HTML(value='')))"
      ]
     },
     "metadata": {},
     "output_type": "display_data"
    },
    {
     "name": "stdout",
     "output_type": "stream",
     "text": [
      "Start (p): 74, End (p): 74, Start (T): 72, End (T): 76\n",
      "\tValidation loss: inf - Distance start: 32.00 - Distance end: 32.00 [Time elapsed: 4.22 s]\n",
      "----------------------------------------------------------------------------------------------------\n",
      "Epoch 58/100\n"
     ]
    },
    {
     "data": {
      "application/vnd.jupyter.widget-view+json": {
       "model_id": "",
       "version_major": 2,
       "version_minor": 0
      },
      "text/plain": [
       "HBox(children=(HTML(value=''), FloatProgress(value=0.0, max=313.0), HTML(value='')))"
      ]
     },
     "metadata": {},
     "output_type": "display_data"
    },
    {
     "name": "stdout",
     "output_type": "stream",
     "text": [
      "Start (p): 21, End (p): 21, Start (T): 17, End (T): 17\n",
      "\tLoss: 3.32867 - Distance start: 20 - Distance end: 20 [Time elapsed: 37.43 s]\n"
     ]
    },
    {
     "data": {
      "application/vnd.jupyter.widget-view+json": {
       "model_id": "",
       "version_major": 2,
       "version_minor": 0
      },
      "text/plain": [
       "HBox(children=(HTML(value=''), FloatProgress(value=0.0, max=94.0), HTML(value='')))"
      ]
     },
     "metadata": {},
     "output_type": "display_data"
    },
    {
     "name": "stdout",
     "output_type": "stream",
     "text": [
      "Start (p): 11, End (p): 11, Start (T): 60, End (T): 67\n",
      "\tValidation loss: 8.30181 - Distance start: 32.00 - Distance end: 33.00 [Time elapsed: 4.36 s]\n",
      "----------------------------------------------------------------------------------------------------\n",
      "Epoch 59/100\n"
     ]
    },
    {
     "data": {
      "application/vnd.jupyter.widget-view+json": {
       "model_id": "",
       "version_major": 2,
       "version_minor": 0
      },
      "text/plain": [
       "HBox(children=(HTML(value=''), FloatProgress(value=0.0, max=313.0), HTML(value='')))"
      ]
     },
     "metadata": {},
     "output_type": "display_data"
    },
    {
     "name": "stdout",
     "output_type": "stream",
     "text": [
      "Start (p): 69, End (p): 43, Start (T): 39, End (T): 43\n",
      "\tLoss: 4.70703 - Distance start: 26 - Distance end: 26 [Time elapsed: 37.79 s]\n"
     ]
    },
    {
     "data": {
      "application/vnd.jupyter.widget-view+json": {
       "model_id": "",
       "version_major": 2,
       "version_minor": 0
      },
      "text/plain": [
       "HBox(children=(HTML(value=''), FloatProgress(value=0.0, max=94.0), HTML(value='')))"
      ]
     },
     "metadata": {},
     "output_type": "display_data"
    },
    {
     "name": "stdout",
     "output_type": "stream",
     "text": [
      "Start (p): 13, End (p): 35, Start (T): 31, End (T): 32\n",
      "\tValidation loss: 7.70668 - Distance start: 32.00 - Distance end: 32.00 [Time elapsed: 4.25 s]\n",
      "----------------------------------------------------------------------------------------------------\n",
      "Epoch 60/100\n"
     ]
    },
    {
     "data": {
      "application/vnd.jupyter.widget-view+json": {
       "model_id": "",
       "version_major": 2,
       "version_minor": 0
      },
      "text/plain": [
       "HBox(children=(HTML(value=''), FloatProgress(value=0.0, max=313.0), HTML(value='')))"
      ]
     },
     "metadata": {},
     "output_type": "display_data"
    },
    {
     "name": "stdout",
     "output_type": "stream",
     "text": [
      "Start (p): 7, End (p): 46, Start (T): 36, End (T): 38\n",
      "\tLoss: 3.73403 - Distance start: 22 - Distance end: 22 [Time elapsed: 36.62 s]\n"
     ]
    },
    {
     "data": {
      "application/vnd.jupyter.widget-view+json": {
       "model_id": "",
       "version_major": 2,
       "version_minor": 0
      },
      "text/plain": [
       "HBox(children=(HTML(value=''), FloatProgress(value=0.0, max=94.0), HTML(value='')))"
      ]
     },
     "metadata": {},
     "output_type": "display_data"
    },
    {
     "name": "stdout",
     "output_type": "stream",
     "text": [
      "Start (p): 44, End (p): 43, Start (T): 68, End (T): 69\n",
      "\tValidation loss: 8.04334 - Distance start: 32.00 - Distance end: 32.00 [Time elapsed: 4.22 s]\n",
      "----------------------------------------------------------------------------------------------------\n",
      "Epoch 61/100\n"
     ]
    },
    {
     "data": {
      "application/vnd.jupyter.widget-view+json": {
       "model_id": "",
       "version_major": 2,
       "version_minor": 0
      },
      "text/plain": [
       "HBox(children=(HTML(value=''), FloatProgress(value=0.0, max=313.0), HTML(value='')))"
      ]
     },
     "metadata": {},
     "output_type": "display_data"
    },
    {
     "name": "stdout",
     "output_type": "stream",
     "text": [
      "Start (p): 57, End (p): 57, Start (T): 57, End (T): 57\n",
      "\tLoss: 3.33248 - Distance start: 20 - Distance end: 20 [Time elapsed: 36.76 s]\n"
     ]
    },
    {
     "data": {
      "application/vnd.jupyter.widget-view+json": {
       "model_id": "",
       "version_major": 2,
       "version_minor": 0
      },
      "text/plain": [
       "HBox(children=(HTML(value=''), FloatProgress(value=0.0, max=94.0), HTML(value='')))"
      ]
     },
     "metadata": {},
     "output_type": "display_data"
    },
    {
     "name": "stdout",
     "output_type": "stream",
     "text": [
      "Start (p): 38, End (p): 70, Start (T): 1, End (T): 3\n",
      "\tValidation loss: 8.65308 - Distance start: 32.00 - Distance end: 33.00 [Time elapsed: 4.26 s]\n",
      "----------------------------------------------------------------------------------------------------\n",
      "Epoch 62/100\n"
     ]
    },
    {
     "data": {
      "application/vnd.jupyter.widget-view+json": {
       "model_id": "",
       "version_major": 2,
       "version_minor": 0
      },
      "text/plain": [
       "HBox(children=(HTML(value=''), FloatProgress(value=0.0, max=313.0), HTML(value='')))"
      ]
     },
     "metadata": {},
     "output_type": "display_data"
    },
    {
     "name": "stdout",
     "output_type": "stream",
     "text": [
      "Start (p): 40, End (p): 220, Start (T): 218, End (T): 220\n",
      "\tLoss: 3.24826 - Distance start: 20 - Distance end: 20 [Time elapsed: 36.71 s]\n"
     ]
    },
    {
     "data": {
      "application/vnd.jupyter.widget-view+json": {
       "model_id": "",
       "version_major": 2,
       "version_minor": 0
      },
      "text/plain": [
       "HBox(children=(HTML(value=''), FloatProgress(value=0.0, max=94.0), HTML(value='')))"
      ]
     },
     "metadata": {},
     "output_type": "display_data"
    },
    {
     "name": "stdout",
     "output_type": "stream",
     "text": [
      "Start (p): 162, End (p): 156, Start (T): 47, End (T): 52\n",
      "\tValidation loss: 8.33788 - Distance start: 32.00 - Distance end: 33.00 [Time elapsed: 4.25 s]\n",
      "----------------------------------------------------------------------------------------------------\n",
      "Epoch 63/100\n"
     ]
    },
    {
     "data": {
      "application/vnd.jupyter.widget-view+json": {
       "model_id": "",
       "version_major": 2,
       "version_minor": 0
      },
      "text/plain": [
       "HBox(children=(HTML(value=''), FloatProgress(value=0.0, max=313.0), HTML(value='')))"
      ]
     },
     "metadata": {},
     "output_type": "display_data"
    },
    {
     "name": "stdout",
     "output_type": "stream",
     "text": [
      "Start (p): 3, End (p): 3, Start (T): 3, End (T): 3\n",
      "\tLoss: 3.17670 - Distance start: 19 - Distance end: 19 [Time elapsed: 37.09 s]\n"
     ]
    },
    {
     "data": {
      "application/vnd.jupyter.widget-view+json": {
       "model_id": "",
       "version_major": 2,
       "version_minor": 0
      },
      "text/plain": [
       "HBox(children=(HTML(value=''), FloatProgress(value=0.0, max=94.0), HTML(value='')))"
      ]
     },
     "metadata": {},
     "output_type": "display_data"
    },
    {
     "name": "stdout",
     "output_type": "stream",
     "text": [
      "Start (p): 60, End (p): 61, Start (T): 61, End (T): 61\n",
      "\tValidation loss: 8.58205 - Distance start: 32.00 - Distance end: 32.00 [Time elapsed: 4.24 s]\n",
      "----------------------------------------------------------------------------------------------------\n",
      "Epoch 64/100\n"
     ]
    },
    {
     "data": {
      "application/vnd.jupyter.widget-view+json": {
       "model_id": "",
       "version_major": 2,
       "version_minor": 0
      },
      "text/plain": [
       "HBox(children=(HTML(value=''), FloatProgress(value=0.0, max=313.0), HTML(value='')))"
      ]
     },
     "metadata": {},
     "output_type": "display_data"
    },
    {
     "name": "stdout",
     "output_type": "stream",
     "text": [
      "Start (p): 64, End (p): 64, Start (T): 57, End (T): 64\n",
      "\tLoss: 3.13769 - Distance start: 19 - Distance end: 19 [Time elapsed: 36.72 s]\n"
     ]
    },
    {
     "data": {
      "application/vnd.jupyter.widget-view+json": {
       "model_id": "",
       "version_major": 2,
       "version_minor": 0
      },
      "text/plain": [
       "HBox(children=(HTML(value=''), FloatProgress(value=0.0, max=94.0), HTML(value='')))"
      ]
     },
     "metadata": {},
     "output_type": "display_data"
    },
    {
     "name": "stdout",
     "output_type": "stream",
     "text": [
      "Start (p): 21, End (p): 45, Start (T): 46, End (T): 48\n",
      "\tValidation loss: 8.97741 - Distance start: 32.00 - Distance end: 32.00 [Time elapsed: 4.23 s]\n",
      "----------------------------------------------------------------------------------------------------\n",
      "Epoch 65/100\n"
     ]
    },
    {
     "data": {
      "application/vnd.jupyter.widget-view+json": {
       "model_id": "",
       "version_major": 2,
       "version_minor": 0
      },
      "text/plain": [
       "HBox(children=(HTML(value=''), FloatProgress(value=0.0, max=313.0), HTML(value='')))"
      ]
     },
     "metadata": {},
     "output_type": "display_data"
    },
    {
     "name": "stdout",
     "output_type": "stream",
     "text": [
      "Start (p): 53, End (p): 33, Start (T): 53, End (T): 54\n",
      "\tLoss: 3.03956 - Distance start: 18 - Distance end: 18 [Time elapsed: 36.65 s]\n"
     ]
    },
    {
     "data": {
      "application/vnd.jupyter.widget-view+json": {
       "model_id": "",
       "version_major": 2,
       "version_minor": 0
      },
      "text/plain": [
       "HBox(children=(HTML(value=''), FloatProgress(value=0.0, max=94.0), HTML(value='')))"
      ]
     },
     "metadata": {},
     "output_type": "display_data"
    },
    {
     "name": "stdout",
     "output_type": "stream",
     "text": [
      "Start (p): 7, End (p): 90, Start (T): 50, End (T): 53\n",
      "\tValidation loss: 8.77019 - Distance start: 32.00 - Distance end: 31.00 [Time elapsed: 4.25 s]\n",
      "----------------------------------------------------------------------------------------------------\n",
      "Epoch 66/100\n"
     ]
    },
    {
     "data": {
      "application/vnd.jupyter.widget-view+json": {
       "model_id": "",
       "version_major": 2,
       "version_minor": 0
      },
      "text/plain": [
       "HBox(children=(HTML(value=''), FloatProgress(value=0.0, max=313.0), HTML(value='')))"
      ]
     },
     "metadata": {},
     "output_type": "display_data"
    },
    {
     "name": "stdout",
     "output_type": "stream",
     "text": [
      "Start (p): 27, End (p): 94, Start (T): 150, End (T): 159\n",
      "\tLoss: 3.01853 - Distance start: 18 - Distance end: 19 [Time elapsed: 36.85 s]\n"
     ]
    },
    {
     "data": {
      "application/vnd.jupyter.widget-view+json": {
       "model_id": "",
       "version_major": 2,
       "version_minor": 0
      },
      "text/plain": [
       "HBox(children=(HTML(value=''), FloatProgress(value=0.0, max=94.0), HTML(value='')))"
      ]
     },
     "metadata": {},
     "output_type": "display_data"
    },
    {
     "name": "stdout",
     "output_type": "stream",
     "text": [
      "Start (p): 68, End (p): 104, Start (T): 35, End (T): 36\n",
      "\tValidation loss: 9.14086 - Distance start: 31.00 - Distance end: 33.00 [Time elapsed: 4.24 s]\n",
      "----------------------------------------------------------------------------------------------------\n",
      "Epoch 67/100\n"
     ]
    },
    {
     "data": {
      "application/vnd.jupyter.widget-view+json": {
       "model_id": "",
       "version_major": 2,
       "version_minor": 0
      },
      "text/plain": [
       "HBox(children=(HTML(value=''), FloatProgress(value=0.0, max=313.0), HTML(value='')))"
      ]
     },
     "metadata": {},
     "output_type": "display_data"
    },
    {
     "name": "stdout",
     "output_type": "stream",
     "text": [
      "Start (p): 12, End (p): 10, Start (T): 8, End (T): 10\n",
      "\tLoss: 3.01169 - Distance start: 18 - Distance end: 18 [Time elapsed: 36.64 s]\n"
     ]
    },
    {
     "data": {
      "application/vnd.jupyter.widget-view+json": {
       "model_id": "",
       "version_major": 2,
       "version_minor": 0
      },
      "text/plain": [
       "HBox(children=(HTML(value=''), FloatProgress(value=0.0, max=94.0), HTML(value='')))"
      ]
     },
     "metadata": {},
     "output_type": "display_data"
    },
    {
     "name": "stdout",
     "output_type": "stream",
     "text": [
      "Start (p): 9, End (p): 9, Start (T): 8, End (T): 11\n",
      "\tValidation loss: 9.15225 - Distance start: 32.00 - Distance end: 33.00 [Time elapsed: 4.27 s]\n",
      "----------------------------------------------------------------------------------------------------\n",
      "Epoch 68/100\n"
     ]
    },
    {
     "data": {
      "application/vnd.jupyter.widget-view+json": {
       "model_id": "",
       "version_major": 2,
       "version_minor": 0
      },
      "text/plain": [
       "HBox(children=(HTML(value=''), FloatProgress(value=0.0, max=313.0), HTML(value='')))"
      ]
     },
     "metadata": {},
     "output_type": "display_data"
    },
    {
     "name": "stdout",
     "output_type": "stream",
     "text": [
      "Start (p): 76, End (p): 76, Start (T): 76, End (T): 76\n",
      "\tLoss: 3.02278 - Distance start: 18 - Distance end: 18 [Time elapsed: 36.71 s]\n"
     ]
    },
    {
     "data": {
      "application/vnd.jupyter.widget-view+json": {
       "model_id": "",
       "version_major": 2,
       "version_minor": 0
      },
      "text/plain": [
       "HBox(children=(HTML(value=''), FloatProgress(value=0.0, max=94.0), HTML(value='')))"
      ]
     },
     "metadata": {},
     "output_type": "display_data"
    },
    {
     "name": "stdout",
     "output_type": "stream",
     "text": [
      "Start (p): 69, End (p): 69, Start (T): 69, End (T): 69\n",
      "\tValidation loss: 9.02031 - Distance start: 31.00 - Distance end: 32.00 [Time elapsed: 4.20 s]\n",
      "----------------------------------------------------------------------------------------------------\n",
      "Epoch 69/100\n"
     ]
    },
    {
     "data": {
      "application/vnd.jupyter.widget-view+json": {
       "model_id": "",
       "version_major": 2,
       "version_minor": 0
      },
      "text/plain": [
       "HBox(children=(HTML(value=''), FloatProgress(value=0.0, max=313.0), HTML(value='')))"
      ]
     },
     "metadata": {},
     "output_type": "display_data"
    },
    {
     "name": "stdout",
     "output_type": "stream",
     "text": [
      "Start (p): 17, End (p): 17, Start (T): 17, End (T): 17\n",
      "\tLoss: 7.55044 - Distance start: 35 - Distance end: 36 [Time elapsed: 37.00 s]\n"
     ]
    },
    {
     "data": {
      "application/vnd.jupyter.widget-view+json": {
       "model_id": "",
       "version_major": 2,
       "version_minor": 0
      },
      "text/plain": [
       "HBox(children=(HTML(value=''), FloatProgress(value=0.0, max=94.0), HTML(value='')))"
      ]
     },
     "metadata": {},
     "output_type": "display_data"
    },
    {
     "name": "stdout",
     "output_type": "stream",
     "text": [
      "Start (p): 7, End (p): 7, Start (T): 62, End (T): 62\n",
      "\tValidation loss: 7.90555 - Distance start: 34.00 - Distance end: 38.00 [Time elapsed: 4.21 s]\n",
      "----------------------------------------------------------------------------------------------------\n",
      "Epoch 70/100\n"
     ]
    },
    {
     "data": {
      "application/vnd.jupyter.widget-view+json": {
       "model_id": "",
       "version_major": 2,
       "version_minor": 0
      },
      "text/plain": [
       "HBox(children=(HTML(value=''), FloatProgress(value=0.0, max=313.0), HTML(value='')))"
      ]
     },
     "metadata": {},
     "output_type": "display_data"
    },
    {
     "name": "stdout",
     "output_type": "stream",
     "text": [
      "Start (p): 11, End (p): 83, Start (T): 86, End (T): 86\n",
      "\tLoss: 7.65933 - Distance start: 36 - Distance end: 38 [Time elapsed: 36.74 s]\n"
     ]
    },
    {
     "data": {
      "application/vnd.jupyter.widget-view+json": {
       "model_id": "",
       "version_major": 2,
       "version_minor": 0
      },
      "text/plain": [
       "HBox(children=(HTML(value=''), FloatProgress(value=0.0, max=94.0), HTML(value='')))"
      ]
     },
     "metadata": {},
     "output_type": "display_data"
    },
    {
     "name": "stdout",
     "output_type": "stream",
     "text": [
      "Start (p): 16, End (p): 9, Start (T): 106, End (T): 108\n",
      "\tValidation loss: 7.71412 - Distance start: 35.00 - Distance end: 37.00 [Time elapsed: 4.22 s]\n",
      "----------------------------------------------------------------------------------------------------\n",
      "Epoch 71/100\n"
     ]
    },
    {
     "data": {
      "application/vnd.jupyter.widget-view+json": {
       "model_id": "",
       "version_major": 2,
       "version_minor": 0
      },
      "text/plain": [
       "HBox(children=(HTML(value=''), FloatProgress(value=0.0, max=313.0), HTML(value='')))"
      ]
     },
     "metadata": {},
     "output_type": "display_data"
    },
    {
     "name": "stdout",
     "output_type": "stream",
     "text": [
      "Start (p): 22, End (p): 23, Start (T): 27, End (T): 27\n",
      "\tLoss: 7.46418 - Distance start: 36 - Distance end: 38 [Time elapsed: 36.49 s]\n"
     ]
    },
    {
     "data": {
      "application/vnd.jupyter.widget-view+json": {
       "model_id": "",
       "version_major": 2,
       "version_minor": 0
      },
      "text/plain": [
       "HBox(children=(HTML(value=''), FloatProgress(value=0.0, max=94.0), HTML(value='')))"
      ]
     },
     "metadata": {},
     "output_type": "display_data"
    },
    {
     "name": "stdout",
     "output_type": "stream",
     "text": [
      "Start (p): 0, End (p): 27, Start (T): 40, End (T): 40\n",
      "\tValidation loss: 7.59030 - Distance start: 35.00 - Distance end: 36.00 [Time elapsed: 4.30 s]\n",
      "----------------------------------------------------------------------------------------------------\n",
      "Epoch 72/100\n"
     ]
    },
    {
     "data": {
      "application/vnd.jupyter.widget-view+json": {
       "model_id": "",
       "version_major": 2,
       "version_minor": 0
      },
      "text/plain": [
       "HBox(children=(HTML(value=''), FloatProgress(value=0.0, max=313.0), HTML(value='')))"
      ]
     },
     "metadata": {},
     "output_type": "display_data"
    },
    {
     "name": "stdout",
     "output_type": "stream",
     "text": [
      "Start (p): 71, End (p): 33, Start (T): 32, End (T): 33\n",
      "\tLoss: 7.40337 - Distance start: 36 - Distance end: 38 [Time elapsed: 36.77 s]\n"
     ]
    },
    {
     "data": {
      "application/vnd.jupyter.widget-view+json": {
       "model_id": "",
       "version_major": 2,
       "version_minor": 0
      },
      "text/plain": [
       "HBox(children=(HTML(value=''), FloatProgress(value=0.0, max=94.0), HTML(value='')))"
      ]
     },
     "metadata": {},
     "output_type": "display_data"
    },
    {
     "name": "stdout",
     "output_type": "stream",
     "text": [
      "Start (p): 50, End (p): 29, Start (T): 7, End (T): 9\n",
      "\tValidation loss: 7.56536 - Distance start: 35.00 - Distance end: 36.00 [Time elapsed: 4.20 s]\n",
      "----------------------------------------------------------------------------------------------------\n",
      "Epoch 73/100\n"
     ]
    },
    {
     "data": {
      "application/vnd.jupyter.widget-view+json": {
       "model_id": "",
       "version_major": 2,
       "version_minor": 0
      },
      "text/plain": [
       "HBox(children=(HTML(value=''), FloatProgress(value=0.0, max=313.0), HTML(value='')))"
      ]
     },
     "metadata": {},
     "output_type": "display_data"
    },
    {
     "name": "stdout",
     "output_type": "stream",
     "text": [
      "Start (p): 0, End (p): 46, Start (T): 105, End (T): 107\n",
      "\tLoss: 7.48789 - Distance start: 37 - Distance end: 38 [Time elapsed: 36.36 s]\n"
     ]
    },
    {
     "data": {
      "application/vnd.jupyter.widget-view+json": {
       "model_id": "",
       "version_major": 2,
       "version_minor": 0
      },
      "text/plain": [
       "HBox(children=(HTML(value=''), FloatProgress(value=0.0, max=94.0), HTML(value='')))"
      ]
     },
     "metadata": {},
     "output_type": "display_data"
    },
    {
     "name": "stdout",
     "output_type": "stream",
     "text": [
      "Start (p): 5, End (p): 6, Start (T): 31, End (T): 31\n",
      "\tValidation loss: 7.87731 - Distance start: 34.00 - Distance end: 36.00 [Time elapsed: 4.28 s]\n",
      "----------------------------------------------------------------------------------------------------\n",
      "Epoch 74/100\n"
     ]
    },
    {
     "data": {
      "application/vnd.jupyter.widget-view+json": {
       "model_id": "",
       "version_major": 2,
       "version_minor": 0
      },
      "text/plain": [
       "HBox(children=(HTML(value=''), FloatProgress(value=0.0, max=313.0), HTML(value='')))"
      ]
     },
     "metadata": {},
     "output_type": "display_data"
    },
    {
     "name": "stdout",
     "output_type": "stream",
     "text": [
      "Start (p): 15, End (p): 20, Start (T): 162, End (T): 166\n",
      "\tLoss: 7.67780 - Distance start: 37 - Distance end: 38 [Time elapsed: 36.67 s]\n"
     ]
    },
    {
     "data": {
      "application/vnd.jupyter.widget-view+json": {
       "model_id": "",
       "version_major": 2,
       "version_minor": 0
      },
      "text/plain": [
       "HBox(children=(HTML(value=''), FloatProgress(value=0.0, max=94.0), HTML(value='')))"
      ]
     },
     "metadata": {},
     "output_type": "display_data"
    },
    {
     "name": "stdout",
     "output_type": "stream",
     "text": [
      "Start (p): 11, End (p): 2, Start (T): 11, End (T): 13\n",
      "\tValidation loss: 7.62327 - Distance start: 34.00 - Distance end: 35.00 [Time elapsed: 4.25 s]\n",
      "----------------------------------------------------------------------------------------------------\n",
      "Epoch 75/100\n"
     ]
    },
    {
     "data": {
      "application/vnd.jupyter.widget-view+json": {
       "model_id": "",
       "version_major": 2,
       "version_minor": 0
      },
      "text/plain": [
       "HBox(children=(HTML(value=''), FloatProgress(value=0.0, max=313.0), HTML(value='')))"
      ]
     },
     "metadata": {},
     "output_type": "display_data"
    },
    {
     "name": "stdout",
     "output_type": "stream",
     "text": [
      "Start (p): 1, End (p): 4, Start (T): 1, End (T): 2\n",
      "\tLoss: 7.53387 - Distance start: 36 - Distance end: 37 [Time elapsed: 36.75 s]\n"
     ]
    },
    {
     "data": {
      "application/vnd.jupyter.widget-view+json": {
       "model_id": "",
       "version_major": 2,
       "version_minor": 0
      },
      "text/plain": [
       "HBox(children=(HTML(value=''), FloatProgress(value=0.0, max=94.0), HTML(value='')))"
      ]
     },
     "metadata": {},
     "output_type": "display_data"
    },
    {
     "name": "stdout",
     "output_type": "stream",
     "text": [
      "Start (p): 8, End (p): 24, Start (T): 44, End (T): 47\n",
      "\tValidation loss: 7.62726 - Distance start: 35.00 - Distance end: 36.00 [Time elapsed: 4.22 s]\n",
      "----------------------------------------------------------------------------------------------------\n",
      "Epoch 76/100\n"
     ]
    },
    {
     "data": {
      "application/vnd.jupyter.widget-view+json": {
       "model_id": "",
       "version_major": 2,
       "version_minor": 0
      },
      "text/plain": [
       "HBox(children=(HTML(value=''), FloatProgress(value=0.0, max=313.0), HTML(value='')))"
      ]
     },
     "metadata": {},
     "output_type": "display_data"
    },
    {
     "name": "stdout",
     "output_type": "stream",
     "text": [
      "Start (p): 10, End (p): 10, Start (T): 69, End (T): 69\n",
      "\tLoss: 7.44613 - Distance start: 36 - Distance end: 37 [Time elapsed: 36.49 s]\n"
     ]
    },
    {
     "data": {
      "application/vnd.jupyter.widget-view+json": {
       "model_id": "",
       "version_major": 2,
       "version_minor": 0
      },
      "text/plain": [
       "HBox(children=(HTML(value=''), FloatProgress(value=0.0, max=94.0), HTML(value='')))"
      ]
     },
     "metadata": {},
     "output_type": "display_data"
    },
    {
     "name": "stdout",
     "output_type": "stream",
     "text": [
      "Start (p): 0, End (p): 47, Start (T): 99, End (T): 104\n",
      "\tValidation loss: 7.56530 - Distance start: 33.00 - Distance end: 35.00 [Time elapsed: 4.28 s]\n",
      "----------------------------------------------------------------------------------------------------\n",
      "Epoch 77/100\n"
     ]
    },
    {
     "data": {
      "application/vnd.jupyter.widget-view+json": {
       "model_id": "",
       "version_major": 2,
       "version_minor": 0
      },
      "text/plain": [
       "HBox(children=(HTML(value=''), FloatProgress(value=0.0, max=313.0), HTML(value='')))"
      ]
     },
     "metadata": {},
     "output_type": "display_data"
    },
    {
     "name": "stdout",
     "output_type": "stream",
     "text": [
      "Start (p): 20, End (p): 20, Start (T): 19, End (T): 22\n",
      "\tLoss: 7.37393 - Distance start: 36 - Distance end: 37 [Time elapsed: 36.69 s]\n"
     ]
    },
    {
     "data": {
      "application/vnd.jupyter.widget-view+json": {
       "model_id": "",
       "version_major": 2,
       "version_minor": 0
      },
      "text/plain": [
       "HBox(children=(HTML(value=''), FloatProgress(value=0.0, max=94.0), HTML(value='')))"
      ]
     },
     "metadata": {},
     "output_type": "display_data"
    },
    {
     "name": "stdout",
     "output_type": "stream",
     "text": [
      "Start (p): 12, End (p): 12, Start (T): 12, End (T): 12\n",
      "\tValidation loss: 7.49667 - Distance start: 34.00 - Distance end: 35.00 [Time elapsed: 4.22 s]\n",
      "----------------------------------------------------------------------------------------------------\n",
      "Epoch 78/100\n"
     ]
    },
    {
     "data": {
      "application/vnd.jupyter.widget-view+json": {
       "model_id": "",
       "version_major": 2,
       "version_minor": 0
      },
      "text/plain": [
       "HBox(children=(HTML(value=''), FloatProgress(value=0.0, max=313.0), HTML(value='')))"
      ]
     },
     "metadata": {},
     "output_type": "display_data"
    },
    {
     "name": "stdout",
     "output_type": "stream",
     "text": [
      "Start (p): 64, End (p): 64, Start (T): 82, End (T): 86\n",
      "\tLoss: 7.31772 - Distance start: 36 - Distance end: 36 [Time elapsed: 36.82 s]\n"
     ]
    },
    {
     "data": {
      "application/vnd.jupyter.widget-view+json": {
       "model_id": "",
       "version_major": 2,
       "version_minor": 0
      },
      "text/plain": [
       "HBox(children=(HTML(value=''), FloatProgress(value=0.0, max=94.0), HTML(value='')))"
      ]
     },
     "metadata": {},
     "output_type": "display_data"
    },
    {
     "name": "stdout",
     "output_type": "stream",
     "text": [
      "Start (p): 32, End (p): 18, Start (T): 28, End (T): 29\n",
      "\tValidation loss: 7.45505 - Distance start: 34.00 - Distance end: 36.00 [Time elapsed: 4.25 s]\n",
      "----------------------------------------------------------------------------------------------------\n",
      "Epoch 79/100\n"
     ]
    },
    {
     "data": {
      "application/vnd.jupyter.widget-view+json": {
       "model_id": "",
       "version_major": 2,
       "version_minor": 0
      },
      "text/plain": [
       "HBox(children=(HTML(value=''), FloatProgress(value=0.0, max=313.0), HTML(value='')))"
      ]
     },
     "metadata": {},
     "output_type": "display_data"
    },
    {
     "name": "stdout",
     "output_type": "stream",
     "text": [
      "Start (p): 5, End (p): 9, Start (T): 55, End (T): 56\n",
      "\tLoss: 7.27940 - Distance start: 36 - Distance end: 36 [Time elapsed: 38.12 s]\n"
     ]
    },
    {
     "data": {
      "application/vnd.jupyter.widget-view+json": {
       "model_id": "",
       "version_major": 2,
       "version_minor": 0
      },
      "text/plain": [
       "HBox(children=(HTML(value=''), FloatProgress(value=0.0, max=94.0), HTML(value='')))"
      ]
     },
     "metadata": {},
     "output_type": "display_data"
    },
    {
     "name": "stdout",
     "output_type": "stream",
     "text": [
      "Start (p): 14, End (p): 14, Start (T): 12, End (T): 14\n",
      "\tValidation loss: 7.46271 - Distance start: 34.00 - Distance end: 36.00 [Time elapsed: 4.66 s]\n",
      "----------------------------------------------------------------------------------------------------\n",
      "Epoch 80/100\n"
     ]
    },
    {
     "data": {
      "application/vnd.jupyter.widget-view+json": {
       "model_id": "",
       "version_major": 2,
       "version_minor": 0
      },
      "text/plain": [
       "HBox(children=(HTML(value=''), FloatProgress(value=0.0, max=313.0), HTML(value='')))"
      ]
     },
     "metadata": {},
     "output_type": "display_data"
    },
    {
     "name": "stdout",
     "output_type": "stream",
     "text": [
      "Start (p): 72, End (p): 128, Start (T): 36, End (T): 41\n",
      "\tLoss: 7.21995 - Distance start: 35 - Distance end: 36 [Time elapsed: 37.99 s]\n"
     ]
    },
    {
     "data": {
      "application/vnd.jupyter.widget-view+json": {
       "model_id": "",
       "version_major": 2,
       "version_minor": 0
      },
      "text/plain": [
       "HBox(children=(HTML(value=''), FloatProgress(value=0.0, max=94.0), HTML(value='')))"
      ]
     },
     "metadata": {},
     "output_type": "display_data"
    },
    {
     "name": "stdout",
     "output_type": "stream",
     "text": [
      "Start (p): 19, End (p): 63, Start (T): 7, End (T): 9\n",
      "\tValidation loss: 7.49704 - Distance start: 34.00 - Distance end: 36.00 [Time elapsed: 4.32 s]\n",
      "----------------------------------------------------------------------------------------------------\n",
      "Epoch 81/100\n"
     ]
    },
    {
     "data": {
      "application/vnd.jupyter.widget-view+json": {
       "model_id": "",
       "version_major": 2,
       "version_minor": 0
      },
      "text/plain": [
       "HBox(children=(HTML(value=''), FloatProgress(value=0.0, max=313.0), HTML(value='')))"
      ]
     },
     "metadata": {},
     "output_type": "display_data"
    },
    {
     "name": "stdout",
     "output_type": "stream",
     "text": [
      "Start (p): 21, End (p): 64, Start (T): 77, End (T): 78\n",
      "\tLoss: 7.20448 - Distance start: 36 - Distance end: 36 [Time elapsed: 36.75 s]\n"
     ]
    },
    {
     "data": {
      "application/vnd.jupyter.widget-view+json": {
       "model_id": "",
       "version_major": 2,
       "version_minor": 0
      },
      "text/plain": [
       "HBox(children=(HTML(value=''), FloatProgress(value=0.0, max=94.0), HTML(value='')))"
      ]
     },
     "metadata": {},
     "output_type": "display_data"
    },
    {
     "name": "stdout",
     "output_type": "stream",
     "text": [
      "Start (p): 50, End (p): 51, Start (T): 1, End (T): 3\n",
      "\tValidation loss: 7.41811 - Distance start: 33.00 - Distance end: 35.00 [Time elapsed: 4.34 s]\n",
      "----------------------------------------------------------------------------------------------------\n",
      "Epoch 82/100\n"
     ]
    },
    {
     "data": {
      "application/vnd.jupyter.widget-view+json": {
       "model_id": "",
       "version_major": 2,
       "version_minor": 0
      },
      "text/plain": [
       "HBox(children=(HTML(value=''), FloatProgress(value=0.0, max=313.0), HTML(value='')))"
      ]
     },
     "metadata": {},
     "output_type": "display_data"
    },
    {
     "name": "stdout",
     "output_type": "stream",
     "text": [
      "Start (p): 16, End (p): 12, Start (T): 109, End (T): 111\n",
      "\tLoss: 7.16383 - Distance start: 36 - Distance end: 36 [Time elapsed: 36.59 s]\n"
     ]
    },
    {
     "data": {
      "application/vnd.jupyter.widget-view+json": {
       "model_id": "",
       "version_major": 2,
       "version_minor": 0
      },
      "text/plain": [
       "HBox(children=(HTML(value=''), FloatProgress(value=0.0, max=94.0), HTML(value='')))"
      ]
     },
     "metadata": {},
     "output_type": "display_data"
    },
    {
     "name": "stdout",
     "output_type": "stream",
     "text": [
      "Start (p): 11, End (p): 11, Start (T): 20, End (T): 20\n",
      "\tValidation loss: 7.42788 - Distance start: 33.00 - Distance end: 35.00 [Time elapsed: 4.22 s]\n",
      "----------------------------------------------------------------------------------------------------\n",
      "Epoch 83/100\n"
     ]
    },
    {
     "data": {
      "application/vnd.jupyter.widget-view+json": {
       "model_id": "",
       "version_major": 2,
       "version_minor": 0
      },
      "text/plain": [
       "HBox(children=(HTML(value=''), FloatProgress(value=0.0, max=313.0), HTML(value='')))"
      ]
     },
     "metadata": {},
     "output_type": "display_data"
    },
    {
     "name": "stdout",
     "output_type": "stream",
     "text": [
      "Start (p): 6, End (p): 24, Start (T): 1, End (T): 5\n",
      "\tLoss: 7.12607 - Distance start: 36 - Distance end: 36 [Time elapsed: 36.71 s]\n"
     ]
    },
    {
     "data": {
      "application/vnd.jupyter.widget-view+json": {
       "model_id": "",
       "version_major": 2,
       "version_minor": 0
      },
      "text/plain": [
       "HBox(children=(HTML(value=''), FloatProgress(value=0.0, max=94.0), HTML(value='')))"
      ]
     },
     "metadata": {},
     "output_type": "display_data"
    },
    {
     "name": "stdout",
     "output_type": "stream",
     "text": [
      "Start (p): 7, End (p): 24, Start (T): 21, End (T): 24\n",
      "\tValidation loss: 7.40336 - Distance start: 34.00 - Distance end: 34.00 [Time elapsed: 4.21 s]\n",
      "----------------------------------------------------------------------------------------------------\n",
      "Epoch 84/100\n"
     ]
    },
    {
     "data": {
      "application/vnd.jupyter.widget-view+json": {
       "model_id": "",
       "version_major": 2,
       "version_minor": 0
      },
      "text/plain": [
       "HBox(children=(HTML(value=''), FloatProgress(value=0.0, max=313.0), HTML(value='')))"
      ]
     },
     "metadata": {},
     "output_type": "display_data"
    },
    {
     "name": "stdout",
     "output_type": "stream",
     "text": [
      "Start (p): 7, End (p): 8, Start (T): 7, End (T): 8\n",
      "\tLoss: 7.09111 - Distance start: 36 - Distance end: 35 [Time elapsed: 36.55 s]\n"
     ]
    },
    {
     "data": {
      "application/vnd.jupyter.widget-view+json": {
       "model_id": "",
       "version_major": 2,
       "version_minor": 0
      },
      "text/plain": [
       "HBox(children=(HTML(value=''), FloatProgress(value=0.0, max=94.0), HTML(value='')))"
      ]
     },
     "metadata": {},
     "output_type": "display_data"
    },
    {
     "name": "stdout",
     "output_type": "stream",
     "text": [
      "Start (p): 84, End (p): 85, Start (T): 84, End (T): 88\n",
      "\tValidation loss: 7.42097 - Distance start: 34.00 - Distance end: 35.00 [Time elapsed: 4.24 s]\n",
      "----------------------------------------------------------------------------------------------------\n",
      "Epoch 85/100\n"
     ]
    },
    {
     "data": {
      "application/vnd.jupyter.widget-view+json": {
       "model_id": "",
       "version_major": 2,
       "version_minor": 0
      },
      "text/plain": [
       "HBox(children=(HTML(value=''), FloatProgress(value=0.0, max=313.0), HTML(value='')))"
      ]
     },
     "metadata": {},
     "output_type": "display_data"
    },
    {
     "name": "stdout",
     "output_type": "stream",
     "text": [
      "Start (p): 87, End (p): 72, Start (T): 18, End (T): 23\n",
      "\tLoss: 7.07063 - Distance start: 35 - Distance end: 35 [Time elapsed: 36.69 s]\n"
     ]
    },
    {
     "data": {
      "application/vnd.jupyter.widget-view+json": {
       "model_id": "",
       "version_major": 2,
       "version_minor": 0
      },
      "text/plain": [
       "HBox(children=(HTML(value=''), FloatProgress(value=0.0, max=94.0), HTML(value='')))"
      ]
     },
     "metadata": {},
     "output_type": "display_data"
    },
    {
     "name": "stdout",
     "output_type": "stream",
     "text": [
      "Start (p): 56, End (p): 12, Start (T): 15, End (T): 32\n",
      "\tValidation loss: 7.40648 - Distance start: 34.00 - Distance end: 37.00 [Time elapsed: 4.17 s]\n",
      "----------------------------------------------------------------------------------------------------\n",
      "Epoch 86/100\n"
     ]
    },
    {
     "data": {
      "application/vnd.jupyter.widget-view+json": {
       "model_id": "",
       "version_major": 2,
       "version_minor": 0
      },
      "text/plain": [
       "HBox(children=(HTML(value=''), FloatProgress(value=0.0, max=313.0), HTML(value='')))"
      ]
     },
     "metadata": {},
     "output_type": "display_data"
    },
    {
     "name": "stdout",
     "output_type": "stream",
     "text": [
      "Start (p): 29, End (p): 19, Start (T): 159, End (T): 164\n",
      "\tLoss: 7.05489 - Distance start: 35 - Distance end: 35 [Time elapsed: 36.98 s]\n"
     ]
    },
    {
     "data": {
      "application/vnd.jupyter.widget-view+json": {
       "model_id": "",
       "version_major": 2,
       "version_minor": 0
      },
      "text/plain": [
       "HBox(children=(HTML(value=''), FloatProgress(value=0.0, max=94.0), HTML(value='')))"
      ]
     },
     "metadata": {},
     "output_type": "display_data"
    },
    {
     "name": "stdout",
     "output_type": "stream",
     "text": [
      "Start (p): 43, End (p): 46, Start (T): 19, End (T): 20\n",
      "\tValidation loss: 7.46133 - Distance start: 34.00 - Distance end: 35.00 [Time elapsed: 4.65 s]\n",
      "----------------------------------------------------------------------------------------------------\n",
      "Epoch 87/100\n"
     ]
    },
    {
     "data": {
      "application/vnd.jupyter.widget-view+json": {
       "model_id": "",
       "version_major": 2,
       "version_minor": 0
      },
      "text/plain": [
       "HBox(children=(HTML(value=''), FloatProgress(value=0.0, max=313.0), HTML(value='')))"
      ]
     },
     "metadata": {},
     "output_type": "display_data"
    },
    {
     "name": "stdout",
     "output_type": "stream",
     "text": [
      "Start (p): 26, End (p): 30, Start (T): 0, End (T): 1\n",
      "\tLoss: 7.02478 - Distance start: 35 - Distance end: 35 [Time elapsed: 37.41 s]\n"
     ]
    },
    {
     "data": {
      "application/vnd.jupyter.widget-view+json": {
       "model_id": "",
       "version_major": 2,
       "version_minor": 0
      },
      "text/plain": [
       "HBox(children=(HTML(value=''), FloatProgress(value=0.0, max=94.0), HTML(value='')))"
      ]
     },
     "metadata": {},
     "output_type": "display_data"
    },
    {
     "name": "stdout",
     "output_type": "stream",
     "text": [
      "Start (p): 4, End (p): 4, Start (T): 47, End (T): 48\n",
      "\tValidation loss: 7.48861 - Distance start: 34.00 - Distance end: 35.00 [Time elapsed: 4.30 s]\n",
      "----------------------------------------------------------------------------------------------------\n",
      "Epoch 88/100\n"
     ]
    },
    {
     "data": {
      "application/vnd.jupyter.widget-view+json": {
       "model_id": "",
       "version_major": 2,
       "version_minor": 0
      },
      "text/plain": [
       "HBox(children=(HTML(value=''), FloatProgress(value=0.0, max=313.0), HTML(value='')))"
      ]
     },
     "metadata": {},
     "output_type": "display_data"
    },
    {
     "name": "stdout",
     "output_type": "stream",
     "text": [
      "Start (p): 42, End (p): 45, Start (T): 6, End (T): 6\n",
      "\tLoss: 7.01786 - Distance start: 35 - Distance end: 36 [Time elapsed: 36.86 s]\n"
     ]
    },
    {
     "data": {
      "application/vnd.jupyter.widget-view+json": {
       "model_id": "",
       "version_major": 2,
       "version_minor": 0
      },
      "text/plain": [
       "HBox(children=(HTML(value=''), FloatProgress(value=0.0, max=94.0), HTML(value='')))"
      ]
     },
     "metadata": {},
     "output_type": "display_data"
    },
    {
     "name": "stdout",
     "output_type": "stream",
     "text": [
      "Start (p): 39, End (p): 80, Start (T): 2, End (T): 2\n",
      "\tValidation loss: 7.39142 - Distance start: 33.00 - Distance end: 36.00 [Time elapsed: 4.33 s]\n",
      "----------------------------------------------------------------------------------------------------\n",
      "Epoch 89/100\n"
     ]
    },
    {
     "data": {
      "application/vnd.jupyter.widget-view+json": {
       "model_id": "",
       "version_major": 2,
       "version_minor": 0
      },
      "text/plain": [
       "HBox(children=(HTML(value=''), FloatProgress(value=0.0, max=313.0), HTML(value='')))"
      ]
     },
     "metadata": {},
     "output_type": "display_data"
    },
    {
     "name": "stdout",
     "output_type": "stream",
     "text": [
      "Start (p): 27, End (p): 84, Start (T): 5, End (T): 6\n",
      "\tLoss: 6.97911 - Distance start: 35 - Distance end: 35 [Time elapsed: 37.01 s]\n"
     ]
    },
    {
     "data": {
      "application/vnd.jupyter.widget-view+json": {
       "model_id": "",
       "version_major": 2,
       "version_minor": 0
      },
      "text/plain": [
       "HBox(children=(HTML(value=''), FloatProgress(value=0.0, max=94.0), HTML(value='')))"
      ]
     },
     "metadata": {},
     "output_type": "display_data"
    },
    {
     "name": "stdout",
     "output_type": "stream",
     "text": [
      "Start (p): 31, End (p): 32, Start (T): 203, End (T): 205\n",
      "\tValidation loss: 7.41336 - Distance start: 33.00 - Distance end: 35.00 [Time elapsed: 4.24 s]\n",
      "----------------------------------------------------------------------------------------------------\n",
      "Epoch 90/100\n"
     ]
    },
    {
     "data": {
      "application/vnd.jupyter.widget-view+json": {
       "model_id": "",
       "version_major": 2,
       "version_minor": 0
      },
      "text/plain": [
       "HBox(children=(HTML(value=''), FloatProgress(value=0.0, max=313.0), HTML(value='')))"
      ]
     },
     "metadata": {},
     "output_type": "display_data"
    },
    {
     "name": "stdout",
     "output_type": "stream",
     "text": [
      "Start (p): 79, End (p): 112, Start (T): 13, End (T): 14\n",
      "\tLoss: 6.94992 - Distance start: 35 - Distance end: 35 [Time elapsed: 36.52 s]\n"
     ]
    },
    {
     "data": {
      "application/vnd.jupyter.widget-view+json": {
       "model_id": "",
       "version_major": 2,
       "version_minor": 0
      },
      "text/plain": [
       "HBox(children=(HTML(value=''), FloatProgress(value=0.0, max=94.0), HTML(value='')))"
      ]
     },
     "metadata": {},
     "output_type": "display_data"
    },
    {
     "name": "stdout",
     "output_type": "stream",
     "text": [
      "Start (p): 5, End (p): 10, Start (T): 38, End (T): 40\n",
      "\tValidation loss: 7.42361 - Distance start: 35.00 - Distance end: 35.00 [Time elapsed: 4.28 s]\n",
      "----------------------------------------------------------------------------------------------------\n",
      "Epoch 91/100\n"
     ]
    },
    {
     "data": {
      "application/vnd.jupyter.widget-view+json": {
       "model_id": "",
       "version_major": 2,
       "version_minor": 0
      },
      "text/plain": [
       "HBox(children=(HTML(value=''), FloatProgress(value=0.0, max=313.0), HTML(value='')))"
      ]
     },
     "metadata": {},
     "output_type": "display_data"
    },
    {
     "name": "stdout",
     "output_type": "stream",
     "text": [
      "Start (p): 4, End (p): 19, Start (T): 19, End (T): 19\n",
      "\tLoss: 6.90870 - Distance start: 35 - Distance end: 36 [Time elapsed: 36.67 s]\n"
     ]
    },
    {
     "data": {
      "application/vnd.jupyter.widget-view+json": {
       "model_id": "",
       "version_major": 2,
       "version_minor": 0
      },
      "text/plain": [
       "HBox(children=(HTML(value=''), FloatProgress(value=0.0, max=94.0), HTML(value='')))"
      ]
     },
     "metadata": {},
     "output_type": "display_data"
    },
    {
     "name": "stdout",
     "output_type": "stream",
     "text": [
      "Start (p): 17, End (p): 18, Start (T): 75, End (T): 78\n",
      "\tValidation loss: 7.41830 - Distance start: 33.00 - Distance end: 34.00 [Time elapsed: 4.22 s]\n",
      "----------------------------------------------------------------------------------------------------\n",
      "Epoch 92/100\n"
     ]
    },
    {
     "data": {
      "application/vnd.jupyter.widget-view+json": {
       "model_id": "",
       "version_major": 2,
       "version_minor": 0
      },
      "text/plain": [
       "HBox(children=(HTML(value=''), FloatProgress(value=0.0, max=313.0), HTML(value='')))"
      ]
     },
     "metadata": {},
     "output_type": "display_data"
    },
    {
     "name": "stdout",
     "output_type": "stream",
     "text": [
      "Start (p): 77, End (p): 10, Start (T): 77, End (T): 79\n",
      "\tLoss: 6.88626 - Distance start: 35 - Distance end: 35 [Time elapsed: 36.58 s]\n"
     ]
    },
    {
     "data": {
      "application/vnd.jupyter.widget-view+json": {
       "model_id": "",
       "version_major": 2,
       "version_minor": 0
      },
      "text/plain": [
       "HBox(children=(HTML(value=''), FloatProgress(value=0.0, max=94.0), HTML(value='')))"
      ]
     },
     "metadata": {},
     "output_type": "display_data"
    },
    {
     "name": "stdout",
     "output_type": "stream",
     "text": [
      "Start (p): 39, End (p): 10, Start (T): 61, End (T): 61\n",
      "\tValidation loss: 7.39293 - Distance start: 33.00 - Distance end: 34.00 [Time elapsed: 4.26 s]\n",
      "----------------------------------------------------------------------------------------------------\n",
      "Epoch 93/100\n"
     ]
    },
    {
     "data": {
      "application/vnd.jupyter.widget-view+json": {
       "model_id": "",
       "version_major": 2,
       "version_minor": 0
      },
      "text/plain": [
       "HBox(children=(HTML(value=''), FloatProgress(value=0.0, max=313.0), HTML(value='')))"
      ]
     },
     "metadata": {},
     "output_type": "display_data"
    },
    {
     "name": "stdout",
     "output_type": "stream",
     "text": [
      "Start (p): 1, End (p): 3, Start (T): 0, End (T): 3\n",
      "\tLoss: 6.86206 - Distance start: 35 - Distance end: 36 [Time elapsed: 36.51 s]\n"
     ]
    },
    {
     "data": {
      "application/vnd.jupyter.widget-view+json": {
       "model_id": "",
       "version_major": 2,
       "version_minor": 0
      },
      "text/plain": [
       "HBox(children=(HTML(value=''), FloatProgress(value=0.0, max=94.0), HTML(value='')))"
      ]
     },
     "metadata": {},
     "output_type": "display_data"
    },
    {
     "name": "stdout",
     "output_type": "stream",
     "text": [
      "Start (p): 64, End (p): 93, Start (T): 108, End (T): 108\n",
      "\tValidation loss: 7.42011 - Distance start: 34.00 - Distance end: 35.00 [Time elapsed: 4.22 s]\n",
      "----------------------------------------------------------------------------------------------------\n",
      "Epoch 94/100\n"
     ]
    },
    {
     "data": {
      "application/vnd.jupyter.widget-view+json": {
       "model_id": "",
       "version_major": 2,
       "version_minor": 0
      },
      "text/plain": [
       "HBox(children=(HTML(value=''), FloatProgress(value=0.0, max=313.0), HTML(value='')))"
      ]
     },
     "metadata": {},
     "output_type": "display_data"
    },
    {
     "name": "stdout",
     "output_type": "stream",
     "text": [
      "Start (p): 22, End (p): 104, Start (T): 22, End (T): 23\n",
      "\tLoss: 6.84489 - Distance start: 35 - Distance end: 35 [Time elapsed: 36.48 s]\n"
     ]
    },
    {
     "data": {
      "application/vnd.jupyter.widget-view+json": {
       "model_id": "",
       "version_major": 2,
       "version_minor": 0
      },
      "text/plain": [
       "HBox(children=(HTML(value=''), FloatProgress(value=0.0, max=94.0), HTML(value='')))"
      ]
     },
     "metadata": {},
     "output_type": "display_data"
    },
    {
     "name": "stdout",
     "output_type": "stream",
     "text": [
      "Start (p): 37, End (p): 22, Start (T): 37, End (T): 41\n",
      "\tValidation loss: 7.44518 - Distance start: 34.00 - Distance end: 35.00 [Time elapsed: 4.24 s]\n",
      "----------------------------------------------------------------------------------------------------\n",
      "Epoch 95/100\n"
     ]
    },
    {
     "data": {
      "application/vnd.jupyter.widget-view+json": {
       "model_id": "",
       "version_major": 2,
       "version_minor": 0
      },
      "text/plain": [
       "HBox(children=(HTML(value=''), FloatProgress(value=0.0, max=313.0), HTML(value='')))"
      ]
     },
     "metadata": {},
     "output_type": "display_data"
    },
    {
     "name": "stdout",
     "output_type": "stream",
     "text": [
      "Start (p): 33, End (p): 34, Start (T): 156, End (T): 157\n",
      "\tLoss: 6.81892 - Distance start: 35 - Distance end: 36 [Time elapsed: 36.93 s]\n"
     ]
    },
    {
     "data": {
      "application/vnd.jupyter.widget-view+json": {
       "model_id": "",
       "version_major": 2,
       "version_minor": 0
      },
      "text/plain": [
       "HBox(children=(HTML(value=''), FloatProgress(value=0.0, max=94.0), HTML(value='')))"
      ]
     },
     "metadata": {},
     "output_type": "display_data"
    },
    {
     "name": "stdout",
     "output_type": "stream",
     "text": [
      "Start (p): 56, End (p): 11, Start (T): 108, End (T): 110\n",
      "\tValidation loss: 7.47181 - Distance start: 35.00 - Distance end: 35.00 [Time elapsed: 4.21 s]\n",
      "----------------------------------------------------------------------------------------------------\n",
      "Epoch 96/100\n"
     ]
    },
    {
     "data": {
      "application/vnd.jupyter.widget-view+json": {
       "model_id": "",
       "version_major": 2,
       "version_minor": 0
      },
      "text/plain": [
       "HBox(children=(HTML(value=''), FloatProgress(value=0.0, max=313.0), HTML(value='')))"
      ]
     },
     "metadata": {},
     "output_type": "display_data"
    },
    {
     "name": "stdout",
     "output_type": "stream",
     "text": [
      "Start (p): 64, End (p): 55, Start (T): 5, End (T): 10\n",
      "\tLoss: 6.80795 - Distance start: 35 - Distance end: 35 [Time elapsed: 36.48 s]\n"
     ]
    },
    {
     "data": {
      "application/vnd.jupyter.widget-view+json": {
       "model_id": "",
       "version_major": 2,
       "version_minor": 0
      },
      "text/plain": [
       "HBox(children=(HTML(value=''), FloatProgress(value=0.0, max=94.0), HTML(value='')))"
      ]
     },
     "metadata": {},
     "output_type": "display_data"
    },
    {
     "name": "stdout",
     "output_type": "stream",
     "text": [
      "Start (p): 19, End (p): 79, Start (T): 4, End (T): 9\n",
      "\tValidation loss: 7.38113 - Distance start: 33.00 - Distance end: 35.00 [Time elapsed: 4.25 s]\n",
      "----------------------------------------------------------------------------------------------------\n",
      "Epoch 97/100\n"
     ]
    },
    {
     "data": {
      "application/vnd.jupyter.widget-view+json": {
       "model_id": "",
       "version_major": 2,
       "version_minor": 0
      },
      "text/plain": [
       "HBox(children=(HTML(value=''), FloatProgress(value=0.0, max=313.0), HTML(value='')))"
      ]
     },
     "metadata": {},
     "output_type": "display_data"
    },
    {
     "name": "stdout",
     "output_type": "stream",
     "text": [
      "Start (p): 19, End (p): 13, Start (T): 12, End (T): 13\n",
      "\tLoss: 6.79002 - Distance start: 35 - Distance end: 35 [Time elapsed: 36.66 s]\n"
     ]
    },
    {
     "data": {
      "application/vnd.jupyter.widget-view+json": {
       "model_id": "",
       "version_major": 2,
       "version_minor": 0
      },
      "text/plain": [
       "HBox(children=(HTML(value=''), FloatProgress(value=0.0, max=94.0), HTML(value='')))"
      ]
     },
     "metadata": {},
     "output_type": "display_data"
    },
    {
     "name": "stdout",
     "output_type": "stream",
     "text": [
      "Start (p): 10, End (p): 10, Start (T): 11, End (T): 11\n",
      "\tValidation loss: 7.48797 - Distance start: 34.00 - Distance end: 34.00 [Time elapsed: 4.24 s]\n",
      "----------------------------------------------------------------------------------------------------\n",
      "Epoch 98/100\n"
     ]
    },
    {
     "data": {
      "application/vnd.jupyter.widget-view+json": {
       "model_id": "",
       "version_major": 2,
       "version_minor": 0
      },
      "text/plain": [
       "HBox(children=(HTML(value=''), FloatProgress(value=0.0, max=313.0), HTML(value='')))"
      ]
     },
     "metadata": {},
     "output_type": "display_data"
    },
    {
     "name": "stdout",
     "output_type": "stream",
     "text": [
      "Start (p): 28, End (p): 29, Start (T): 89, End (T): 89\n",
      "\tLoss: 6.75511 - Distance start: 35 - Distance end: 35 [Time elapsed: 36.52 s]\n"
     ]
    },
    {
     "data": {
      "application/vnd.jupyter.widget-view+json": {
       "model_id": "",
       "version_major": 2,
       "version_minor": 0
      },
      "text/plain": [
       "HBox(children=(HTML(value=''), FloatProgress(value=0.0, max=94.0), HTML(value='')))"
      ]
     },
     "metadata": {},
     "output_type": "display_data"
    },
    {
     "name": "stdout",
     "output_type": "stream",
     "text": [
      "Start (p): 26, End (p): 19, Start (T): 0, End (T): 0\n",
      "\tValidation loss: 7.44851 - Distance start: 34.00 - Distance end: 35.00 [Time elapsed: 4.32 s]\n",
      "----------------------------------------------------------------------------------------------------\n",
      "Epoch 99/100\n"
     ]
    },
    {
     "data": {
      "application/vnd.jupyter.widget-view+json": {
       "model_id": "",
       "version_major": 2,
       "version_minor": 0
      },
      "text/plain": [
       "HBox(children=(HTML(value=''), FloatProgress(value=0.0, max=313.0), HTML(value='')))"
      ]
     },
     "metadata": {},
     "output_type": "display_data"
    },
    {
     "name": "stdout",
     "output_type": "stream",
     "text": [
      "Start (p): 48, End (p): 49, Start (T): 21, End (T): 22\n",
      "\tLoss: 6.73548 - Distance start: 35 - Distance end: 35 [Time elapsed: 36.48 s]\n"
     ]
    },
    {
     "data": {
      "application/vnd.jupyter.widget-view+json": {
       "model_id": "",
       "version_major": 2,
       "version_minor": 0
      },
      "text/plain": [
       "HBox(children=(HTML(value=''), FloatProgress(value=0.0, max=94.0), HTML(value='')))"
      ]
     },
     "metadata": {},
     "output_type": "display_data"
    },
    {
     "name": "stdout",
     "output_type": "stream",
     "text": [
      "Start (p): 24, End (p): 38, Start (T): 57, End (T): 61\n",
      "\tValidation loss: 7.37890 - Distance start: 34.00 - Distance end: 34.00 [Time elapsed: 4.24 s]\n",
      "----------------------------------------------------------------------------------------------------\n",
      "Epoch 100/100\n"
     ]
    },
    {
     "data": {
      "application/vnd.jupyter.widget-view+json": {
       "model_id": "",
       "version_major": 2,
       "version_minor": 0
      },
      "text/plain": [
       "HBox(children=(HTML(value=''), FloatProgress(value=0.0, max=313.0), HTML(value='')))"
      ]
     },
     "metadata": {},
     "output_type": "display_data"
    },
    {
     "name": "stdout",
     "output_type": "stream",
     "text": [
      "Start (p): 158, End (p): 3, Start (T): 72, End (T): 77\n",
      "\tLoss: 6.72358 - Distance start: 35 - Distance end: 35 [Time elapsed: 36.65 s]\n"
     ]
    },
    {
     "data": {
      "application/vnd.jupyter.widget-view+json": {
       "model_id": "",
       "version_major": 2,
       "version_minor": 0
      },
      "text/plain": [
       "HBox(children=(HTML(value=''), FloatProgress(value=0.0, max=94.0), HTML(value='')))"
      ]
     },
     "metadata": {},
     "output_type": "display_data"
    },
    {
     "name": "stdout",
     "output_type": "stream",
     "text": [
      "Start (p): 8, End (p): 63, Start (T): 60, End (T): 63\n",
      "\tValidation loss: 7.46228 - Distance start: 34.00 - Distance end: 34.00 [Time elapsed: 4.22 s]\n"
     ]
    }
   ],
   "source": [
    "from utils.bidaf_loss import bidaf_loss\n",
    "\n",
    "train_data = to_list_of_tuples((X_trainC, X_trainQ, Y_train))\n",
    "val_data = to_list_of_tuples((X_valC, X_valQ, Y_val))\n",
    "\n",
    "EP = 100\n",
    "BS = 32\n",
    "\n",
    "optimizer = torch.optim.Adam(model_bidaf.parameters(), lr=5e-3)\n",
    "#optimizer = torch.optim.Adadelta(model_bidaf.parameters(), lr=0.5, rho=0.999, eps=1e-06, weight_decay=0) # slower in time and in loss\n",
    "criterion = bidaf_loss\n",
    "\n",
    "history = training_loop(model=model_bidaf,\n",
    "                        train_data=train_data,\n",
    "                        optimizer=optimizer,\n",
    "                        epochs=EP,\n",
    "                        batch_size=BS,\n",
    "                        criterion=criterion,\n",
    "                        train_tensor_maker=train_tensor_maker,\n",
    "                        val_tensor_maker=val_tensor_maker,\n",
    "                        val_data=val_data,\n",
    "                        early_stopping=False,\n",
    "                        patience = 15,\n",
    "                        checkpoint_path='bidaf_baseline.pt')"
   ]
  },
  {
   "cell_type": "markdown",
   "metadata": {},
   "source": [
    "# trying the constraint:"
   ]
  },
  {
   "cell_type": "code",
   "execution_count": 53,
   "metadata": {},
   "outputs": [],
   "source": [
    "from model.bidaf import BiDAF\n",
    "from model.char_embedder import CharEmbedder\n",
    "from model.word_embedder import WordEmbedder\n",
    "from model.tensor_maker import TensorMaker\n",
    "\n",
    "char_embedder = CharEmbedder(init_emb = torch.FloatTensor(char_emb_mtx),\n",
    "                             out_char_emb_dim = emb_dim,\n",
    "                             hidden_dim = 64,\n",
    "                             input_channels = 1,\n",
    "                             output_channels = 100,\n",
    "                             kernel_height = 5,\n",
    "                             trainable = False)\n",
    "\n",
    "train_word_embedder = WordEmbedder(init_emb = torch.FloatTensor(train_emb_mtx))\n",
    "val_word_embedder = WordEmbedder(init_emb = torch.FloatTensor(val_emb_mtx))\n",
    "\n",
    "model_bidaf = BiDAF(char_embedder, train_word_embedder, val_word_embedder, use_constraint = True).to(DEVICE)\n",
    "\n",
    "train_tensor_maker = TensorMaker(train_w2i, c2i, device=DEVICE)\n",
    "val_tensor_maker = TensorMaker(val_w2i, c2i, device=DEVICE)"
   ]
  },
  {
   "cell_type": "code",
   "execution_count": 54,
   "metadata": {},
   "outputs": [
    {
     "name": "stdout",
     "output_type": "stream",
     "text": [
      "----------------------------------------------------------------------------------------------------\n",
      "Epoch 1/100\n"
     ]
    },
    {
     "data": {
      "application/vnd.jupyter.widget-view+json": {
       "model_id": "",
       "version_major": 2,
       "version_minor": 0
      },
      "text/plain": [
       "HBox(children=(HTML(value=''), FloatProgress(value=0.0, max=313.0), HTML(value='')))"
      ]
     },
     "metadata": {},
     "output_type": "display_data"
    },
    {
     "name": "stdout",
     "output_type": "stream",
     "text": [
      "Start (p): 63, End (p): 12, Start (T): 44, End (T): 45\n",
      "\tLoss: 7.42227 - Distance start: 37 - Distance end: 37 [Time elapsed: 38.46 s]\n"
     ]
    },
    {
     "data": {
      "application/vnd.jupyter.widget-view+json": {
       "model_id": "",
       "version_major": 2,
       "version_minor": 0
      },
      "text/plain": [
       "HBox(children=(HTML(value=''), FloatProgress(value=0.0, max=94.0), HTML(value='')))"
      ]
     },
     "metadata": {},
     "output_type": "display_data"
    },
    {
     "name": "stdout",
     "output_type": "stream",
     "text": [
      "Start (p): 24, End (p): 7, Start (T): 6, End (T): 7\n",
      "\tValidation loss: 6.91218 - Distance start: 35.00 - Distance end: 34.00 [Time elapsed: 4.29 s]\n",
      "----------------------------------------------------------------------------------------------------\n",
      "Epoch 2/100\n"
     ]
    },
    {
     "data": {
      "application/vnd.jupyter.widget-view+json": {
       "model_id": "",
       "version_major": 2,
       "version_minor": 0
      },
      "text/plain": [
       "HBox(children=(HTML(value=''), FloatProgress(value=0.0, max=313.0), HTML(value='')))"
      ]
     },
     "metadata": {},
     "output_type": "display_data"
    },
    {
     "name": "stdout",
     "output_type": "stream",
     "text": [
      "Start (p): 69, End (p): 48, Start (T): 78, End (T): 81\n",
      "\tLoss: 6.51461 - Distance start: 35 - Distance end: 35 [Time elapsed: 37.54 s]\n"
     ]
    },
    {
     "data": {
      "application/vnd.jupyter.widget-view+json": {
       "model_id": "",
       "version_major": 2,
       "version_minor": 0
      },
      "text/plain": [
       "HBox(children=(HTML(value=''), FloatProgress(value=0.0, max=94.0), HTML(value='')))"
      ]
     },
     "metadata": {},
     "output_type": "display_data"
    },
    {
     "name": "stdout",
     "output_type": "stream",
     "text": [
      "Start (p): 8, End (p): 8, Start (T): 164, End (T): 166\n",
      "\tValidation loss: 6.37157 - Distance start: 33.00 - Distance end: 34.00 [Time elapsed: 4.31 s]\n",
      "----------------------------------------------------------------------------------------------------\n",
      "Epoch 3/100\n"
     ]
    },
    {
     "data": {
      "application/vnd.jupyter.widget-view+json": {
       "model_id": "",
       "version_major": 2,
       "version_minor": 0
      },
      "text/plain": [
       "HBox(children=(HTML(value=''), FloatProgress(value=0.0, max=313.0), HTML(value='')))"
      ]
     },
     "metadata": {},
     "output_type": "display_data"
    },
    {
     "name": "stdout",
     "output_type": "stream",
     "text": [
      "Start (p): 0, End (p): 157, Start (T): 153, End (T): 157\n",
      "\tLoss: 6.01479 - Distance start: 32 - Distance end: 33 [Time elapsed: 39.34 s]\n"
     ]
    },
    {
     "data": {
      "application/vnd.jupyter.widget-view+json": {
       "model_id": "",
       "version_major": 2,
       "version_minor": 0
      },
      "text/plain": [
       "HBox(children=(HTML(value=''), FloatProgress(value=0.0, max=94.0), HTML(value='')))"
      ]
     },
     "metadata": {},
     "output_type": "display_data"
    },
    {
     "name": "stdout",
     "output_type": "stream",
     "text": [
      "Start (p): 80, End (p): 74, Start (T): 7, End (T): 7\n",
      "\tValidation loss: 6.10884 - Distance start: 32.00 - Distance end: 32.00 [Time elapsed: 4.32 s]\n",
      "----------------------------------------------------------------------------------------------------\n",
      "Epoch 4/100\n"
     ]
    },
    {
     "data": {
      "application/vnd.jupyter.widget-view+json": {
       "model_id": "",
       "version_major": 2,
       "version_minor": 0
      },
      "text/plain": [
       "HBox(children=(HTML(value=''), FloatProgress(value=0.0, max=313.0), HTML(value='')))"
      ]
     },
     "metadata": {},
     "output_type": "display_data"
    },
    {
     "name": "stdout",
     "output_type": "stream",
     "text": [
      "Start (p): 37, End (p): 0, Start (T): 67, End (T): 68\n",
      "\tLoss: 5.73731 - Distance start: 32 - Distance end: 32 [Time elapsed: 39.90 s]\n"
     ]
    },
    {
     "data": {
      "application/vnd.jupyter.widget-view+json": {
       "model_id": "",
       "version_major": 2,
       "version_minor": 0
      },
      "text/plain": [
       "HBox(children=(HTML(value=''), FloatProgress(value=0.0, max=94.0), HTML(value='')))"
      ]
     },
     "metadata": {},
     "output_type": "display_data"
    },
    {
     "name": "stdout",
     "output_type": "stream",
     "text": [
      "Start (p): 50, End (p): 7, Start (T): 6, End (T): 7\n",
      "\tValidation loss: 6.02686 - Distance start: 31.00 - Distance end: 31.00 [Time elapsed: 4.40 s]\n",
      "----------------------------------------------------------------------------------------------------\n",
      "Epoch 5/100\n"
     ]
    },
    {
     "data": {
      "application/vnd.jupyter.widget-view+json": {
       "model_id": "",
       "version_major": 2,
       "version_minor": 0
      },
      "text/plain": [
       "HBox(children=(HTML(value=''), FloatProgress(value=0.0, max=313.0), HTML(value='')))"
      ]
     },
     "metadata": {},
     "output_type": "display_data"
    },
    {
     "name": "stdout",
     "output_type": "stream",
     "text": [
      "Start (p): 11, End (p): 46, Start (T): 21, End (T): 24\n",
      "\tLoss: 5.51322 - Distance start: 31 - Distance end: 31 [Time elapsed: 38.11 s]\n"
     ]
    },
    {
     "data": {
      "application/vnd.jupyter.widget-view+json": {
       "model_id": "",
       "version_major": 2,
       "version_minor": 0
      },
      "text/plain": [
       "HBox(children=(HTML(value=''), FloatProgress(value=0.0, max=94.0), HTML(value='')))"
      ]
     },
     "metadata": {},
     "output_type": "display_data"
    },
    {
     "name": "stdout",
     "output_type": "stream",
     "text": [
      "Start (p): 162, End (p): 73, Start (T): 170, End (T): 174\n",
      "\tValidation loss: 5.94240 - Distance start: 31.00 - Distance end: 30.00 [Time elapsed: 4.40 s]\n",
      "----------------------------------------------------------------------------------------------------\n",
      "Epoch 6/100\n"
     ]
    },
    {
     "data": {
      "application/vnd.jupyter.widget-view+json": {
       "model_id": "",
       "version_major": 2,
       "version_minor": 0
      },
      "text/plain": [
       "HBox(children=(HTML(value=''), FloatProgress(value=0.0, max=313.0), HTML(value='')))"
      ]
     },
     "metadata": {},
     "output_type": "display_data"
    },
    {
     "name": "stdout",
     "output_type": "stream",
     "text": [
      "Start (p): 58, End (p): 63, Start (T): 2, End (T): 3\n",
      "\tLoss: 5.32735 - Distance start: 30 - Distance end: 30 [Time elapsed: 38.83 s]\n"
     ]
    },
    {
     "data": {
      "application/vnd.jupyter.widget-view+json": {
       "model_id": "",
       "version_major": 2,
       "version_minor": 0
      },
      "text/plain": [
       "HBox(children=(HTML(value=''), FloatProgress(value=0.0, max=94.0), HTML(value='')))"
      ]
     },
     "metadata": {},
     "output_type": "display_data"
    },
    {
     "name": "stdout",
     "output_type": "stream",
     "text": [
      "Start (p): 101, End (p): 103, Start (T): 85, End (T): 90\n",
      "\tValidation loss: 5.94092 - Distance start: 31.00 - Distance end: 31.00 [Time elapsed: 4.26 s]\n",
      "----------------------------------------------------------------------------------------------------\n",
      "Epoch 7/100\n"
     ]
    },
    {
     "data": {
      "application/vnd.jupyter.widget-view+json": {
       "model_id": "",
       "version_major": 2,
       "version_minor": 0
      },
      "text/plain": [
       "HBox(children=(HTML(value=''), FloatProgress(value=0.0, max=313.0), HTML(value='')))"
      ]
     },
     "metadata": {},
     "output_type": "display_data"
    },
    {
     "name": "stdout",
     "output_type": "stream",
     "text": [
      "Start (p): 94, End (p): 17, Start (T): 94, End (T): 96\n",
      "\tLoss: 5.18314 - Distance start: 29 - Distance end: 30 [Time elapsed: 37.49 s]\n"
     ]
    },
    {
     "data": {
      "application/vnd.jupyter.widget-view+json": {
       "model_id": "",
       "version_major": 2,
       "version_minor": 0
      },
      "text/plain": [
       "HBox(children=(HTML(value=''), FloatProgress(value=0.0, max=94.0), HTML(value='')))"
      ]
     },
     "metadata": {},
     "output_type": "display_data"
    },
    {
     "name": "stdout",
     "output_type": "stream",
     "text": [
      "Start (p): 67, End (p): 67, Start (T): 16, End (T): 16\n",
      "\tValidation loss: 5.98059 - Distance start: 31.00 - Distance end: 32.00 [Time elapsed: 4.68 s]\n",
      "----------------------------------------------------------------------------------------------------\n",
      "Epoch 8/100\n"
     ]
    },
    {
     "data": {
      "application/vnd.jupyter.widget-view+json": {
       "model_id": "",
       "version_major": 2,
       "version_minor": 0
      },
      "text/plain": [
       "HBox(children=(HTML(value=''), FloatProgress(value=0.0, max=313.0), HTML(value='')))"
      ]
     },
     "metadata": {},
     "output_type": "display_data"
    },
    {
     "name": "stdout",
     "output_type": "stream",
     "text": [
      "Start (p): 15, End (p): 52, Start (T): 35, End (T): 37\n",
      "\tLoss: 5.05100 - Distance start: 29 - Distance end: 29 [Time elapsed: 37.86 s]\n"
     ]
    },
    {
     "data": {
      "application/vnd.jupyter.widget-view+json": {
       "model_id": "",
       "version_major": 2,
       "version_minor": 0
      },
      "text/plain": [
       "HBox(children=(HTML(value=''), FloatProgress(value=0.0, max=94.0), HTML(value='')))"
      ]
     },
     "metadata": {},
     "output_type": "display_data"
    },
    {
     "name": "stdout",
     "output_type": "stream",
     "text": [
      "Start (p): 6, End (p): 6, Start (T): 19, End (T): 20\n",
      "\tValidation loss: 5.91313 - Distance start: 31.00 - Distance end: 30.00 [Time elapsed: 4.27 s]\n",
      "----------------------------------------------------------------------------------------------------\n",
      "Epoch 9/100\n"
     ]
    },
    {
     "data": {
      "application/vnd.jupyter.widget-view+json": {
       "model_id": "",
       "version_major": 2,
       "version_minor": 0
      },
      "text/plain": [
       "HBox(children=(HTML(value=''), FloatProgress(value=0.0, max=313.0), HTML(value='')))"
      ]
     },
     "metadata": {},
     "output_type": "display_data"
    },
    {
     "name": "stdout",
     "output_type": "stream",
     "text": [
      "Start (p): 33, End (p): 133, Start (T): 75, End (T): 75\n",
      "\tLoss: 4.92137 - Distance start: 28 - Distance end: 28 [Time elapsed: 39.04 s]\n"
     ]
    },
    {
     "data": {
      "application/vnd.jupyter.widget-view+json": {
       "model_id": "",
       "version_major": 2,
       "version_minor": 0
      },
      "text/plain": [
       "HBox(children=(HTML(value=''), FloatProgress(value=0.0, max=94.0), HTML(value='')))"
      ]
     },
     "metadata": {},
     "output_type": "display_data"
    },
    {
     "name": "stdout",
     "output_type": "stream",
     "text": [
      "Start (p): 22, End (p): 11, Start (T): 30, End (T): 32\n",
      "\tValidation loss: 5.98115 - Distance start: 31.00 - Distance end: 30.00 [Time elapsed: 4.42 s]\n",
      "----------------------------------------------------------------------------------------------------\n",
      "Epoch 10/100\n"
     ]
    },
    {
     "data": {
      "application/vnd.jupyter.widget-view+json": {
       "model_id": "",
       "version_major": 2,
       "version_minor": 0
      },
      "text/plain": [
       "HBox(children=(HTML(value=''), FloatProgress(value=0.0, max=313.0), HTML(value='')))"
      ]
     },
     "metadata": {},
     "output_type": "display_data"
    },
    {
     "name": "stdout",
     "output_type": "stream",
     "text": [
      "Start (p): 62, End (p): 67, Start (T): 95, End (T): 96\n",
      "\tLoss: 4.81633 - Distance start: 27 - Distance end: 28 [Time elapsed: 37.58 s]\n"
     ]
    },
    {
     "data": {
      "application/vnd.jupyter.widget-view+json": {
       "model_id": "",
       "version_major": 2,
       "version_minor": 0
      },
      "text/plain": [
       "HBox(children=(HTML(value=''), FloatProgress(value=0.0, max=94.0), HTML(value='')))"
      ]
     },
     "metadata": {},
     "output_type": "display_data"
    },
    {
     "name": "stdout",
     "output_type": "stream",
     "text": [
      "Start (p): 20, End (p): 20, Start (T): 20, End (T): 22\n",
      "\tValidation loss: 6.10372 - Distance start: 30.00 - Distance end: 31.00 [Time elapsed: 5.27 s]\n",
      "----------------------------------------------------------------------------------------------------\n",
      "Epoch 11/100\n"
     ]
    },
    {
     "data": {
      "application/vnd.jupyter.widget-view+json": {
       "model_id": "",
       "version_major": 2,
       "version_minor": 0
      },
      "text/plain": [
       "HBox(children=(HTML(value=''), FloatProgress(value=0.0, max=313.0), HTML(value='')))"
      ]
     },
     "metadata": {},
     "output_type": "display_data"
    },
    {
     "name": "stdout",
     "output_type": "stream",
     "text": [
      "Start (p): 8, End (p): 9, Start (T): 16, End (T): 16\n",
      "\tLoss: 4.72776 - Distance start: 27 - Distance end: 27 [Time elapsed: 38.55 s]\n"
     ]
    },
    {
     "data": {
      "application/vnd.jupyter.widget-view+json": {
       "model_id": "",
       "version_major": 2,
       "version_minor": 0
      },
      "text/plain": [
       "HBox(children=(HTML(value=''), FloatProgress(value=0.0, max=94.0), HTML(value='')))"
      ]
     },
     "metadata": {},
     "output_type": "display_data"
    },
    {
     "name": "stdout",
     "output_type": "stream",
     "text": [
      "Start (p): 0, End (p): 2, Start (T): 0, End (T): 2\n",
      "\tValidation loss: 6.05534 - Distance start: 30.00 - Distance end: 31.00 [Time elapsed: 4.23 s]\n",
      "----------------------------------------------------------------------------------------------------\n",
      "Epoch 12/100\n"
     ]
    },
    {
     "data": {
      "application/vnd.jupyter.widget-view+json": {
       "model_id": "",
       "version_major": 2,
       "version_minor": 0
      },
      "text/plain": [
       "HBox(children=(HTML(value=''), FloatProgress(value=0.0, max=313.0), HTML(value='')))"
      ]
     },
     "metadata": {},
     "output_type": "display_data"
    },
    {
     "name": "stdout",
     "output_type": "stream",
     "text": [
      "Start (p): 197, End (p): 11, Start (T): 97, End (T): 98\n",
      "\tLoss: 4.58720 - Distance start: 26 - Distance end: 26 [Time elapsed: 38.27 s]\n"
     ]
    },
    {
     "data": {
      "application/vnd.jupyter.widget-view+json": {
       "model_id": "",
       "version_major": 2,
       "version_minor": 0
      },
      "text/plain": [
       "HBox(children=(HTML(value=''), FloatProgress(value=0.0, max=94.0), HTML(value='')))"
      ]
     },
     "metadata": {},
     "output_type": "display_data"
    },
    {
     "name": "stdout",
     "output_type": "stream",
     "text": [
      "Start (p): 39, End (p): 39, Start (T): 35, End (T): 36\n",
      "\tValidation loss: 6.21304 - Distance start: 30.00 - Distance end: 31.00 [Time elapsed: 4.34 s]\n",
      "----------------------------------------------------------------------------------------------------\n",
      "Epoch 13/100\n"
     ]
    },
    {
     "data": {
      "application/vnd.jupyter.widget-view+json": {
       "model_id": "",
       "version_major": 2,
       "version_minor": 0
      },
      "text/plain": [
       "HBox(children=(HTML(value=''), FloatProgress(value=0.0, max=313.0), HTML(value='')))"
      ]
     },
     "metadata": {},
     "output_type": "display_data"
    },
    {
     "name": "stdout",
     "output_type": "stream",
     "text": [
      "Start (p): 92, End (p): 93, Start (T): 92, End (T): 93\n",
      "\tLoss: 4.47760 - Distance start: 25 - Distance end: 26 [Time elapsed: 37.66 s]\n"
     ]
    },
    {
     "data": {
      "application/vnd.jupyter.widget-view+json": {
       "model_id": "",
       "version_major": 2,
       "version_minor": 0
      },
      "text/plain": [
       "HBox(children=(HTML(value=''), FloatProgress(value=0.0, max=94.0), HTML(value='')))"
      ]
     },
     "metadata": {},
     "output_type": "display_data"
    },
    {
     "name": "stdout",
     "output_type": "stream",
     "text": [
      "Start (p): 3, End (p): 22, Start (T): 285, End (T): 286\n",
      "\tValidation loss: 6.28650 - Distance start: 30.00 - Distance end: 31.00 [Time elapsed: 4.54 s]\n",
      "----------------------------------------------------------------------------------------------------\n",
      "Epoch 14/100\n"
     ]
    },
    {
     "data": {
      "application/vnd.jupyter.widget-view+json": {
       "model_id": "",
       "version_major": 2,
       "version_minor": 0
      },
      "text/plain": [
       "HBox(children=(HTML(value=''), FloatProgress(value=0.0, max=313.0), HTML(value='')))"
      ]
     },
     "metadata": {},
     "output_type": "display_data"
    },
    {
     "name": "stdout",
     "output_type": "stream",
     "text": [
      "Start (p): 75, End (p): 75, Start (T): 75, End (T): 75\n",
      "\tLoss: 4.36108 - Distance start: 24 - Distance end: 25 [Time elapsed: 37.70 s]\n"
     ]
    },
    {
     "data": {
      "application/vnd.jupyter.widget-view+json": {
       "model_id": "",
       "version_major": 2,
       "version_minor": 0
      },
      "text/plain": [
       "HBox(children=(HTML(value=''), FloatProgress(value=0.0, max=94.0), HTML(value='')))"
      ]
     },
     "metadata": {},
     "output_type": "display_data"
    },
    {
     "name": "stdout",
     "output_type": "stream",
     "text": [
      "Start (p): 27, End (p): 98, Start (T): 0, End (T): 1\n",
      "\tValidation loss: 6.13653 - Distance start: 30.00 - Distance end: 30.00 [Time elapsed: 4.24 s]\n",
      "----------------------------------------------------------------------------------------------------\n",
      "Epoch 15/100\n"
     ]
    },
    {
     "data": {
      "application/vnd.jupyter.widget-view+json": {
       "model_id": "",
       "version_major": 2,
       "version_minor": 0
      },
      "text/plain": [
       "HBox(children=(HTML(value=''), FloatProgress(value=0.0, max=313.0), HTML(value='')))"
      ]
     },
     "metadata": {},
     "output_type": "display_data"
    },
    {
     "name": "stdout",
     "output_type": "stream",
     "text": [
      "Start (p): 21, End (p): 16, Start (T): 37, End (T): 38\n",
      "\tLoss: 4.25177 - Distance start: 24 - Distance end: 24 [Time elapsed: 37.46 s]\n"
     ]
    },
    {
     "data": {
      "application/vnd.jupyter.widget-view+json": {
       "model_id": "",
       "version_major": 2,
       "version_minor": 0
      },
      "text/plain": [
       "HBox(children=(HTML(value=''), FloatProgress(value=0.0, max=94.0), HTML(value='')))"
      ]
     },
     "metadata": {},
     "output_type": "display_data"
    },
    {
     "name": "stdout",
     "output_type": "stream",
     "text": [
      "Start (p): 107, End (p): 4, Start (T): 107, End (T): 108\n",
      "\tValidation loss: 6.23767 - Distance start: 29.00 - Distance end: 29.00 [Time elapsed: 4.38 s]\n",
      "----------------------------------------------------------------------------------------------------\n",
      "Epoch 16/100\n"
     ]
    },
    {
     "data": {
      "application/vnd.jupyter.widget-view+json": {
       "model_id": "",
       "version_major": 2,
       "version_minor": 0
      },
      "text/plain": [
       "HBox(children=(HTML(value=''), FloatProgress(value=0.0, max=313.0), HTML(value='')))"
      ]
     },
     "metadata": {},
     "output_type": "display_data"
    },
    {
     "name": "stdout",
     "output_type": "stream",
     "text": [
      "Start (p): 87, End (p): 104, Start (T): 87, End (T): 90\n",
      "\tLoss: 4.15755 - Distance start: 23 - Distance end: 23 [Time elapsed: 37.09 s]\n"
     ]
    },
    {
     "data": {
      "application/vnd.jupyter.widget-view+json": {
       "model_id": "",
       "version_major": 2,
       "version_minor": 0
      },
      "text/plain": [
       "HBox(children=(HTML(value=''), FloatProgress(value=0.0, max=94.0), HTML(value='')))"
      ]
     },
     "metadata": {},
     "output_type": "display_data"
    },
    {
     "name": "stdout",
     "output_type": "stream",
     "text": [
      "Start (p): 39, End (p): 39, Start (T): 7, End (T): 9\n",
      "\tValidation loss: 6.35253 - Distance start: 29.00 - Distance end: 30.00 [Time elapsed: 4.36 s]\n",
      "----------------------------------------------------------------------------------------------------\n",
      "Epoch 17/100\n"
     ]
    },
    {
     "data": {
      "application/vnd.jupyter.widget-view+json": {
       "model_id": "",
       "version_major": 2,
       "version_minor": 0
      },
      "text/plain": [
       "HBox(children=(HTML(value=''), FloatProgress(value=0.0, max=313.0), HTML(value='')))"
      ]
     },
     "metadata": {},
     "output_type": "display_data"
    },
    {
     "name": "stdout",
     "output_type": "stream",
     "text": [
      "Start (p): 15, End (p): 22, Start (T): 15, End (T): 16\n",
      "\tLoss: 4.07084 - Distance start: 22 - Distance end: 23 [Time elapsed: 37.87 s]\n"
     ]
    },
    {
     "data": {
      "application/vnd.jupyter.widget-view+json": {
       "model_id": "",
       "version_major": 2,
       "version_minor": 0
      },
      "text/plain": [
       "HBox(children=(HTML(value=''), FloatProgress(value=0.0, max=94.0), HTML(value='')))"
      ]
     },
     "metadata": {},
     "output_type": "display_data"
    },
    {
     "name": "stdout",
     "output_type": "stream",
     "text": [
      "Start (p): 168, End (p): 217, Start (T): 86, End (T): 87\n",
      "\tValidation loss: 6.34025 - Distance start: 28.00 - Distance end: 29.00 [Time elapsed: 4.31 s]\n",
      "----------------------------------------------------------------------------------------------------\n",
      "Epoch 18/100\n"
     ]
    },
    {
     "data": {
      "application/vnd.jupyter.widget-view+json": {
       "model_id": "",
       "version_major": 2,
       "version_minor": 0
      },
      "text/plain": [
       "HBox(children=(HTML(value=''), FloatProgress(value=0.0, max=313.0), HTML(value='')))"
      ]
     },
     "metadata": {},
     "output_type": "display_data"
    },
    {
     "name": "stdout",
     "output_type": "stream",
     "text": [
      "Start (p): 14, End (p): 7, Start (T): 82, End (T): 86\n",
      "\tLoss: 3.93661 - Distance start: 22 - Distance end: 22 [Time elapsed: 37.21 s]\n"
     ]
    },
    {
     "data": {
      "application/vnd.jupyter.widget-view+json": {
       "model_id": "",
       "version_major": 2,
       "version_minor": 0
      },
      "text/plain": [
       "HBox(children=(HTML(value=''), FloatProgress(value=0.0, max=94.0), HTML(value='')))"
      ]
     },
     "metadata": {},
     "output_type": "display_data"
    },
    {
     "name": "stdout",
     "output_type": "stream",
     "text": [
      "Start (p): 142, End (p): 166, Start (T): 222, End (T): 223\n",
      "\tValidation loss: 6.45766 - Distance start: 29.00 - Distance end: 30.00 [Time elapsed: 4.23 s]\n",
      "----------------------------------------------------------------------------------------------------\n",
      "Epoch 19/100\n"
     ]
    },
    {
     "data": {
      "application/vnd.jupyter.widget-view+json": {
       "model_id": "",
       "version_major": 2,
       "version_minor": 0
      },
      "text/plain": [
       "HBox(children=(HTML(value=''), FloatProgress(value=0.0, max=313.0), HTML(value='')))"
      ]
     },
     "metadata": {},
     "output_type": "display_data"
    },
    {
     "name": "stdout",
     "output_type": "stream",
     "text": [
      "Start (p): 55, End (p): 61, Start (T): 55, End (T): 61\n",
      "\tLoss: 3.82730 - Distance start: 21 - Distance end: 21 [Time elapsed: 36.76 s]\n"
     ]
    },
    {
     "data": {
      "application/vnd.jupyter.widget-view+json": {
       "model_id": "",
       "version_major": 2,
       "version_minor": 0
      },
      "text/plain": [
       "HBox(children=(HTML(value=''), FloatProgress(value=0.0, max=94.0), HTML(value='')))"
      ]
     },
     "metadata": {},
     "output_type": "display_data"
    },
    {
     "name": "stdout",
     "output_type": "stream",
     "text": [
      "Start (p): 14, End (p): 95, Start (T): 14, End (T): 18\n",
      "\tValidation loss: 6.39434 - Distance start: 29.00 - Distance end: 29.00 [Time elapsed: 4.31 s]\n",
      "----------------------------------------------------------------------------------------------------\n",
      "Epoch 20/100\n"
     ]
    },
    {
     "data": {
      "application/vnd.jupyter.widget-view+json": {
       "model_id": "",
       "version_major": 2,
       "version_minor": 0
      },
      "text/plain": [
       "HBox(children=(HTML(value=''), FloatProgress(value=0.0, max=313.0), HTML(value='')))"
      ]
     },
     "metadata": {},
     "output_type": "display_data"
    },
    {
     "name": "stdout",
     "output_type": "stream",
     "text": [
      "Start (p): 71, End (p): 5, Start (T): 70, End (T): 76\n",
      "\tLoss: 3.75526 - Distance start: 20 - Distance end: 20 [Time elapsed: 37.09 s]\n"
     ]
    },
    {
     "data": {
      "application/vnd.jupyter.widget-view+json": {
       "model_id": "",
       "version_major": 2,
       "version_minor": 0
      },
      "text/plain": [
       "HBox(children=(HTML(value=''), FloatProgress(value=0.0, max=94.0), HTML(value='')))"
      ]
     },
     "metadata": {},
     "output_type": "display_data"
    },
    {
     "name": "stdout",
     "output_type": "stream",
     "text": [
      "Start (p): 40, End (p): 56, Start (T): 43, End (T): 43\n",
      "\tValidation loss: 6.51294 - Distance start: 28.00 - Distance end: 28.00 [Time elapsed: 4.29 s]\n",
      "----------------------------------------------------------------------------------------------------\n",
      "Epoch 21/100\n"
     ]
    },
    {
     "data": {
      "application/vnd.jupyter.widget-view+json": {
       "model_id": "",
       "version_major": 2,
       "version_minor": 0
      },
      "text/plain": [
       "HBox(children=(HTML(value=''), FloatProgress(value=0.0, max=313.0), HTML(value='')))"
      ]
     },
     "metadata": {},
     "output_type": "display_data"
    },
    {
     "name": "stdout",
     "output_type": "stream",
     "text": [
      "Start (p): 34, End (p): 34, Start (T): 34, End (T): 34\n",
      "\tLoss: 3.65886 - Distance start: 19 - Distance end: 20 [Time elapsed: 36.95 s]\n"
     ]
    },
    {
     "data": {
      "application/vnd.jupyter.widget-view+json": {
       "model_id": "",
       "version_major": 2,
       "version_minor": 0
      },
      "text/plain": [
       "HBox(children=(HTML(value=''), FloatProgress(value=0.0, max=94.0), HTML(value='')))"
      ]
     },
     "metadata": {},
     "output_type": "display_data"
    },
    {
     "name": "stdout",
     "output_type": "stream",
     "text": [
      "Start (p): 73, End (p): 85, Start (T): 92, End (T): 95\n",
      "\tValidation loss: 6.73524 - Distance start: 28.00 - Distance end: 29.00 [Time elapsed: 4.29 s]\n",
      "----------------------------------------------------------------------------------------------------\n",
      "Epoch 22/100\n"
     ]
    },
    {
     "data": {
      "application/vnd.jupyter.widget-view+json": {
       "model_id": "",
       "version_major": 2,
       "version_minor": 0
      },
      "text/plain": [
       "HBox(children=(HTML(value=''), FloatProgress(value=0.0, max=313.0), HTML(value='')))"
      ]
     },
     "metadata": {},
     "output_type": "display_data"
    },
    {
     "name": "stdout",
     "output_type": "stream",
     "text": [
      "Start (p): 78, End (p): 47, Start (T): 43, End (T): 47\n",
      "\tLoss: 3.60113 - Distance start: 18 - Distance end: 19 [Time elapsed: 37.98 s]\n"
     ]
    },
    {
     "data": {
      "application/vnd.jupyter.widget-view+json": {
       "model_id": "",
       "version_major": 2,
       "version_minor": 0
      },
      "text/plain": [
       "HBox(children=(HTML(value=''), FloatProgress(value=0.0, max=94.0), HTML(value='')))"
      ]
     },
     "metadata": {},
     "output_type": "display_data"
    },
    {
     "name": "stdout",
     "output_type": "stream",
     "text": [
      "Start (p): 89, End (p): 115, Start (T): 115, End (T): 115\n",
      "\tValidation loss: 6.66550 - Distance start: 28.00 - Distance end: 28.00 [Time elapsed: 4.39 s]\n",
      "----------------------------------------------------------------------------------------------------\n",
      "Epoch 23/100\n"
     ]
    },
    {
     "data": {
      "application/vnd.jupyter.widget-view+json": {
       "model_id": "",
       "version_major": 2,
       "version_minor": 0
      },
      "text/plain": [
       "HBox(children=(HTML(value=''), FloatProgress(value=0.0, max=313.0), HTML(value='')))"
      ]
     },
     "metadata": {},
     "output_type": "display_data"
    },
    {
     "name": "stdout",
     "output_type": "stream",
     "text": [
      "Start (p): 116, End (p): 117, Start (T): 39, End (T): 45\n",
      "\tLoss: 3.46509 - Distance start: 18 - Distance end: 19 [Time elapsed: 37.89 s]\n"
     ]
    },
    {
     "data": {
      "application/vnd.jupyter.widget-view+json": {
       "model_id": "",
       "version_major": 2,
       "version_minor": 0
      },
      "text/plain": [
       "HBox(children=(HTML(value=''), FloatProgress(value=0.0, max=94.0), HTML(value='')))"
      ]
     },
     "metadata": {},
     "output_type": "display_data"
    },
    {
     "name": "stdout",
     "output_type": "stream",
     "text": [
      "Start (p): 8, End (p): 10, Start (T): 18, End (T): 21\n",
      "\tValidation loss: 6.80176 - Distance start: 28.00 - Distance end: 28.00 [Time elapsed: 4.42 s]\n",
      "----------------------------------------------------------------------------------------------------\n",
      "Epoch 24/100\n"
     ]
    },
    {
     "data": {
      "application/vnd.jupyter.widget-view+json": {
       "model_id": "",
       "version_major": 2,
       "version_minor": 0
      },
      "text/plain": [
       "HBox(children=(HTML(value=''), FloatProgress(value=0.0, max=313.0), HTML(value='')))"
      ]
     },
     "metadata": {},
     "output_type": "display_data"
    },
    {
     "name": "stdout",
     "output_type": "stream",
     "text": [
      "Start (p): 6, End (p): 7, Start (T): 6, End (T): 7\n",
      "\tLoss: 3.37340 - Distance start: 17 - Distance end: 18 [Time elapsed: 37.20 s]\n"
     ]
    },
    {
     "data": {
      "application/vnd.jupyter.widget-view+json": {
       "model_id": "",
       "version_major": 2,
       "version_minor": 0
      },
      "text/plain": [
       "HBox(children=(HTML(value=''), FloatProgress(value=0.0, max=94.0), HTML(value='')))"
      ]
     },
     "metadata": {},
     "output_type": "display_data"
    },
    {
     "name": "stdout",
     "output_type": "stream",
     "text": [
      "Start (p): 20, End (p): 15, Start (T): 20, End (T): 21\n",
      "\tValidation loss: 6.87631 - Distance start: 28.00 - Distance end: 27.00 [Time elapsed: 4.44 s]\n",
      "----------------------------------------------------------------------------------------------------\n",
      "Epoch 25/100\n"
     ]
    },
    {
     "data": {
      "application/vnd.jupyter.widget-view+json": {
       "model_id": "",
       "version_major": 2,
       "version_minor": 0
      },
      "text/plain": [
       "HBox(children=(HTML(value=''), FloatProgress(value=0.0, max=313.0), HTML(value='')))"
      ]
     },
     "metadata": {},
     "output_type": "display_data"
    },
    {
     "name": "stdout",
     "output_type": "stream",
     "text": [
      "Start (p): 45, End (p): 46, Start (T): 45, End (T): 46\n",
      "\tLoss: 3.33373 - Distance start: 17 - Distance end: 17 [Time elapsed: 37.62 s]\n"
     ]
    },
    {
     "data": {
      "application/vnd.jupyter.widget-view+json": {
       "model_id": "",
       "version_major": 2,
       "version_minor": 0
      },
      "text/plain": [
       "HBox(children=(HTML(value=''), FloatProgress(value=0.0, max=94.0), HTML(value='')))"
      ]
     },
     "metadata": {},
     "output_type": "display_data"
    },
    {
     "name": "stdout",
     "output_type": "stream",
     "text": [
      "Start (p): 8, End (p): 9, Start (T): 8, End (T): 9\n",
      "\tValidation loss: 7.00159 - Distance start: 27.00 - Distance end: 28.00 [Time elapsed: 4.25 s]\n",
      "----------------------------------------------------------------------------------------------------\n",
      "Epoch 26/100\n"
     ]
    },
    {
     "data": {
      "application/vnd.jupyter.widget-view+json": {
       "model_id": "",
       "version_major": 2,
       "version_minor": 0
      },
      "text/plain": [
       "HBox(children=(HTML(value=''), FloatProgress(value=0.0, max=313.0), HTML(value='')))"
      ]
     },
     "metadata": {},
     "output_type": "display_data"
    },
    {
     "name": "stdout",
     "output_type": "stream",
     "text": [
      "Start (p): 171, End (p): 174, Start (T): 171, End (T): 174\n",
      "\tLoss: 3.20449 - Distance start: 16 - Distance end: 17 [Time elapsed: 36.76 s]\n"
     ]
    },
    {
     "data": {
      "application/vnd.jupyter.widget-view+json": {
       "model_id": "",
       "version_major": 2,
       "version_minor": 0
      },
      "text/plain": [
       "HBox(children=(HTML(value=''), FloatProgress(value=0.0, max=94.0), HTML(value='')))"
      ]
     },
     "metadata": {},
     "output_type": "display_data"
    },
    {
     "name": "stdout",
     "output_type": "stream",
     "text": [
      "Start (p): 24, End (p): 57, Start (T): 72, End (T): 76\n",
      "\tValidation loss: 7.21653 - Distance start: 28.00 - Distance end: 28.00 [Time elapsed: 4.29 s]\n",
      "----------------------------------------------------------------------------------------------------\n",
      "Epoch 27/100\n"
     ]
    },
    {
     "data": {
      "application/vnd.jupyter.widget-view+json": {
       "model_id": "",
       "version_major": 2,
       "version_minor": 0
      },
      "text/plain": [
       "HBox(children=(HTML(value=''), FloatProgress(value=0.0, max=313.0), HTML(value='')))"
      ]
     },
     "metadata": {},
     "output_type": "display_data"
    },
    {
     "name": "stdout",
     "output_type": "stream",
     "text": [
      "Start (p): 74, End (p): 102, Start (T): 128, End (T): 142\n",
      "\tLoss: 3.12926 - Distance start: 16 - Distance end: 16 [Time elapsed: 36.81 s]\n"
     ]
    },
    {
     "data": {
      "application/vnd.jupyter.widget-view+json": {
       "model_id": "",
       "version_major": 2,
       "version_minor": 0
      },
      "text/plain": [
       "HBox(children=(HTML(value=''), FloatProgress(value=0.0, max=94.0), HTML(value='')))"
      ]
     },
     "metadata": {},
     "output_type": "display_data"
    },
    {
     "name": "stdout",
     "output_type": "stream",
     "text": [
      "Start (p): 71, End (p): 72, Start (T): 36, End (T): 37\n",
      "\tValidation loss: 7.20481 - Distance start: 27.00 - Distance end: 27.00 [Time elapsed: 4.29 s]\n",
      "----------------------------------------------------------------------------------------------------\n",
      "Epoch 28/100\n"
     ]
    },
    {
     "data": {
      "application/vnd.jupyter.widget-view+json": {
       "model_id": "",
       "version_major": 2,
       "version_minor": 0
      },
      "text/plain": [
       "HBox(children=(HTML(value=''), FloatProgress(value=0.0, max=313.0), HTML(value='')))"
      ]
     },
     "metadata": {},
     "output_type": "display_data"
    },
    {
     "name": "stdout",
     "output_type": "stream",
     "text": [
      "Start (p): 109, End (p): 111, Start (T): 109, End (T): 111\n",
      "\tLoss: 3.04503 - Distance start: 15 - Distance end: 15 [Time elapsed: 38.17 s]\n"
     ]
    },
    {
     "data": {
      "application/vnd.jupyter.widget-view+json": {
       "model_id": "",
       "version_major": 2,
       "version_minor": 0
      },
      "text/plain": [
       "HBox(children=(HTML(value=''), FloatProgress(value=0.0, max=94.0), HTML(value='')))"
      ]
     },
     "metadata": {},
     "output_type": "display_data"
    },
    {
     "name": "stdout",
     "output_type": "stream",
     "text": [
      "Start (p): 25, End (p): 18, Start (T): 18, End (T): 18\n",
      "\tValidation loss: 7.28798 - Distance start: 27.00 - Distance end: 28.00 [Time elapsed: 4.52 s]\n",
      "----------------------------------------------------------------------------------------------------\n",
      "Epoch 29/100\n"
     ]
    },
    {
     "data": {
      "application/vnd.jupyter.widget-view+json": {
       "model_id": "",
       "version_major": 2,
       "version_minor": 0
      },
      "text/plain": [
       "HBox(children=(HTML(value=''), FloatProgress(value=0.0, max=313.0), HTML(value='')))"
      ]
     },
     "metadata": {},
     "output_type": "display_data"
    },
    {
     "name": "stdout",
     "output_type": "stream",
     "text": [
      "Start (p): 20, End (p): 72, Start (T): 61, End (T): 99\n",
      "\tLoss: 3.02534 - Distance start: 15 - Distance end: 15 [Time elapsed: 36.96 s]\n"
     ]
    },
    {
     "data": {
      "application/vnd.jupyter.widget-view+json": {
       "model_id": "",
       "version_major": 2,
       "version_minor": 0
      },
      "text/plain": [
       "HBox(children=(HTML(value=''), FloatProgress(value=0.0, max=94.0), HTML(value='')))"
      ]
     },
     "metadata": {},
     "output_type": "display_data"
    },
    {
     "name": "stdout",
     "output_type": "stream",
     "text": [
      "Start (p): 66, End (p): 66, Start (T): 68, End (T): 69\n",
      "\tValidation loss: 7.37624 - Distance start: 27.00 - Distance end: 27.00 [Time elapsed: 4.27 s]\n",
      "----------------------------------------------------------------------------------------------------\n",
      "Epoch 30/100\n"
     ]
    },
    {
     "data": {
      "application/vnd.jupyter.widget-view+json": {
       "model_id": "",
       "version_major": 2,
       "version_minor": 0
      },
      "text/plain": [
       "HBox(children=(HTML(value=''), FloatProgress(value=0.0, max=313.0), HTML(value='')))"
      ]
     },
     "metadata": {},
     "output_type": "display_data"
    },
    {
     "name": "stdout",
     "output_type": "stream",
     "text": [
      "Start (p): 8, End (p): 20, Start (T): 19, End (T): 20\n",
      "\tLoss: 2.90084 - Distance start: 14 - Distance end: 14 [Time elapsed: 36.86 s]\n"
     ]
    },
    {
     "data": {
      "application/vnd.jupyter.widget-view+json": {
       "model_id": "",
       "version_major": 2,
       "version_minor": 0
      },
      "text/plain": [
       "HBox(children=(HTML(value=''), FloatProgress(value=0.0, max=94.0), HTML(value='')))"
      ]
     },
     "metadata": {},
     "output_type": "display_data"
    },
    {
     "name": "stdout",
     "output_type": "stream",
     "text": [
      "Start (p): 3, End (p): 4, Start (T): 3, End (T): 4\n",
      "\tValidation loss: 7.26476 - Distance start: 27.00 - Distance end: 27.00 [Time elapsed: 4.25 s]\n",
      "----------------------------------------------------------------------------------------------------\n",
      "Epoch 31/100\n"
     ]
    },
    {
     "data": {
      "application/vnd.jupyter.widget-view+json": {
       "model_id": "",
       "version_major": 2,
       "version_minor": 0
      },
      "text/plain": [
       "HBox(children=(HTML(value=''), FloatProgress(value=0.0, max=313.0), HTML(value='')))"
      ]
     },
     "metadata": {},
     "output_type": "display_data"
    },
    {
     "name": "stdout",
     "output_type": "stream",
     "text": [
      "Start (p): 59, End (p): 10, Start (T): 0, End (T): 2\n",
      "\tLoss: 2.84489 - Distance start: 14 - Distance end: 13 [Time elapsed: 37.85 s]\n"
     ]
    },
    {
     "data": {
      "application/vnd.jupyter.widget-view+json": {
       "model_id": "",
       "version_major": 2,
       "version_minor": 0
      },
      "text/plain": [
       "HBox(children=(HTML(value=''), FloatProgress(value=0.0, max=94.0), HTML(value='')))"
      ]
     },
     "metadata": {},
     "output_type": "display_data"
    },
    {
     "name": "stdout",
     "output_type": "stream",
     "text": [
      "Start (p): 45, End (p): 30, Start (T): 50, End (T): 50\n",
      "\tValidation loss: 7.39872 - Distance start: 26.00 - Distance end: 26.00 [Time elapsed: 4.58 s]\n",
      "----------------------------------------------------------------------------------------------------\n",
      "Epoch 32/100\n"
     ]
    },
    {
     "data": {
      "application/vnd.jupyter.widget-view+json": {
       "model_id": "",
       "version_major": 2,
       "version_minor": 0
      },
      "text/plain": [
       "HBox(children=(HTML(value=''), FloatProgress(value=0.0, max=313.0), HTML(value='')))"
      ]
     },
     "metadata": {},
     "output_type": "display_data"
    },
    {
     "name": "stdout",
     "output_type": "stream",
     "text": [
      "Start (p): 41, End (p): 50, Start (T): 18, End (T): 19\n",
      "\tLoss: 2.80150 - Distance start: 13 - Distance end: 14 [Time elapsed: 38.44 s]\n"
     ]
    },
    {
     "data": {
      "application/vnd.jupyter.widget-view+json": {
       "model_id": "",
       "version_major": 2,
       "version_minor": 0
      },
      "text/plain": [
       "HBox(children=(HTML(value=''), FloatProgress(value=0.0, max=94.0), HTML(value='')))"
      ]
     },
     "metadata": {},
     "output_type": "display_data"
    },
    {
     "name": "stdout",
     "output_type": "stream",
     "text": [
      "Start (p): 20, End (p): 65, Start (T): 40, End (T): 42\n",
      "\tValidation loss: 7.52541 - Distance start: 27.00 - Distance end: 26.00 [Time elapsed: 4.50 s]\n",
      "----------------------------------------------------------------------------------------------------\n",
      "Epoch 33/100\n"
     ]
    },
    {
     "data": {
      "application/vnd.jupyter.widget-view+json": {
       "model_id": "",
       "version_major": 2,
       "version_minor": 0
      },
      "text/plain": [
       "HBox(children=(HTML(value=''), FloatProgress(value=0.0, max=313.0), HTML(value='')))"
      ]
     },
     "metadata": {},
     "output_type": "display_data"
    },
    {
     "name": "stdout",
     "output_type": "stream",
     "text": [
      "Start (p): 99, End (p): 177, Start (T): 23, End (T): 34\n",
      "\tLoss: 2.75139 - Distance start: 13 - Distance end: 13 [Time elapsed: 37.39 s]\n"
     ]
    },
    {
     "data": {
      "application/vnd.jupyter.widget-view+json": {
       "model_id": "",
       "version_major": 2,
       "version_minor": 0
      },
      "text/plain": [
       "HBox(children=(HTML(value=''), FloatProgress(value=0.0, max=94.0), HTML(value='')))"
      ]
     },
     "metadata": {},
     "output_type": "display_data"
    },
    {
     "name": "stdout",
     "output_type": "stream",
     "text": [
      "Start (p): 26, End (p): 26, Start (T): 41, End (T): 42\n",
      "\tValidation loss: 7.80141 - Distance start: 27.00 - Distance end: 28.00 [Time elapsed: 4.36 s]\n",
      "----------------------------------------------------------------------------------------------------\n",
      "Epoch 34/100\n"
     ]
    },
    {
     "data": {
      "application/vnd.jupyter.widget-view+json": {
       "model_id": "",
       "version_major": 2,
       "version_minor": 0
      },
      "text/plain": [
       "HBox(children=(HTML(value=''), FloatProgress(value=0.0, max=313.0), HTML(value='')))"
      ]
     },
     "metadata": {},
     "output_type": "display_data"
    },
    {
     "name": "stdout",
     "output_type": "stream",
     "text": [
      "Start (p): 1, End (p): 2, Start (T): 1, End (T): 2\n",
      "\tLoss: 2.63370 - Distance start: 12 - Distance end: 12 [Time elapsed: 37.15 s]\n"
     ]
    },
    {
     "data": {
      "application/vnd.jupyter.widget-view+json": {
       "model_id": "",
       "version_major": 2,
       "version_minor": 0
      },
      "text/plain": [
       "HBox(children=(HTML(value=''), FloatProgress(value=0.0, max=94.0), HTML(value='')))"
      ]
     },
     "metadata": {},
     "output_type": "display_data"
    },
    {
     "name": "stdout",
     "output_type": "stream",
     "text": [
      "Start (p): 47, End (p): 67, Start (T): 16, End (T): 19\n",
      "\tValidation loss: 7.90642 - Distance start: 26.00 - Distance end: 27.00 [Time elapsed: 4.26 s]\n",
      "----------------------------------------------------------------------------------------------------\n",
      "Epoch 35/100\n"
     ]
    },
    {
     "data": {
      "application/vnd.jupyter.widget-view+json": {
       "model_id": "",
       "version_major": 2,
       "version_minor": 0
      },
      "text/plain": [
       "HBox(children=(HTML(value=''), FloatProgress(value=0.0, max=313.0), HTML(value='')))"
      ]
     },
     "metadata": {},
     "output_type": "display_data"
    },
    {
     "name": "stdout",
     "output_type": "stream",
     "text": [
      "Start (p): 1, End (p): 20, Start (T): 1, End (T): 2\n",
      "\tLoss: 2.54679 - Distance start: 11 - Distance end: 12 [Time elapsed: 36.83 s]\n"
     ]
    },
    {
     "data": {
      "application/vnd.jupyter.widget-view+json": {
       "model_id": "",
       "version_major": 2,
       "version_minor": 0
      },
      "text/plain": [
       "HBox(children=(HTML(value=''), FloatProgress(value=0.0, max=94.0), HTML(value='')))"
      ]
     },
     "metadata": {},
     "output_type": "display_data"
    },
    {
     "name": "stdout",
     "output_type": "stream",
     "text": [
      "Start (p): 40, End (p): 44, Start (T): 9, End (T): 12\n",
      "\tValidation loss: 7.98829 - Distance start: 26.00 - Distance end: 26.00 [Time elapsed: 4.24 s]\n",
      "----------------------------------------------------------------------------------------------------\n",
      "Epoch 36/100\n"
     ]
    },
    {
     "data": {
      "application/vnd.jupyter.widget-view+json": {
       "model_id": "",
       "version_major": 2,
       "version_minor": 0
      },
      "text/plain": [
       "HBox(children=(HTML(value=''), FloatProgress(value=0.0, max=313.0), HTML(value='')))"
      ]
     },
     "metadata": {},
     "output_type": "display_data"
    },
    {
     "name": "stdout",
     "output_type": "stream",
     "text": [
      "Start (p): 37, End (p): 38, Start (T): 37, End (T): 38\n",
      "\tLoss: 2.58034 - Distance start: 12 - Distance end: 12 [Time elapsed: 36.68 s]\n"
     ]
    },
    {
     "data": {
      "application/vnd.jupyter.widget-view+json": {
       "model_id": "",
       "version_major": 2,
       "version_minor": 0
      },
      "text/plain": [
       "HBox(children=(HTML(value=''), FloatProgress(value=0.0, max=94.0), HTML(value='')))"
      ]
     },
     "metadata": {},
     "output_type": "display_data"
    },
    {
     "name": "stdout",
     "output_type": "stream",
     "text": [
      "Start (p): 148, End (p): 149, Start (T): 113, End (T): 113\n",
      "\tValidation loss: 7.77031 - Distance start: 25.00 - Distance end: 26.00 [Time elapsed: 4.25 s]\n",
      "----------------------------------------------------------------------------------------------------\n",
      "Epoch 37/100\n"
     ]
    },
    {
     "data": {
      "application/vnd.jupyter.widget-view+json": {
       "model_id": "",
       "version_major": 2,
       "version_minor": 0
      },
      "text/plain": [
       "HBox(children=(HTML(value=''), FloatProgress(value=0.0, max=313.0), HTML(value='')))"
      ]
     },
     "metadata": {},
     "output_type": "display_data"
    },
    {
     "name": "stdout",
     "output_type": "stream",
     "text": [
      "Start (p): 40, End (p): 27, Start (T): 40, End (T): 42\n",
      "\tLoss: 2.53149 - Distance start: 12 - Distance end: 12 [Time elapsed: 36.63 s]\n"
     ]
    },
    {
     "data": {
      "application/vnd.jupyter.widget-view+json": {
       "model_id": "",
       "version_major": 2,
       "version_minor": 0
      },
      "text/plain": [
       "HBox(children=(HTML(value=''), FloatProgress(value=0.0, max=94.0), HTML(value='')))"
      ]
     },
     "metadata": {},
     "output_type": "display_data"
    },
    {
     "name": "stdout",
     "output_type": "stream",
     "text": [
      "Start (p): 29, End (p): 31, Start (T): 29, End (T): 31\n",
      "\tValidation loss: 7.86779 - Distance start: 26.00 - Distance end: 26.00 [Time elapsed: 4.27 s]\n",
      "----------------------------------------------------------------------------------------------------\n",
      "Epoch 38/100\n"
     ]
    },
    {
     "data": {
      "application/vnd.jupyter.widget-view+json": {
       "model_id": "",
       "version_major": 2,
       "version_minor": 0
      },
      "text/plain": [
       "HBox(children=(HTML(value=''), FloatProgress(value=0.0, max=313.0), HTML(value='')))"
      ]
     },
     "metadata": {},
     "output_type": "display_data"
    },
    {
     "name": "stdout",
     "output_type": "stream",
     "text": [
      "Start (p): 85, End (p): 86, Start (T): 85, End (T): 86\n",
      "\tLoss: 2.49224 - Distance start: 11 - Distance end: 11 [Time elapsed: 36.29 s]\n"
     ]
    },
    {
     "data": {
      "application/vnd.jupyter.widget-view+json": {
       "model_id": "",
       "version_major": 2,
       "version_minor": 0
      },
      "text/plain": [
       "HBox(children=(HTML(value=''), FloatProgress(value=0.0, max=94.0), HTML(value='')))"
      ]
     },
     "metadata": {},
     "output_type": "display_data"
    },
    {
     "name": "stdout",
     "output_type": "stream",
     "text": [
      "Start (p): 99, End (p): 100, Start (T): 111, End (T): 113\n",
      "\tValidation loss: 7.96862 - Distance start: 26.00 - Distance end: 26.00 [Time elapsed: 4.28 s]\n",
      "----------------------------------------------------------------------------------------------------\n",
      "Epoch 39/100\n"
     ]
    },
    {
     "data": {
      "application/vnd.jupyter.widget-view+json": {
       "model_id": "",
       "version_major": 2,
       "version_minor": 0
      },
      "text/plain": [
       "HBox(children=(HTML(value=''), FloatProgress(value=0.0, max=313.0), HTML(value='')))"
      ]
     },
     "metadata": {},
     "output_type": "display_data"
    },
    {
     "name": "stdout",
     "output_type": "stream",
     "text": [
      "Start (p): 74, End (p): 76, Start (T): 0, End (T): 0\n",
      "\tLoss: 2.35915 - Distance start: 10 - Distance end: 11 [Time elapsed: 36.70 s]\n"
     ]
    },
    {
     "data": {
      "application/vnd.jupyter.widget-view+json": {
       "model_id": "",
       "version_major": 2,
       "version_minor": 0
      },
      "text/plain": [
       "HBox(children=(HTML(value=''), FloatProgress(value=0.0, max=94.0), HTML(value='')))"
      ]
     },
     "metadata": {},
     "output_type": "display_data"
    },
    {
     "name": "stdout",
     "output_type": "stream",
     "text": [
      "Start (p): 122, End (p): 123, Start (T): 122, End (T): 123\n",
      "\tValidation loss: 8.27437 - Distance start: 26.00 - Distance end: 26.00 [Time elapsed: 4.38 s]\n",
      "----------------------------------------------------------------------------------------------------\n",
      "Epoch 40/100\n"
     ]
    },
    {
     "data": {
      "application/vnd.jupyter.widget-view+json": {
       "model_id": "",
       "version_major": 2,
       "version_minor": 0
      },
      "text/plain": [
       "HBox(children=(HTML(value=''), FloatProgress(value=0.0, max=313.0), HTML(value='')))"
      ]
     },
     "metadata": {},
     "output_type": "display_data"
    },
    {
     "name": "stdout",
     "output_type": "stream",
     "text": [
      "Start (p): 7, End (p): 28, Start (T): 27, End (T): 28\n",
      "\tLoss: 2.37430 - Distance start: 10 - Distance end: 11 [Time elapsed: 105.29 s]\n"
     ]
    },
    {
     "data": {
      "application/vnd.jupyter.widget-view+json": {
       "model_id": "",
       "version_major": 2,
       "version_minor": 0
      },
      "text/plain": [
       "HBox(children=(HTML(value=''), FloatProgress(value=0.0, max=94.0), HTML(value='')))"
      ]
     },
     "metadata": {},
     "output_type": "display_data"
    },
    {
     "name": "stdout",
     "output_type": "stream",
     "text": [
      "Start (p): 11, End (p): 11, Start (T): 11, End (T): 11\n",
      "\tValidation loss: 8.14574 - Distance start: 26.00 - Distance end: 27.00 [Time elapsed: 11.71 s]\n",
      "----------------------------------------------------------------------------------------------------\n",
      "Epoch 41/100\n"
     ]
    },
    {
     "data": {
      "application/vnd.jupyter.widget-view+json": {
       "model_id": "",
       "version_major": 2,
       "version_minor": 0
      },
      "text/plain": [
       "HBox(children=(HTML(value=''), FloatProgress(value=0.0, max=313.0), HTML(value='')))"
      ]
     },
     "metadata": {},
     "output_type": "display_data"
    },
    {
     "name": "stdout",
     "output_type": "stream",
     "text": [
      "Start (p): 6, End (p): 12, Start (T): 6, End (T): 12\n",
      "\tLoss: 2.31415 - Distance start: 10 - Distance end: 10 [Time elapsed: 108.73 s]\n"
     ]
    },
    {
     "data": {
      "application/vnd.jupyter.widget-view+json": {
       "model_id": "",
       "version_major": 2,
       "version_minor": 0
      },
      "text/plain": [
       "HBox(children=(HTML(value=''), FloatProgress(value=0.0, max=94.0), HTML(value='')))"
      ]
     },
     "metadata": {},
     "output_type": "display_data"
    },
    {
     "name": "stdout",
     "output_type": "stream",
     "text": [
      "Start (p): 5, End (p): 47, Start (T): 88, End (T): 90\n",
      "\tValidation loss: 8.29467 - Distance start: 27.00 - Distance end: 28.00 [Time elapsed: 11.70 s]\n",
      "----------------------------------------------------------------------------------------------------\n",
      "Epoch 42/100\n"
     ]
    },
    {
     "data": {
      "application/vnd.jupyter.widget-view+json": {
       "model_id": "",
       "version_major": 2,
       "version_minor": 0
      },
      "text/plain": [
       "HBox(children=(HTML(value=''), FloatProgress(value=0.0, max=313.0), HTML(value='')))"
      ]
     },
     "metadata": {},
     "output_type": "display_data"
    },
    {
     "name": "stdout",
     "output_type": "stream",
     "text": [
      "Start (p): 83, End (p): 18, Start (T): 16, End (T): 18\n",
      "\tLoss: 2.41595 - Distance start: 10 - Distance end: 11 [Time elapsed: 108.49 s]\n"
     ]
    },
    {
     "data": {
      "application/vnd.jupyter.widget-view+json": {
       "model_id": "",
       "version_major": 2,
       "version_minor": 0
      },
      "text/plain": [
       "HBox(children=(HTML(value=''), FloatProgress(value=0.0, max=94.0), HTML(value='')))"
      ]
     },
     "metadata": {},
     "output_type": "display_data"
    },
    {
     "name": "stdout",
     "output_type": "stream",
     "text": [
      "Start (p): 68, End (p): 137, Start (T): 68, End (T): 69\n",
      "\tValidation loss: 8.15404 - Distance start: 26.00 - Distance end: 26.00 [Time elapsed: 11.99 s]\n",
      "----------------------------------------------------------------------------------------------------\n",
      "Epoch 43/100\n"
     ]
    },
    {
     "data": {
      "application/vnd.jupyter.widget-view+json": {
       "model_id": "",
       "version_major": 2,
       "version_minor": 0
      },
      "text/plain": [
       "HBox(children=(HTML(value=''), FloatProgress(value=0.0, max=313.0), HTML(value='')))"
      ]
     },
     "metadata": {},
     "output_type": "display_data"
    },
    {
     "name": "stdout",
     "output_type": "stream",
     "text": [
      "Start (p): 30, End (p): 31, Start (T): 30, End (T): 31\n",
      "\tLoss: 2.26011 - Distance start: 9 - Distance end: 10 [Time elapsed: 108.60 s]\n"
     ]
    },
    {
     "data": {
      "application/vnd.jupyter.widget-view+json": {
       "model_id": "",
       "version_major": 2,
       "version_minor": 0
      },
      "text/plain": [
       "HBox(children=(HTML(value=''), FloatProgress(value=0.0, max=94.0), HTML(value='')))"
      ]
     },
     "metadata": {},
     "output_type": "display_data"
    },
    {
     "name": "stdout",
     "output_type": "stream",
     "text": [
      "Start (p): 63, End (p): 77, Start (T): 75, End (T): 77\n",
      "\tValidation loss: 8.27708 - Distance start: 26.00 - Distance end: 26.00 [Time elapsed: 11.74 s]\n",
      "----------------------------------------------------------------------------------------------------\n",
      "Epoch 44/100\n"
     ]
    },
    {
     "data": {
      "application/vnd.jupyter.widget-view+json": {
       "model_id": "",
       "version_major": 2,
       "version_minor": 0
      },
      "text/plain": [
       "HBox(children=(HTML(value=''), FloatProgress(value=0.0, max=313.0), HTML(value='')))"
      ]
     },
     "metadata": {},
     "output_type": "display_data"
    },
    {
     "name": "stdout",
     "output_type": "stream",
     "text": [
      "Start (p): 31, End (p): 97, Start (T): 54, End (T): 55\n",
      "\tLoss: 2.25010 - Distance start: 10 - Distance end: 10 [Time elapsed: 107.88 s]\n"
     ]
    },
    {
     "data": {
      "application/vnd.jupyter.widget-view+json": {
       "model_id": "",
       "version_major": 2,
       "version_minor": 0
      },
      "text/plain": [
       "HBox(children=(HTML(value=''), FloatProgress(value=0.0, max=94.0), HTML(value='')))"
      ]
     },
     "metadata": {},
     "output_type": "display_data"
    },
    {
     "name": "stdout",
     "output_type": "stream",
     "text": [
      "Start (p): 89, End (p): 88, Start (T): 47, End (T): 47\n",
      "\tValidation loss: 8.57336 - Distance start: 27.00 - Distance end: 27.00 [Time elapsed: 11.76 s]\n",
      "----------------------------------------------------------------------------------------------------\n",
      "Epoch 45/100\n"
     ]
    },
    {
     "data": {
      "application/vnd.jupyter.widget-view+json": {
       "model_id": "",
       "version_major": 2,
       "version_minor": 0
      },
      "text/plain": [
       "HBox(children=(HTML(value=''), FloatProgress(value=0.0, max=313.0), HTML(value='')))"
      ]
     },
     "metadata": {},
     "output_type": "display_data"
    },
    {
     "name": "stdout",
     "output_type": "stream",
     "text": [
      "Start (p): 67, End (p): 68, Start (T): 69, End (T): 70\n",
      "\tLoss: 2.25000 - Distance start: 10 - Distance end: 10 [Time elapsed: 109.71 s]\n"
     ]
    },
    {
     "data": {
      "application/vnd.jupyter.widget-view+json": {
       "model_id": "",
       "version_major": 2,
       "version_minor": 0
      },
      "text/plain": [
       "HBox(children=(HTML(value=''), FloatProgress(value=0.0, max=94.0), HTML(value='')))"
      ]
     },
     "metadata": {},
     "output_type": "display_data"
    },
    {
     "name": "stdout",
     "output_type": "stream",
     "text": [
      "Start (p): 40, End (p): 40, Start (T): 65, End (T): 66\n",
      "\tValidation loss: 8.39313 - Distance start: 27.00 - Distance end: 26.00 [Time elapsed: 11.81 s]\n",
      "----------------------------------------------------------------------------------------------------\n",
      "Epoch 46/100\n"
     ]
    },
    {
     "data": {
      "application/vnd.jupyter.widget-view+json": {
       "model_id": "",
       "version_major": 2,
       "version_minor": 0
      },
      "text/plain": [
       "HBox(children=(HTML(value=''), FloatProgress(value=0.0, max=313.0), HTML(value='')))"
      ]
     },
     "metadata": {},
     "output_type": "display_data"
    },
    {
     "name": "stdout",
     "output_type": "stream",
     "text": [
      "Start (p): 5, End (p): 6, Start (T): 5, End (T): 6\n",
      "\tLoss: 2.15502 - Distance start: 9 - Distance end: 9 [Time elapsed: 110.95 s]\n"
     ]
    },
    {
     "data": {
      "application/vnd.jupyter.widget-view+json": {
       "model_id": "",
       "version_major": 2,
       "version_minor": 0
      },
      "text/plain": [
       "HBox(children=(HTML(value=''), FloatProgress(value=0.0, max=94.0), HTML(value='')))"
      ]
     },
     "metadata": {},
     "output_type": "display_data"
    },
    {
     "name": "stdout",
     "output_type": "stream",
     "text": [
      "Start (p): 93, End (p): 95, Start (T): 93, End (T): 95\n",
      "\tValidation loss: 8.73070 - Distance start: 26.00 - Distance end: 26.00 [Time elapsed: 12.09 s]\n",
      "----------------------------------------------------------------------------------------------------\n",
      "Epoch 47/100\n"
     ]
    },
    {
     "data": {
      "application/vnd.jupyter.widget-view+json": {
       "model_id": "",
       "version_major": 2,
       "version_minor": 0
      },
      "text/plain": [
       "HBox(children=(HTML(value=''), FloatProgress(value=0.0, max=313.0), HTML(value='')))"
      ]
     },
     "metadata": {},
     "output_type": "display_data"
    },
    {
     "name": "stdout",
     "output_type": "stream",
     "text": [
      "Start (p): 128, End (p): 130, Start (T): 129, End (T): 130\n",
      "\tLoss: 2.13925 - Distance start: 9 - Distance end: 9 [Time elapsed: 114.60 s]\n"
     ]
    },
    {
     "data": {
      "application/vnd.jupyter.widget-view+json": {
       "model_id": "",
       "version_major": 2,
       "version_minor": 0
      },
      "text/plain": [
       "HBox(children=(HTML(value=''), FloatProgress(value=0.0, max=94.0), HTML(value='')))"
      ]
     },
     "metadata": {},
     "output_type": "display_data"
    },
    {
     "name": "stdout",
     "output_type": "stream",
     "text": [
      "Start (p): 43, End (p): 43, Start (T): 43, End (T): 43\n",
      "\tValidation loss: 8.65737 - Distance start: 26.00 - Distance end: 25.00 [Time elapsed: 12.15 s]\n",
      "----------------------------------------------------------------------------------------------------\n",
      "Epoch 48/100\n"
     ]
    },
    {
     "data": {
      "application/vnd.jupyter.widget-view+json": {
       "model_id": "",
       "version_major": 2,
       "version_minor": 0
      },
      "text/plain": [
       "HBox(children=(HTML(value=''), FloatProgress(value=0.0, max=313.0), HTML(value='')))"
      ]
     },
     "metadata": {},
     "output_type": "display_data"
    },
    {
     "name": "stdout",
     "output_type": "stream",
     "text": [
      "Start (p): 88, End (p): 90, Start (T): 88, End (T): 90\n",
      "\tLoss: 2.09925 - Distance start: 9 - Distance end: 9 [Time elapsed: 118.20 s]\n"
     ]
    },
    {
     "data": {
      "application/vnd.jupyter.widget-view+json": {
       "model_id": "",
       "version_major": 2,
       "version_minor": 0
      },
      "text/plain": [
       "HBox(children=(HTML(value=''), FloatProgress(value=0.0, max=94.0), HTML(value='')))"
      ]
     },
     "metadata": {},
     "output_type": "display_data"
    },
    {
     "name": "stdout",
     "output_type": "stream",
     "text": [
      "Start (p): 8, End (p): 8, Start (T): 7, End (T): 8\n",
      "\tValidation loss: 8.69674 - Distance start: 26.00 - Distance end: 25.00 [Time elapsed: 12.57 s]\n",
      "----------------------------------------------------------------------------------------------------\n",
      "Epoch 49/100\n"
     ]
    },
    {
     "data": {
      "application/vnd.jupyter.widget-view+json": {
       "model_id": "",
       "version_major": 2,
       "version_minor": 0
      },
      "text/plain": [
       "HBox(children=(HTML(value=''), FloatProgress(value=0.0, max=313.0), HTML(value='')))"
      ]
     },
     "metadata": {},
     "output_type": "display_data"
    },
    {
     "name": "stdout",
     "output_type": "stream",
     "text": [
      "Start (p): 0, End (p): 1, Start (T): 0, End (T): 1\n",
      "\tLoss: 2.09463 - Distance start: 9 - Distance end: 9 [Time elapsed: 102.68 s]\n"
     ]
    },
    {
     "data": {
      "application/vnd.jupyter.widget-view+json": {
       "model_id": "",
       "version_major": 2,
       "version_minor": 0
      },
      "text/plain": [
       "HBox(children=(HTML(value=''), FloatProgress(value=0.0, max=94.0), HTML(value='')))"
      ]
     },
     "metadata": {},
     "output_type": "display_data"
    },
    {
     "name": "stdout",
     "output_type": "stream",
     "text": [
      "Start (p): 26, End (p): 26, Start (T): 34, End (T): 35\n",
      "\tValidation loss: 8.85898 - Distance start: 26.00 - Distance end: 26.00 [Time elapsed: 4.32 s]\n",
      "----------------------------------------------------------------------------------------------------\n",
      "Epoch 50/100\n"
     ]
    },
    {
     "data": {
      "application/vnd.jupyter.widget-view+json": {
       "model_id": "",
       "version_major": 2,
       "version_minor": 0
      },
      "text/plain": [
       "HBox(children=(HTML(value=''), FloatProgress(value=0.0, max=313.0), HTML(value='')))"
      ]
     },
     "metadata": {},
     "output_type": "display_data"
    },
    {
     "name": "stdout",
     "output_type": "stream",
     "text": [
      "Start (p): 32, End (p): 33, Start (T): 32, End (T): 34\n",
      "\tLoss: 2.18023 - Distance start: 9 - Distance end: 9 [Time elapsed: 36.90 s]\n"
     ]
    },
    {
     "data": {
      "application/vnd.jupyter.widget-view+json": {
       "model_id": "",
       "version_major": 2,
       "version_minor": 0
      },
      "text/plain": [
       "HBox(children=(HTML(value=''), FloatProgress(value=0.0, max=94.0), HTML(value='')))"
      ]
     },
     "metadata": {},
     "output_type": "display_data"
    },
    {
     "name": "stdout",
     "output_type": "stream",
     "text": [
      "Start (p): 16, End (p): 40, Start (T): 45, End (T): 47\n",
      "\tValidation loss: 8.62159 - Distance start: 26.00 - Distance end: 26.00 [Time elapsed: 4.31 s]\n",
      "----------------------------------------------------------------------------------------------------\n",
      "Epoch 51/100\n"
     ]
    },
    {
     "data": {
      "application/vnd.jupyter.widget-view+json": {
       "model_id": "",
       "version_major": 2,
       "version_minor": 0
      },
      "text/plain": [
       "HBox(children=(HTML(value=''), FloatProgress(value=0.0, max=313.0), HTML(value='')))"
      ]
     },
     "metadata": {},
     "output_type": "display_data"
    },
    {
     "name": "stdout",
     "output_type": "stream",
     "text": [
      "Start (p): 76, End (p): 78, Start (T): 76, End (T): 78\n",
      "\tLoss: 2.06965 - Distance start: 8 - Distance end: 9 [Time elapsed: 37.23 s]\n"
     ]
    },
    {
     "data": {
      "application/vnd.jupyter.widget-view+json": {
       "model_id": "",
       "version_major": 2,
       "version_minor": 0
      },
      "text/plain": [
       "HBox(children=(HTML(value=''), FloatProgress(value=0.0, max=94.0), HTML(value='')))"
      ]
     },
     "metadata": {},
     "output_type": "display_data"
    },
    {
     "name": "stdout",
     "output_type": "stream",
     "text": [
      "Start (p): 81, End (p): 58, Start (T): 122, End (T): 123\n",
      "\tValidation loss: 8.54169 - Distance start: 25.00 - Distance end: 26.00 [Time elapsed: 4.33 s]\n",
      "----------------------------------------------------------------------------------------------------\n",
      "Epoch 52/100\n"
     ]
    },
    {
     "data": {
      "application/vnd.jupyter.widget-view+json": {
       "model_id": "",
       "version_major": 2,
       "version_minor": 0
      },
      "text/plain": [
       "HBox(children=(HTML(value=''), FloatProgress(value=0.0, max=313.0), HTML(value='')))"
      ]
     },
     "metadata": {},
     "output_type": "display_data"
    },
    {
     "name": "stdout",
     "output_type": "stream",
     "text": [
      "Start (p): 69, End (p): 70, Start (T): 69, End (T): 70\n",
      "\tLoss: 2.04150 - Distance start: 8 - Distance end: 8 [Time elapsed: 37.16 s]\n"
     ]
    },
    {
     "data": {
      "application/vnd.jupyter.widget-view+json": {
       "model_id": "",
       "version_major": 2,
       "version_minor": 0
      },
      "text/plain": [
       "HBox(children=(HTML(value=''), FloatProgress(value=0.0, max=94.0), HTML(value='')))"
      ]
     },
     "metadata": {},
     "output_type": "display_data"
    },
    {
     "name": "stdout",
     "output_type": "stream",
     "text": [
      "Start (p): 6, End (p): 16, Start (T): 13, End (T): 13\n",
      "\tValidation loss: 8.86780 - Distance start: 25.00 - Distance end: 26.00 [Time elapsed: 4.27 s]\n",
      "----------------------------------------------------------------------------------------------------\n",
      "Epoch 53/100\n"
     ]
    },
    {
     "data": {
      "application/vnd.jupyter.widget-view+json": {
       "model_id": "",
       "version_major": 2,
       "version_minor": 0
      },
      "text/plain": [
       "HBox(children=(HTML(value=''), FloatProgress(value=0.0, max=313.0), HTML(value='')))"
      ]
     },
     "metadata": {},
     "output_type": "display_data"
    },
    {
     "name": "stdout",
     "output_type": "stream",
     "text": [
      "Start (p): 22, End (p): 25, Start (T): 22, End (T): 25\n",
      "\tLoss: 2.03471 - Distance start: 8 - Distance end: 8 [Time elapsed: 37.42 s]\n"
     ]
    },
    {
     "data": {
      "application/vnd.jupyter.widget-view+json": {
       "model_id": "",
       "version_major": 2,
       "version_minor": 0
      },
      "text/plain": [
       "HBox(children=(HTML(value=''), FloatProgress(value=0.0, max=94.0), HTML(value='')))"
      ]
     },
     "metadata": {},
     "output_type": "display_data"
    },
    {
     "name": "stdout",
     "output_type": "stream",
     "text": [
      "Start (p): 61, End (p): 61, Start (T): 104, End (T): 105\n",
      "\tValidation loss: 8.80815 - Distance start: 26.00 - Distance end: 25.00 [Time elapsed: 4.36 s]\n",
      "----------------------------------------------------------------------------------------------------\n",
      "Epoch 54/100\n"
     ]
    },
    {
     "data": {
      "application/vnd.jupyter.widget-view+json": {
       "model_id": "",
       "version_major": 2,
       "version_minor": 0
      },
      "text/plain": [
       "HBox(children=(HTML(value=''), FloatProgress(value=0.0, max=313.0), HTML(value='')))"
      ]
     },
     "metadata": {},
     "output_type": "display_data"
    },
    {
     "name": "stdout",
     "output_type": "stream",
     "text": [
      "Start (p): 27, End (p): 27, Start (T): 27, End (T): 27\n",
      "\tLoss: 1.96592 - Distance start: 8 - Distance end: 8 [Time elapsed: 37.46 s]\n"
     ]
    },
    {
     "data": {
      "application/vnd.jupyter.widget-view+json": {
       "model_id": "",
       "version_major": 2,
       "version_minor": 0
      },
      "text/plain": [
       "HBox(children=(HTML(value=''), FloatProgress(value=0.0, max=94.0), HTML(value='')))"
      ]
     },
     "metadata": {},
     "output_type": "display_data"
    },
    {
     "name": "stdout",
     "output_type": "stream",
     "text": [
      "Start (p): 53, End (p): 53, Start (T): 37, End (T): 39\n",
      "\tValidation loss: 8.96613 - Distance start: 26.00 - Distance end: 26.00 [Time elapsed: 4.27 s]\n",
      "----------------------------------------------------------------------------------------------------\n",
      "Epoch 55/100\n"
     ]
    },
    {
     "data": {
      "application/vnd.jupyter.widget-view+json": {
       "model_id": "",
       "version_major": 2,
       "version_minor": 0
      },
      "text/plain": [
       "HBox(children=(HTML(value=''), FloatProgress(value=0.0, max=313.0), HTML(value='')))"
      ]
     },
     "metadata": {},
     "output_type": "display_data"
    },
    {
     "name": "stdout",
     "output_type": "stream",
     "text": [
      "Start (p): 55, End (p): 11, Start (T): 9, End (T): 11\n",
      "\tLoss: 1.96869 - Distance start: 8 - Distance end: 8 [Time elapsed: 37.04 s]\n"
     ]
    },
    {
     "data": {
      "application/vnd.jupyter.widget-view+json": {
       "model_id": "",
       "version_major": 2,
       "version_minor": 0
      },
      "text/plain": [
       "HBox(children=(HTML(value=''), FloatProgress(value=0.0, max=94.0), HTML(value='')))"
      ]
     },
     "metadata": {},
     "output_type": "display_data"
    },
    {
     "name": "stdout",
     "output_type": "stream",
     "text": [
      "Start (p): 53, End (p): 53, Start (T): 34, End (T): 34\n",
      "\tValidation loss: 9.12804 - Distance start: 26.00 - Distance end: 26.00 [Time elapsed: 4.31 s]\n",
      "----------------------------------------------------------------------------------------------------\n",
      "Epoch 56/100\n"
     ]
    },
    {
     "data": {
      "application/vnd.jupyter.widget-view+json": {
       "model_id": "",
       "version_major": 2,
       "version_minor": 0
      },
      "text/plain": [
       "HBox(children=(HTML(value=''), FloatProgress(value=0.0, max=313.0), HTML(value='')))"
      ]
     },
     "metadata": {},
     "output_type": "display_data"
    },
    {
     "name": "stdout",
     "output_type": "stream",
     "text": [
      "Start (p): 105, End (p): 106, Start (T): 105, End (T): 106\n",
      "\tLoss: 1.93520 - Distance start: 7 - Distance end: 8 [Time elapsed: 37.35 s]\n"
     ]
    },
    {
     "data": {
      "application/vnd.jupyter.widget-view+json": {
       "model_id": "",
       "version_major": 2,
       "version_minor": 0
      },
      "text/plain": [
       "HBox(children=(HTML(value=''), FloatProgress(value=0.0, max=94.0), HTML(value='')))"
      ]
     },
     "metadata": {},
     "output_type": "display_data"
    },
    {
     "name": "stdout",
     "output_type": "stream",
     "text": [
      "Start (p): 55, End (p): 48, Start (T): 47, End (T): 48\n",
      "\tValidation loss: 9.02606 - Distance start: 26.00 - Distance end: 26.00 [Time elapsed: 4.31 s]\n",
      "----------------------------------------------------------------------------------------------------\n",
      "Epoch 57/100\n"
     ]
    },
    {
     "data": {
      "application/vnd.jupyter.widget-view+json": {
       "model_id": "",
       "version_major": 2,
       "version_minor": 0
      },
      "text/plain": [
       "HBox(children=(HTML(value=''), FloatProgress(value=0.0, max=313.0), HTML(value='')))"
      ]
     },
     "metadata": {},
     "output_type": "display_data"
    },
    {
     "name": "stdout",
     "output_type": "stream",
     "text": [
      "Start (p): 54, End (p): 54, Start (T): 54, End (T): 54\n",
      "\tLoss: 1.97089 - Distance start: 8 - Distance end: 8 [Time elapsed: 37.31 s]\n"
     ]
    },
    {
     "data": {
      "application/vnd.jupyter.widget-view+json": {
       "model_id": "",
       "version_major": 2,
       "version_minor": 0
      },
      "text/plain": [
       "HBox(children=(HTML(value=''), FloatProgress(value=0.0, max=94.0), HTML(value='')))"
      ]
     },
     "metadata": {},
     "output_type": "display_data"
    },
    {
     "name": "stdout",
     "output_type": "stream",
     "text": [
      "Start (p): 72, End (p): 72, Start (T): 72, End (T): 76\n",
      "\tValidation loss: 9.08445 - Distance start: 26.00 - Distance end: 25.00 [Time elapsed: 4.30 s]\n",
      "----------------------------------------------------------------------------------------------------\n",
      "Epoch 58/100\n"
     ]
    },
    {
     "data": {
      "application/vnd.jupyter.widget-view+json": {
       "model_id": "",
       "version_major": 2,
       "version_minor": 0
      },
      "text/plain": [
       "HBox(children=(HTML(value=''), FloatProgress(value=0.0, max=313.0), HTML(value='')))"
      ]
     },
     "metadata": {},
     "output_type": "display_data"
    },
    {
     "name": "stdout",
     "output_type": "stream",
     "text": [
      "Start (p): 50, End (p): 71, Start (T): 17, End (T): 17\n",
      "\tLoss: 1.92627 - Distance start: 7 - Distance end: 8 [Time elapsed: 36.83 s]\n"
     ]
    },
    {
     "data": {
      "application/vnd.jupyter.widget-view+json": {
       "model_id": "",
       "version_major": 2,
       "version_minor": 0
      },
      "text/plain": [
       "HBox(children=(HTML(value=''), FloatProgress(value=0.0, max=94.0), HTML(value='')))"
      ]
     },
     "metadata": {},
     "output_type": "display_data"
    },
    {
     "name": "stdout",
     "output_type": "stream",
     "text": [
      "Start (p): 31, End (p): 32, Start (T): 60, End (T): 67\n",
      "\tValidation loss: 9.09652 - Distance start: 26.00 - Distance end: 25.00 [Time elapsed: 4.26 s]\n",
      "----------------------------------------------------------------------------------------------------\n",
      "Epoch 59/100\n"
     ]
    },
    {
     "data": {
      "application/vnd.jupyter.widget-view+json": {
       "model_id": "",
       "version_major": 2,
       "version_minor": 0
      },
      "text/plain": [
       "HBox(children=(HTML(value=''), FloatProgress(value=0.0, max=313.0), HTML(value='')))"
      ]
     },
     "metadata": {},
     "output_type": "display_data"
    },
    {
     "name": "stdout",
     "output_type": "stream",
     "text": [
      "Start (p): 51, End (p): 51, Start (T): 39, End (T): 43\n",
      "\tLoss: 1.93634 - Distance start: 8 - Distance end: 8 [Time elapsed: 37.28 s]\n"
     ]
    },
    {
     "data": {
      "application/vnd.jupyter.widget-view+json": {
       "model_id": "",
       "version_major": 2,
       "version_minor": 0
      },
      "text/plain": [
       "HBox(children=(HTML(value=''), FloatProgress(value=0.0, max=94.0), HTML(value='')))"
      ]
     },
     "metadata": {},
     "output_type": "display_data"
    },
    {
     "name": "stdout",
     "output_type": "stream",
     "text": [
      "Start (p): 33, End (p): 15, Start (T): 31, End (T): 32\n",
      "\tValidation loss: 8.98248 - Distance start: 26.00 - Distance end: 26.00 [Time elapsed: 4.31 s]\n",
      "----------------------------------------------------------------------------------------------------\n",
      "Epoch 60/100\n"
     ]
    },
    {
     "data": {
      "application/vnd.jupyter.widget-view+json": {
       "model_id": "",
       "version_major": 2,
       "version_minor": 0
      },
      "text/plain": [
       "HBox(children=(HTML(value=''), FloatProgress(value=0.0, max=313.0), HTML(value='')))"
      ]
     },
     "metadata": {},
     "output_type": "display_data"
    },
    {
     "name": "stdout",
     "output_type": "stream",
     "text": [
      "Start (p): 37, End (p): 38, Start (T): 36, End (T): 38\n",
      "\tLoss: 1.90076 - Distance start: 7 - Distance end: 7 [Time elapsed: 37.08 s]\n"
     ]
    },
    {
     "data": {
      "application/vnd.jupyter.widget-view+json": {
       "model_id": "",
       "version_major": 2,
       "version_minor": 0
      },
      "text/plain": [
       "HBox(children=(HTML(value=''), FloatProgress(value=0.0, max=94.0), HTML(value='')))"
      ]
     },
     "metadata": {},
     "output_type": "display_data"
    },
    {
     "name": "stdout",
     "output_type": "stream",
     "text": [
      "Start (p): 6, End (p): 5, Start (T): 68, End (T): 69\n",
      "\tValidation loss: 9.01903 - Distance start: 26.00 - Distance end: 26.00 [Time elapsed: 4.29 s]\n",
      "----------------------------------------------------------------------------------------------------\n",
      "Epoch 61/100\n"
     ]
    },
    {
     "data": {
      "application/vnd.jupyter.widget-view+json": {
       "model_id": "",
       "version_major": 2,
       "version_minor": 0
      },
      "text/plain": [
       "HBox(children=(HTML(value=''), FloatProgress(value=0.0, max=313.0), HTML(value='')))"
      ]
     },
     "metadata": {},
     "output_type": "display_data"
    },
    {
     "name": "stdout",
     "output_type": "stream",
     "text": [
      "Start (p): 57, End (p): 57, Start (T): 57, End (T): 57\n",
      "\tLoss: 2.21981 - Distance start: 9 - Distance end: 9 [Time elapsed: 37.41 s]\n"
     ]
    },
    {
     "data": {
      "application/vnd.jupyter.widget-view+json": {
       "model_id": "",
       "version_major": 2,
       "version_minor": 0
      },
      "text/plain": [
       "HBox(children=(HTML(value=''), FloatProgress(value=0.0, max=94.0), HTML(value='')))"
      ]
     },
     "metadata": {},
     "output_type": "display_data"
    },
    {
     "name": "stdout",
     "output_type": "stream",
     "text": [
      "Start (p): 1, End (p): 3, Start (T): 1, End (T): 3\n",
      "\tValidation loss: 8.90860 - Distance start: 26.00 - Distance end: 26.00 [Time elapsed: 4.36 s]\n",
      "----------------------------------------------------------------------------------------------------\n",
      "Epoch 62/100\n"
     ]
    },
    {
     "data": {
      "application/vnd.jupyter.widget-view+json": {
       "model_id": "",
       "version_major": 2,
       "version_minor": 0
      },
      "text/plain": [
       "HBox(children=(HTML(value=''), FloatProgress(value=0.0, max=313.0), HTML(value='')))"
      ]
     },
     "metadata": {},
     "output_type": "display_data"
    },
    {
     "name": "stdout",
     "output_type": "stream",
     "text": [
      "Start (p): 218, End (p): 220, Start (T): 218, End (T): 220\n",
      "\tLoss: 2.23870 - Distance start: 9 - Distance end: 9 [Time elapsed: 37.33 s]\n"
     ]
    },
    {
     "data": {
      "application/vnd.jupyter.widget-view+json": {
       "model_id": "",
       "version_major": 2,
       "version_minor": 0
      },
      "text/plain": [
       "HBox(children=(HTML(value=''), FloatProgress(value=0.0, max=94.0), HTML(value='')))"
      ]
     },
     "metadata": {},
     "output_type": "display_data"
    },
    {
     "name": "stdout",
     "output_type": "stream",
     "text": [
      "Start (p): 38, End (p): 39, Start (T): 47, End (T): 52\n",
      "\tValidation loss: 8.80527 - Distance start: 25.00 - Distance end: 26.00 [Time elapsed: 4.33 s]\n",
      "----------------------------------------------------------------------------------------------------\n",
      "Epoch 63/100\n"
     ]
    },
    {
     "data": {
      "application/vnd.jupyter.widget-view+json": {
       "model_id": "",
       "version_major": 2,
       "version_minor": 0
      },
      "text/plain": [
       "HBox(children=(HTML(value=''), FloatProgress(value=0.0, max=313.0), HTML(value='')))"
      ]
     },
     "metadata": {},
     "output_type": "display_data"
    },
    {
     "name": "stdout",
     "output_type": "stream",
     "text": [
      "Start (p): 2, End (p): 3, Start (T): 3, End (T): 3\n",
      "\tLoss: 1.81897 - Distance start: 7 - Distance end: 7 [Time elapsed: 37.51 s]\n"
     ]
    },
    {
     "data": {
      "application/vnd.jupyter.widget-view+json": {
       "model_id": "",
       "version_major": 2,
       "version_minor": 0
      },
      "text/plain": [
       "HBox(children=(HTML(value=''), FloatProgress(value=0.0, max=94.0), HTML(value='')))"
      ]
     },
     "metadata": {},
     "output_type": "display_data"
    },
    {
     "name": "stdout",
     "output_type": "stream",
     "text": [
      "Start (p): 72, End (p): 66, Start (T): 61, End (T): 61\n",
      "\tValidation loss: 9.14102 - Distance start: 26.00 - Distance end: 25.00 [Time elapsed: 4.30 s]\n",
      "----------------------------------------------------------------------------------------------------\n",
      "Epoch 64/100\n"
     ]
    },
    {
     "data": {
      "application/vnd.jupyter.widget-view+json": {
       "model_id": "",
       "version_major": 2,
       "version_minor": 0
      },
      "text/plain": [
       "HBox(children=(HTML(value=''), FloatProgress(value=0.0, max=313.0), HTML(value='')))"
      ]
     },
     "metadata": {},
     "output_type": "display_data"
    },
    {
     "name": "stdout",
     "output_type": "stream",
     "text": [
      "Start (p): 57, End (p): 64, Start (T): 57, End (T): 64\n",
      "\tLoss: 1.75897 - Distance start: 7 - Distance end: 7 [Time elapsed: 37.27 s]\n"
     ]
    },
    {
     "data": {
      "application/vnd.jupyter.widget-view+json": {
       "model_id": "",
       "version_major": 2,
       "version_minor": 0
      },
      "text/plain": [
       "HBox(children=(HTML(value=''), FloatProgress(value=0.0, max=94.0), HTML(value='')))"
      ]
     },
     "metadata": {},
     "output_type": "display_data"
    },
    {
     "name": "stdout",
     "output_type": "stream",
     "text": [
      "Start (p): 57, End (p): 56, Start (T): 46, End (T): 48\n",
      "\tValidation loss: 9.42346 - Distance start: 25.00 - Distance end: 25.00 [Time elapsed: 4.29 s]\n",
      "----------------------------------------------------------------------------------------------------\n",
      "Epoch 65/100\n"
     ]
    },
    {
     "data": {
      "application/vnd.jupyter.widget-view+json": {
       "model_id": "",
       "version_major": 2,
       "version_minor": 0
      },
      "text/plain": [
       "HBox(children=(HTML(value=''), FloatProgress(value=0.0, max=313.0), HTML(value='')))"
      ]
     },
     "metadata": {},
     "output_type": "display_data"
    },
    {
     "name": "stdout",
     "output_type": "stream",
     "text": [
      "Start (p): 53, End (p): 54, Start (T): 53, End (T): 54\n",
      "\tLoss: 1.79130 - Distance start: 7 - Distance end: 7 [Time elapsed: 37.26 s]\n"
     ]
    },
    {
     "data": {
      "application/vnd.jupyter.widget-view+json": {
       "model_id": "",
       "version_major": 2,
       "version_minor": 0
      },
      "text/plain": [
       "HBox(children=(HTML(value=''), FloatProgress(value=0.0, max=94.0), HTML(value='')))"
      ]
     },
     "metadata": {},
     "output_type": "display_data"
    },
    {
     "name": "stdout",
     "output_type": "stream",
     "text": [
      "Start (p): 68, End (p): 42, Start (T): 50, End (T): 53\n",
      "\tValidation loss: 9.30039 - Distance start: 26.00 - Distance end: 25.00 [Time elapsed: 4.30 s]\n",
      "----------------------------------------------------------------------------------------------------\n",
      "Epoch 66/100\n"
     ]
    },
    {
     "data": {
      "application/vnd.jupyter.widget-view+json": {
       "model_id": "",
       "version_major": 2,
       "version_minor": 0
      },
      "text/plain": [
       "HBox(children=(HTML(value=''), FloatProgress(value=0.0, max=313.0), HTML(value='')))"
      ]
     },
     "metadata": {},
     "output_type": "display_data"
    },
    {
     "name": "stdout",
     "output_type": "stream",
     "text": [
      "Start (p): 153, End (p): 177, Start (T): 150, End (T): 159\n",
      "\tLoss: 1.87780 - Distance start: 7 - Distance end: 7 [Time elapsed: 37.25 s]\n"
     ]
    },
    {
     "data": {
      "application/vnd.jupyter.widget-view+json": {
       "model_id": "",
       "version_major": 2,
       "version_minor": 0
      },
      "text/plain": [
       "HBox(children=(HTML(value=''), FloatProgress(value=0.0, max=94.0), HTML(value='')))"
      ]
     },
     "metadata": {},
     "output_type": "display_data"
    },
    {
     "name": "stdout",
     "output_type": "stream",
     "text": [
      "Start (p): 123, End (p): 125, Start (T): 35, End (T): 36\n",
      "\tValidation loss: 9.30916 - Distance start: 25.00 - Distance end: 26.00 [Time elapsed: 4.32 s]\n",
      "----------------------------------------------------------------------------------------------------\n",
      "Epoch 67/100\n"
     ]
    },
    {
     "data": {
      "application/vnd.jupyter.widget-view+json": {
       "model_id": "",
       "version_major": 2,
       "version_minor": 0
      },
      "text/plain": [
       "HBox(children=(HTML(value=''), FloatProgress(value=0.0, max=313.0), HTML(value='')))"
      ]
     },
     "metadata": {},
     "output_type": "display_data"
    },
    {
     "name": "stdout",
     "output_type": "stream",
     "text": [
      "Start (p): 8, End (p): 10, Start (T): 8, End (T): 10\n",
      "\tLoss: 1.74624 - Distance start: 7 - Distance end: 7 [Time elapsed: 37.16 s]\n"
     ]
    },
    {
     "data": {
      "application/vnd.jupyter.widget-view+json": {
       "model_id": "",
       "version_major": 2,
       "version_minor": 0
      },
      "text/plain": [
       "HBox(children=(HTML(value=''), FloatProgress(value=0.0, max=94.0), HTML(value='')))"
      ]
     },
     "metadata": {},
     "output_type": "display_data"
    },
    {
     "name": "stdout",
     "output_type": "stream",
     "text": [
      "Start (p): 20, End (p): 21, Start (T): 8, End (T): 11\n",
      "\tValidation loss: 9.58185 - Distance start: 26.00 - Distance end: 26.00 [Time elapsed: 4.34 s]\n",
      "----------------------------------------------------------------------------------------------------\n",
      "Epoch 68/100\n"
     ]
    },
    {
     "data": {
      "application/vnd.jupyter.widget-view+json": {
       "model_id": "",
       "version_major": 2,
       "version_minor": 0
      },
      "text/plain": [
       "HBox(children=(HTML(value=''), FloatProgress(value=0.0, max=313.0), HTML(value='')))"
      ]
     },
     "metadata": {},
     "output_type": "display_data"
    },
    {
     "name": "stdout",
     "output_type": "stream",
     "text": [
      "Start (p): 76, End (p): 76, Start (T): 76, End (T): 76\n",
      "\tLoss: 1.89009 - Distance start: 7 - Distance end: 8 [Time elapsed: 37.35 s]\n"
     ]
    },
    {
     "data": {
      "application/vnd.jupyter.widget-view+json": {
       "model_id": "",
       "version_major": 2,
       "version_minor": 0
      },
      "text/plain": [
       "HBox(children=(HTML(value=''), FloatProgress(value=0.0, max=94.0), HTML(value='')))"
      ]
     },
     "metadata": {},
     "output_type": "display_data"
    },
    {
     "name": "stdout",
     "output_type": "stream",
     "text": [
      "Start (p): 69, End (p): 69, Start (T): 69, End (T): 69\n",
      "\tValidation loss: 9.59601 - Distance start: 25.00 - Distance end: 25.00 [Time elapsed: 4.26 s]\n",
      "----------------------------------------------------------------------------------------------------\n",
      "Epoch 69/100\n"
     ]
    },
    {
     "data": {
      "application/vnd.jupyter.widget-view+json": {
       "model_id": "",
       "version_major": 2,
       "version_minor": 0
      },
      "text/plain": [
       "HBox(children=(HTML(value=''), FloatProgress(value=0.0, max=313.0), HTML(value='')))"
      ]
     },
     "metadata": {},
     "output_type": "display_data"
    },
    {
     "name": "stdout",
     "output_type": "stream",
     "text": [
      "Start (p): 17, End (p): 17, Start (T): 17, End (T): 17\n",
      "\tLoss: 1.77845 - Distance start: 7 - Distance end: 7 [Time elapsed: 37.52 s]\n"
     ]
    },
    {
     "data": {
      "application/vnd.jupyter.widget-view+json": {
       "model_id": "",
       "version_major": 2,
       "version_minor": 0
      },
      "text/plain": [
       "HBox(children=(HTML(value=''), FloatProgress(value=0.0, max=94.0), HTML(value='')))"
      ]
     },
     "metadata": {},
     "output_type": "display_data"
    },
    {
     "name": "stdout",
     "output_type": "stream",
     "text": [
      "Start (p): 92, End (p): 112, Start (T): 62, End (T): 62\n",
      "\tValidation loss: 9.55400 - Distance start: 25.00 - Distance end: 25.00 [Time elapsed: 4.27 s]\n",
      "----------------------------------------------------------------------------------------------------\n",
      "Epoch 70/100\n"
     ]
    },
    {
     "data": {
      "application/vnd.jupyter.widget-view+json": {
       "model_id": "",
       "version_major": 2,
       "version_minor": 0
      },
      "text/plain": [
       "HBox(children=(HTML(value=''), FloatProgress(value=0.0, max=313.0), HTML(value='')))"
      ]
     },
     "metadata": {},
     "output_type": "display_data"
    },
    {
     "name": "stdout",
     "output_type": "stream",
     "text": [
      "Start (p): 86, End (p): 86, Start (T): 86, End (T): 86\n",
      "\tLoss: 1.68693 - Distance start: 6 - Distance end: 7 [Time elapsed: 37.31 s]\n"
     ]
    },
    {
     "data": {
      "application/vnd.jupyter.widget-view+json": {
       "model_id": "",
       "version_major": 2,
       "version_minor": 0
      },
      "text/plain": [
       "HBox(children=(HTML(value=''), FloatProgress(value=0.0, max=94.0), HTML(value='')))"
      ]
     },
     "metadata": {},
     "output_type": "display_data"
    },
    {
     "name": "stdout",
     "output_type": "stream",
     "text": [
      "Start (p): 74, End (p): 108, Start (T): 106, End (T): 108\n",
      "\tValidation loss: 9.57041 - Distance start: 25.00 - Distance end: 25.00 [Time elapsed: 4.35 s]\n",
      "----------------------------------------------------------------------------------------------------\n",
      "Epoch 71/100\n"
     ]
    },
    {
     "data": {
      "application/vnd.jupyter.widget-view+json": {
       "model_id": "",
       "version_major": 2,
       "version_minor": 0
      },
      "text/plain": [
       "HBox(children=(HTML(value=''), FloatProgress(value=0.0, max=313.0), HTML(value='')))"
      ]
     },
     "metadata": {},
     "output_type": "display_data"
    },
    {
     "name": "stdout",
     "output_type": "stream",
     "text": [
      "Start (p): 27, End (p): 27, Start (T): 27, End (T): 27\n",
      "\tLoss: 1.83364 - Distance start: 7 - Distance end: 7 [Time elapsed: 37.19 s]\n"
     ]
    },
    {
     "data": {
      "application/vnd.jupyter.widget-view+json": {
       "model_id": "",
       "version_major": 2,
       "version_minor": 0
      },
      "text/plain": [
       "HBox(children=(HTML(value=''), FloatProgress(value=0.0, max=94.0), HTML(value='')))"
      ]
     },
     "metadata": {},
     "output_type": "display_data"
    },
    {
     "name": "stdout",
     "output_type": "stream",
     "text": [
      "Start (p): 40, End (p): 40, Start (T): 40, End (T): 40\n",
      "\tValidation loss: 9.28418 - Distance start: 26.00 - Distance end: 26.00 [Time elapsed: 4.32 s]\n",
      "----------------------------------------------------------------------------------------------------\n",
      "Epoch 72/100\n"
     ]
    },
    {
     "data": {
      "application/vnd.jupyter.widget-view+json": {
       "model_id": "",
       "version_major": 2,
       "version_minor": 0
      },
      "text/plain": [
       "HBox(children=(HTML(value=''), FloatProgress(value=0.0, max=313.0), HTML(value='')))"
      ]
     },
     "metadata": {},
     "output_type": "display_data"
    },
    {
     "name": "stdout",
     "output_type": "stream",
     "text": [
      "Start (p): 32, End (p): 33, Start (T): 32, End (T): 33\n",
      "\tLoss: 1.80411 - Distance start: 7 - Distance end: 7 [Time elapsed: 37.41 s]\n"
     ]
    },
    {
     "data": {
      "application/vnd.jupyter.widget-view+json": {
       "model_id": "",
       "version_major": 2,
       "version_minor": 0
      },
      "text/plain": [
       "HBox(children=(HTML(value=''), FloatProgress(value=0.0, max=94.0), HTML(value='')))"
      ]
     },
     "metadata": {},
     "output_type": "display_data"
    },
    {
     "name": "stdout",
     "output_type": "stream",
     "text": [
      "Start (p): 7, End (p): 12, Start (T): 7, End (T): 9\n",
      "\tValidation loss: 9.40011 - Distance start: 26.00 - Distance end: 26.00 [Time elapsed: 4.28 s]\n",
      "----------------------------------------------------------------------------------------------------\n",
      "Epoch 73/100\n"
     ]
    },
    {
     "data": {
      "application/vnd.jupyter.widget-view+json": {
       "model_id": "",
       "version_major": 2,
       "version_minor": 0
      },
      "text/plain": [
       "HBox(children=(HTML(value=''), FloatProgress(value=0.0, max=313.0), HTML(value='')))"
      ]
     },
     "metadata": {},
     "output_type": "display_data"
    },
    {
     "name": "stdout",
     "output_type": "stream",
     "text": [
      "Start (p): 105, End (p): 107, Start (T): 105, End (T): 107\n",
      "\tLoss: 1.73730 - Distance start: 7 - Distance end: 6 [Time elapsed: 36.96 s]\n"
     ]
    },
    {
     "data": {
      "application/vnd.jupyter.widget-view+json": {
       "model_id": "",
       "version_major": 2,
       "version_minor": 0
      },
      "text/plain": [
       "HBox(children=(HTML(value=''), FloatProgress(value=0.0, max=94.0), HTML(value='')))"
      ]
     },
     "metadata": {},
     "output_type": "display_data"
    },
    {
     "name": "stdout",
     "output_type": "stream",
     "text": [
      "Start (p): 31, End (p): 32, Start (T): 31, End (T): 31\n",
      "\tValidation loss: 9.40204 - Distance start: 25.00 - Distance end: 24.00 [Time elapsed: 4.34 s]\n",
      "----------------------------------------------------------------------------------------------------\n",
      "Epoch 74/100\n"
     ]
    },
    {
     "data": {
      "application/vnd.jupyter.widget-view+json": {
       "model_id": "",
       "version_major": 2,
       "version_minor": 0
      },
      "text/plain": [
       "HBox(children=(HTML(value=''), FloatProgress(value=0.0, max=313.0), HTML(value='')))"
      ]
     },
     "metadata": {},
     "output_type": "display_data"
    },
    {
     "name": "stdout",
     "output_type": "stream",
     "text": [
      "Start (p): 165, End (p): 166, Start (T): 162, End (T): 166\n",
      "\tLoss: 1.75819 - Distance start: 7 - Distance end: 7 [Time elapsed: 37.27 s]\n"
     ]
    },
    {
     "data": {
      "application/vnd.jupyter.widget-view+json": {
       "model_id": "",
       "version_major": 2,
       "version_minor": 0
      },
      "text/plain": [
       "HBox(children=(HTML(value=''), FloatProgress(value=0.0, max=94.0), HTML(value='')))"
      ]
     },
     "metadata": {},
     "output_type": "display_data"
    },
    {
     "name": "stdout",
     "output_type": "stream",
     "text": [
      "Start (p): 133, End (p): 97, Start (T): 11, End (T): 13\n",
      "\tValidation loss: 9.45167 - Distance start: 25.00 - Distance end: 26.00 [Time elapsed: 4.31 s]\n",
      "----------------------------------------------------------------------------------------------------\n",
      "Epoch 75/100\n"
     ]
    },
    {
     "data": {
      "application/vnd.jupyter.widget-view+json": {
       "model_id": "",
       "version_major": 2,
       "version_minor": 0
      },
      "text/plain": [
       "HBox(children=(HTML(value=''), FloatProgress(value=0.0, max=313.0), HTML(value='')))"
      ]
     },
     "metadata": {},
     "output_type": "display_data"
    },
    {
     "name": "stdout",
     "output_type": "stream",
     "text": [
      "Start (p): 1, End (p): 2, Start (T): 1, End (T): 2\n",
      "\tLoss: 1.73317 - Distance start: 6 - Distance end: 7 [Time elapsed: 37.26 s]\n"
     ]
    },
    {
     "data": {
      "application/vnd.jupyter.widget-view+json": {
       "model_id": "",
       "version_major": 2,
       "version_minor": 0
      },
      "text/plain": [
       "HBox(children=(HTML(value=''), FloatProgress(value=0.0, max=94.0), HTML(value='')))"
      ]
     },
     "metadata": {},
     "output_type": "display_data"
    },
    {
     "name": "stdout",
     "output_type": "stream",
     "text": [
      "Start (p): 51, End (p): 51, Start (T): 44, End (T): 47\n",
      "\tValidation loss: 9.35176 - Distance start: 26.00 - Distance end: 26.00 [Time elapsed: 4.29 s]\n",
      "----------------------------------------------------------------------------------------------------\n",
      "Epoch 76/100\n"
     ]
    },
    {
     "data": {
      "application/vnd.jupyter.widget-view+json": {
       "model_id": "",
       "version_major": 2,
       "version_minor": 0
      },
      "text/plain": [
       "HBox(children=(HTML(value=''), FloatProgress(value=0.0, max=313.0), HTML(value='')))"
      ]
     },
     "metadata": {},
     "output_type": "display_data"
    },
    {
     "name": "stdout",
     "output_type": "stream",
     "text": [
      "Start (p): 69, End (p): 69, Start (T): 69, End (T): 69\n",
      "\tLoss: 1.77776 - Distance start: 7 - Distance end: 7 [Time elapsed: 36.95 s]\n"
     ]
    },
    {
     "data": {
      "application/vnd.jupyter.widget-view+json": {
       "model_id": "",
       "version_major": 2,
       "version_minor": 0
      },
      "text/plain": [
       "HBox(children=(HTML(value=''), FloatProgress(value=0.0, max=94.0), HTML(value='')))"
      ]
     },
     "metadata": {},
     "output_type": "display_data"
    },
    {
     "name": "stdout",
     "output_type": "stream",
     "text": [
      "Start (p): 101, End (p): 119, Start (T): 99, End (T): 104\n",
      "\tValidation loss: 9.80837 - Distance start: 25.00 - Distance end: 25.00 [Time elapsed: 4.32 s]\n",
      "----------------------------------------------------------------------------------------------------\n",
      "Epoch 77/100\n"
     ]
    },
    {
     "data": {
      "application/vnd.jupyter.widget-view+json": {
       "model_id": "",
       "version_major": 2,
       "version_minor": 0
      },
      "text/plain": [
       "HBox(children=(HTML(value=''), FloatProgress(value=0.0, max=313.0), HTML(value='')))"
      ]
     },
     "metadata": {},
     "output_type": "display_data"
    },
    {
     "name": "stdout",
     "output_type": "stream",
     "text": [
      "Start (p): 30, End (p): 22, Start (T): 19, End (T): 22\n",
      "\tLoss: 5.90479 - Distance start: 24 - Distance end: 25 [Time elapsed: 37.17 s]\n"
     ]
    },
    {
     "data": {
      "application/vnd.jupyter.widget-view+json": {
       "model_id": "",
       "version_major": 2,
       "version_minor": 0
      },
      "text/plain": [
       "HBox(children=(HTML(value=''), FloatProgress(value=0.0, max=94.0), HTML(value='')))"
      ]
     },
     "metadata": {},
     "output_type": "display_data"
    },
    {
     "name": "stdout",
     "output_type": "stream",
     "text": [
      "Start (p): 12, End (p): 12, Start (T): 12, End (T): 12\n",
      "\tValidation loss: 6.79065 - Distance start: 28.00 - Distance end: 28.00 [Time elapsed: 4.28 s]\n",
      "----------------------------------------------------------------------------------------------------\n",
      "Epoch 78/100\n"
     ]
    },
    {
     "data": {
      "application/vnd.jupyter.widget-view+json": {
       "model_id": "",
       "version_major": 2,
       "version_minor": 0
      },
      "text/plain": [
       "HBox(children=(HTML(value=''), FloatProgress(value=0.0, max=313.0), HTML(value='')))"
      ]
     },
     "metadata": {},
     "output_type": "display_data"
    },
    {
     "name": "stdout",
     "output_type": "stream",
     "text": [
      "Start (p): 19, End (p): 16, Start (T): 82, End (T): 86\n",
      "\tLoss: 5.52866 - Distance start: 24 - Distance end: 24 [Time elapsed: 37.26 s]\n"
     ]
    },
    {
     "data": {
      "application/vnd.jupyter.widget-view+json": {
       "model_id": "",
       "version_major": 2,
       "version_minor": 0
      },
      "text/plain": [
       "HBox(children=(HTML(value=''), FloatProgress(value=0.0, max=94.0), HTML(value='')))"
      ]
     },
     "metadata": {},
     "output_type": "display_data"
    },
    {
     "name": "stdout",
     "output_type": "stream",
     "text": [
      "Start (p): 74, End (p): 64, Start (T): 28, End (T): 29\n",
      "\tValidation loss: 6.46981 - Distance start: 25.00 - Distance end: 26.00 [Time elapsed: 4.31 s]\n",
      "----------------------------------------------------------------------------------------------------\n",
      "Epoch 79/100\n"
     ]
    },
    {
     "data": {
      "application/vnd.jupyter.widget-view+json": {
       "model_id": "",
       "version_major": 2,
       "version_minor": 0
      },
      "text/plain": [
       "HBox(children=(HTML(value=''), FloatProgress(value=0.0, max=313.0), HTML(value='')))"
      ]
     },
     "metadata": {},
     "output_type": "display_data"
    },
    {
     "name": "stdout",
     "output_type": "stream",
     "text": [
      "Start (p): 52, End (p): 46, Start (T): 55, End (T): 56\n",
      "\tLoss: 4.99241 - Distance start: 20 - Distance end: 21 [Time elapsed: 37.36 s]\n"
     ]
    },
    {
     "data": {
      "application/vnd.jupyter.widget-view+json": {
       "model_id": "",
       "version_major": 2,
       "version_minor": 0
      },
      "text/plain": [
       "HBox(children=(HTML(value=''), FloatProgress(value=0.0, max=94.0), HTML(value='')))"
      ]
     },
     "metadata": {},
     "output_type": "display_data"
    },
    {
     "name": "stdout",
     "output_type": "stream",
     "text": [
      "Start (p): 29, End (p): 14, Start (T): 12, End (T): 14\n",
      "\tValidation loss: 6.39593 - Distance start: 25.00 - Distance end: 26.00 [Time elapsed: 4.25 s]\n",
      "----------------------------------------------------------------------------------------------------\n",
      "Epoch 80/100\n"
     ]
    },
    {
     "data": {
      "application/vnd.jupyter.widget-view+json": {
       "model_id": "",
       "version_major": 2,
       "version_minor": 0
      },
      "text/plain": [
       "HBox(children=(HTML(value=''), FloatProgress(value=0.0, max=313.0), HTML(value='')))"
      ]
     },
     "metadata": {},
     "output_type": "display_data"
    },
    {
     "name": "stdout",
     "output_type": "stream",
     "text": [
      "Start (p): 32, End (p): 37, Start (T): 36, End (T): 41\n",
      "\tLoss: 4.64501 - Distance start: 18 - Distance end: 19 [Time elapsed: 36.95 s]\n"
     ]
    },
    {
     "data": {
      "application/vnd.jupyter.widget-view+json": {
       "model_id": "",
       "version_major": 2,
       "version_minor": 0
      },
      "text/plain": [
       "HBox(children=(HTML(value=''), FloatProgress(value=0.0, max=94.0), HTML(value='')))"
      ]
     },
     "metadata": {},
     "output_type": "display_data"
    },
    {
     "name": "stdout",
     "output_type": "stream",
     "text": [
      "Start (p): 24, End (p): 3, Start (T): 7, End (T): 9\n",
      "\tValidation loss: 6.39189 - Distance start: 23.00 - Distance end: 23.00 [Time elapsed: 4.33 s]\n",
      "----------------------------------------------------------------------------------------------------\n",
      "Epoch 81/100\n"
     ]
    },
    {
     "data": {
      "application/vnd.jupyter.widget-view+json": {
       "model_id": "",
       "version_major": 2,
       "version_minor": 0
      },
      "text/plain": [
       "HBox(children=(HTML(value=''), FloatProgress(value=0.0, max=313.0), HTML(value='')))"
      ]
     },
     "metadata": {},
     "output_type": "display_data"
    },
    {
     "name": "stdout",
     "output_type": "stream",
     "text": [
      "Start (p): 77, End (p): 50, Start (T): 77, End (T): 78\n",
      "\tLoss: 4.38983 - Distance start: 16 - Distance end: 17 [Time elapsed: 37.01 s]\n"
     ]
    },
    {
     "data": {
      "application/vnd.jupyter.widget-view+json": {
       "model_id": "",
       "version_major": 2,
       "version_minor": 0
      },
      "text/plain": [
       "HBox(children=(HTML(value=''), FloatProgress(value=0.0, max=94.0), HTML(value='')))"
      ]
     },
     "metadata": {},
     "output_type": "display_data"
    },
    {
     "name": "stdout",
     "output_type": "stream",
     "text": [
      "Start (p): 52, End (p): 71, Start (T): 1, End (T): 3\n",
      "\tValidation loss: 6.39805 - Distance start: 23.00 - Distance end: 24.00 [Time elapsed: 4.31 s]\n",
      "----------------------------------------------------------------------------------------------------\n",
      "Epoch 82/100\n"
     ]
    },
    {
     "data": {
      "application/vnd.jupyter.widget-view+json": {
       "model_id": "",
       "version_major": 2,
       "version_minor": 0
      },
      "text/plain": [
       "HBox(children=(HTML(value=''), FloatProgress(value=0.0, max=313.0), HTML(value='')))"
      ]
     },
     "metadata": {},
     "output_type": "display_data"
    },
    {
     "name": "stdout",
     "output_type": "stream",
     "text": [
      "Start (p): 93, End (p): 95, Start (T): 109, End (T): 111\n",
      "\tLoss: 4.15210 - Distance start: 15 - Distance end: 16 [Time elapsed: 37.11 s]\n"
     ]
    },
    {
     "data": {
      "application/vnd.jupyter.widget-view+json": {
       "model_id": "",
       "version_major": 2,
       "version_minor": 0
      },
      "text/plain": [
       "HBox(children=(HTML(value=''), FloatProgress(value=0.0, max=94.0), HTML(value='')))"
      ]
     },
     "metadata": {},
     "output_type": "display_data"
    },
    {
     "name": "stdout",
     "output_type": "stream",
     "text": [
      "Start (p): 20, End (p): 11, Start (T): 20, End (T): 20\n",
      "\tValidation loss: 6.43539 - Distance start: 23.00 - Distance end: 24.00 [Time elapsed: 4.31 s]\n",
      "----------------------------------------------------------------------------------------------------\n",
      "Epoch 83/100\n"
     ]
    },
    {
     "data": {
      "application/vnd.jupyter.widget-view+json": {
       "model_id": "",
       "version_major": 2,
       "version_minor": 0
      },
      "text/plain": [
       "HBox(children=(HTML(value=''), FloatProgress(value=0.0, max=313.0), HTML(value='')))"
      ]
     },
     "metadata": {},
     "output_type": "display_data"
    },
    {
     "name": "stdout",
     "output_type": "stream",
     "text": [
      "Start (p): 1, End (p): 5, Start (T): 1, End (T): 5\n",
      "\tLoss: 4.00070 - Distance start: 14 - Distance end: 15 [Time elapsed: 37.33 s]\n"
     ]
    },
    {
     "data": {
      "application/vnd.jupyter.widget-view+json": {
       "model_id": "",
       "version_major": 2,
       "version_minor": 0
      },
      "text/plain": [
       "HBox(children=(HTML(value=''), FloatProgress(value=0.0, max=94.0), HTML(value='')))"
      ]
     },
     "metadata": {},
     "output_type": "display_data"
    },
    {
     "name": "stdout",
     "output_type": "stream",
     "text": [
      "Start (p): 60, End (p): 11, Start (T): 21, End (T): 24\n",
      "\tValidation loss: 6.65004 - Distance start: 23.00 - Distance end: 23.00 [Time elapsed: 4.23 s]\n",
      "----------------------------------------------------------------------------------------------------\n",
      "Epoch 84/100\n"
     ]
    },
    {
     "data": {
      "application/vnd.jupyter.widget-view+json": {
       "model_id": "",
       "version_major": 2,
       "version_minor": 0
      },
      "text/plain": [
       "HBox(children=(HTML(value=''), FloatProgress(value=0.0, max=313.0), HTML(value='')))"
      ]
     },
     "metadata": {},
     "output_type": "display_data"
    },
    {
     "name": "stdout",
     "output_type": "stream",
     "text": [
      "Start (p): 7, End (p): 8, Start (T): 7, End (T): 8\n",
      "\tLoss: 3.85773 - Distance start: 14 - Distance end: 15 [Time elapsed: 36.97 s]\n"
     ]
    },
    {
     "data": {
      "application/vnd.jupyter.widget-view+json": {
       "model_id": "",
       "version_major": 2,
       "version_minor": 0
      },
      "text/plain": [
       "HBox(children=(HTML(value=''), FloatProgress(value=0.0, max=94.0), HTML(value='')))"
      ]
     },
     "metadata": {},
     "output_type": "display_data"
    },
    {
     "name": "stdout",
     "output_type": "stream",
     "text": [
      "Start (p): 2, End (p): 3, Start (T): 84, End (T): 88\n",
      "\tValidation loss: 6.53849 - Distance start: 23.00 - Distance end: 23.00 [Time elapsed: 4.30 s]\n",
      "----------------------------------------------------------------------------------------------------\n",
      "Epoch 85/100\n"
     ]
    },
    {
     "data": {
      "application/vnd.jupyter.widget-view+json": {
       "model_id": "",
       "version_major": 2,
       "version_minor": 0
      },
      "text/plain": [
       "HBox(children=(HTML(value=''), FloatProgress(value=0.0, max=313.0), HTML(value='')))"
      ]
     },
     "metadata": {},
     "output_type": "display_data"
    },
    {
     "name": "stdout",
     "output_type": "stream",
     "text": [
      "Start (p): 18, End (p): 23, Start (T): 18, End (T): 23\n",
      "\tLoss: 3.73352 - Distance start: 14 - Distance end: 14 [Time elapsed: 37.28 s]\n"
     ]
    },
    {
     "data": {
      "application/vnd.jupyter.widget-view+json": {
       "model_id": "",
       "version_major": 2,
       "version_minor": 0
      },
      "text/plain": [
       "HBox(children=(HTML(value=''), FloatProgress(value=0.0, max=94.0), HTML(value='')))"
      ]
     },
     "metadata": {},
     "output_type": "display_data"
    },
    {
     "name": "stdout",
     "output_type": "stream",
     "text": [
      "Start (p): 4, End (p): 5, Start (T): 15, End (T): 32\n",
      "\tValidation loss: 6.57116 - Distance start: 23.00 - Distance end: 24.00 [Time elapsed: 4.21 s]\n",
      "----------------------------------------------------------------------------------------------------\n",
      "Epoch 86/100\n"
     ]
    },
    {
     "data": {
      "application/vnd.jupyter.widget-view+json": {
       "model_id": "",
       "version_major": 2,
       "version_minor": 0
      },
      "text/plain": [
       "HBox(children=(HTML(value=''), FloatProgress(value=0.0, max=313.0), HTML(value='')))"
      ]
     },
     "metadata": {},
     "output_type": "display_data"
    },
    {
     "name": "stdout",
     "output_type": "stream",
     "text": [
      "Start (p): 95, End (p): 236, Start (T): 159, End (T): 164\n",
      "\tLoss: 3.87977 - Distance start: 15 - Distance end: 15 [Time elapsed: 37.40 s]\n"
     ]
    },
    {
     "data": {
      "application/vnd.jupyter.widget-view+json": {
       "model_id": "",
       "version_major": 2,
       "version_minor": 0
      },
      "text/plain": [
       "HBox(children=(HTML(value=''), FloatProgress(value=0.0, max=94.0), HTML(value='')))"
      ]
     },
     "metadata": {},
     "output_type": "display_data"
    },
    {
     "name": "stdout",
     "output_type": "stream",
     "text": [
      "Start (p): 19, End (p): 20, Start (T): 19, End (T): 20\n",
      "\tValidation loss: 6.64273 - Distance start: 23.00 - Distance end: 23.00 [Time elapsed: 4.27 s]\n",
      "----------------------------------------------------------------------------------------------------\n",
      "Epoch 87/100\n"
     ]
    },
    {
     "data": {
      "application/vnd.jupyter.widget-view+json": {
       "model_id": "",
       "version_major": 2,
       "version_minor": 0
      },
      "text/plain": [
       "HBox(children=(HTML(value=''), FloatProgress(value=0.0, max=313.0), HTML(value='')))"
      ]
     },
     "metadata": {},
     "output_type": "display_data"
    },
    {
     "name": "stdout",
     "output_type": "stream",
     "text": [
      "Start (p): 0, End (p): 9, Start (T): 0, End (T): 1\n",
      "\tLoss: 3.62557 - Distance start: 13 - Distance end: 14 [Time elapsed: 37.28 s]\n"
     ]
    },
    {
     "data": {
      "application/vnd.jupyter.widget-view+json": {
       "model_id": "",
       "version_major": 2,
       "version_minor": 0
      },
      "text/plain": [
       "HBox(children=(HTML(value=''), FloatProgress(value=0.0, max=94.0), HTML(value='')))"
      ]
     },
     "metadata": {},
     "output_type": "display_data"
    },
    {
     "name": "stdout",
     "output_type": "stream",
     "text": [
      "Start (p): 48, End (p): 36, Start (T): 47, End (T): 48\n",
      "\tValidation loss: 6.71886 - Distance start: 23.00 - Distance end: 23.00 [Time elapsed: 4.35 s]\n",
      "----------------------------------------------------------------------------------------------------\n",
      "Epoch 88/100\n"
     ]
    },
    {
     "data": {
      "application/vnd.jupyter.widget-view+json": {
       "model_id": "",
       "version_major": 2,
       "version_minor": 0
      },
      "text/plain": [
       "HBox(children=(HTML(value=''), FloatProgress(value=0.0, max=313.0), HTML(value='')))"
      ]
     },
     "metadata": {},
     "output_type": "display_data"
    },
    {
     "name": "stdout",
     "output_type": "stream",
     "text": [
      "Start (p): 5, End (p): 13, Start (T): 6, End (T): 6\n",
      "\tLoss: 3.43100 - Distance start: 12 - Distance end: 13 [Time elapsed: 37.35 s]\n"
     ]
    },
    {
     "data": {
      "application/vnd.jupyter.widget-view+json": {
       "model_id": "",
       "version_major": 2,
       "version_minor": 0
      },
      "text/plain": [
       "HBox(children=(HTML(value=''), FloatProgress(value=0.0, max=94.0), HTML(value='')))"
      ]
     },
     "metadata": {},
     "output_type": "display_data"
    },
    {
     "name": "stdout",
     "output_type": "stream",
     "text": [
      "Start (p): 20, End (p): 17, Start (T): 2, End (T): 2\n",
      "\tValidation loss: 6.77978 - Distance start: 23.00 - Distance end: 24.00 [Time elapsed: 4.33 s]\n",
      "----------------------------------------------------------------------------------------------------\n",
      "Epoch 89/100\n"
     ]
    },
    {
     "data": {
      "application/vnd.jupyter.widget-view+json": {
       "model_id": "",
       "version_major": 2,
       "version_minor": 0
      },
      "text/plain": [
       "HBox(children=(HTML(value=''), FloatProgress(value=0.0, max=313.0), HTML(value='')))"
      ]
     },
     "metadata": {},
     "output_type": "display_data"
    },
    {
     "name": "stdout",
     "output_type": "stream",
     "text": [
      "Start (p): 5, End (p): 84, Start (T): 5, End (T): 6\n",
      "\tLoss: 3.29152 - Distance start: 11 - Distance end: 12 [Time elapsed: 36.93 s]\n"
     ]
    },
    {
     "data": {
      "application/vnd.jupyter.widget-view+json": {
       "model_id": "",
       "version_major": 2,
       "version_minor": 0
      },
      "text/plain": [
       "HBox(children=(HTML(value=''), FloatProgress(value=0.0, max=94.0), HTML(value='')))"
      ]
     },
     "metadata": {},
     "output_type": "display_data"
    },
    {
     "name": "stdout",
     "output_type": "stream",
     "text": [
      "Start (p): 195, End (p): 240, Start (T): 203, End (T): 205\n",
      "\tValidation loss: 6.75632 - Distance start: 22.00 - Distance end: 23.00 [Time elapsed: 4.28 s]\n",
      "----------------------------------------------------------------------------------------------------\n",
      "Epoch 90/100\n"
     ]
    },
    {
     "data": {
      "application/vnd.jupyter.widget-view+json": {
       "model_id": "",
       "version_major": 2,
       "version_minor": 0
      },
      "text/plain": [
       "HBox(children=(HTML(value=''), FloatProgress(value=0.0, max=313.0), HTML(value='')))"
      ]
     },
     "metadata": {},
     "output_type": "display_data"
    },
    {
     "name": "stdout",
     "output_type": "stream",
     "text": [
      "Start (p): 135, End (p): 137, Start (T): 13, End (T): 14\n",
      "\tLoss: 3.23022 - Distance start: 11 - Distance end: 12 [Time elapsed: 37.17 s]\n"
     ]
    },
    {
     "data": {
      "application/vnd.jupyter.widget-view+json": {
       "model_id": "",
       "version_major": 2,
       "version_minor": 0
      },
      "text/plain": [
       "HBox(children=(HTML(value=''), FloatProgress(value=0.0, max=94.0), HTML(value='')))"
      ]
     },
     "metadata": {},
     "output_type": "display_data"
    },
    {
     "name": "stdout",
     "output_type": "stream",
     "text": [
      "Start (p): 38, End (p): 39, Start (T): 38, End (T): 40\n",
      "\tValidation loss: 6.90506 - Distance start: 22.00 - Distance end: 22.00 [Time elapsed: 4.33 s]\n",
      "----------------------------------------------------------------------------------------------------\n",
      "Epoch 91/100\n"
     ]
    },
    {
     "data": {
      "application/vnd.jupyter.widget-view+json": {
       "model_id": "",
       "version_major": 2,
       "version_minor": 0
      },
      "text/plain": [
       "HBox(children=(HTML(value=''), FloatProgress(value=0.0, max=313.0), HTML(value='')))"
      ]
     },
     "metadata": {},
     "output_type": "display_data"
    },
    {
     "name": "stdout",
     "output_type": "stream",
     "text": [
      "Start (p): 18, End (p): 55, Start (T): 19, End (T): 19\n",
      "\tLoss: 3.13651 - Distance start: 11 - Distance end: 11 [Time elapsed: 37.31 s]\n"
     ]
    },
    {
     "data": {
      "application/vnd.jupyter.widget-view+json": {
       "model_id": "",
       "version_major": 2,
       "version_minor": 0
      },
      "text/plain": [
       "HBox(children=(HTML(value=''), FloatProgress(value=0.0, max=94.0), HTML(value='')))"
      ]
     },
     "metadata": {},
     "output_type": "display_data"
    },
    {
     "name": "stdout",
     "output_type": "stream",
     "text": [
      "Start (p): 17, End (p): 8, Start (T): 75, End (T): 78\n",
      "\tValidation loss: 7.00394 - Distance start: 23.00 - Distance end: 23.00 [Time elapsed: 4.28 s]\n",
      "----------------------------------------------------------------------------------------------------\n",
      "Epoch 92/100\n"
     ]
    },
    {
     "data": {
      "application/vnd.jupyter.widget-view+json": {
       "model_id": "",
       "version_major": 2,
       "version_minor": 0
      },
      "text/plain": [
       "HBox(children=(HTML(value=''), FloatProgress(value=0.0, max=313.0), HTML(value='')))"
      ]
     },
     "metadata": {},
     "output_type": "display_data"
    },
    {
     "name": "stdout",
     "output_type": "stream",
     "text": [
      "Start (p): 77, End (p): 79, Start (T): 77, End (T): 79\n",
      "\tLoss: 3.13093 - Distance start: 11 - Distance end: 11 [Time elapsed: 37.05 s]\n"
     ]
    },
    {
     "data": {
      "application/vnd.jupyter.widget-view+json": {
       "model_id": "",
       "version_major": 2,
       "version_minor": 0
      },
      "text/plain": [
       "HBox(children=(HTML(value=''), FloatProgress(value=0.0, max=94.0), HTML(value='')))"
      ]
     },
     "metadata": {},
     "output_type": "display_data"
    },
    {
     "name": "stdout",
     "output_type": "stream",
     "text": [
      "Start (p): 50, End (p): 55, Start (T): 61, End (T): 61\n",
      "\tValidation loss: 6.94517 - Distance start: 23.00 - Distance end: 23.00 [Time elapsed: 4.26 s]\n",
      "----------------------------------------------------------------------------------------------------\n",
      "Epoch 93/100\n"
     ]
    },
    {
     "data": {
      "application/vnd.jupyter.widget-view+json": {
       "model_id": "",
       "version_major": 2,
       "version_minor": 0
      },
      "text/plain": [
       "HBox(children=(HTML(value=''), FloatProgress(value=0.0, max=313.0), HTML(value='')))"
      ]
     },
     "metadata": {},
     "output_type": "display_data"
    },
    {
     "name": "stdout",
     "output_type": "stream",
     "text": [
      "Start (p): 0, End (p): 3, Start (T): 0, End (T): 3\n",
      "\tLoss: 3.03974 - Distance start: 10 - Distance end: 11 [Time elapsed: 37.02 s]\n"
     ]
    },
    {
     "data": {
      "application/vnd.jupyter.widget-view+json": {
       "model_id": "",
       "version_major": 2,
       "version_minor": 0
      },
      "text/plain": [
       "HBox(children=(HTML(value=''), FloatProgress(value=0.0, max=94.0), HTML(value='')))"
      ]
     },
     "metadata": {},
     "output_type": "display_data"
    },
    {
     "name": "stdout",
     "output_type": "stream",
     "text": [
      "Start (p): 108, End (p): 108, Start (T): 108, End (T): 108\n",
      "\tValidation loss: 7.07116 - Distance start: 23.00 - Distance end: 22.00 [Time elapsed: 4.28 s]\n",
      "----------------------------------------------------------------------------------------------------\n",
      "Epoch 94/100\n"
     ]
    },
    {
     "data": {
      "application/vnd.jupyter.widget-view+json": {
       "model_id": "",
       "version_major": 2,
       "version_minor": 0
      },
      "text/plain": [
       "HBox(children=(HTML(value=''), FloatProgress(value=0.0, max=313.0), HTML(value='')))"
      ]
     },
     "metadata": {},
     "output_type": "display_data"
    },
    {
     "name": "stdout",
     "output_type": "stream",
     "text": [
      "Start (p): 22, End (p): 23, Start (T): 22, End (T): 23\n",
      "\tLoss: 2.96835 - Distance start: 9 - Distance end: 10 [Time elapsed: 37.10 s]\n"
     ]
    },
    {
     "data": {
      "application/vnd.jupyter.widget-view+json": {
       "model_id": "",
       "version_major": 2,
       "version_minor": 0
      },
      "text/plain": [
       "HBox(children=(HTML(value=''), FloatProgress(value=0.0, max=94.0), HTML(value='')))"
      ]
     },
     "metadata": {},
     "output_type": "display_data"
    },
    {
     "name": "stdout",
     "output_type": "stream",
     "text": [
      "Start (p): 25, End (p): 30, Start (T): 37, End (T): 41\n",
      "\tValidation loss: 7.01763 - Distance start: 23.00 - Distance end: 23.00 [Time elapsed: 4.28 s]\n",
      "----------------------------------------------------------------------------------------------------\n",
      "Epoch 95/100\n"
     ]
    },
    {
     "data": {
      "application/vnd.jupyter.widget-view+json": {
       "model_id": "",
       "version_major": 2,
       "version_minor": 0
      },
      "text/plain": [
       "HBox(children=(HTML(value=''), FloatProgress(value=0.0, max=313.0), HTML(value='')))"
      ]
     },
     "metadata": {},
     "output_type": "display_data"
    },
    {
     "name": "stdout",
     "output_type": "stream",
     "text": [
      "Start (p): 179, End (p): 179, Start (T): 156, End (T): 157\n",
      "\tLoss: 2.96452 - Distance start: 10 - Distance end: 10 [Time elapsed: 37.47 s]\n"
     ]
    },
    {
     "data": {
      "application/vnd.jupyter.widget-view+json": {
       "model_id": "",
       "version_major": 2,
       "version_minor": 0
      },
      "text/plain": [
       "HBox(children=(HTML(value=''), FloatProgress(value=0.0, max=94.0), HTML(value='')))"
      ]
     },
     "metadata": {},
     "output_type": "display_data"
    },
    {
     "name": "stdout",
     "output_type": "stream",
     "text": [
      "Start (p): 56, End (p): 124, Start (T): 108, End (T): 110\n",
      "\tValidation loss: 7.11273 - Distance start: 22.00 - Distance end: 23.00 [Time elapsed: 4.28 s]\n",
      "----------------------------------------------------------------------------------------------------\n",
      "Epoch 96/100\n"
     ]
    },
    {
     "data": {
      "application/vnd.jupyter.widget-view+json": {
       "model_id": "",
       "version_major": 2,
       "version_minor": 0
      },
      "text/plain": [
       "HBox(children=(HTML(value=''), FloatProgress(value=0.0, max=313.0), HTML(value='')))"
      ]
     },
     "metadata": {},
     "output_type": "display_data"
    },
    {
     "name": "stdout",
     "output_type": "stream",
     "text": [
      "Start (p): 23, End (p): 25, Start (T): 5, End (T): 10\n",
      "\tLoss: 2.94836 - Distance start: 10 - Distance end: 10 [Time elapsed: 36.80 s]\n"
     ]
    },
    {
     "data": {
      "application/vnd.jupyter.widget-view+json": {
       "model_id": "",
       "version_major": 2,
       "version_minor": 0
      },
      "text/plain": [
       "HBox(children=(HTML(value=''), FloatProgress(value=0.0, max=94.0), HTML(value='')))"
      ]
     },
     "metadata": {},
     "output_type": "display_data"
    },
    {
     "name": "stdout",
     "output_type": "stream",
     "text": [
      "Start (p): 33, End (p): 33, Start (T): 4, End (T): 9\n",
      "\tValidation loss: 7.21461 - Distance start: 22.00 - Distance end: 22.00 [Time elapsed: 4.31 s]\n",
      "----------------------------------------------------------------------------------------------------\n",
      "Epoch 97/100\n"
     ]
    },
    {
     "data": {
      "application/vnd.jupyter.widget-view+json": {
       "model_id": "",
       "version_major": 2,
       "version_minor": 0
      },
      "text/plain": [
       "HBox(children=(HTML(value=''), FloatProgress(value=0.0, max=313.0), HTML(value='')))"
      ]
     },
     "metadata": {},
     "output_type": "display_data"
    },
    {
     "name": "stdout",
     "output_type": "stream",
     "text": [
      "Start (p): 12, End (p): 13, Start (T): 12, End (T): 13\n",
      "\tLoss: 2.89943 - Distance start: 10 - Distance end: 10 [Time elapsed: 37.38 s]\n"
     ]
    },
    {
     "data": {
      "application/vnd.jupyter.widget-view+json": {
       "model_id": "",
       "version_major": 2,
       "version_minor": 0
      },
      "text/plain": [
       "HBox(children=(HTML(value=''), FloatProgress(value=0.0, max=94.0), HTML(value='')))"
      ]
     },
     "metadata": {},
     "output_type": "display_data"
    },
    {
     "name": "stdout",
     "output_type": "stream",
     "text": [
      "Start (p): 24, End (p): 31, Start (T): 11, End (T): 11\n",
      "\tValidation loss: 7.10112 - Distance start: 22.00 - Distance end: 23.00 [Time elapsed: 4.26 s]\n",
      "----------------------------------------------------------------------------------------------------\n",
      "Epoch 98/100\n"
     ]
    },
    {
     "data": {
      "application/vnd.jupyter.widget-view+json": {
       "model_id": "",
       "version_major": 2,
       "version_minor": 0
      },
      "text/plain": [
       "HBox(children=(HTML(value=''), FloatProgress(value=0.0, max=313.0), HTML(value='')))"
      ]
     },
     "metadata": {},
     "output_type": "display_data"
    },
    {
     "name": "stdout",
     "output_type": "stream",
     "text": [
      "Start (p): 83, End (p): 89, Start (T): 89, End (T): 89\n",
      "\tLoss: 2.81866 - Distance start: 9 - Distance end: 10 [Time elapsed: 37.00 s]\n"
     ]
    },
    {
     "data": {
      "application/vnd.jupyter.widget-view+json": {
       "model_id": "",
       "version_major": 2,
       "version_minor": 0
      },
      "text/plain": [
       "HBox(children=(HTML(value=''), FloatProgress(value=0.0, max=94.0), HTML(value='')))"
      ]
     },
     "metadata": {},
     "output_type": "display_data"
    },
    {
     "name": "stdout",
     "output_type": "stream",
     "text": [
      "Start (p): 26, End (p): 28, Start (T): 0, End (T): 0\n",
      "\tValidation loss: 7.27565 - Distance start: 22.00 - Distance end: 23.00 [Time elapsed: 4.38 s]\n",
      "----------------------------------------------------------------------------------------------------\n",
      "Epoch 99/100\n"
     ]
    },
    {
     "data": {
      "application/vnd.jupyter.widget-view+json": {
       "model_id": "",
       "version_major": 2,
       "version_minor": 0
      },
      "text/plain": [
       "HBox(children=(HTML(value=''), FloatProgress(value=0.0, max=313.0), HTML(value='')))"
      ]
     },
     "metadata": {},
     "output_type": "display_data"
    },
    {
     "name": "stdout",
     "output_type": "stream",
     "text": [
      "Start (p): 21, End (p): 22, Start (T): 21, End (T): 22\n",
      "\tLoss: 2.86678 - Distance start: 9 - Distance end: 10 [Time elapsed: 37.12 s]\n"
     ]
    },
    {
     "data": {
      "application/vnd.jupyter.widget-view+json": {
       "model_id": "",
       "version_major": 2,
       "version_minor": 0
      },
      "text/plain": [
       "HBox(children=(HTML(value=''), FloatProgress(value=0.0, max=94.0), HTML(value='')))"
      ]
     },
     "metadata": {},
     "output_type": "display_data"
    },
    {
     "name": "stdout",
     "output_type": "stream",
     "text": [
      "Start (p): 74, End (p): 38, Start (T): 57, End (T): 61\n",
      "\tValidation loss: 7.08554 - Distance start: 22.00 - Distance end: 23.00 [Time elapsed: 4.34 s]\n",
      "----------------------------------------------------------------------------------------------------\n",
      "Epoch 100/100\n"
     ]
    },
    {
     "data": {
      "application/vnd.jupyter.widget-view+json": {
       "model_id": "",
       "version_major": 2,
       "version_minor": 0
      },
      "text/plain": [
       "HBox(children=(HTML(value=''), FloatProgress(value=0.0, max=313.0), HTML(value='')))"
      ]
     },
     "metadata": {},
     "output_type": "display_data"
    },
    {
     "name": "stdout",
     "output_type": "stream",
     "text": [
      "Start (p): 76, End (p): 77, Start (T): 72, End (T): 77\n",
      "\tLoss: 2.70011 - Distance start: 9 - Distance end: 9 [Time elapsed: 37.19 s]\n"
     ]
    },
    {
     "data": {
      "application/vnd.jupyter.widget-view+json": {
       "model_id": "",
       "version_major": 2,
       "version_minor": 0
      },
      "text/plain": [
       "HBox(children=(HTML(value=''), FloatProgress(value=0.0, max=94.0), HTML(value='')))"
      ]
     },
     "metadata": {},
     "output_type": "display_data"
    },
    {
     "name": "stdout",
     "output_type": "stream",
     "text": [
      "Start (p): 52, End (p): 32, Start (T): 60, End (T): 63\n",
      "\tValidation loss: 7.16599 - Distance start: 22.00 - Distance end: 22.00 [Time elapsed: 4.31 s]\n"
     ]
    }
   ],
   "source": [
    "from utils.bidaf_loss import bidaf_loss\n",
    "\n",
    "train_data = to_list_of_tuples((X_trainC, X_trainQ, Y_train))\n",
    "val_data = to_list_of_tuples((X_valC, X_valQ, Y_val))\n",
    "\n",
    "EP = 100\n",
    "BS = 32\n",
    "\n",
    "optimizer = torch.optim.Adam(model_bidaf.parameters(), lr=5e-3)\n",
    "#optimizer = torch.optim.Adadelta(model_bidaf.parameters(), lr=0.5, rho=0.999, eps=1e-06, weight_decay=0) # slower in time and in loss\n",
    "criterion = bidaf_loss\n",
    "\n",
    "history = training_loop(model=model_bidaf,\n",
    "                        train_data=train_data,\n",
    "                        optimizer=optimizer,\n",
    "                        epochs=EP,\n",
    "                        batch_size=BS,\n",
    "                        criterion=criterion,\n",
    "                        train_tensor_maker=train_tensor_maker,\n",
    "                        val_tensor_maker=val_tensor_maker,\n",
    "                        val_data=val_data,\n",
    "                        early_stopping=False,\n",
    "                        patience = 15,\n",
    "                        checkpoint_path='bidaf_baseline.pt')"
   ]
  },
  {
   "cell_type": "code",
   "execution_count": null,
   "metadata": {},
   "outputs": [],
   "source": []
  }
 ],
 "metadata": {
  "kernelspec": {
   "display_name": "Python 3",
   "language": "python",
   "name": "python3"
  },
  "language_info": {
   "codemirror_mode": {
    "name": "ipython",
    "version": 3
   },
   "file_extension": ".py",
   "mimetype": "text/x-python",
   "name": "python",
   "nbconvert_exporter": "python",
   "pygments_lexer": "ipython3",
   "version": "3.8.5"
  }
 },
 "nbformat": 4,
 "nbformat_minor": 4
}
