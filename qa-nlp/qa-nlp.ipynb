{
  "nbformat": 4,
  "nbformat_minor": 0,
  "metadata": {
    "kernelspec": {
      "display_name": "Python 3",
      "language": "python",
      "name": "python3"
    },
    "language_info": {
      "codemirror_mode": {
        "name": "ipython",
        "version": 3
      },
      "file_extension": ".py",
      "mimetype": "text/x-python",
      "name": "python",
      "nbconvert_exporter": "python",
      "pygments_lexer": "ipython3",
      "version": "3.8.5"
    },
    "colab": {
      "name": "qa-nlp.ipynb",
      "provenance": [],
      "collapsed_sections": [],
      "toc_visible": true
    },
    "accelerator": "GPU"
  },
  "cells": [
    {
      "cell_type": "markdown",
      "metadata": {
        "jupyter": {
          "outputs_hidden": true
        },
        "id": "yuUpT2QLu23F"
      },
      "source": [
        "# qa-nlp\n",
        "Question answering neural model based on the SQuAD dataset.\n",
        "\n",
        "Authors:\n",
        "- Lorenzo Mario Amorosa\n",
        "- Andrea Espis\n",
        "- Mattia Orlandi\n",
        "- Giacomo Pinardi"
      ]
    },
    {
      "cell_type": "markdown",
      "metadata": {
        "id": "DdNpntv7u23P"
      },
      "source": [
        "## 0. Environment setup"
      ]
    },
    {
      "cell_type": "code",
      "metadata": {
        "id": "zH1NaEAXu23R"
      },
      "source": [
        "%load_ext autoreload\n",
        "%autoreload 2"
      ],
      "execution_count": 4,
      "outputs": []
    },
    {
      "cell_type": "code",
      "metadata": {
        "colab": {
          "base_uri": "https://localhost:8080/"
        },
        "id": "JLPLPSm_u23V",
        "outputId": "5fd08413-0320-46c3-d1f7-1315e0fc3e57"
      },
      "source": [
        "# Library to read json\n",
        "import json\n",
        "\n",
        "# Numeric and data manipulation tools\n",
        "import pandas as pd\n",
        "import numpy as np\n",
        "import random\n",
        "\n",
        "# Deep learning framework\n",
        "import torch\n",
        "import torch.nn as nn\n",
        "import torch.optim as optim\n",
        "import torch.nn.functional as F\n",
        "\n",
        "# Natural language tools\n",
        "import nltk\n",
        "from nltk.tokenize import TreebankWordTokenizer\n",
        "import gensim\n",
        "import gensim.downloader as gloader\n",
        "\n",
        "# Other tools\n",
        "from tqdm.notebook import tqdm\n",
        "from collections import OrderedDict, Counter\n",
        "from time import time\n",
        "from itertools import zip_longest\n",
        "import collections\n",
        "\n",
        "# automatic mixed precision training:\n",
        "from torch.cuda.amp import autocast \n",
        "from torch.cuda.amp import GradScaler\n",
        "\n",
        "# Type hint\n",
        "from typing import Optional, Callable, Tuple, Dict, List, Union\n",
        "\n",
        "nltk.download('punkt')\n",
        "nltk.download('stopwords')\n",
        "\n",
        "# from sklearn.model_selection import train_test_split\n",
        "\n",
        "# Use GPU acceleration if possible\n",
        "DEVICE = torch.device('cuda:0' if torch.cuda.is_available() else 'cpu')\n",
        "print('Using this device:', DEVICE)\n",
        "\n",
        "if not(torch.cuda.is_available()):\n",
        "    raise Exception('Switch to runtime GPU, otherwise the code won\\'t work properly')"
      ],
      "execution_count": 10,
      "outputs": [
        {
          "output_type": "stream",
          "text": [
            "[nltk_data] Downloading package punkt to /root/nltk_data...\n",
            "[nltk_data]   Unzipping tokenizers/punkt.zip.\n",
            "[nltk_data] Downloading package stopwords to /root/nltk_data...\n",
            "[nltk_data]   Unzipping corpora/stopwords.zip.\n",
            "Using this device: cuda:0\n"
          ],
          "name": "stdout"
        }
      ]
    },
    {
      "cell_type": "code",
      "metadata": {
        "id": "EdqhFrUhu23W"
      },
      "source": [
        "# Set seed for reproducibility\n",
        "def fix_random(seed: int):\n",
        "    np.random.seed(seed)\n",
        "    torch.manual_seed(seed)\n",
        "    torch.cuda.manual_seed(seed)\n",
        "    torch.backends.cudnn.benchmark = False\n",
        "    torch.backends.cudnn.deterministic = True\n",
        "\n",
        "fix_random(42)"
      ],
      "execution_count": 2,
      "outputs": []
    },
    {
      "cell_type": "code",
      "metadata": {
        "colab": {
          "base_uri": "https://localhost:8080/"
        },
        "id": "qzP22uQBu23X",
        "outputId": "76b8b3ce-2719-4516-9792-fcdd65b86368"
      },
      "source": [
        "# Use GPU acceleration if possible\n",
        "DEVICE = torch.device('cuda:0' if torch.cuda.is_available() else 'cpu')\n",
        "print(\"using this device:\", DEVICE)\n",
        "\n",
        "# Define special tokens\n",
        "PAD = '<PAD>'\n",
        "UNK = '<UNK>'"
      ],
      "execution_count": 3,
      "outputs": [
        {
          "output_type": "stream",
          "text": [
            "using this device: cuda:0\n"
          ],
          "name": "stdout"
        }
      ]
    },
    {
      "cell_type": "code",
      "metadata": {
        "id": "rPuuIMHsu23Y"
      },
      "source": [
        "# Lambda for computing the mean of a list\n",
        "mean: Callable[[List[float]], float] = lambda l: sum(l) / len(l)\n",
        "\n",
        "# Lambda for transforming a list of tuples into a tuple of lists\n",
        "to_tuple_of_lists: Callable[[List[Tuple]], Tuple[List]] = lambda list_of_tuples: tuple(map(list, zip(*list_of_tuples)))\n",
        "\n",
        "# Lambda for transforming a tuple of lists into a list of tuples\n",
        "to_list_of_tuples: Callable[[Tuple[List]], List[Tuple]] = lambda tuple_of_lists: list(zip(*tuple_of_lists))\n",
        "\n",
        "# Lambda for iterating with batches (if the length of the sequences does not match with the batch size, tuples of empty lists are appended)\n",
        "batch_iteration: Callable[[List[Tuple]], zip] = lambda data, batch_size: zip_longest(*[iter(data)] * batch_size, fillvalue=([], [], []))"
      ],
      "execution_count": 18,
      "outputs": []
    },
    {
      "cell_type": "markdown",
      "metadata": {
        "id": "yPqvsMUzu23Z"
      },
      "source": [
        "## 1. Dataset preparation"
      ]
    },
    {
      "cell_type": "code",
      "metadata": {
        "colab": {
          "base_uri": "https://localhost:8080/",
          "height": 293
        },
        "id": "Vn1KJVSdu23a",
        "outputId": "a605ba42-27da-4630-e6cb-70635683b49d"
      },
      "source": [
        "\"\"\"\n",
        "json structure:\n",
        "\n",
        "data []\n",
        "|---title\n",
        "|---paragraphs []\n",
        "|   |---context\n",
        "|   |---qas []\n",
        "|   |   |---answers []\n",
        "|   |   |   |---answer_start\n",
        "|   |   |   |---text\n",
        "|   |   |---question\n",
        "|   |   |---id\n",
        "version\n",
        "\n",
        "\"\"\"\n",
        "\n",
        "filename = 'training_set.json'\n",
        "\n",
        "with open(filename, 'r') as f:\n",
        "    raw_data = f.readlines()[0]\n",
        "\n",
        "parsed_data = json.loads(raw_data)['data']\n",
        "\n",
        "context_list = []\n",
        "context_index = -1\n",
        "paragraph_index = -1\n",
        "\n",
        "dataset = {'paragraph_index': [], 'context_index': [], 'question': [], 'id': [], 'answer_start': [], 'answer_end': [], 'answer_text': []}\n",
        "\n",
        "for i in range(len(parsed_data)):\n",
        "    paragraph_index += 1\n",
        "    for j in range(len(parsed_data[i]['paragraphs'])):\n",
        "        context_list.append(parsed_data[i]['paragraphs'][j]['context'])\n",
        "        context_index += 1\n",
        "\n",
        "        for k in range(len(parsed_data[i]['paragraphs'][j]['qas'])):\n",
        "            question = parsed_data[i]['paragraphs'][j]['qas'][k]['question']\n",
        "            id = parsed_data[i]['paragraphs'][j]['qas'][k]['id']\n",
        "\n",
        "            for l in range(len(parsed_data[i]['paragraphs'][j]['qas'][k]['answers'])): \n",
        "                answer_start = parsed_data[i]['paragraphs'][j]['qas'][k]['answers'][l]['answer_start']\n",
        "                answer_text = parsed_data[i]['paragraphs'][j]['qas'][k]['answers'][l]['text']\n",
        "\n",
        "                answer_end = answer_start + len(answer_text)\n",
        "\n",
        "                dataset['paragraph_index'].append(paragraph_index)\n",
        "                dataset['context_index'].append(context_index)\n",
        "                dataset['question'].append(question)\n",
        "                dataset['id'].append(id)\n",
        "                dataset['answer_start'].append(answer_start)\n",
        "                dataset['answer_end'].append(answer_end)\n",
        "                dataset['answer_text'].append(answer_text)\n",
        "\n",
        "df = pd.DataFrame.from_dict(dataset)\n",
        "\n",
        "df.head()"
      ],
      "execution_count": 20,
      "outputs": [
        {
          "output_type": "execute_result",
          "data": {
            "text/html": [
              "<div>\n",
              "<style scoped>\n",
              "    .dataframe tbody tr th:only-of-type {\n",
              "        vertical-align: middle;\n",
              "    }\n",
              "\n",
              "    .dataframe tbody tr th {\n",
              "        vertical-align: top;\n",
              "    }\n",
              "\n",
              "    .dataframe thead th {\n",
              "        text-align: right;\n",
              "    }\n",
              "</style>\n",
              "<table border=\"1\" class=\"dataframe\">\n",
              "  <thead>\n",
              "    <tr style=\"text-align: right;\">\n",
              "      <th></th>\n",
              "      <th>paragraph_index</th>\n",
              "      <th>context_index</th>\n",
              "      <th>question</th>\n",
              "      <th>id</th>\n",
              "      <th>answer_start</th>\n",
              "      <th>answer_end</th>\n",
              "      <th>answer_text</th>\n",
              "    </tr>\n",
              "  </thead>\n",
              "  <tbody>\n",
              "    <tr>\n",
              "      <th>0</th>\n",
              "      <td>0</td>\n",
              "      <td>0</td>\n",
              "      <td>To whom did the Virgin Mary allegedly appear i...</td>\n",
              "      <td>5733be284776f41900661182</td>\n",
              "      <td>515</td>\n",
              "      <td>541</td>\n",
              "      <td>Saint Bernadette Soubirous</td>\n",
              "    </tr>\n",
              "    <tr>\n",
              "      <th>1</th>\n",
              "      <td>0</td>\n",
              "      <td>0</td>\n",
              "      <td>What is in front of the Notre Dame Main Building?</td>\n",
              "      <td>5733be284776f4190066117f</td>\n",
              "      <td>188</td>\n",
              "      <td>213</td>\n",
              "      <td>a copper statue of Christ</td>\n",
              "    </tr>\n",
              "    <tr>\n",
              "      <th>2</th>\n",
              "      <td>0</td>\n",
              "      <td>0</td>\n",
              "      <td>The Basilica of the Sacred heart at Notre Dame...</td>\n",
              "      <td>5733be284776f41900661180</td>\n",
              "      <td>279</td>\n",
              "      <td>296</td>\n",
              "      <td>the Main Building</td>\n",
              "    </tr>\n",
              "    <tr>\n",
              "      <th>3</th>\n",
              "      <td>0</td>\n",
              "      <td>0</td>\n",
              "      <td>What is the Grotto at Notre Dame?</td>\n",
              "      <td>5733be284776f41900661181</td>\n",
              "      <td>381</td>\n",
              "      <td>420</td>\n",
              "      <td>a Marian place of prayer and reflection</td>\n",
              "    </tr>\n",
              "    <tr>\n",
              "      <th>4</th>\n",
              "      <td>0</td>\n",
              "      <td>0</td>\n",
              "      <td>What sits on top of the Main Building at Notre...</td>\n",
              "      <td>5733be284776f4190066117e</td>\n",
              "      <td>92</td>\n",
              "      <td>126</td>\n",
              "      <td>a golden statue of the Virgin Mary</td>\n",
              "    </tr>\n",
              "  </tbody>\n",
              "</table>\n",
              "</div>"
            ],
            "text/plain": [
              "   paragraph_index  ...                              answer_text\n",
              "0                0  ...               Saint Bernadette Soubirous\n",
              "1                0  ...                a copper statue of Christ\n",
              "2                0  ...                        the Main Building\n",
              "3                0  ...  a Marian place of prayer and reflection\n",
              "4                0  ...       a golden statue of the Virgin Mary\n",
              "\n",
              "[5 rows x 7 columns]"
            ]
          },
          "metadata": {
            "tags": []
          },
          "execution_count": 20
        }
      ]
    },
    {
      "cell_type": "code",
      "metadata": {
        "id": "XYvy3t5gu23b"
      },
      "source": [
        "# NOT REALLY NEEDED: evaluate.py accept the full dataset (dataset.json)\n",
        "# Generating ground truth .json file\n",
        "# ground_truth = df[['id', 'answer_text']].set_index('id')['answer_text'].to_dict()\n",
        "\n",
        "# with open(\"ground_truth.txt\", \"w\") as f:\n",
        "#    f.write(json.dumps(ground_truth))\n"
      ],
      "execution_count": null,
      "outputs": []
    },
    {
      "cell_type": "code",
      "metadata": {
        "id": "b44KeF4Iu23c"
      },
      "source": [
        "# L'unica cosa che si potrebbe rimuovere è la fonetica, ma è poco presente. Inoltre facendolo bisognerebbe aggiornare gli indici\n",
        "\n",
        "# Some examples of contexts and questions:\n",
        "for i in range(0, 4000, 100):\n",
        "    # print('Title:   ', title_list[df['title_index'][i]])\n",
        "    print('Context: ', context_list[df['context_index'][i]])\n",
        "    print('Question:', df['question'][i], \"\\n\")"
      ],
      "execution_count": null,
      "outputs": []
    },
    {
      "cell_type": "code",
      "metadata": {
        "colab": {
          "base_uri": "https://localhost:8080/"
        },
        "id": "P0mVpD7Lu23f",
        "outputId": "6dcb36f7-cb7a-4c2f-9492-d42f02584c90"
      },
      "source": [
        "# Define split ratios\n",
        "test_ratio = 0.2\n",
        "val_ratio = 0.2\n",
        "\n",
        "# Build array of paragraphs indexes and shuffle them\n",
        "paragraph_indexes = df['paragraph_index'].unique()\n",
        "np.random.shuffle(paragraph_indexes)\n",
        "n_samples = len(paragraph_indexes)\n",
        "\n",
        "# Reserve indexes for test set\n",
        "test_size = int(test_ratio * n_samples)\n",
        "train_val_size = n_samples - test_size\n",
        "test_indexes = paragraph_indexes[-test_size:]\n",
        "# Reserve indexes for validation set\n",
        "val_size = int(val_ratio * train_val_size)\n",
        "train_size = train_val_size - val_size\n",
        "val_indexes = paragraph_indexes[-(test_size + val_size):-test_size]\n",
        "# Reserve indexes for training set\n",
        "train_indexes = paragraph_indexes[:train_size]\n",
        "\n",
        "assert train_size == len(train_indexes), 'Something went wrong with train set slicing'\n",
        "assert val_size == len(val_indexes), 'Something went wrong with val set slicing'\n",
        "assert test_size == len(test_indexes), 'Something went wrong with test set slicing'\n",
        "\n",
        "print('Number of train paragraphs:', train_size)\n",
        "print('Number of validation paragraphs:', val_size)\n",
        "print('Number of test paragraphs:', test_size)\n",
        "\n",
        "# Split dataframe\n",
        "df_train = df[np.in1d(df['paragraph_index'], train_indexes)]\n",
        "df_val = df[np.in1d(df['paragraph_index'], val_indexes)]\n",
        "df_test = df[np.in1d(df['paragraph_index'], test_indexes)]\n",
        "\n",
        "print('\\nNumber of train samples:', len(df_train))\n",
        "print('Number of validation samples:', len(df_val))\n",
        "print('Number of test samples:', len(df_test))\n",
        "\n",
        "# Obtaining list of ids for accurate performance evaluation\n",
        "id_train = df_train['id'].to_list()\n",
        "id_val = df_val['id'].to_list()\n",
        "id_test = df_test['id'].to_list()"
      ],
      "execution_count": 21,
      "outputs": [
        {
          "output_type": "stream",
          "text": [
            "Number of train paragraphs: 284\n",
            "Number of validation paragraphs: 70\n",
            "Number of test paragraphs: 88\n",
            "\n",
            "Number of train samples: 57046\n",
            "Number of validation samples: 13113\n",
            "Number of test samples: 17440\n"
          ],
          "name": "stdout"
        }
      ]
    },
    {
      "cell_type": "markdown",
      "metadata": {
        "id": "PXlLrTLeu23g"
      },
      "source": [
        "## 2. Embeddings"
      ]
    },
    {
      "cell_type": "code",
      "metadata": {
        "colab": {
          "base_uri": "https://localhost:8080/"
        },
        "id": "eR5xT-gXu23h",
        "outputId": "4dfea8fd-5ef8-40f2-ebf5-c70ed250982d"
      },
      "source": [
        "print('Downloading GloVe model...')\n",
        "emb_dim = 50\n",
        "glove_model = gloader.load('glove-wiki-gigaword-' + str(emb_dim))\n",
        "print('\\nDownload completed.')"
      ],
      "execution_count": 8,
      "outputs": [
        {
          "output_type": "stream",
          "text": [
            "Downloading GloVe model...\n",
            "[==================================================] 100.0% 66.0/66.0MB downloaded\n",
            "\n",
            "Download completed.\n"
          ],
          "name": "stdout"
        }
      ]
    },
    {
      "cell_type": "code",
      "metadata": {
        "id": "dyGo5W6au23h"
      },
      "source": [
        "if True:\n",
        "    df_train = df_train[:10000]\n",
        "    df_val = df_val[:3000]\n",
        "    df_test = df_test[:100]"
      ],
      "execution_count": 23,
      "outputs": []
    },
    {
      "cell_type": "code",
      "metadata": {
        "colab": {
          "base_uri": "https://localhost:8080/",
          "height": 1000
        },
        "id": "O5yW8Li_u23h",
        "outputId": "c2ea29c9-94ad-4f83-e69f-370b237e0c7e"
      },
      "source": [
        "def tokenize_corpus(df: pd.DataFrame, context_list: List[str]):\n",
        "    twt = TreebankWordTokenizer()\n",
        "    \n",
        "    t_start = time()\n",
        "    # Retrieve contexts\n",
        "    contexts = df['context_index'].apply(lambda x: context_list[x])\n",
        "    # Tokenize both contexts and queries\n",
        "    x_ctx = contexts.apply(lambda x: twt.tokenize(x)).tolist()\n",
        "    x_qry = df['question'].apply(lambda x: twt.tokenize(x)).tolist()\n",
        "    # Get indexes to start_end characters\n",
        "    y_char = [(start, end) for start, end in zip(df['answer_start'].tolist(), df['answer_end'].tolist())]\n",
        "    # Get spans of tokens\n",
        "    spans_list = contexts.apply(lambda x: twt.span_tokenize(x)).tolist()\n",
        "    # Convert indexes s.t. the point to start/end tokens\n",
        "    y = []\n",
        "    for spans, (char_start, char_end) in zip(spans_list, y_char):\n",
        "        token_start, token_end = None, None\n",
        "        for i, span in enumerate(spans):\n",
        "            if span[0] <= char_start <= span[1]:\n",
        "                token_start = i\n",
        "            if span[0] <= char_end <= span[1]:\n",
        "                token_end = i\n",
        "        y.append((token_start, token_end))\n",
        "    print(f'[{time() - t_start:.3f} s]')\n",
        "    \n",
        "    return x_ctx, x_qry, y\n",
        "\n",
        "def build_vocabulary(corpus: List[List[str]],\n",
        "                     old_word_listing: Optional[List[str]] = None) -> (Dict[int, str], Dict[int, str], List[str]):\n",
        "    flat_tokens = [x for sub in corpus for x in sub]\n",
        "    \n",
        "    if old_word_listing is None:  # standard case\n",
        "        word_listing = [PAD] + list(OrderedDict.fromkeys(flat_tokens))\n",
        "    else:  # case in which we extend an already existing vocabulary\n",
        "        word_listing = list(OrderedDict.fromkeys(old_word_listing + flat_tokens))\n",
        "        \n",
        "    idx_to_word = {i: w for i, w in enumerate(word_listing)}\n",
        "    word_to_idx = {w: i for i, w in enumerate(word_listing)}\n",
        "\n",
        "    return idx_to_word, word_to_idx, word_listing\n",
        "\n",
        "# Tokenize corpus\n",
        "print('Tokenizing training corpus...', end=' ')\n",
        "X_trainC, X_trainQ, Y_train = tokenize_corpus(df_train, context_list)\n",
        "train_corpus = X_trainC + X_trainQ\n",
        "\n",
        "print('Tokenizing validation corpus...', end=' ')\n",
        "X_valC, X_valQ, Y_val = tokenize_corpus(df_val, context_list)\n",
        "val_corpus = X_valC + X_valQ\n",
        "\n",
        "print('Tokenizing test corpus...', end=' ')\n",
        "X_testC, X_testQ, Y_test = tokenize_corpus(df_test, context_list)\n",
        "test_corpus = X_testC + X_testQ\n",
        "\n",
        "# Get word and char mappings for each set\n",
        "train_i2w, train_w2i, train_wl = build_vocabulary(train_corpus)\n",
        "val_i2w, val_w2i, val_wl = build_vocabulary(val_corpus, train_wl)\n",
        "test_i2w, test_w2i, test_wl = build_vocabulary(test_corpus, val_wl)\n",
        "\n",
        "print('-' * 50)\n",
        "print('Words in training set:', len(train_wl))\n",
        "print('Words in validation set:', len(val_wl))\n",
        "print('Words in test set:', len(test_wl))"
      ],
      "execution_count": 24,
      "outputs": [
        {
          "output_type": "stream",
          "text": [
            "Tokenizing training corpus... "
          ],
          "name": "stdout"
        },
        {
          "output_type": "error",
          "ename": "ValueError",
          "evalue": "ignored",
          "traceback": [
            "\u001b[0;31m---------------------------------------------------------------------------\u001b[0m",
            "\u001b[0;31mValueError\u001b[0m                                Traceback (most recent call last)",
            "\u001b[0;32m/usr/local/lib/python3.6/dist-packages/nltk/tokenize/util.py\u001b[0m in \u001b[0;36malign_tokens\u001b[0;34m(tokens, sentence)\u001b[0m\n\u001b[1;32m    253\u001b[0m         \u001b[0;32mtry\u001b[0m\u001b[0;34m:\u001b[0m\u001b[0;34m\u001b[0m\u001b[0;34m\u001b[0m\u001b[0m\n\u001b[0;32m--> 254\u001b[0;31m             \u001b[0mstart\u001b[0m \u001b[0;34m=\u001b[0m \u001b[0msentence\u001b[0m\u001b[0;34m.\u001b[0m\u001b[0mindex\u001b[0m\u001b[0;34m(\u001b[0m\u001b[0mtoken\u001b[0m\u001b[0;34m,\u001b[0m \u001b[0mpoint\u001b[0m\u001b[0;34m)\u001b[0m\u001b[0;34m\u001b[0m\u001b[0;34m\u001b[0m\u001b[0m\n\u001b[0m\u001b[1;32m    255\u001b[0m         \u001b[0;32mexcept\u001b[0m \u001b[0mValueError\u001b[0m\u001b[0;34m:\u001b[0m\u001b[0;34m\u001b[0m\u001b[0;34m\u001b[0m\u001b[0m\n",
            "\u001b[0;31mValueError\u001b[0m: substring not found",
            "\nDuring handling of the above exception, another exception occurred:\n",
            "\u001b[0;31mValueError\u001b[0m                                Traceback (most recent call last)",
            "\u001b[0;32m<ipython-input-24-48184cb1f69f>\u001b[0m in \u001b[0;36m<module>\u001b[0;34m()\u001b[0m\n\u001b[1;32m     42\u001b[0m \u001b[0;31m# Tokenize corpus\u001b[0m\u001b[0;34m\u001b[0m\u001b[0;34m\u001b[0m\u001b[0;34m\u001b[0m\u001b[0m\n\u001b[1;32m     43\u001b[0m \u001b[0mprint\u001b[0m\u001b[0;34m(\u001b[0m\u001b[0;34m'Tokenizing training corpus...'\u001b[0m\u001b[0;34m,\u001b[0m \u001b[0mend\u001b[0m\u001b[0;34m=\u001b[0m\u001b[0;34m' '\u001b[0m\u001b[0;34m)\u001b[0m\u001b[0;34m\u001b[0m\u001b[0;34m\u001b[0m\u001b[0m\n\u001b[0;32m---> 44\u001b[0;31m \u001b[0mX_trainC\u001b[0m\u001b[0;34m,\u001b[0m \u001b[0mX_trainQ\u001b[0m\u001b[0;34m,\u001b[0m \u001b[0mY_train\u001b[0m \u001b[0;34m=\u001b[0m \u001b[0mtokenize_corpus\u001b[0m\u001b[0;34m(\u001b[0m\u001b[0mdf_train\u001b[0m\u001b[0;34m,\u001b[0m \u001b[0mcontext_list\u001b[0m\u001b[0;34m)\u001b[0m\u001b[0;34m\u001b[0m\u001b[0;34m\u001b[0m\u001b[0m\n\u001b[0m\u001b[1;32m     45\u001b[0m \u001b[0mtrain_corpus\u001b[0m \u001b[0;34m=\u001b[0m \u001b[0mX_trainC\u001b[0m \u001b[0;34m+\u001b[0m \u001b[0mX_trainQ\u001b[0m\u001b[0;34m\u001b[0m\u001b[0;34m\u001b[0m\u001b[0m\n\u001b[1;32m     46\u001b[0m \u001b[0;34m\u001b[0m\u001b[0m\n",
            "\u001b[0;32m<ipython-input-24-48184cb1f69f>\u001b[0m in \u001b[0;36mtokenize_corpus\u001b[0;34m(df, context_list)\u001b[0m\n\u001b[1;32m     11\u001b[0m     \u001b[0my_char\u001b[0m \u001b[0;34m=\u001b[0m \u001b[0;34m[\u001b[0m\u001b[0;34m(\u001b[0m\u001b[0mstart\u001b[0m\u001b[0;34m,\u001b[0m \u001b[0mend\u001b[0m\u001b[0;34m)\u001b[0m \u001b[0;32mfor\u001b[0m \u001b[0mstart\u001b[0m\u001b[0;34m,\u001b[0m \u001b[0mend\u001b[0m \u001b[0;32min\u001b[0m \u001b[0mzip\u001b[0m\u001b[0;34m(\u001b[0m\u001b[0mdf\u001b[0m\u001b[0;34m[\u001b[0m\u001b[0;34m'answer_start'\u001b[0m\u001b[0;34m]\u001b[0m\u001b[0;34m.\u001b[0m\u001b[0mtolist\u001b[0m\u001b[0;34m(\u001b[0m\u001b[0;34m)\u001b[0m\u001b[0;34m,\u001b[0m \u001b[0mdf\u001b[0m\u001b[0;34m[\u001b[0m\u001b[0;34m'answer_end'\u001b[0m\u001b[0;34m]\u001b[0m\u001b[0;34m.\u001b[0m\u001b[0mtolist\u001b[0m\u001b[0;34m(\u001b[0m\u001b[0;34m)\u001b[0m\u001b[0;34m)\u001b[0m\u001b[0;34m]\u001b[0m\u001b[0;34m\u001b[0m\u001b[0;34m\u001b[0m\u001b[0m\n\u001b[1;32m     12\u001b[0m     \u001b[0;31m# Get spans of tokens\u001b[0m\u001b[0;34m\u001b[0m\u001b[0;34m\u001b[0m\u001b[0;34m\u001b[0m\u001b[0m\n\u001b[0;32m---> 13\u001b[0;31m     \u001b[0mspans_list\u001b[0m \u001b[0;34m=\u001b[0m \u001b[0mcontexts\u001b[0m\u001b[0;34m.\u001b[0m\u001b[0mapply\u001b[0m\u001b[0;34m(\u001b[0m\u001b[0;32mlambda\u001b[0m \u001b[0mx\u001b[0m\u001b[0;34m:\u001b[0m \u001b[0mtwt\u001b[0m\u001b[0;34m.\u001b[0m\u001b[0mspan_tokenize\u001b[0m\u001b[0;34m(\u001b[0m\u001b[0mx\u001b[0m\u001b[0;34m)\u001b[0m\u001b[0;34m)\u001b[0m\u001b[0;34m.\u001b[0m\u001b[0mtolist\u001b[0m\u001b[0;34m(\u001b[0m\u001b[0;34m)\u001b[0m\u001b[0;34m\u001b[0m\u001b[0;34m\u001b[0m\u001b[0m\n\u001b[0m\u001b[1;32m     14\u001b[0m     \u001b[0;31m# Convert indexes s.t. the point to start/end tokens\u001b[0m\u001b[0;34m\u001b[0m\u001b[0;34m\u001b[0m\u001b[0;34m\u001b[0m\u001b[0m\n\u001b[1;32m     15\u001b[0m     \u001b[0my\u001b[0m \u001b[0;34m=\u001b[0m \u001b[0;34m[\u001b[0m\u001b[0;34m]\u001b[0m\u001b[0;34m\u001b[0m\u001b[0;34m\u001b[0m\u001b[0m\n",
            "\u001b[0;32m/usr/local/lib/python3.6/dist-packages/pandas/core/series.py\u001b[0m in \u001b[0;36mapply\u001b[0;34m(self, func, convert_dtype, args, **kwds)\u001b[0m\n\u001b[1;32m   4211\u001b[0m             \u001b[0;32melse\u001b[0m\u001b[0;34m:\u001b[0m\u001b[0;34m\u001b[0m\u001b[0;34m\u001b[0m\u001b[0m\n\u001b[1;32m   4212\u001b[0m                 \u001b[0mvalues\u001b[0m \u001b[0;34m=\u001b[0m \u001b[0mself\u001b[0m\u001b[0;34m.\u001b[0m\u001b[0mastype\u001b[0m\u001b[0;34m(\u001b[0m\u001b[0mobject\u001b[0m\u001b[0;34m)\u001b[0m\u001b[0;34m.\u001b[0m\u001b[0m_values\u001b[0m\u001b[0;34m\u001b[0m\u001b[0;34m\u001b[0m\u001b[0m\n\u001b[0;32m-> 4213\u001b[0;31m                 \u001b[0mmapped\u001b[0m \u001b[0;34m=\u001b[0m \u001b[0mlib\u001b[0m\u001b[0;34m.\u001b[0m\u001b[0mmap_infer\u001b[0m\u001b[0;34m(\u001b[0m\u001b[0mvalues\u001b[0m\u001b[0;34m,\u001b[0m \u001b[0mf\u001b[0m\u001b[0;34m,\u001b[0m \u001b[0mconvert\u001b[0m\u001b[0;34m=\u001b[0m\u001b[0mconvert_dtype\u001b[0m\u001b[0;34m)\u001b[0m\u001b[0;34m\u001b[0m\u001b[0;34m\u001b[0m\u001b[0m\n\u001b[0m\u001b[1;32m   4214\u001b[0m \u001b[0;34m\u001b[0m\u001b[0m\n\u001b[1;32m   4215\u001b[0m         \u001b[0;32mif\u001b[0m \u001b[0mlen\u001b[0m\u001b[0;34m(\u001b[0m\u001b[0mmapped\u001b[0m\u001b[0;34m)\u001b[0m \u001b[0;32mand\u001b[0m \u001b[0misinstance\u001b[0m\u001b[0;34m(\u001b[0m\u001b[0mmapped\u001b[0m\u001b[0;34m[\u001b[0m\u001b[0;36m0\u001b[0m\u001b[0;34m]\u001b[0m\u001b[0;34m,\u001b[0m \u001b[0mSeries\u001b[0m\u001b[0;34m)\u001b[0m\u001b[0;34m:\u001b[0m\u001b[0;34m\u001b[0m\u001b[0;34m\u001b[0m\u001b[0m\n",
            "\u001b[0;32mpandas/_libs/lib.pyx\u001b[0m in \u001b[0;36mpandas._libs.lib.map_infer\u001b[0;34m()\u001b[0m\n",
            "\u001b[0;32m<ipython-input-24-48184cb1f69f>\u001b[0m in \u001b[0;36m<lambda>\u001b[0;34m(x)\u001b[0m\n\u001b[1;32m     11\u001b[0m     \u001b[0my_char\u001b[0m \u001b[0;34m=\u001b[0m \u001b[0;34m[\u001b[0m\u001b[0;34m(\u001b[0m\u001b[0mstart\u001b[0m\u001b[0;34m,\u001b[0m \u001b[0mend\u001b[0m\u001b[0;34m)\u001b[0m \u001b[0;32mfor\u001b[0m \u001b[0mstart\u001b[0m\u001b[0;34m,\u001b[0m \u001b[0mend\u001b[0m \u001b[0;32min\u001b[0m \u001b[0mzip\u001b[0m\u001b[0;34m(\u001b[0m\u001b[0mdf\u001b[0m\u001b[0;34m[\u001b[0m\u001b[0;34m'answer_start'\u001b[0m\u001b[0;34m]\u001b[0m\u001b[0;34m.\u001b[0m\u001b[0mtolist\u001b[0m\u001b[0;34m(\u001b[0m\u001b[0;34m)\u001b[0m\u001b[0;34m,\u001b[0m \u001b[0mdf\u001b[0m\u001b[0;34m[\u001b[0m\u001b[0;34m'answer_end'\u001b[0m\u001b[0;34m]\u001b[0m\u001b[0;34m.\u001b[0m\u001b[0mtolist\u001b[0m\u001b[0;34m(\u001b[0m\u001b[0;34m)\u001b[0m\u001b[0;34m)\u001b[0m\u001b[0;34m]\u001b[0m\u001b[0;34m\u001b[0m\u001b[0;34m\u001b[0m\u001b[0m\n\u001b[1;32m     12\u001b[0m     \u001b[0;31m# Get spans of tokens\u001b[0m\u001b[0;34m\u001b[0m\u001b[0;34m\u001b[0m\u001b[0;34m\u001b[0m\u001b[0m\n\u001b[0;32m---> 13\u001b[0;31m     \u001b[0mspans_list\u001b[0m \u001b[0;34m=\u001b[0m \u001b[0mcontexts\u001b[0m\u001b[0;34m.\u001b[0m\u001b[0mapply\u001b[0m\u001b[0;34m(\u001b[0m\u001b[0;32mlambda\u001b[0m \u001b[0mx\u001b[0m\u001b[0;34m:\u001b[0m \u001b[0mtwt\u001b[0m\u001b[0;34m.\u001b[0m\u001b[0mspan_tokenize\u001b[0m\u001b[0;34m(\u001b[0m\u001b[0mx\u001b[0m\u001b[0;34m)\u001b[0m\u001b[0;34m)\u001b[0m\u001b[0;34m.\u001b[0m\u001b[0mtolist\u001b[0m\u001b[0;34m(\u001b[0m\u001b[0;34m)\u001b[0m\u001b[0;34m\u001b[0m\u001b[0;34m\u001b[0m\u001b[0m\n\u001b[0m\u001b[1;32m     14\u001b[0m     \u001b[0;31m# Convert indexes s.t. the point to start/end tokens\u001b[0m\u001b[0;34m\u001b[0m\u001b[0;34m\u001b[0m\u001b[0;34m\u001b[0m\u001b[0m\n\u001b[1;32m     15\u001b[0m     \u001b[0my\u001b[0m \u001b[0;34m=\u001b[0m \u001b[0;34m[\u001b[0m\u001b[0;34m]\u001b[0m\u001b[0;34m\u001b[0m\u001b[0;34m\u001b[0m\u001b[0m\n",
            "\u001b[0;32m/usr/local/lib/python3.6/dist-packages/nltk/tokenize/treebank.py\u001b[0m in \u001b[0;36mspan_tokenize\u001b[0;34m(self, text)\u001b[0m\n\u001b[1;32m    177\u001b[0m             \u001b[0mtokens\u001b[0m \u001b[0;34m=\u001b[0m \u001b[0mraw_tokens\u001b[0m\u001b[0;34m\u001b[0m\u001b[0;34m\u001b[0m\u001b[0m\n\u001b[1;32m    178\u001b[0m \u001b[0;34m\u001b[0m\u001b[0m\n\u001b[0;32m--> 179\u001b[0;31m         \u001b[0;32mreturn\u001b[0m \u001b[0malign_tokens\u001b[0m\u001b[0;34m(\u001b[0m\u001b[0mtokens\u001b[0m\u001b[0;34m,\u001b[0m \u001b[0mtext\u001b[0m\u001b[0;34m)\u001b[0m\u001b[0;34m\u001b[0m\u001b[0;34m\u001b[0m\u001b[0m\n\u001b[0m\u001b[1;32m    180\u001b[0m \u001b[0;34m\u001b[0m\u001b[0m\n\u001b[1;32m    181\u001b[0m \u001b[0;34m\u001b[0m\u001b[0m\n",
            "\u001b[0;32m/usr/local/lib/python3.6/dist-packages/nltk/tokenize/util.py\u001b[0m in \u001b[0;36malign_tokens\u001b[0;34m(tokens, sentence)\u001b[0m\n\u001b[1;32m    254\u001b[0m             \u001b[0mstart\u001b[0m \u001b[0;34m=\u001b[0m \u001b[0msentence\u001b[0m\u001b[0;34m.\u001b[0m\u001b[0mindex\u001b[0m\u001b[0;34m(\u001b[0m\u001b[0mtoken\u001b[0m\u001b[0;34m,\u001b[0m \u001b[0mpoint\u001b[0m\u001b[0;34m)\u001b[0m\u001b[0;34m\u001b[0m\u001b[0;34m\u001b[0m\u001b[0m\n\u001b[1;32m    255\u001b[0m         \u001b[0;32mexcept\u001b[0m \u001b[0mValueError\u001b[0m\u001b[0;34m:\u001b[0m\u001b[0;34m\u001b[0m\u001b[0;34m\u001b[0m\u001b[0m\n\u001b[0;32m--> 256\u001b[0;31m             \u001b[0;32mraise\u001b[0m \u001b[0mValueError\u001b[0m\u001b[0;34m(\u001b[0m\u001b[0;34m'substring \"{}\" not found in \"{}\"'\u001b[0m\u001b[0;34m.\u001b[0m\u001b[0mformat\u001b[0m\u001b[0;34m(\u001b[0m\u001b[0mtoken\u001b[0m\u001b[0;34m,\u001b[0m \u001b[0msentence\u001b[0m\u001b[0;34m)\u001b[0m\u001b[0;34m)\u001b[0m\u001b[0;34m\u001b[0m\u001b[0;34m\u001b[0m\u001b[0m\n\u001b[0m\u001b[1;32m    257\u001b[0m         \u001b[0mpoint\u001b[0m \u001b[0;34m=\u001b[0m \u001b[0mstart\u001b[0m \u001b[0;34m+\u001b[0m \u001b[0mlen\u001b[0m\u001b[0;34m(\u001b[0m\u001b[0mtoken\u001b[0m\u001b[0;34m)\u001b[0m\u001b[0;34m\u001b[0m\u001b[0;34m\u001b[0m\u001b[0m\n\u001b[1;32m    258\u001b[0m         \u001b[0moffsets\u001b[0m\u001b[0;34m.\u001b[0m\u001b[0mappend\u001b[0m\u001b[0;34m(\u001b[0m\u001b[0;34m(\u001b[0m\u001b[0mstart\u001b[0m\u001b[0;34m,\u001b[0m \u001b[0mpoint\u001b[0m\u001b[0;34m)\u001b[0m\u001b[0;34m)\u001b[0m\u001b[0;34m\u001b[0m\u001b[0;34m\u001b[0m\u001b[0m\n",
            "\u001b[0;31mValueError\u001b[0m: substring \"(\" not found in \"Beyoncé Giselle Knowles-Carter (/biːˈjɒnseɪ/ bee-YON-say) (born September 4, 1981) is an American singer, songwriter, record producer and actress. Born and raised in Houston, Texas, she performed in various singing and dancing competitions as a child, and rose to fame in the late 1990s as lead singer of R&B girl-group Destiny's Child. Managed by her father, Mathew Knowles, the group became one of the world's best-selling girl groups of all time. Their hiatus saw the release of Beyoncé's debut album, Dangerously in Love (2003), which established her as a solo artist worldwide, earned five Grammy Awards and featured the Billboard Hot 100 number-one singles \"Crazy in Love\" and \"Baby Boy\".\""
          ]
        }
      ]
    },
    {
      "cell_type": "code",
      "metadata": {
        "id": "aGKnQ_Zsu23i",
        "outputId": "90912f05-0526-43e8-ed6a-1936fd9cffc5"
      },
      "source": [
        "train_oov_words = [word for word in train_wl if word not in glove_model.vocab and word != PAD]\n",
        "val_oov_words = [word for word in val_wl if word not in glove_model.vocab and word != PAD]\n",
        "test_oov_words = [word for word in test_wl if word not in glove_model.vocab and word != PAD]\n",
        "\n",
        "print(f'Total OOV terms in training set: {len(train_oov_words)} ({float(len(train_oov_words)) / len(train_wl) * 100:.2f}%)')\n",
        "print(f'Total OOV terms in validation set: {len(val_oov_words)} ({float(len(val_oov_words)) / len(val_wl) * 100:.2f}%)')\n",
        "print(f'Total OOV terms in test set: {len(test_oov_words)} ({float(len(test_oov_words)) / len(test_wl) * 100:.2f}%)')"
      ],
      "execution_count": null,
      "outputs": [
        {
          "output_type": "stream",
          "text": [
            "Total OOV terms in training set: 14167 (48.23%)\n",
            "Total OOV terms in validation set: 17909 (49.73%)\n",
            "Total OOV terms in test set: 17980 (49.80%)\n"
          ],
          "name": "stdout"
        }
      ]
    },
    {
      "cell_type": "code",
      "metadata": {
        "colab": {
          "referenced_widgets": [
            ""
          ]
        },
        "id": "jR6R5jlpu23i",
        "outputId": "695f39a4-0ea4-4364-dc6b-76d8ae58630e"
      },
      "source": [
        "def build_word_embedding_matrix(embedding_model: gensim.models.keyedvectors.Word2VecKeyedVectors,\n",
        "                                word_to_idx: Dict[str, int],\n",
        "                                oov_words: List[str],\n",
        "                                old_word_embedding_matrix: Optional[np.ndarray] = None):\n",
        "    # Initialize embedding matrix with all zeros\n",
        "    embedding_matrix = np.zeros((len(word_to_idx), embedding_model.vector_size))\n",
        "    \n",
        "    # Analyze embeddings to get mean and standard deviation\n",
        "    mean_list, std_list = [], []\n",
        "    for word in tqdm(word_to_idx.keys(), leave=False):\n",
        "        if word not in oov_words and word != PAD:\n",
        "            embed = embedding_model[word]\n",
        "            # Compute mean and std\n",
        "            mean_list.append(np.mean(embed))\n",
        "            std_list.append(np.std(embed))\n",
        "\n",
        "    embedding_mean = mean(mean_list)\n",
        "    embedding_std = mean(std_list)\n",
        "\n",
        "    for word, idx in tqdm(word_to_idx.items(), leave=False):\n",
        "        # If word is PAD no action is performed (it will be assigned the zero vector)\n",
        "        if word not in oov_words and word != PAD:\n",
        "            embedding_matrix[idx] = embedding_model[word]\n",
        "        elif word in oov_words:\n",
        "            oov_idx = word_to_idx[word]\n",
        "            if old_word_embedding_matrix is None or oov_idx >= len(old_word_embedding_matrix):\n",
        "                embedding_matrix[idx] = np.random.normal(loc=embedding_mean, scale=embedding_std, size=embedding_model.vector_size)\n",
        "            else:\n",
        "                embedding_matrix[idx] = old_word_embedding_matrix[oov_idx]\n",
        "            \n",
        "    return embedding_matrix\n",
        "\n",
        "# Build word embedding matrix based only on the training set (for training)\n",
        "train_emb_mtx = build_word_embedding_matrix(glove_model, train_w2i, train_oov_words)\n",
        "print('Shape of word embedding matrix (training set):', train_emb_mtx.shape)\n",
        "\n",
        "# Build word embedding matrix based on training + validation set (for validation)\n",
        "val_emb_mtx = build_word_embedding_matrix(glove_model, val_w2i, val_oov_words, train_emb_mtx)\n",
        "print('Shape of word embedding matrix (validation set):', val_emb_mtx.shape)\n",
        "\n",
        "# Build word embedding matrix based on training + validation + test set (for test)\n",
        "test_emb_mtx = build_word_embedding_matrix(glove_model, test_w2i, test_oov_words, val_emb_mtx)\n",
        "print('Shape of word embedding matrix (test set):', test_emb_mtx.shape)"
      ],
      "execution_count": null,
      "outputs": [
        {
          "output_type": "display_data",
          "data": {
            "application/vnd.jupyter.widget-view+json": {
              "model_id": "",
              "version_major": 2,
              "version_minor": 0
            },
            "text/plain": [
              "HBox(children=(HTML(value=''), FloatProgress(value=0.0, max=29372.0), HTML(value='')))"
            ]
          },
          "metadata": {
            "tags": []
          }
        },
        {
          "output_type": "display_data",
          "data": {
            "application/vnd.jupyter.widget-view+json": {
              "model_id": "",
              "version_major": 2,
              "version_minor": 0
            },
            "text/plain": [
              "HBox(children=(HTML(value=''), FloatProgress(value=0.0, max=29372.0), HTML(value='')))"
            ]
          },
          "metadata": {
            "tags": []
          }
        },
        {
          "output_type": "stream",
          "text": [
            "Shape of word embedding matrix (training set): (29372, 50)\n"
          ],
          "name": "stdout"
        },
        {
          "output_type": "display_data",
          "data": {
            "application/vnd.jupyter.widget-view+json": {
              "model_id": "",
              "version_major": 2,
              "version_minor": 0
            },
            "text/plain": [
              "HBox(children=(HTML(value=''), FloatProgress(value=0.0, max=36014.0), HTML(value='')))"
            ]
          },
          "metadata": {
            "tags": []
          }
        },
        {
          "output_type": "display_data",
          "data": {
            "application/vnd.jupyter.widget-view+json": {
              "model_id": "",
              "version_major": 2,
              "version_minor": 0
            },
            "text/plain": [
              "HBox(children=(HTML(value=''), FloatProgress(value=0.0, max=36014.0), HTML(value='')))"
            ]
          },
          "metadata": {
            "tags": []
          }
        },
        {
          "output_type": "stream",
          "text": [
            "Shape of word embedding matrix (validation set): (36014, 50)\n"
          ],
          "name": "stdout"
        },
        {
          "output_type": "display_data",
          "data": {
            "application/vnd.jupyter.widget-view+json": {
              "model_id": "",
              "version_major": 2,
              "version_minor": 0
            },
            "text/plain": [
              "HBox(children=(HTML(value=''), FloatProgress(value=0.0, max=36107.0), HTML(value='')))"
            ]
          },
          "metadata": {
            "tags": []
          }
        },
        {
          "output_type": "display_data",
          "data": {
            "application/vnd.jupyter.widget-view+json": {
              "model_id": "",
              "version_major": 2,
              "version_minor": 0
            },
            "text/plain": [
              "HBox(children=(HTML(value=''), FloatProgress(value=0.0, max=36107.0), HTML(value='')))"
            ]
          },
          "metadata": {
            "tags": []
          }
        },
        {
          "output_type": "stream",
          "text": [
            "Shape of word embedding matrix (test set): (36107, 50)\n"
          ],
          "name": "stdout"
        }
      ]
    },
    {
      "cell_type": "code",
      "metadata": {
        "id": "n6oGdeJbu23k",
        "outputId": "7cedd294-e723-4df1-db41-3888d0d2974c"
      },
      "source": [
        "def build_char_embedding_matrix(corpus: List[str],\n",
        "                                enc_dim: Optional[int] = 100):\n",
        "    # Flatten to obtain single characters\n",
        "    flat_chars = [c for sent in corpus for word in sent for c in word]\n",
        "    \n",
        "    # Sort characters by occurrences\n",
        "    unique_chars = Counter(flat_chars)\n",
        "    char_listing = sorted(unique_chars, key=unique_chars.get, reverse=True)\n",
        "    # Select only the enc_dim most frequent ones\n",
        "    if len(char_listing) > enc_dim - 1:\n",
        "        char_listing = char_listing[:enc_dim - 1]\n",
        "    char_listing = [PAD] + char_listing + [UNK]  # add PAD and UNK tokens\n",
        "    \n",
        "    idx_to_char = {i: c for i, c in enumerate(char_listing)}\n",
        "    char_to_idx = {c: i for i, c in enumerate(char_listing)}\n",
        "    \n",
        "    # Create one-hot vectors, reserving the last one for UNK (0...0, 1)\n",
        "    one_hot_chars = np.zeros((len(char_listing) - 1, enc_dim))\n",
        "    np.fill_diagonal(one_hot_chars, 1)\n",
        "    one_hot_chars = np.vstack([np.zeros((1, enc_dim)), one_hot_chars])  # stack zero vector on top for PAD\n",
        "    \n",
        "    return idx_to_char, char_to_idx, char_listing, one_hot_chars\n",
        "\n",
        "# Build char embedding matrix based only on the training set, and use it for validation and test too:\n",
        "# in fact, we can assume that characters appear uniformly in the three splits;\n",
        "# for those rare case in which this does not happen, we assign the UNK vector\n",
        "i2c, c2i, cl, char_emb_mtx = build_char_embedding_matrix(train_corpus)\n",
        "print('Shape of char embedding matrix (training set):', char_emb_mtx.shape)"
      ],
      "execution_count": null,
      "outputs": [
        {
          "output_type": "stream",
          "text": [
            "Shape of char embedding matrix (training set): (101, 100)\n"
          ],
          "name": "stdout"
        }
      ]
    },
    {
      "cell_type": "markdown",
      "metadata": {
        "id": "LFvBo98_u23l"
      },
      "source": [
        "## 3. Training\n"
      ]
    },
    {
      "cell_type": "code",
      "metadata": {
        "id": "HWL6U2gXg-xR"
      },
      "source": [
        "def compute_f1(true_answer, predicted_answer):\n",
        "    common = collections.Counter(true_answer) & collections.Counter(predicted_answer)\n",
        "    \n",
        "    num_same = sum(common.values())\n",
        "\n",
        "    if num_same == 0:\n",
        "        return 0\n",
        "    \n",
        "    precision = 1.0 * num_same / len(predicted_answer)\n",
        "    recall = 1.0 * num_same / len(true_answer)\n",
        "    f1 = (2 * precision * recall) / (precision + recall)\n",
        "\n",
        "    return f1"
      ],
      "execution_count": 8,
      "outputs": []
    },
    {
      "cell_type": "code",
      "metadata": {
        "id": "v_cQuoUHe0R_"
      },
      "source": [
        "def get_raw_scores (context: Tuple[List[str]],\n",
        "                    label_start: List[int],\n",
        "                    label_end: List[int],\n",
        "                    p_start: List[int],\n",
        "                    p_end: List[int]):\n",
        "    \n",
        "    exact_scores = []\n",
        "    f1_scores = []\n",
        "\n",
        "    for i, c in enumerate(context):\n",
        "        true_answer = c[label_start[i]:label_end[i]]\n",
        "        predicted_answer = c[p_start[i]:p_end[i]]\n",
        "\n",
        "        exact_scores.append(int(true_answer == predicted_answer))\n",
        "        f1_scores.append(compute_f1(true_answer, predicted_answer))\n",
        "\n",
        "    return exact_scores, f1_scores"
      ],
      "execution_count": 12,
      "outputs": []
    },
    {
      "cell_type": "code",
      "metadata": {
        "id": "nkDb4yV2u23l"
      },
      "source": [
        "def train(model: BiDAF,\n",
        "          data: List[Tuple[List[str], List[str], str]],\n",
        "          batch_size: int,\n",
        "          criterion: Callable[[torch.Tensor, torch.Tensor], float],\n",
        "          optimizer: torch.optim,\n",
        "          tensor_maker: TensorMaker,\n",
        "          max_len: Optional[int] = None,\n",
        "          verbose: Optional[bool] = False,\n",
        "          scaler: Optional[torch.cuda.amp.grad_scaler.GradScaler] = False) -> (float, float, float):\n",
        "    loss_data = []\n",
        "    distance_start = 0\n",
        "    distance_end = 0\n",
        "    total = 0\n",
        "    flag = 0\n",
        "    \n",
        "    # Create batch iterator\n",
        "    batch_iter = batch_iteration(data, batch_size)\n",
        "    steps = len(data) // batch_size if len(data) % batch_size == 0 else len(data) // batch_size + 1\n",
        "    if verbose:\n",
        "        batch_iter = tqdm(batch_iter, total=steps, leave=False)\n",
        "    for batch in batch_iter:\n",
        "        batch_context, batch_query, batch_label = to_tuple_of_lists(batch)\n",
        "    \n",
        "        # Filter valid samples in batches (in case of incomplete ones)\n",
        "        batch_context = [c for c in batch_context if len(c) > 0]\n",
        "        batch_query = [q for q in batch_query if len(q) > 0]\n",
        "        batch_label = [l for l in batch_label if len(l) > 0]\n",
        "\n",
        "        # Extract start and end indexes\n",
        "        labels_start, labels_end = to_tuple_of_lists(batch_label)\n",
        "\n",
        "        total_batch = len(batch_context)\n",
        "        \n",
        "        with torch.autograd.set_detect_anomaly(True):\n",
        "\n",
        "            context_word_tensor, context_char_tensor, context_lengths = train_tensor_maker.get_tensor(batch_context)\n",
        "            query_word_tensor, query_char_tensor, query_lengths = train_tensor_maker.get_tensor(batch_query)\n",
        "            labels_start = torch.cuda.LongTensor(labels_start)\n",
        "            labels_end = torch.cuda.LongTensor(labels_end)\n",
        "\n",
        "            if scaler:\n",
        "\n",
        "                # Make prediction\n",
        "                optimizer.zero_grad()\n",
        "                with autocast():   #https://pytorch.org/docs/stable/notes/amp_examples.html\n",
        "                    p_soft_start, p_soft_end = model(context_word_tensor, context_char_tensor, query_word_tensor, query_char_tensor)\n",
        "                    loss = criterion(p_soft_start, p_soft_end, labels_start, labels_end)\n",
        "                # Backpropagation\n",
        "\n",
        "                scaler.scale(loss).backward()  #https://pytorch.org/docs/stable/notes/amp_examples.html\n",
        "                scaler.step(optimizer) #https://pytorch.org/docs/stable/notes/amp_examples.html\n",
        "                scaler.update() #https://pytorch.org/docs/stable/notes/amp_examples.html\n",
        "\n",
        "            else:\n",
        "                # Make prediction\n",
        "                optimizer.zero_grad()\n",
        "                p_soft_start, p_soft_end = model(context_word_tensor, context_char_tensor, query_word_tensor, query_char_tensor)\n",
        "                loss = criterion(p_soft_start, p_soft_end, labels_start, labels_end)\n",
        "                \n",
        "                p_start = torch.argmax(p_soft_start, dim=1)\n",
        "                p_end = torch.argmax(p_soft_end, dim=1)\n",
        "\n",
        "                # Compute distance metric\n",
        "                start_dist = torch.abs(p_start - labels_start).sum()\n",
        "                end_dist = torch.abs(p_end - labels_end).sum()\n",
        "\n",
        "                # Backpropagation\n",
        "                loss.backward()\n",
        "                optimizer.step()\n",
        "\n",
        "            # Obtaining raw scores from from the prediction\n",
        "            exact_scores, f1_scores = get_raw_scores(batch_context, labels_start, labels_end, p_start, p_end)\n",
        "\n",
        "            # Update history\n",
        "            loss_data.append(loss.item())\n",
        "            distance_start += start_dist.item()\n",
        "            distance_end += end_dist.item()\n",
        "            total += total_batch\n",
        "        \n",
        "        if flag == 0:\n",
        "            print(f'Start_pred: {p_start[0].item()}, End_pred: {p_end[0].item()}, Start_true: {labels_start[0].item()}, End_true: {labels_end[0].item()}')\n",
        "            flag += 1\n",
        "        \n",
        "    return mean(loss_data), distance_start / total, distance_end / total\n",
        "\n",
        "def evaluate(model: nn.Module,\n",
        "             data: List[Tuple[List[str], List[str], str]],\n",
        "             batch_size: int,\n",
        "             criterion: Callable[[torch.Tensor, torch.Tensor], float],\n",
        "             tensor_maker: TensorMaker,\n",
        "             label_to_idx: Dict[str, int],\n",
        "             max_len: Optional[int] = None,\n",
        "             verbose: Optional[bool] = False) -> (float, float, float):\n",
        "    loss_data = []\n",
        "    correct = 0\n",
        "    total = 0\n",
        "    \n",
        "    with torch.no_grad():\n",
        "        # Create batch iterator\n",
        "        batch_iter = batch_iteration(data, batch_size)\n",
        "        steps = len(data) // batch_size if len(data) % batch_size == 0 else len(data) // batch_size + 1\n",
        "        if verbose:\n",
        "            batch_iter = tqdm(batch_iter, total=steps, leave=False)\n",
        "        for batch in batch_iter:\n",
        "            # Extract samples\n",
        "            (claims, evidences, labels, ids) = to_tuple_of_lists(batch)\n",
        "            \n",
        "            # Get encoding of claims, evidences and labels, and move them to GPU if available\n",
        "            claims_tensor, claims_lengths = embedder.get_word_embedding(claims, max_len)\n",
        "            evidences_tensor, evidences_lengths = embedder.get_word_embedding(evidences, max_len)\n",
        "            labels_tensor = torch.cuda.FloatTensor([label_to_idx[l] for l in labels if len(l) > 0], device = DEVICE)\n",
        "            \n",
        "            # Make prediction\n",
        "            scores = model(claims_tensor, evidences_tensor, claims_lengths, evidences_lengths)\n",
        "\n",
        "            # Compute loss\n",
        "            loss = criterion(scores, labels_tensor.unsqueeze(dim=1))\n",
        "            \n",
        "            # Compute accuracy\n",
        "            total_batch = scores.shape[0]\n",
        "            scores = torch.sigmoid(scores)\n",
        "            predictions = scores.squeeze() > 0.5\n",
        "            correct_batch = (predictions == labels_tensor).sum().item()\n",
        "        \n",
        "            # Update history\n",
        "            loss_data.append(loss.item())\n",
        "            correct += correct_batch\n",
        "            total += total_batch\n",
        "              \n",
        "    return mean(loss_data), correct / total * 100\n",
        "    \n",
        "\n",
        "def training_loop(model: nn.Module,\n",
        "                  train_data: List[Tuple[List[str], List[str], str]],\n",
        "                  optimizer: torch.optim,\n",
        "                  epochs: int,\n",
        "                  batch_size: int,\n",
        "                  criterion: Callable[[torch.Tensor, torch.Tensor], float],\n",
        "                  tensor_maker: TensorMaker,\n",
        "                  val_embedder: Optional[TensorMaker] = None,\n",
        "                  max_len: Optional[int] = None,\n",
        "                  lr_scheduler: torch.optim.lr_scheduler = None,\n",
        "                  val_data: Optional[List[Tuple[List[str], List[str], str, str]]] = None,\n",
        "                  early_stopping: Optional[bool] = False,\n",
        "                  patience: Optional[int] = 5,\n",
        "                  tolerance: Optional[float] = 1e-4,\n",
        "                  checkpoint_path: Optional[str] = None,\n",
        "                  verbose: Optional[bool] = True,\n",
        "                  seed: Optional[int] = 42,\n",
        "                  mix_scale: Optional[bool] = False) -> (Dict[str, List[float]]):\n",
        "    # Set seed for reproducibility\n",
        "    if seed:\n",
        "        random.seed(seed)\n",
        "\n",
        "    history = {'loss': [],\n",
        "               'distance_start': [],\n",
        "               'distance_end': [],\n",
        "               'val_loss': [],\n",
        "               'val_accuracy': []}\n",
        "    \n",
        "    # Initialize variables for early stopping (if required)\n",
        "    if val_data and val_embedder and early_stopping:\n",
        "        min_val_loss = np.inf\n",
        "        no_improve_counter = 0\n",
        "    \n",
        "    scaler = GradScaler() if mix_scale else False   # https://pytorch.org/docs/stable/notes/amp_examples.html\n",
        "    \n",
        "    for ep in range(epochs):\n",
        "        if verbose:\n",
        "            print('-' * 100)\n",
        "            print(f'Epoch {ep + 1}/{epochs}')\n",
        "        \n",
        "        # Shuffle training set at each epoch\n",
        "        random.shuffle(train_data)\n",
        "        \n",
        "        start = time()\n",
        "        train_loss, train_distance_start, train_distance_end = train(model, train_data, batch_size, criterion, optimizer, tensor_maker, max_len, verbose, scaler)\n",
        "        end = time()\n",
        "        \n",
        "        history['loss'].append(train_loss)\n",
        "        history['distance_start'].append(train_distance_start)\n",
        "        history['distance_end'].append(train_distance_end)\n",
        "        if verbose:\n",
        "            print(f'\\tLoss: {train_loss:.5f} - Distance Start: {train_distance_start:.2f} - Distance End: {train_distance_end:.2f} [Time elapsed: {end - start:.2f} s]')\n",
        "        \n",
        "        # Do validation if required\n",
        "        if val_data and val_embedder:\n",
        "            \n",
        "            # Shuffle validation set at each epoch\n",
        "            random.shuffle(val_data)\n",
        "            \n",
        "            start = time()\n",
        "            val_loss, val_accuracy = evaluate(model, val_data, batch_size, criterion, val_embedder, label_to_idx, max_len, verbose)\n",
        "            end = time()\n",
        "            \n",
        "            history['val_loss'].append(val_loss)\n",
        "            history['val_accuracy'].append(val_accuracy)\n",
        "            if verbose:\n",
        "                print(f'\\tValidation loss: {val_loss:.5f} - Validation accuracy: {val_accuracy:.2f}% [Time elapsed: {end - start:.2f} s]')\n",
        "            \n",
        "            if early_stopping and checkpoint_path:\n",
        "                # If validation loss is lower than minimum, update minimum\n",
        "                if val_loss < min_val_loss - tolerance:\n",
        "                    min_val_loss = val_loss\n",
        "                    no_improve_counter = 0\n",
        "                    \n",
        "                    # Save model\n",
        "                    torch.save(model.state_dict(), checkpoint_path)\n",
        "                # otherwise increment counter\n",
        "                else:\n",
        "                    no_improve_counter += 1\n",
        "                # If loss did not improve for 'patience' epochs, break\n",
        "                if no_improve_counter == patience:\n",
        "                    if verbose:\n",
        "                        print(f'Early stopping: no improvement in validation loss for {patience} epochs from {min_val_loss:.5f}')\n",
        "                    # Restore model to best\n",
        "                    model.load_state_dict(torch.load(checkpoint_path))\n",
        "                    model.eval()\n",
        "                    break\n",
        "        \n",
        "        # If lr scheduling is used, invoke next step\n",
        "        if lr_scheduler:\n",
        "            lr_scheduler.step()\n",
        "    \n",
        "    return history\n",
        "\n",
        "from utils.train_utils import training_loop"
      ],
      "execution_count": null,
      "outputs": []
    },
    {
      "cell_type": "code",
      "metadata": {
        "id": "6oNquuBwu23l"
      },
      "source": [
        "from model.bidaf import BiDAF\n",
        "from model.char_embedder import CharEmbedder\n",
        "from model.word_embedder import WordEmbedder\n",
        "from model.tensor_maker import TensorMaker\n",
        "\n",
        "char_embedder = CharEmbedder(init_emb = torch.FloatTensor(char_emb_mtx),\n",
        "                             out_char_emb_dim = emb_dim,\n",
        "                             hidden_dim = 64,\n",
        "                             input_channels = 1,\n",
        "                             output_channels = 100,\n",
        "                             kernel_height = 5,\n",
        "                             trainable = False)\n",
        "\n",
        "train_word_embedder = WordEmbedder(init_emb = torch.FloatTensor(train_emb_mtx))\n",
        "val_word_embedder = WordEmbedder(init_emb = torch.FloatTensor(val_emb_mtx))\n",
        "\n",
        "model_bidaf = BiDAF(char_embedder, train_word_embedder, val_word_embedder, use_constraint = False).to(DEVICE)\n",
        "\n",
        "train_tensor_maker = TensorMaker(train_w2i, c2i, device=DEVICE)\n",
        "val_tensor_maker = TensorMaker(val_w2i, c2i, device=DEVICE)"
      ],
      "execution_count": null,
      "outputs": []
    },
    {
      "cell_type": "code",
      "metadata": {
        "id": "Gkh6r3ryu23m"
      },
      "source": [
        "from utils.bidaf_loss import bidaf_loss\n",
        "\n",
        "train_data = to_list_of_tuples((X_trainC, X_trainQ, Y_train))\n",
        "val_data = to_list_of_tuples((X_valC, X_valQ, Y_val))\n",
        "\n",
        "EP = 100\n",
        "BS = 32\n",
        "\n",
        "optimizer = torch.optim.Adam(model_bidaf.parameters(), lr=5e-3)\n",
        "#optimizer = torch.optim.Adadelta(model_bidaf.parameters(), lr=0.5, rho=0.999, eps=1e-06, weight_decay=0) # slower in time and in loss\n",
        "criterion = bidaf_loss\n",
        "\n",
        "history = training_loop(model=model_bidaf,\n",
        "                        train_data=train_data,\n",
        "                        optimizer=optimizer,\n",
        "                        epochs=EP,\n",
        "                        batch_size=BS,\n",
        "                        criterion=criterion,\n",
        "                        train_tensor_maker=train_tensor_maker,\n",
        "                        val_tensor_maker=val_tensor_maker,\n",
        "                        val_data=val_data,\n",
        "                        early_stopping=False,\n",
        "                        patience = 15,\n",
        "                        checkpoint_path='bidaf_baseline.pt')"
      ],
      "execution_count": null,
      "outputs": []
    },
    {
      "cell_type": "markdown",
      "metadata": {
        "id": "iklCzpYSu23m"
      },
      "source": [
        "# trying the constraint:"
      ]
    },
    {
      "cell_type": "code",
      "metadata": {
        "id": "evTYNkqTu23m"
      },
      "source": [
        "from model.bidaf import BiDAF\n",
        "from model.char_embedder import CharEmbedder\n",
        "from model.word_embedder import WordEmbedder\n",
        "from model.tensor_maker import TensorMaker\n",
        "\n",
        "char_embedder = CharEmbedder(init_emb = torch.FloatTensor(char_emb_mtx),\n",
        "                             out_char_emb_dim = emb_dim,\n",
        "                             hidden_dim = 64,\n",
        "                             input_channels = 1,\n",
        "                             output_channels = 100,\n",
        "                             kernel_height = 5,\n",
        "                             trainable = False)\n",
        "\n",
        "train_word_embedder = WordEmbedder(init_emb = torch.FloatTensor(train_emb_mtx))\n",
        "val_word_embedder = WordEmbedder(init_emb = torch.FloatTensor(val_emb_mtx))\n",
        "\n",
        "model_bidaf = BiDAF(char_embedder, train_word_embedder, val_word_embedder, use_constraint = True).to(DEVICE)\n",
        "\n",
        "train_tensor_maker = TensorMaker(train_w2i, c2i, device=DEVICE)\n",
        "val_tensor_maker = TensorMaker(val_w2i, c2i, device=DEVICE)"
      ],
      "execution_count": null,
      "outputs": []
    },
    {
      "cell_type": "code",
      "metadata": {
        "colab": {
          "referenced_widgets": [
            ""
          ]
        },
        "id": "xQCUCcqPu23n",
        "outputId": "7a0d7b51-1916-45bf-f374-23a820ef034a"
      },
      "source": [
        "from utils.bidaf_loss import bidaf_loss\n",
        "\n",
        "train_data = to_list_of_tuples((X_trainC, X_trainQ, Y_train))\n",
        "val_data = to_list_of_tuples((X_valC, X_valQ, Y_val))\n",
        "\n",
        "EP = 100\n",
        "BS = 32\n",
        "\n",
        "optimizer = torch.optim.Adam(model_bidaf.parameters(), lr=5e-3)\n",
        "#optimizer = torch.optim.Adadelta(model_bidaf.parameters(), lr=0.5, rho=0.999, eps=1e-06, weight_decay=0) # slower in time and in loss\n",
        "criterion = bidaf_loss\n",
        "\n",
        "history = training_loop(model=model_bidaf,\n",
        "                        train_data=train_data,\n",
        "                        optimizer=optimizer,\n",
        "                        epochs=EP,\n",
        "                        batch_size=BS,\n",
        "                        criterion=criterion,\n",
        "                        train_tensor_maker=train_tensor_maker,\n",
        "                        val_tensor_maker=val_tensor_maker,\n",
        "                        val_data=val_data,\n",
        "                        early_stopping=False,\n",
        "                        patience = 15,\n",
        "                        checkpoint_path='bidaf_baseline.pt')"
      ],
      "execution_count": null,
      "outputs": [
        {
          "output_type": "stream",
          "text": [
            "----------------------------------------------------------------------------------------------------\n",
            "Epoch 1/100\n"
          ],
          "name": "stdout"
        },
        {
          "output_type": "display_data",
          "data": {
            "application/vnd.jupyter.widget-view+json": {
              "model_id": "",
              "version_major": 2,
              "version_minor": 0
            },
            "text/plain": [
              "HBox(children=(HTML(value=''), FloatProgress(value=0.0, max=313.0), HTML(value='')))"
            ]
          },
          "metadata": {
            "tags": []
          }
        },
        {
          "output_type": "stream",
          "text": [
            "Start (p): 63, End (p): 12, Start (T): 44, End (T): 45\n",
            "\tLoss: 7.42227 - Distance start: 37 - Distance end: 37 [Time elapsed: 38.46 s]\n"
          ],
          "name": "stdout"
        },
        {
          "output_type": "display_data",
          "data": {
            "application/vnd.jupyter.widget-view+json": {
              "model_id": "",
              "version_major": 2,
              "version_minor": 0
            },
            "text/plain": [
              "HBox(children=(HTML(value=''), FloatProgress(value=0.0, max=94.0), HTML(value='')))"
            ]
          },
          "metadata": {
            "tags": []
          }
        },
        {
          "output_type": "stream",
          "text": [
            "Start (p): 24, End (p): 7, Start (T): 6, End (T): 7\n",
            "\tValidation loss: 6.91218 - Distance start: 35.00 - Distance end: 34.00 [Time elapsed: 4.29 s]\n",
            "----------------------------------------------------------------------------------------------------\n",
            "Epoch 2/100\n"
          ],
          "name": "stdout"
        },
        {
          "output_type": "display_data",
          "data": {
            "application/vnd.jupyter.widget-view+json": {
              "model_id": "",
              "version_major": 2,
              "version_minor": 0
            },
            "text/plain": [
              "HBox(children=(HTML(value=''), FloatProgress(value=0.0, max=313.0), HTML(value='')))"
            ]
          },
          "metadata": {
            "tags": []
          }
        },
        {
          "output_type": "stream",
          "text": [
            "Start (p): 69, End (p): 48, Start (T): 78, End (T): 81\n",
            "\tLoss: 6.51461 - Distance start: 35 - Distance end: 35 [Time elapsed: 37.54 s]\n"
          ],
          "name": "stdout"
        },
        {
          "output_type": "display_data",
          "data": {
            "application/vnd.jupyter.widget-view+json": {
              "model_id": "",
              "version_major": 2,
              "version_minor": 0
            },
            "text/plain": [
              "HBox(children=(HTML(value=''), FloatProgress(value=0.0, max=94.0), HTML(value='')))"
            ]
          },
          "metadata": {
            "tags": []
          }
        },
        {
          "output_type": "stream",
          "text": [
            "Start (p): 8, End (p): 8, Start (T): 164, End (T): 166\n",
            "\tValidation loss: 6.37157 - Distance start: 33.00 - Distance end: 34.00 [Time elapsed: 4.31 s]\n",
            "----------------------------------------------------------------------------------------------------\n",
            "Epoch 3/100\n"
          ],
          "name": "stdout"
        },
        {
          "output_type": "display_data",
          "data": {
            "application/vnd.jupyter.widget-view+json": {
              "model_id": "",
              "version_major": 2,
              "version_minor": 0
            },
            "text/plain": [
              "HBox(children=(HTML(value=''), FloatProgress(value=0.0, max=313.0), HTML(value='')))"
            ]
          },
          "metadata": {
            "tags": []
          }
        },
        {
          "output_type": "stream",
          "text": [
            "Start (p): 0, End (p): 157, Start (T): 153, End (T): 157\n",
            "\tLoss: 6.01479 - Distance start: 32 - Distance end: 33 [Time elapsed: 39.34 s]\n"
          ],
          "name": "stdout"
        },
        {
          "output_type": "display_data",
          "data": {
            "application/vnd.jupyter.widget-view+json": {
              "model_id": "",
              "version_major": 2,
              "version_minor": 0
            },
            "text/plain": [
              "HBox(children=(HTML(value=''), FloatProgress(value=0.0, max=94.0), HTML(value='')))"
            ]
          },
          "metadata": {
            "tags": []
          }
        },
        {
          "output_type": "stream",
          "text": [
            "Start (p): 80, End (p): 74, Start (T): 7, End (T): 7\n",
            "\tValidation loss: 6.10884 - Distance start: 32.00 - Distance end: 32.00 [Time elapsed: 4.32 s]\n",
            "----------------------------------------------------------------------------------------------------\n",
            "Epoch 4/100\n"
          ],
          "name": "stdout"
        },
        {
          "output_type": "display_data",
          "data": {
            "application/vnd.jupyter.widget-view+json": {
              "model_id": "",
              "version_major": 2,
              "version_minor": 0
            },
            "text/plain": [
              "HBox(children=(HTML(value=''), FloatProgress(value=0.0, max=313.0), HTML(value='')))"
            ]
          },
          "metadata": {
            "tags": []
          }
        },
        {
          "output_type": "stream",
          "text": [
            "Start (p): 37, End (p): 0, Start (T): 67, End (T): 68\n",
            "\tLoss: 5.73731 - Distance start: 32 - Distance end: 32 [Time elapsed: 39.90 s]\n"
          ],
          "name": "stdout"
        },
        {
          "output_type": "display_data",
          "data": {
            "application/vnd.jupyter.widget-view+json": {
              "model_id": "",
              "version_major": 2,
              "version_minor": 0
            },
            "text/plain": [
              "HBox(children=(HTML(value=''), FloatProgress(value=0.0, max=94.0), HTML(value='')))"
            ]
          },
          "metadata": {
            "tags": []
          }
        },
        {
          "output_type": "stream",
          "text": [
            "Start (p): 50, End (p): 7, Start (T): 6, End (T): 7\n",
            "\tValidation loss: 6.02686 - Distance start: 31.00 - Distance end: 31.00 [Time elapsed: 4.40 s]\n",
            "----------------------------------------------------------------------------------------------------\n",
            "Epoch 5/100\n"
          ],
          "name": "stdout"
        },
        {
          "output_type": "display_data",
          "data": {
            "application/vnd.jupyter.widget-view+json": {
              "model_id": "",
              "version_major": 2,
              "version_minor": 0
            },
            "text/plain": [
              "HBox(children=(HTML(value=''), FloatProgress(value=0.0, max=313.0), HTML(value='')))"
            ]
          },
          "metadata": {
            "tags": []
          }
        },
        {
          "output_type": "stream",
          "text": [
            "Start (p): 11, End (p): 46, Start (T): 21, End (T): 24\n",
            "\tLoss: 5.51322 - Distance start: 31 - Distance end: 31 [Time elapsed: 38.11 s]\n"
          ],
          "name": "stdout"
        },
        {
          "output_type": "display_data",
          "data": {
            "application/vnd.jupyter.widget-view+json": {
              "model_id": "",
              "version_major": 2,
              "version_minor": 0
            },
            "text/plain": [
              "HBox(children=(HTML(value=''), FloatProgress(value=0.0, max=94.0), HTML(value='')))"
            ]
          },
          "metadata": {
            "tags": []
          }
        },
        {
          "output_type": "stream",
          "text": [
            "Start (p): 162, End (p): 73, Start (T): 170, End (T): 174\n",
            "\tValidation loss: 5.94240 - Distance start: 31.00 - Distance end: 30.00 [Time elapsed: 4.40 s]\n",
            "----------------------------------------------------------------------------------------------------\n",
            "Epoch 6/100\n"
          ],
          "name": "stdout"
        },
        {
          "output_type": "display_data",
          "data": {
            "application/vnd.jupyter.widget-view+json": {
              "model_id": "",
              "version_major": 2,
              "version_minor": 0
            },
            "text/plain": [
              "HBox(children=(HTML(value=''), FloatProgress(value=0.0, max=313.0), HTML(value='')))"
            ]
          },
          "metadata": {
            "tags": []
          }
        },
        {
          "output_type": "stream",
          "text": [
            "Start (p): 58, End (p): 63, Start (T): 2, End (T): 3\n",
            "\tLoss: 5.32735 - Distance start: 30 - Distance end: 30 [Time elapsed: 38.83 s]\n"
          ],
          "name": "stdout"
        },
        {
          "output_type": "display_data",
          "data": {
            "application/vnd.jupyter.widget-view+json": {
              "model_id": "",
              "version_major": 2,
              "version_minor": 0
            },
            "text/plain": [
              "HBox(children=(HTML(value=''), FloatProgress(value=0.0, max=94.0), HTML(value='')))"
            ]
          },
          "metadata": {
            "tags": []
          }
        },
        {
          "output_type": "stream",
          "text": [
            "Start (p): 101, End (p): 103, Start (T): 85, End (T): 90\n",
            "\tValidation loss: 5.94092 - Distance start: 31.00 - Distance end: 31.00 [Time elapsed: 4.26 s]\n",
            "----------------------------------------------------------------------------------------------------\n",
            "Epoch 7/100\n"
          ],
          "name": "stdout"
        },
        {
          "output_type": "display_data",
          "data": {
            "application/vnd.jupyter.widget-view+json": {
              "model_id": "",
              "version_major": 2,
              "version_minor": 0
            },
            "text/plain": [
              "HBox(children=(HTML(value=''), FloatProgress(value=0.0, max=313.0), HTML(value='')))"
            ]
          },
          "metadata": {
            "tags": []
          }
        },
        {
          "output_type": "stream",
          "text": [
            "Start (p): 94, End (p): 17, Start (T): 94, End (T): 96\n",
            "\tLoss: 5.18314 - Distance start: 29 - Distance end: 30 [Time elapsed: 37.49 s]\n"
          ],
          "name": "stdout"
        },
        {
          "output_type": "display_data",
          "data": {
            "application/vnd.jupyter.widget-view+json": {
              "model_id": "",
              "version_major": 2,
              "version_minor": 0
            },
            "text/plain": [
              "HBox(children=(HTML(value=''), FloatProgress(value=0.0, max=94.0), HTML(value='')))"
            ]
          },
          "metadata": {
            "tags": []
          }
        },
        {
          "output_type": "stream",
          "text": [
            "Start (p): 67, End (p): 67, Start (T): 16, End (T): 16\n",
            "\tValidation loss: 5.98059 - Distance start: 31.00 - Distance end: 32.00 [Time elapsed: 4.68 s]\n",
            "----------------------------------------------------------------------------------------------------\n",
            "Epoch 8/100\n"
          ],
          "name": "stdout"
        },
        {
          "output_type": "display_data",
          "data": {
            "application/vnd.jupyter.widget-view+json": {
              "model_id": "",
              "version_major": 2,
              "version_minor": 0
            },
            "text/plain": [
              "HBox(children=(HTML(value=''), FloatProgress(value=0.0, max=313.0), HTML(value='')))"
            ]
          },
          "metadata": {
            "tags": []
          }
        },
        {
          "output_type": "stream",
          "text": [
            "Start (p): 15, End (p): 52, Start (T): 35, End (T): 37\n",
            "\tLoss: 5.05100 - Distance start: 29 - Distance end: 29 [Time elapsed: 37.86 s]\n"
          ],
          "name": "stdout"
        },
        {
          "output_type": "display_data",
          "data": {
            "application/vnd.jupyter.widget-view+json": {
              "model_id": "",
              "version_major": 2,
              "version_minor": 0
            },
            "text/plain": [
              "HBox(children=(HTML(value=''), FloatProgress(value=0.0, max=94.0), HTML(value='')))"
            ]
          },
          "metadata": {
            "tags": []
          }
        },
        {
          "output_type": "stream",
          "text": [
            "Start (p): 6, End (p): 6, Start (T): 19, End (T): 20\n",
            "\tValidation loss: 5.91313 - Distance start: 31.00 - Distance end: 30.00 [Time elapsed: 4.27 s]\n",
            "----------------------------------------------------------------------------------------------------\n",
            "Epoch 9/100\n"
          ],
          "name": "stdout"
        },
        {
          "output_type": "display_data",
          "data": {
            "application/vnd.jupyter.widget-view+json": {
              "model_id": "",
              "version_major": 2,
              "version_minor": 0
            },
            "text/plain": [
              "HBox(children=(HTML(value=''), FloatProgress(value=0.0, max=313.0), HTML(value='')))"
            ]
          },
          "metadata": {
            "tags": []
          }
        },
        {
          "output_type": "stream",
          "text": [
            "Start (p): 33, End (p): 133, Start (T): 75, End (T): 75\n",
            "\tLoss: 4.92137 - Distance start: 28 - Distance end: 28 [Time elapsed: 39.04 s]\n"
          ],
          "name": "stdout"
        },
        {
          "output_type": "display_data",
          "data": {
            "application/vnd.jupyter.widget-view+json": {
              "model_id": "",
              "version_major": 2,
              "version_minor": 0
            },
            "text/plain": [
              "HBox(children=(HTML(value=''), FloatProgress(value=0.0, max=94.0), HTML(value='')))"
            ]
          },
          "metadata": {
            "tags": []
          }
        },
        {
          "output_type": "stream",
          "text": [
            "Start (p): 22, End (p): 11, Start (T): 30, End (T): 32\n",
            "\tValidation loss: 5.98115 - Distance start: 31.00 - Distance end: 30.00 [Time elapsed: 4.42 s]\n",
            "----------------------------------------------------------------------------------------------------\n",
            "Epoch 10/100\n"
          ],
          "name": "stdout"
        },
        {
          "output_type": "display_data",
          "data": {
            "application/vnd.jupyter.widget-view+json": {
              "model_id": "",
              "version_major": 2,
              "version_minor": 0
            },
            "text/plain": [
              "HBox(children=(HTML(value=''), FloatProgress(value=0.0, max=313.0), HTML(value='')))"
            ]
          },
          "metadata": {
            "tags": []
          }
        },
        {
          "output_type": "stream",
          "text": [
            "Start (p): 62, End (p): 67, Start (T): 95, End (T): 96\n",
            "\tLoss: 4.81633 - Distance start: 27 - Distance end: 28 [Time elapsed: 37.58 s]\n"
          ],
          "name": "stdout"
        },
        {
          "output_type": "display_data",
          "data": {
            "application/vnd.jupyter.widget-view+json": {
              "model_id": "",
              "version_major": 2,
              "version_minor": 0
            },
            "text/plain": [
              "HBox(children=(HTML(value=''), FloatProgress(value=0.0, max=94.0), HTML(value='')))"
            ]
          },
          "metadata": {
            "tags": []
          }
        },
        {
          "output_type": "stream",
          "text": [
            "Start (p): 20, End (p): 20, Start (T): 20, End (T): 22\n",
            "\tValidation loss: 6.10372 - Distance start: 30.00 - Distance end: 31.00 [Time elapsed: 5.27 s]\n",
            "----------------------------------------------------------------------------------------------------\n",
            "Epoch 11/100\n"
          ],
          "name": "stdout"
        },
        {
          "output_type": "display_data",
          "data": {
            "application/vnd.jupyter.widget-view+json": {
              "model_id": "",
              "version_major": 2,
              "version_minor": 0
            },
            "text/plain": [
              "HBox(children=(HTML(value=''), FloatProgress(value=0.0, max=313.0), HTML(value='')))"
            ]
          },
          "metadata": {
            "tags": []
          }
        },
        {
          "output_type": "stream",
          "text": [
            "Start (p): 8, End (p): 9, Start (T): 16, End (T): 16\n",
            "\tLoss: 4.72776 - Distance start: 27 - Distance end: 27 [Time elapsed: 38.55 s]\n"
          ],
          "name": "stdout"
        },
        {
          "output_type": "display_data",
          "data": {
            "application/vnd.jupyter.widget-view+json": {
              "model_id": "",
              "version_major": 2,
              "version_minor": 0
            },
            "text/plain": [
              "HBox(children=(HTML(value=''), FloatProgress(value=0.0, max=94.0), HTML(value='')))"
            ]
          },
          "metadata": {
            "tags": []
          }
        },
        {
          "output_type": "stream",
          "text": [
            "Start (p): 0, End (p): 2, Start (T): 0, End (T): 2\n",
            "\tValidation loss: 6.05534 - Distance start: 30.00 - Distance end: 31.00 [Time elapsed: 4.23 s]\n",
            "----------------------------------------------------------------------------------------------------\n",
            "Epoch 12/100\n"
          ],
          "name": "stdout"
        },
        {
          "output_type": "display_data",
          "data": {
            "application/vnd.jupyter.widget-view+json": {
              "model_id": "",
              "version_major": 2,
              "version_minor": 0
            },
            "text/plain": [
              "HBox(children=(HTML(value=''), FloatProgress(value=0.0, max=313.0), HTML(value='')))"
            ]
          },
          "metadata": {
            "tags": []
          }
        },
        {
          "output_type": "stream",
          "text": [
            "Start (p): 197, End (p): 11, Start (T): 97, End (T): 98\n",
            "\tLoss: 4.58720 - Distance start: 26 - Distance end: 26 [Time elapsed: 38.27 s]\n"
          ],
          "name": "stdout"
        },
        {
          "output_type": "display_data",
          "data": {
            "application/vnd.jupyter.widget-view+json": {
              "model_id": "",
              "version_major": 2,
              "version_minor": 0
            },
            "text/plain": [
              "HBox(children=(HTML(value=''), FloatProgress(value=0.0, max=94.0), HTML(value='')))"
            ]
          },
          "metadata": {
            "tags": []
          }
        },
        {
          "output_type": "stream",
          "text": [
            "Start (p): 39, End (p): 39, Start (T): 35, End (T): 36\n",
            "\tValidation loss: 6.21304 - Distance start: 30.00 - Distance end: 31.00 [Time elapsed: 4.34 s]\n",
            "----------------------------------------------------------------------------------------------------\n",
            "Epoch 13/100\n"
          ],
          "name": "stdout"
        },
        {
          "output_type": "display_data",
          "data": {
            "application/vnd.jupyter.widget-view+json": {
              "model_id": "",
              "version_major": 2,
              "version_minor": 0
            },
            "text/plain": [
              "HBox(children=(HTML(value=''), FloatProgress(value=0.0, max=313.0), HTML(value='')))"
            ]
          },
          "metadata": {
            "tags": []
          }
        },
        {
          "output_type": "stream",
          "text": [
            "Start (p): 92, End (p): 93, Start (T): 92, End (T): 93\n",
            "\tLoss: 4.47760 - Distance start: 25 - Distance end: 26 [Time elapsed: 37.66 s]\n"
          ],
          "name": "stdout"
        },
        {
          "output_type": "display_data",
          "data": {
            "application/vnd.jupyter.widget-view+json": {
              "model_id": "",
              "version_major": 2,
              "version_minor": 0
            },
            "text/plain": [
              "HBox(children=(HTML(value=''), FloatProgress(value=0.0, max=94.0), HTML(value='')))"
            ]
          },
          "metadata": {
            "tags": []
          }
        },
        {
          "output_type": "stream",
          "text": [
            "Start (p): 3, End (p): 22, Start (T): 285, End (T): 286\n",
            "\tValidation loss: 6.28650 - Distance start: 30.00 - Distance end: 31.00 [Time elapsed: 4.54 s]\n",
            "----------------------------------------------------------------------------------------------------\n",
            "Epoch 14/100\n"
          ],
          "name": "stdout"
        },
        {
          "output_type": "display_data",
          "data": {
            "application/vnd.jupyter.widget-view+json": {
              "model_id": "",
              "version_major": 2,
              "version_minor": 0
            },
            "text/plain": [
              "HBox(children=(HTML(value=''), FloatProgress(value=0.0, max=313.0), HTML(value='')))"
            ]
          },
          "metadata": {
            "tags": []
          }
        },
        {
          "output_type": "stream",
          "text": [
            "Start (p): 75, End (p): 75, Start (T): 75, End (T): 75\n",
            "\tLoss: 4.36108 - Distance start: 24 - Distance end: 25 [Time elapsed: 37.70 s]\n"
          ],
          "name": "stdout"
        },
        {
          "output_type": "display_data",
          "data": {
            "application/vnd.jupyter.widget-view+json": {
              "model_id": "",
              "version_major": 2,
              "version_minor": 0
            },
            "text/plain": [
              "HBox(children=(HTML(value=''), FloatProgress(value=0.0, max=94.0), HTML(value='')))"
            ]
          },
          "metadata": {
            "tags": []
          }
        },
        {
          "output_type": "stream",
          "text": [
            "Start (p): 27, End (p): 98, Start (T): 0, End (T): 1\n",
            "\tValidation loss: 6.13653 - Distance start: 30.00 - Distance end: 30.00 [Time elapsed: 4.24 s]\n",
            "----------------------------------------------------------------------------------------------------\n",
            "Epoch 15/100\n"
          ],
          "name": "stdout"
        },
        {
          "output_type": "display_data",
          "data": {
            "application/vnd.jupyter.widget-view+json": {
              "model_id": "",
              "version_major": 2,
              "version_minor": 0
            },
            "text/plain": [
              "HBox(children=(HTML(value=''), FloatProgress(value=0.0, max=313.0), HTML(value='')))"
            ]
          },
          "metadata": {
            "tags": []
          }
        },
        {
          "output_type": "stream",
          "text": [
            "Start (p): 21, End (p): 16, Start (T): 37, End (T): 38\n",
            "\tLoss: 4.25177 - Distance start: 24 - Distance end: 24 [Time elapsed: 37.46 s]\n"
          ],
          "name": "stdout"
        },
        {
          "output_type": "display_data",
          "data": {
            "application/vnd.jupyter.widget-view+json": {
              "model_id": "",
              "version_major": 2,
              "version_minor": 0
            },
            "text/plain": [
              "HBox(children=(HTML(value=''), FloatProgress(value=0.0, max=94.0), HTML(value='')))"
            ]
          },
          "metadata": {
            "tags": []
          }
        },
        {
          "output_type": "stream",
          "text": [
            "Start (p): 107, End (p): 4, Start (T): 107, End (T): 108\n",
            "\tValidation loss: 6.23767 - Distance start: 29.00 - Distance end: 29.00 [Time elapsed: 4.38 s]\n",
            "----------------------------------------------------------------------------------------------------\n",
            "Epoch 16/100\n"
          ],
          "name": "stdout"
        },
        {
          "output_type": "display_data",
          "data": {
            "application/vnd.jupyter.widget-view+json": {
              "model_id": "",
              "version_major": 2,
              "version_minor": 0
            },
            "text/plain": [
              "HBox(children=(HTML(value=''), FloatProgress(value=0.0, max=313.0), HTML(value='')))"
            ]
          },
          "metadata": {
            "tags": []
          }
        },
        {
          "output_type": "stream",
          "text": [
            "Start (p): 87, End (p): 104, Start (T): 87, End (T): 90\n",
            "\tLoss: 4.15755 - Distance start: 23 - Distance end: 23 [Time elapsed: 37.09 s]\n"
          ],
          "name": "stdout"
        },
        {
          "output_type": "display_data",
          "data": {
            "application/vnd.jupyter.widget-view+json": {
              "model_id": "",
              "version_major": 2,
              "version_minor": 0
            },
            "text/plain": [
              "HBox(children=(HTML(value=''), FloatProgress(value=0.0, max=94.0), HTML(value='')))"
            ]
          },
          "metadata": {
            "tags": []
          }
        },
        {
          "output_type": "stream",
          "text": [
            "Start (p): 39, End (p): 39, Start (T): 7, End (T): 9\n",
            "\tValidation loss: 6.35253 - Distance start: 29.00 - Distance end: 30.00 [Time elapsed: 4.36 s]\n",
            "----------------------------------------------------------------------------------------------------\n",
            "Epoch 17/100\n"
          ],
          "name": "stdout"
        },
        {
          "output_type": "display_data",
          "data": {
            "application/vnd.jupyter.widget-view+json": {
              "model_id": "",
              "version_major": 2,
              "version_minor": 0
            },
            "text/plain": [
              "HBox(children=(HTML(value=''), FloatProgress(value=0.0, max=313.0), HTML(value='')))"
            ]
          },
          "metadata": {
            "tags": []
          }
        },
        {
          "output_type": "stream",
          "text": [
            "Start (p): 15, End (p): 22, Start (T): 15, End (T): 16\n",
            "\tLoss: 4.07084 - Distance start: 22 - Distance end: 23 [Time elapsed: 37.87 s]\n"
          ],
          "name": "stdout"
        },
        {
          "output_type": "display_data",
          "data": {
            "application/vnd.jupyter.widget-view+json": {
              "model_id": "",
              "version_major": 2,
              "version_minor": 0
            },
            "text/plain": [
              "HBox(children=(HTML(value=''), FloatProgress(value=0.0, max=94.0), HTML(value='')))"
            ]
          },
          "metadata": {
            "tags": []
          }
        },
        {
          "output_type": "stream",
          "text": [
            "Start (p): 168, End (p): 217, Start (T): 86, End (T): 87\n",
            "\tValidation loss: 6.34025 - Distance start: 28.00 - Distance end: 29.00 [Time elapsed: 4.31 s]\n",
            "----------------------------------------------------------------------------------------------------\n",
            "Epoch 18/100\n"
          ],
          "name": "stdout"
        },
        {
          "output_type": "display_data",
          "data": {
            "application/vnd.jupyter.widget-view+json": {
              "model_id": "",
              "version_major": 2,
              "version_minor": 0
            },
            "text/plain": [
              "HBox(children=(HTML(value=''), FloatProgress(value=0.0, max=313.0), HTML(value='')))"
            ]
          },
          "metadata": {
            "tags": []
          }
        },
        {
          "output_type": "stream",
          "text": [
            "Start (p): 14, End (p): 7, Start (T): 82, End (T): 86\n",
            "\tLoss: 3.93661 - Distance start: 22 - Distance end: 22 [Time elapsed: 37.21 s]\n"
          ],
          "name": "stdout"
        },
        {
          "output_type": "display_data",
          "data": {
            "application/vnd.jupyter.widget-view+json": {
              "model_id": "",
              "version_major": 2,
              "version_minor": 0
            },
            "text/plain": [
              "HBox(children=(HTML(value=''), FloatProgress(value=0.0, max=94.0), HTML(value='')))"
            ]
          },
          "metadata": {
            "tags": []
          }
        },
        {
          "output_type": "stream",
          "text": [
            "Start (p): 142, End (p): 166, Start (T): 222, End (T): 223\n",
            "\tValidation loss: 6.45766 - Distance start: 29.00 - Distance end: 30.00 [Time elapsed: 4.23 s]\n",
            "----------------------------------------------------------------------------------------------------\n",
            "Epoch 19/100\n"
          ],
          "name": "stdout"
        },
        {
          "output_type": "display_data",
          "data": {
            "application/vnd.jupyter.widget-view+json": {
              "model_id": "",
              "version_major": 2,
              "version_minor": 0
            },
            "text/plain": [
              "HBox(children=(HTML(value=''), FloatProgress(value=0.0, max=313.0), HTML(value='')))"
            ]
          },
          "metadata": {
            "tags": []
          }
        },
        {
          "output_type": "stream",
          "text": [
            "Start (p): 55, End (p): 61, Start (T): 55, End (T): 61\n",
            "\tLoss: 3.82730 - Distance start: 21 - Distance end: 21 [Time elapsed: 36.76 s]\n"
          ],
          "name": "stdout"
        },
        {
          "output_type": "display_data",
          "data": {
            "application/vnd.jupyter.widget-view+json": {
              "model_id": "",
              "version_major": 2,
              "version_minor": 0
            },
            "text/plain": [
              "HBox(children=(HTML(value=''), FloatProgress(value=0.0, max=94.0), HTML(value='')))"
            ]
          },
          "metadata": {
            "tags": []
          }
        },
        {
          "output_type": "stream",
          "text": [
            "Start (p): 14, End (p): 95, Start (T): 14, End (T): 18\n",
            "\tValidation loss: 6.39434 - Distance start: 29.00 - Distance end: 29.00 [Time elapsed: 4.31 s]\n",
            "----------------------------------------------------------------------------------------------------\n",
            "Epoch 20/100\n"
          ],
          "name": "stdout"
        },
        {
          "output_type": "display_data",
          "data": {
            "application/vnd.jupyter.widget-view+json": {
              "model_id": "",
              "version_major": 2,
              "version_minor": 0
            },
            "text/plain": [
              "HBox(children=(HTML(value=''), FloatProgress(value=0.0, max=313.0), HTML(value='')))"
            ]
          },
          "metadata": {
            "tags": []
          }
        },
        {
          "output_type": "stream",
          "text": [
            "Start (p): 71, End (p): 5, Start (T): 70, End (T): 76\n",
            "\tLoss: 3.75526 - Distance start: 20 - Distance end: 20 [Time elapsed: 37.09 s]\n"
          ],
          "name": "stdout"
        },
        {
          "output_type": "display_data",
          "data": {
            "application/vnd.jupyter.widget-view+json": {
              "model_id": "",
              "version_major": 2,
              "version_minor": 0
            },
            "text/plain": [
              "HBox(children=(HTML(value=''), FloatProgress(value=0.0, max=94.0), HTML(value='')))"
            ]
          },
          "metadata": {
            "tags": []
          }
        },
        {
          "output_type": "stream",
          "text": [
            "Start (p): 40, End (p): 56, Start (T): 43, End (T): 43\n",
            "\tValidation loss: 6.51294 - Distance start: 28.00 - Distance end: 28.00 [Time elapsed: 4.29 s]\n",
            "----------------------------------------------------------------------------------------------------\n",
            "Epoch 21/100\n"
          ],
          "name": "stdout"
        },
        {
          "output_type": "display_data",
          "data": {
            "application/vnd.jupyter.widget-view+json": {
              "model_id": "",
              "version_major": 2,
              "version_minor": 0
            },
            "text/plain": [
              "HBox(children=(HTML(value=''), FloatProgress(value=0.0, max=313.0), HTML(value='')))"
            ]
          },
          "metadata": {
            "tags": []
          }
        },
        {
          "output_type": "stream",
          "text": [
            "Start (p): 34, End (p): 34, Start (T): 34, End (T): 34\n",
            "\tLoss: 3.65886 - Distance start: 19 - Distance end: 20 [Time elapsed: 36.95 s]\n"
          ],
          "name": "stdout"
        },
        {
          "output_type": "display_data",
          "data": {
            "application/vnd.jupyter.widget-view+json": {
              "model_id": "",
              "version_major": 2,
              "version_minor": 0
            },
            "text/plain": [
              "HBox(children=(HTML(value=''), FloatProgress(value=0.0, max=94.0), HTML(value='')))"
            ]
          },
          "metadata": {
            "tags": []
          }
        },
        {
          "output_type": "stream",
          "text": [
            "Start (p): 73, End (p): 85, Start (T): 92, End (T): 95\n",
            "\tValidation loss: 6.73524 - Distance start: 28.00 - Distance end: 29.00 [Time elapsed: 4.29 s]\n",
            "----------------------------------------------------------------------------------------------------\n",
            "Epoch 22/100\n"
          ],
          "name": "stdout"
        },
        {
          "output_type": "display_data",
          "data": {
            "application/vnd.jupyter.widget-view+json": {
              "model_id": "",
              "version_major": 2,
              "version_minor": 0
            },
            "text/plain": [
              "HBox(children=(HTML(value=''), FloatProgress(value=0.0, max=313.0), HTML(value='')))"
            ]
          },
          "metadata": {
            "tags": []
          }
        },
        {
          "output_type": "stream",
          "text": [
            "Start (p): 78, End (p): 47, Start (T): 43, End (T): 47\n",
            "\tLoss: 3.60113 - Distance start: 18 - Distance end: 19 [Time elapsed: 37.98 s]\n"
          ],
          "name": "stdout"
        },
        {
          "output_type": "display_data",
          "data": {
            "application/vnd.jupyter.widget-view+json": {
              "model_id": "",
              "version_major": 2,
              "version_minor": 0
            },
            "text/plain": [
              "HBox(children=(HTML(value=''), FloatProgress(value=0.0, max=94.0), HTML(value='')))"
            ]
          },
          "metadata": {
            "tags": []
          }
        },
        {
          "output_type": "stream",
          "text": [
            "Start (p): 89, End (p): 115, Start (T): 115, End (T): 115\n",
            "\tValidation loss: 6.66550 - Distance start: 28.00 - Distance end: 28.00 [Time elapsed: 4.39 s]\n",
            "----------------------------------------------------------------------------------------------------\n",
            "Epoch 23/100\n"
          ],
          "name": "stdout"
        },
        {
          "output_type": "display_data",
          "data": {
            "application/vnd.jupyter.widget-view+json": {
              "model_id": "",
              "version_major": 2,
              "version_minor": 0
            },
            "text/plain": [
              "HBox(children=(HTML(value=''), FloatProgress(value=0.0, max=313.0), HTML(value='')))"
            ]
          },
          "metadata": {
            "tags": []
          }
        },
        {
          "output_type": "stream",
          "text": [
            "Start (p): 116, End (p): 117, Start (T): 39, End (T): 45\n",
            "\tLoss: 3.46509 - Distance start: 18 - Distance end: 19 [Time elapsed: 37.89 s]\n"
          ],
          "name": "stdout"
        },
        {
          "output_type": "display_data",
          "data": {
            "application/vnd.jupyter.widget-view+json": {
              "model_id": "",
              "version_major": 2,
              "version_minor": 0
            },
            "text/plain": [
              "HBox(children=(HTML(value=''), FloatProgress(value=0.0, max=94.0), HTML(value='')))"
            ]
          },
          "metadata": {
            "tags": []
          }
        },
        {
          "output_type": "stream",
          "text": [
            "Start (p): 8, End (p): 10, Start (T): 18, End (T): 21\n",
            "\tValidation loss: 6.80176 - Distance start: 28.00 - Distance end: 28.00 [Time elapsed: 4.42 s]\n",
            "----------------------------------------------------------------------------------------------------\n",
            "Epoch 24/100\n"
          ],
          "name": "stdout"
        },
        {
          "output_type": "display_data",
          "data": {
            "application/vnd.jupyter.widget-view+json": {
              "model_id": "",
              "version_major": 2,
              "version_minor": 0
            },
            "text/plain": [
              "HBox(children=(HTML(value=''), FloatProgress(value=0.0, max=313.0), HTML(value='')))"
            ]
          },
          "metadata": {
            "tags": []
          }
        },
        {
          "output_type": "stream",
          "text": [
            "Start (p): 6, End (p): 7, Start (T): 6, End (T): 7\n",
            "\tLoss: 3.37340 - Distance start: 17 - Distance end: 18 [Time elapsed: 37.20 s]\n"
          ],
          "name": "stdout"
        },
        {
          "output_type": "display_data",
          "data": {
            "application/vnd.jupyter.widget-view+json": {
              "model_id": "",
              "version_major": 2,
              "version_minor": 0
            },
            "text/plain": [
              "HBox(children=(HTML(value=''), FloatProgress(value=0.0, max=94.0), HTML(value='')))"
            ]
          },
          "metadata": {
            "tags": []
          }
        },
        {
          "output_type": "stream",
          "text": [
            "Start (p): 20, End (p): 15, Start (T): 20, End (T): 21\n",
            "\tValidation loss: 6.87631 - Distance start: 28.00 - Distance end: 27.00 [Time elapsed: 4.44 s]\n",
            "----------------------------------------------------------------------------------------------------\n",
            "Epoch 25/100\n"
          ],
          "name": "stdout"
        },
        {
          "output_type": "display_data",
          "data": {
            "application/vnd.jupyter.widget-view+json": {
              "model_id": "",
              "version_major": 2,
              "version_minor": 0
            },
            "text/plain": [
              "HBox(children=(HTML(value=''), FloatProgress(value=0.0, max=313.0), HTML(value='')))"
            ]
          },
          "metadata": {
            "tags": []
          }
        },
        {
          "output_type": "stream",
          "text": [
            "Start (p): 45, End (p): 46, Start (T): 45, End (T): 46\n",
            "\tLoss: 3.33373 - Distance start: 17 - Distance end: 17 [Time elapsed: 37.62 s]\n"
          ],
          "name": "stdout"
        },
        {
          "output_type": "display_data",
          "data": {
            "application/vnd.jupyter.widget-view+json": {
              "model_id": "",
              "version_major": 2,
              "version_minor": 0
            },
            "text/plain": [
              "HBox(children=(HTML(value=''), FloatProgress(value=0.0, max=94.0), HTML(value='')))"
            ]
          },
          "metadata": {
            "tags": []
          }
        },
        {
          "output_type": "stream",
          "text": [
            "Start (p): 8, End (p): 9, Start (T): 8, End (T): 9\n",
            "\tValidation loss: 7.00159 - Distance start: 27.00 - Distance end: 28.00 [Time elapsed: 4.25 s]\n",
            "----------------------------------------------------------------------------------------------------\n",
            "Epoch 26/100\n"
          ],
          "name": "stdout"
        },
        {
          "output_type": "display_data",
          "data": {
            "application/vnd.jupyter.widget-view+json": {
              "model_id": "",
              "version_major": 2,
              "version_minor": 0
            },
            "text/plain": [
              "HBox(children=(HTML(value=''), FloatProgress(value=0.0, max=313.0), HTML(value='')))"
            ]
          },
          "metadata": {
            "tags": []
          }
        },
        {
          "output_type": "stream",
          "text": [
            "Start (p): 171, End (p): 174, Start (T): 171, End (T): 174\n",
            "\tLoss: 3.20449 - Distance start: 16 - Distance end: 17 [Time elapsed: 36.76 s]\n"
          ],
          "name": "stdout"
        },
        {
          "output_type": "display_data",
          "data": {
            "application/vnd.jupyter.widget-view+json": {
              "model_id": "",
              "version_major": 2,
              "version_minor": 0
            },
            "text/plain": [
              "HBox(children=(HTML(value=''), FloatProgress(value=0.0, max=94.0), HTML(value='')))"
            ]
          },
          "metadata": {
            "tags": []
          }
        },
        {
          "output_type": "stream",
          "text": [
            "Start (p): 24, End (p): 57, Start (T): 72, End (T): 76\n",
            "\tValidation loss: 7.21653 - Distance start: 28.00 - Distance end: 28.00 [Time elapsed: 4.29 s]\n",
            "----------------------------------------------------------------------------------------------------\n",
            "Epoch 27/100\n"
          ],
          "name": "stdout"
        },
        {
          "output_type": "display_data",
          "data": {
            "application/vnd.jupyter.widget-view+json": {
              "model_id": "",
              "version_major": 2,
              "version_minor": 0
            },
            "text/plain": [
              "HBox(children=(HTML(value=''), FloatProgress(value=0.0, max=313.0), HTML(value='')))"
            ]
          },
          "metadata": {
            "tags": []
          }
        },
        {
          "output_type": "stream",
          "text": [
            "Start (p): 74, End (p): 102, Start (T): 128, End (T): 142\n",
            "\tLoss: 3.12926 - Distance start: 16 - Distance end: 16 [Time elapsed: 36.81 s]\n"
          ],
          "name": "stdout"
        },
        {
          "output_type": "display_data",
          "data": {
            "application/vnd.jupyter.widget-view+json": {
              "model_id": "",
              "version_major": 2,
              "version_minor": 0
            },
            "text/plain": [
              "HBox(children=(HTML(value=''), FloatProgress(value=0.0, max=94.0), HTML(value='')))"
            ]
          },
          "metadata": {
            "tags": []
          }
        },
        {
          "output_type": "stream",
          "text": [
            "Start (p): 71, End (p): 72, Start (T): 36, End (T): 37\n",
            "\tValidation loss: 7.20481 - Distance start: 27.00 - Distance end: 27.00 [Time elapsed: 4.29 s]\n",
            "----------------------------------------------------------------------------------------------------\n",
            "Epoch 28/100\n"
          ],
          "name": "stdout"
        },
        {
          "output_type": "display_data",
          "data": {
            "application/vnd.jupyter.widget-view+json": {
              "model_id": "",
              "version_major": 2,
              "version_minor": 0
            },
            "text/plain": [
              "HBox(children=(HTML(value=''), FloatProgress(value=0.0, max=313.0), HTML(value='')))"
            ]
          },
          "metadata": {
            "tags": []
          }
        },
        {
          "output_type": "stream",
          "text": [
            "Start (p): 109, End (p): 111, Start (T): 109, End (T): 111\n",
            "\tLoss: 3.04503 - Distance start: 15 - Distance end: 15 [Time elapsed: 38.17 s]\n"
          ],
          "name": "stdout"
        },
        {
          "output_type": "display_data",
          "data": {
            "application/vnd.jupyter.widget-view+json": {
              "model_id": "",
              "version_major": 2,
              "version_minor": 0
            },
            "text/plain": [
              "HBox(children=(HTML(value=''), FloatProgress(value=0.0, max=94.0), HTML(value='')))"
            ]
          },
          "metadata": {
            "tags": []
          }
        },
        {
          "output_type": "stream",
          "text": [
            "Start (p): 25, End (p): 18, Start (T): 18, End (T): 18\n",
            "\tValidation loss: 7.28798 - Distance start: 27.00 - Distance end: 28.00 [Time elapsed: 4.52 s]\n",
            "----------------------------------------------------------------------------------------------------\n",
            "Epoch 29/100\n"
          ],
          "name": "stdout"
        },
        {
          "output_type": "display_data",
          "data": {
            "application/vnd.jupyter.widget-view+json": {
              "model_id": "",
              "version_major": 2,
              "version_minor": 0
            },
            "text/plain": [
              "HBox(children=(HTML(value=''), FloatProgress(value=0.0, max=313.0), HTML(value='')))"
            ]
          },
          "metadata": {
            "tags": []
          }
        },
        {
          "output_type": "stream",
          "text": [
            "Start (p): 20, End (p): 72, Start (T): 61, End (T): 99\n",
            "\tLoss: 3.02534 - Distance start: 15 - Distance end: 15 [Time elapsed: 36.96 s]\n"
          ],
          "name": "stdout"
        },
        {
          "output_type": "display_data",
          "data": {
            "application/vnd.jupyter.widget-view+json": {
              "model_id": "",
              "version_major": 2,
              "version_minor": 0
            },
            "text/plain": [
              "HBox(children=(HTML(value=''), FloatProgress(value=0.0, max=94.0), HTML(value='')))"
            ]
          },
          "metadata": {
            "tags": []
          }
        },
        {
          "output_type": "stream",
          "text": [
            "Start (p): 66, End (p): 66, Start (T): 68, End (T): 69\n",
            "\tValidation loss: 7.37624 - Distance start: 27.00 - Distance end: 27.00 [Time elapsed: 4.27 s]\n",
            "----------------------------------------------------------------------------------------------------\n",
            "Epoch 30/100\n"
          ],
          "name": "stdout"
        },
        {
          "output_type": "display_data",
          "data": {
            "application/vnd.jupyter.widget-view+json": {
              "model_id": "",
              "version_major": 2,
              "version_minor": 0
            },
            "text/plain": [
              "HBox(children=(HTML(value=''), FloatProgress(value=0.0, max=313.0), HTML(value='')))"
            ]
          },
          "metadata": {
            "tags": []
          }
        },
        {
          "output_type": "stream",
          "text": [
            "Start (p): 8, End (p): 20, Start (T): 19, End (T): 20\n",
            "\tLoss: 2.90084 - Distance start: 14 - Distance end: 14 [Time elapsed: 36.86 s]\n"
          ],
          "name": "stdout"
        },
        {
          "output_type": "display_data",
          "data": {
            "application/vnd.jupyter.widget-view+json": {
              "model_id": "",
              "version_major": 2,
              "version_minor": 0
            },
            "text/plain": [
              "HBox(children=(HTML(value=''), FloatProgress(value=0.0, max=94.0), HTML(value='')))"
            ]
          },
          "metadata": {
            "tags": []
          }
        },
        {
          "output_type": "stream",
          "text": [
            "Start (p): 3, End (p): 4, Start (T): 3, End (T): 4\n",
            "\tValidation loss: 7.26476 - Distance start: 27.00 - Distance end: 27.00 [Time elapsed: 4.25 s]\n",
            "----------------------------------------------------------------------------------------------------\n",
            "Epoch 31/100\n"
          ],
          "name": "stdout"
        },
        {
          "output_type": "display_data",
          "data": {
            "application/vnd.jupyter.widget-view+json": {
              "model_id": "",
              "version_major": 2,
              "version_minor": 0
            },
            "text/plain": [
              "HBox(children=(HTML(value=''), FloatProgress(value=0.0, max=313.0), HTML(value='')))"
            ]
          },
          "metadata": {
            "tags": []
          }
        },
        {
          "output_type": "stream",
          "text": [
            "Start (p): 59, End (p): 10, Start (T): 0, End (T): 2\n",
            "\tLoss: 2.84489 - Distance start: 14 - Distance end: 13 [Time elapsed: 37.85 s]\n"
          ],
          "name": "stdout"
        },
        {
          "output_type": "display_data",
          "data": {
            "application/vnd.jupyter.widget-view+json": {
              "model_id": "",
              "version_major": 2,
              "version_minor": 0
            },
            "text/plain": [
              "HBox(children=(HTML(value=''), FloatProgress(value=0.0, max=94.0), HTML(value='')))"
            ]
          },
          "metadata": {
            "tags": []
          }
        },
        {
          "output_type": "stream",
          "text": [
            "Start (p): 45, End (p): 30, Start (T): 50, End (T): 50\n",
            "\tValidation loss: 7.39872 - Distance start: 26.00 - Distance end: 26.00 [Time elapsed: 4.58 s]\n",
            "----------------------------------------------------------------------------------------------------\n",
            "Epoch 32/100\n"
          ],
          "name": "stdout"
        },
        {
          "output_type": "display_data",
          "data": {
            "application/vnd.jupyter.widget-view+json": {
              "model_id": "",
              "version_major": 2,
              "version_minor": 0
            },
            "text/plain": [
              "HBox(children=(HTML(value=''), FloatProgress(value=0.0, max=313.0), HTML(value='')))"
            ]
          },
          "metadata": {
            "tags": []
          }
        },
        {
          "output_type": "stream",
          "text": [
            "Start (p): 41, End (p): 50, Start (T): 18, End (T): 19\n",
            "\tLoss: 2.80150 - Distance start: 13 - Distance end: 14 [Time elapsed: 38.44 s]\n"
          ],
          "name": "stdout"
        },
        {
          "output_type": "display_data",
          "data": {
            "application/vnd.jupyter.widget-view+json": {
              "model_id": "",
              "version_major": 2,
              "version_minor": 0
            },
            "text/plain": [
              "HBox(children=(HTML(value=''), FloatProgress(value=0.0, max=94.0), HTML(value='')))"
            ]
          },
          "metadata": {
            "tags": []
          }
        },
        {
          "output_type": "stream",
          "text": [
            "Start (p): 20, End (p): 65, Start (T): 40, End (T): 42\n",
            "\tValidation loss: 7.52541 - Distance start: 27.00 - Distance end: 26.00 [Time elapsed: 4.50 s]\n",
            "----------------------------------------------------------------------------------------------------\n",
            "Epoch 33/100\n"
          ],
          "name": "stdout"
        },
        {
          "output_type": "display_data",
          "data": {
            "application/vnd.jupyter.widget-view+json": {
              "model_id": "",
              "version_major": 2,
              "version_minor": 0
            },
            "text/plain": [
              "HBox(children=(HTML(value=''), FloatProgress(value=0.0, max=313.0), HTML(value='')))"
            ]
          },
          "metadata": {
            "tags": []
          }
        },
        {
          "output_type": "stream",
          "text": [
            "Start (p): 99, End (p): 177, Start (T): 23, End (T): 34\n",
            "\tLoss: 2.75139 - Distance start: 13 - Distance end: 13 [Time elapsed: 37.39 s]\n"
          ],
          "name": "stdout"
        },
        {
          "output_type": "display_data",
          "data": {
            "application/vnd.jupyter.widget-view+json": {
              "model_id": "",
              "version_major": 2,
              "version_minor": 0
            },
            "text/plain": [
              "HBox(children=(HTML(value=''), FloatProgress(value=0.0, max=94.0), HTML(value='')))"
            ]
          },
          "metadata": {
            "tags": []
          }
        },
        {
          "output_type": "stream",
          "text": [
            "Start (p): 26, End (p): 26, Start (T): 41, End (T): 42\n",
            "\tValidation loss: 7.80141 - Distance start: 27.00 - Distance end: 28.00 [Time elapsed: 4.36 s]\n",
            "----------------------------------------------------------------------------------------------------\n",
            "Epoch 34/100\n"
          ],
          "name": "stdout"
        },
        {
          "output_type": "display_data",
          "data": {
            "application/vnd.jupyter.widget-view+json": {
              "model_id": "",
              "version_major": 2,
              "version_minor": 0
            },
            "text/plain": [
              "HBox(children=(HTML(value=''), FloatProgress(value=0.0, max=313.0), HTML(value='')))"
            ]
          },
          "metadata": {
            "tags": []
          }
        },
        {
          "output_type": "stream",
          "text": [
            "Start (p): 1, End (p): 2, Start (T): 1, End (T): 2\n",
            "\tLoss: 2.63370 - Distance start: 12 - Distance end: 12 [Time elapsed: 37.15 s]\n"
          ],
          "name": "stdout"
        },
        {
          "output_type": "display_data",
          "data": {
            "application/vnd.jupyter.widget-view+json": {
              "model_id": "",
              "version_major": 2,
              "version_minor": 0
            },
            "text/plain": [
              "HBox(children=(HTML(value=''), FloatProgress(value=0.0, max=94.0), HTML(value='')))"
            ]
          },
          "metadata": {
            "tags": []
          }
        },
        {
          "output_type": "stream",
          "text": [
            "Start (p): 47, End (p): 67, Start (T): 16, End (T): 19\n",
            "\tValidation loss: 7.90642 - Distance start: 26.00 - Distance end: 27.00 [Time elapsed: 4.26 s]\n",
            "----------------------------------------------------------------------------------------------------\n",
            "Epoch 35/100\n"
          ],
          "name": "stdout"
        },
        {
          "output_type": "display_data",
          "data": {
            "application/vnd.jupyter.widget-view+json": {
              "model_id": "",
              "version_major": 2,
              "version_minor": 0
            },
            "text/plain": [
              "HBox(children=(HTML(value=''), FloatProgress(value=0.0, max=313.0), HTML(value='')))"
            ]
          },
          "metadata": {
            "tags": []
          }
        },
        {
          "output_type": "stream",
          "text": [
            "Start (p): 1, End (p): 20, Start (T): 1, End (T): 2\n",
            "\tLoss: 2.54679 - Distance start: 11 - Distance end: 12 [Time elapsed: 36.83 s]\n"
          ],
          "name": "stdout"
        },
        {
          "output_type": "display_data",
          "data": {
            "application/vnd.jupyter.widget-view+json": {
              "model_id": "",
              "version_major": 2,
              "version_minor": 0
            },
            "text/plain": [
              "HBox(children=(HTML(value=''), FloatProgress(value=0.0, max=94.0), HTML(value='')))"
            ]
          },
          "metadata": {
            "tags": []
          }
        },
        {
          "output_type": "stream",
          "text": [
            "Start (p): 40, End (p): 44, Start (T): 9, End (T): 12\n",
            "\tValidation loss: 7.98829 - Distance start: 26.00 - Distance end: 26.00 [Time elapsed: 4.24 s]\n",
            "----------------------------------------------------------------------------------------------------\n",
            "Epoch 36/100\n"
          ],
          "name": "stdout"
        },
        {
          "output_type": "display_data",
          "data": {
            "application/vnd.jupyter.widget-view+json": {
              "model_id": "",
              "version_major": 2,
              "version_minor": 0
            },
            "text/plain": [
              "HBox(children=(HTML(value=''), FloatProgress(value=0.0, max=313.0), HTML(value='')))"
            ]
          },
          "metadata": {
            "tags": []
          }
        },
        {
          "output_type": "stream",
          "text": [
            "Start (p): 37, End (p): 38, Start (T): 37, End (T): 38\n",
            "\tLoss: 2.58034 - Distance start: 12 - Distance end: 12 [Time elapsed: 36.68 s]\n"
          ],
          "name": "stdout"
        },
        {
          "output_type": "display_data",
          "data": {
            "application/vnd.jupyter.widget-view+json": {
              "model_id": "",
              "version_major": 2,
              "version_minor": 0
            },
            "text/plain": [
              "HBox(children=(HTML(value=''), FloatProgress(value=0.0, max=94.0), HTML(value='')))"
            ]
          },
          "metadata": {
            "tags": []
          }
        },
        {
          "output_type": "stream",
          "text": [
            "Start (p): 148, End (p): 149, Start (T): 113, End (T): 113\n",
            "\tValidation loss: 7.77031 - Distance start: 25.00 - Distance end: 26.00 [Time elapsed: 4.25 s]\n",
            "----------------------------------------------------------------------------------------------------\n",
            "Epoch 37/100\n"
          ],
          "name": "stdout"
        },
        {
          "output_type": "display_data",
          "data": {
            "application/vnd.jupyter.widget-view+json": {
              "model_id": "",
              "version_major": 2,
              "version_minor": 0
            },
            "text/plain": [
              "HBox(children=(HTML(value=''), FloatProgress(value=0.0, max=313.0), HTML(value='')))"
            ]
          },
          "metadata": {
            "tags": []
          }
        },
        {
          "output_type": "stream",
          "text": [
            "Start (p): 40, End (p): 27, Start (T): 40, End (T): 42\n",
            "\tLoss: 2.53149 - Distance start: 12 - Distance end: 12 [Time elapsed: 36.63 s]\n"
          ],
          "name": "stdout"
        },
        {
          "output_type": "display_data",
          "data": {
            "application/vnd.jupyter.widget-view+json": {
              "model_id": "",
              "version_major": 2,
              "version_minor": 0
            },
            "text/plain": [
              "HBox(children=(HTML(value=''), FloatProgress(value=0.0, max=94.0), HTML(value='')))"
            ]
          },
          "metadata": {
            "tags": []
          }
        },
        {
          "output_type": "stream",
          "text": [
            "Start (p): 29, End (p): 31, Start (T): 29, End (T): 31\n",
            "\tValidation loss: 7.86779 - Distance start: 26.00 - Distance end: 26.00 [Time elapsed: 4.27 s]\n",
            "----------------------------------------------------------------------------------------------------\n",
            "Epoch 38/100\n"
          ],
          "name": "stdout"
        },
        {
          "output_type": "display_data",
          "data": {
            "application/vnd.jupyter.widget-view+json": {
              "model_id": "",
              "version_major": 2,
              "version_minor": 0
            },
            "text/plain": [
              "HBox(children=(HTML(value=''), FloatProgress(value=0.0, max=313.0), HTML(value='')))"
            ]
          },
          "metadata": {
            "tags": []
          }
        },
        {
          "output_type": "stream",
          "text": [
            "Start (p): 85, End (p): 86, Start (T): 85, End (T): 86\n",
            "\tLoss: 2.49224 - Distance start: 11 - Distance end: 11 [Time elapsed: 36.29 s]\n"
          ],
          "name": "stdout"
        },
        {
          "output_type": "display_data",
          "data": {
            "application/vnd.jupyter.widget-view+json": {
              "model_id": "",
              "version_major": 2,
              "version_minor": 0
            },
            "text/plain": [
              "HBox(children=(HTML(value=''), FloatProgress(value=0.0, max=94.0), HTML(value='')))"
            ]
          },
          "metadata": {
            "tags": []
          }
        },
        {
          "output_type": "stream",
          "text": [
            "Start (p): 99, End (p): 100, Start (T): 111, End (T): 113\n",
            "\tValidation loss: 7.96862 - Distance start: 26.00 - Distance end: 26.00 [Time elapsed: 4.28 s]\n",
            "----------------------------------------------------------------------------------------------------\n",
            "Epoch 39/100\n"
          ],
          "name": "stdout"
        },
        {
          "output_type": "display_data",
          "data": {
            "application/vnd.jupyter.widget-view+json": {
              "model_id": "",
              "version_major": 2,
              "version_minor": 0
            },
            "text/plain": [
              "HBox(children=(HTML(value=''), FloatProgress(value=0.0, max=313.0), HTML(value='')))"
            ]
          },
          "metadata": {
            "tags": []
          }
        },
        {
          "output_type": "stream",
          "text": [
            "Start (p): 74, End (p): 76, Start (T): 0, End (T): 0\n",
            "\tLoss: 2.35915 - Distance start: 10 - Distance end: 11 [Time elapsed: 36.70 s]\n"
          ],
          "name": "stdout"
        },
        {
          "output_type": "display_data",
          "data": {
            "application/vnd.jupyter.widget-view+json": {
              "model_id": "",
              "version_major": 2,
              "version_minor": 0
            },
            "text/plain": [
              "HBox(children=(HTML(value=''), FloatProgress(value=0.0, max=94.0), HTML(value='')))"
            ]
          },
          "metadata": {
            "tags": []
          }
        },
        {
          "output_type": "stream",
          "text": [
            "Start (p): 122, End (p): 123, Start (T): 122, End (T): 123\n",
            "\tValidation loss: 8.27437 - Distance start: 26.00 - Distance end: 26.00 [Time elapsed: 4.38 s]\n",
            "----------------------------------------------------------------------------------------------------\n",
            "Epoch 40/100\n"
          ],
          "name": "stdout"
        },
        {
          "output_type": "display_data",
          "data": {
            "application/vnd.jupyter.widget-view+json": {
              "model_id": "",
              "version_major": 2,
              "version_minor": 0
            },
            "text/plain": [
              "HBox(children=(HTML(value=''), FloatProgress(value=0.0, max=313.0), HTML(value='')))"
            ]
          },
          "metadata": {
            "tags": []
          }
        },
        {
          "output_type": "stream",
          "text": [
            "Start (p): 7, End (p): 28, Start (T): 27, End (T): 28\n",
            "\tLoss: 2.37430 - Distance start: 10 - Distance end: 11 [Time elapsed: 105.29 s]\n"
          ],
          "name": "stdout"
        },
        {
          "output_type": "display_data",
          "data": {
            "application/vnd.jupyter.widget-view+json": {
              "model_id": "",
              "version_major": 2,
              "version_minor": 0
            },
            "text/plain": [
              "HBox(children=(HTML(value=''), FloatProgress(value=0.0, max=94.0), HTML(value='')))"
            ]
          },
          "metadata": {
            "tags": []
          }
        },
        {
          "output_type": "stream",
          "text": [
            "Start (p): 11, End (p): 11, Start (T): 11, End (T): 11\n",
            "\tValidation loss: 8.14574 - Distance start: 26.00 - Distance end: 27.00 [Time elapsed: 11.71 s]\n",
            "----------------------------------------------------------------------------------------------------\n",
            "Epoch 41/100\n"
          ],
          "name": "stdout"
        },
        {
          "output_type": "display_data",
          "data": {
            "application/vnd.jupyter.widget-view+json": {
              "model_id": "",
              "version_major": 2,
              "version_minor": 0
            },
            "text/plain": [
              "HBox(children=(HTML(value=''), FloatProgress(value=0.0, max=313.0), HTML(value='')))"
            ]
          },
          "metadata": {
            "tags": []
          }
        },
        {
          "output_type": "stream",
          "text": [
            "Start (p): 6, End (p): 12, Start (T): 6, End (T): 12\n",
            "\tLoss: 2.31415 - Distance start: 10 - Distance end: 10 [Time elapsed: 108.73 s]\n"
          ],
          "name": "stdout"
        },
        {
          "output_type": "display_data",
          "data": {
            "application/vnd.jupyter.widget-view+json": {
              "model_id": "",
              "version_major": 2,
              "version_minor": 0
            },
            "text/plain": [
              "HBox(children=(HTML(value=''), FloatProgress(value=0.0, max=94.0), HTML(value='')))"
            ]
          },
          "metadata": {
            "tags": []
          }
        },
        {
          "output_type": "stream",
          "text": [
            "Start (p): 5, End (p): 47, Start (T): 88, End (T): 90\n",
            "\tValidation loss: 8.29467 - Distance start: 27.00 - Distance end: 28.00 [Time elapsed: 11.70 s]\n",
            "----------------------------------------------------------------------------------------------------\n",
            "Epoch 42/100\n"
          ],
          "name": "stdout"
        },
        {
          "output_type": "display_data",
          "data": {
            "application/vnd.jupyter.widget-view+json": {
              "model_id": "",
              "version_major": 2,
              "version_minor": 0
            },
            "text/plain": [
              "HBox(children=(HTML(value=''), FloatProgress(value=0.0, max=313.0), HTML(value='')))"
            ]
          },
          "metadata": {
            "tags": []
          }
        },
        {
          "output_type": "stream",
          "text": [
            "Start (p): 83, End (p): 18, Start (T): 16, End (T): 18\n",
            "\tLoss: 2.41595 - Distance start: 10 - Distance end: 11 [Time elapsed: 108.49 s]\n"
          ],
          "name": "stdout"
        },
        {
          "output_type": "display_data",
          "data": {
            "application/vnd.jupyter.widget-view+json": {
              "model_id": "",
              "version_major": 2,
              "version_minor": 0
            },
            "text/plain": [
              "HBox(children=(HTML(value=''), FloatProgress(value=0.0, max=94.0), HTML(value='')))"
            ]
          },
          "metadata": {
            "tags": []
          }
        },
        {
          "output_type": "stream",
          "text": [
            "Start (p): 68, End (p): 137, Start (T): 68, End (T): 69\n",
            "\tValidation loss: 8.15404 - Distance start: 26.00 - Distance end: 26.00 [Time elapsed: 11.99 s]\n",
            "----------------------------------------------------------------------------------------------------\n",
            "Epoch 43/100\n"
          ],
          "name": "stdout"
        },
        {
          "output_type": "display_data",
          "data": {
            "application/vnd.jupyter.widget-view+json": {
              "model_id": "",
              "version_major": 2,
              "version_minor": 0
            },
            "text/plain": [
              "HBox(children=(HTML(value=''), FloatProgress(value=0.0, max=313.0), HTML(value='')))"
            ]
          },
          "metadata": {
            "tags": []
          }
        },
        {
          "output_type": "stream",
          "text": [
            "Start (p): 30, End (p): 31, Start (T): 30, End (T): 31\n",
            "\tLoss: 2.26011 - Distance start: 9 - Distance end: 10 [Time elapsed: 108.60 s]\n"
          ],
          "name": "stdout"
        },
        {
          "output_type": "display_data",
          "data": {
            "application/vnd.jupyter.widget-view+json": {
              "model_id": "",
              "version_major": 2,
              "version_minor": 0
            },
            "text/plain": [
              "HBox(children=(HTML(value=''), FloatProgress(value=0.0, max=94.0), HTML(value='')))"
            ]
          },
          "metadata": {
            "tags": []
          }
        },
        {
          "output_type": "stream",
          "text": [
            "Start (p): 63, End (p): 77, Start (T): 75, End (T): 77\n",
            "\tValidation loss: 8.27708 - Distance start: 26.00 - Distance end: 26.00 [Time elapsed: 11.74 s]\n",
            "----------------------------------------------------------------------------------------------------\n",
            "Epoch 44/100\n"
          ],
          "name": "stdout"
        },
        {
          "output_type": "display_data",
          "data": {
            "application/vnd.jupyter.widget-view+json": {
              "model_id": "",
              "version_major": 2,
              "version_minor": 0
            },
            "text/plain": [
              "HBox(children=(HTML(value=''), FloatProgress(value=0.0, max=313.0), HTML(value='')))"
            ]
          },
          "metadata": {
            "tags": []
          }
        },
        {
          "output_type": "stream",
          "text": [
            "Start (p): 31, End (p): 97, Start (T): 54, End (T): 55\n",
            "\tLoss: 2.25010 - Distance start: 10 - Distance end: 10 [Time elapsed: 107.88 s]\n"
          ],
          "name": "stdout"
        },
        {
          "output_type": "display_data",
          "data": {
            "application/vnd.jupyter.widget-view+json": {
              "model_id": "",
              "version_major": 2,
              "version_minor": 0
            },
            "text/plain": [
              "HBox(children=(HTML(value=''), FloatProgress(value=0.0, max=94.0), HTML(value='')))"
            ]
          },
          "metadata": {
            "tags": []
          }
        },
        {
          "output_type": "stream",
          "text": [
            "Start (p): 89, End (p): 88, Start (T): 47, End (T): 47\n",
            "\tValidation loss: 8.57336 - Distance start: 27.00 - Distance end: 27.00 [Time elapsed: 11.76 s]\n",
            "----------------------------------------------------------------------------------------------------\n",
            "Epoch 45/100\n"
          ],
          "name": "stdout"
        },
        {
          "output_type": "display_data",
          "data": {
            "application/vnd.jupyter.widget-view+json": {
              "model_id": "",
              "version_major": 2,
              "version_minor": 0
            },
            "text/plain": [
              "HBox(children=(HTML(value=''), FloatProgress(value=0.0, max=313.0), HTML(value='')))"
            ]
          },
          "metadata": {
            "tags": []
          }
        },
        {
          "output_type": "stream",
          "text": [
            "Start (p): 67, End (p): 68, Start (T): 69, End (T): 70\n",
            "\tLoss: 2.25000 - Distance start: 10 - Distance end: 10 [Time elapsed: 109.71 s]\n"
          ],
          "name": "stdout"
        },
        {
          "output_type": "display_data",
          "data": {
            "application/vnd.jupyter.widget-view+json": {
              "model_id": "",
              "version_major": 2,
              "version_minor": 0
            },
            "text/plain": [
              "HBox(children=(HTML(value=''), FloatProgress(value=0.0, max=94.0), HTML(value='')))"
            ]
          },
          "metadata": {
            "tags": []
          }
        },
        {
          "output_type": "stream",
          "text": [
            "Start (p): 40, End (p): 40, Start (T): 65, End (T): 66\n",
            "\tValidation loss: 8.39313 - Distance start: 27.00 - Distance end: 26.00 [Time elapsed: 11.81 s]\n",
            "----------------------------------------------------------------------------------------------------\n",
            "Epoch 46/100\n"
          ],
          "name": "stdout"
        },
        {
          "output_type": "display_data",
          "data": {
            "application/vnd.jupyter.widget-view+json": {
              "model_id": "",
              "version_major": 2,
              "version_minor": 0
            },
            "text/plain": [
              "HBox(children=(HTML(value=''), FloatProgress(value=0.0, max=313.0), HTML(value='')))"
            ]
          },
          "metadata": {
            "tags": []
          }
        },
        {
          "output_type": "stream",
          "text": [
            "Start (p): 5, End (p): 6, Start (T): 5, End (T): 6\n",
            "\tLoss: 2.15502 - Distance start: 9 - Distance end: 9 [Time elapsed: 110.95 s]\n"
          ],
          "name": "stdout"
        },
        {
          "output_type": "display_data",
          "data": {
            "application/vnd.jupyter.widget-view+json": {
              "model_id": "",
              "version_major": 2,
              "version_minor": 0
            },
            "text/plain": [
              "HBox(children=(HTML(value=''), FloatProgress(value=0.0, max=94.0), HTML(value='')))"
            ]
          },
          "metadata": {
            "tags": []
          }
        },
        {
          "output_type": "stream",
          "text": [
            "Start (p): 93, End (p): 95, Start (T): 93, End (T): 95\n",
            "\tValidation loss: 8.73070 - Distance start: 26.00 - Distance end: 26.00 [Time elapsed: 12.09 s]\n",
            "----------------------------------------------------------------------------------------------------\n",
            "Epoch 47/100\n"
          ],
          "name": "stdout"
        },
        {
          "output_type": "display_data",
          "data": {
            "application/vnd.jupyter.widget-view+json": {
              "model_id": "",
              "version_major": 2,
              "version_minor": 0
            },
            "text/plain": [
              "HBox(children=(HTML(value=''), FloatProgress(value=0.0, max=313.0), HTML(value='')))"
            ]
          },
          "metadata": {
            "tags": []
          }
        },
        {
          "output_type": "stream",
          "text": [
            "Start (p): 128, End (p): 130, Start (T): 129, End (T): 130\n",
            "\tLoss: 2.13925 - Distance start: 9 - Distance end: 9 [Time elapsed: 114.60 s]\n"
          ],
          "name": "stdout"
        },
        {
          "output_type": "display_data",
          "data": {
            "application/vnd.jupyter.widget-view+json": {
              "model_id": "",
              "version_major": 2,
              "version_minor": 0
            },
            "text/plain": [
              "HBox(children=(HTML(value=''), FloatProgress(value=0.0, max=94.0), HTML(value='')))"
            ]
          },
          "metadata": {
            "tags": []
          }
        },
        {
          "output_type": "stream",
          "text": [
            "Start (p): 43, End (p): 43, Start (T): 43, End (T): 43\n",
            "\tValidation loss: 8.65737 - Distance start: 26.00 - Distance end: 25.00 [Time elapsed: 12.15 s]\n",
            "----------------------------------------------------------------------------------------------------\n",
            "Epoch 48/100\n"
          ],
          "name": "stdout"
        },
        {
          "output_type": "display_data",
          "data": {
            "application/vnd.jupyter.widget-view+json": {
              "model_id": "",
              "version_major": 2,
              "version_minor": 0
            },
            "text/plain": [
              "HBox(children=(HTML(value=''), FloatProgress(value=0.0, max=313.0), HTML(value='')))"
            ]
          },
          "metadata": {
            "tags": []
          }
        },
        {
          "output_type": "stream",
          "text": [
            "Start (p): 88, End (p): 90, Start (T): 88, End (T): 90\n",
            "\tLoss: 2.09925 - Distance start: 9 - Distance end: 9 [Time elapsed: 118.20 s]\n"
          ],
          "name": "stdout"
        },
        {
          "output_type": "display_data",
          "data": {
            "application/vnd.jupyter.widget-view+json": {
              "model_id": "",
              "version_major": 2,
              "version_minor": 0
            },
            "text/plain": [
              "HBox(children=(HTML(value=''), FloatProgress(value=0.0, max=94.0), HTML(value='')))"
            ]
          },
          "metadata": {
            "tags": []
          }
        },
        {
          "output_type": "stream",
          "text": [
            "Start (p): 8, End (p): 8, Start (T): 7, End (T): 8\n",
            "\tValidation loss: 8.69674 - Distance start: 26.00 - Distance end: 25.00 [Time elapsed: 12.57 s]\n",
            "----------------------------------------------------------------------------------------------------\n",
            "Epoch 49/100\n"
          ],
          "name": "stdout"
        },
        {
          "output_type": "display_data",
          "data": {
            "application/vnd.jupyter.widget-view+json": {
              "model_id": "",
              "version_major": 2,
              "version_minor": 0
            },
            "text/plain": [
              "HBox(children=(HTML(value=''), FloatProgress(value=0.0, max=313.0), HTML(value='')))"
            ]
          },
          "metadata": {
            "tags": []
          }
        },
        {
          "output_type": "stream",
          "text": [
            "Start (p): 0, End (p): 1, Start (T): 0, End (T): 1\n",
            "\tLoss: 2.09463 - Distance start: 9 - Distance end: 9 [Time elapsed: 102.68 s]\n"
          ],
          "name": "stdout"
        },
        {
          "output_type": "display_data",
          "data": {
            "application/vnd.jupyter.widget-view+json": {
              "model_id": "",
              "version_major": 2,
              "version_minor": 0
            },
            "text/plain": [
              "HBox(children=(HTML(value=''), FloatProgress(value=0.0, max=94.0), HTML(value='')))"
            ]
          },
          "metadata": {
            "tags": []
          }
        },
        {
          "output_type": "stream",
          "text": [
            "Start (p): 26, End (p): 26, Start (T): 34, End (T): 35\n",
            "\tValidation loss: 8.85898 - Distance start: 26.00 - Distance end: 26.00 [Time elapsed: 4.32 s]\n",
            "----------------------------------------------------------------------------------------------------\n",
            "Epoch 50/100\n"
          ],
          "name": "stdout"
        },
        {
          "output_type": "display_data",
          "data": {
            "application/vnd.jupyter.widget-view+json": {
              "model_id": "",
              "version_major": 2,
              "version_minor": 0
            },
            "text/plain": [
              "HBox(children=(HTML(value=''), FloatProgress(value=0.0, max=313.0), HTML(value='')))"
            ]
          },
          "metadata": {
            "tags": []
          }
        },
        {
          "output_type": "stream",
          "text": [
            "Start (p): 32, End (p): 33, Start (T): 32, End (T): 34\n",
            "\tLoss: 2.18023 - Distance start: 9 - Distance end: 9 [Time elapsed: 36.90 s]\n"
          ],
          "name": "stdout"
        },
        {
          "output_type": "display_data",
          "data": {
            "application/vnd.jupyter.widget-view+json": {
              "model_id": "",
              "version_major": 2,
              "version_minor": 0
            },
            "text/plain": [
              "HBox(children=(HTML(value=''), FloatProgress(value=0.0, max=94.0), HTML(value='')))"
            ]
          },
          "metadata": {
            "tags": []
          }
        },
        {
          "output_type": "stream",
          "text": [
            "Start (p): 16, End (p): 40, Start (T): 45, End (T): 47\n",
            "\tValidation loss: 8.62159 - Distance start: 26.00 - Distance end: 26.00 [Time elapsed: 4.31 s]\n",
            "----------------------------------------------------------------------------------------------------\n",
            "Epoch 51/100\n"
          ],
          "name": "stdout"
        },
        {
          "output_type": "display_data",
          "data": {
            "application/vnd.jupyter.widget-view+json": {
              "model_id": "",
              "version_major": 2,
              "version_minor": 0
            },
            "text/plain": [
              "HBox(children=(HTML(value=''), FloatProgress(value=0.0, max=313.0), HTML(value='')))"
            ]
          },
          "metadata": {
            "tags": []
          }
        },
        {
          "output_type": "stream",
          "text": [
            "Start (p): 76, End (p): 78, Start (T): 76, End (T): 78\n",
            "\tLoss: 2.06965 - Distance start: 8 - Distance end: 9 [Time elapsed: 37.23 s]\n"
          ],
          "name": "stdout"
        },
        {
          "output_type": "display_data",
          "data": {
            "application/vnd.jupyter.widget-view+json": {
              "model_id": "",
              "version_major": 2,
              "version_minor": 0
            },
            "text/plain": [
              "HBox(children=(HTML(value=''), FloatProgress(value=0.0, max=94.0), HTML(value='')))"
            ]
          },
          "metadata": {
            "tags": []
          }
        },
        {
          "output_type": "stream",
          "text": [
            "Start (p): 81, End (p): 58, Start (T): 122, End (T): 123\n",
            "\tValidation loss: 8.54169 - Distance start: 25.00 - Distance end: 26.00 [Time elapsed: 4.33 s]\n",
            "----------------------------------------------------------------------------------------------------\n",
            "Epoch 52/100\n"
          ],
          "name": "stdout"
        },
        {
          "output_type": "display_data",
          "data": {
            "application/vnd.jupyter.widget-view+json": {
              "model_id": "",
              "version_major": 2,
              "version_minor": 0
            },
            "text/plain": [
              "HBox(children=(HTML(value=''), FloatProgress(value=0.0, max=313.0), HTML(value='')))"
            ]
          },
          "metadata": {
            "tags": []
          }
        },
        {
          "output_type": "stream",
          "text": [
            "Start (p): 69, End (p): 70, Start (T): 69, End (T): 70\n",
            "\tLoss: 2.04150 - Distance start: 8 - Distance end: 8 [Time elapsed: 37.16 s]\n"
          ],
          "name": "stdout"
        },
        {
          "output_type": "display_data",
          "data": {
            "application/vnd.jupyter.widget-view+json": {
              "model_id": "",
              "version_major": 2,
              "version_minor": 0
            },
            "text/plain": [
              "HBox(children=(HTML(value=''), FloatProgress(value=0.0, max=94.0), HTML(value='')))"
            ]
          },
          "metadata": {
            "tags": []
          }
        },
        {
          "output_type": "stream",
          "text": [
            "Start (p): 6, End (p): 16, Start (T): 13, End (T): 13\n",
            "\tValidation loss: 8.86780 - Distance start: 25.00 - Distance end: 26.00 [Time elapsed: 4.27 s]\n",
            "----------------------------------------------------------------------------------------------------\n",
            "Epoch 53/100\n"
          ],
          "name": "stdout"
        },
        {
          "output_type": "display_data",
          "data": {
            "application/vnd.jupyter.widget-view+json": {
              "model_id": "",
              "version_major": 2,
              "version_minor": 0
            },
            "text/plain": [
              "HBox(children=(HTML(value=''), FloatProgress(value=0.0, max=313.0), HTML(value='')))"
            ]
          },
          "metadata": {
            "tags": []
          }
        },
        {
          "output_type": "stream",
          "text": [
            "Start (p): 22, End (p): 25, Start (T): 22, End (T): 25\n",
            "\tLoss: 2.03471 - Distance start: 8 - Distance end: 8 [Time elapsed: 37.42 s]\n"
          ],
          "name": "stdout"
        },
        {
          "output_type": "display_data",
          "data": {
            "application/vnd.jupyter.widget-view+json": {
              "model_id": "",
              "version_major": 2,
              "version_minor": 0
            },
            "text/plain": [
              "HBox(children=(HTML(value=''), FloatProgress(value=0.0, max=94.0), HTML(value='')))"
            ]
          },
          "metadata": {
            "tags": []
          }
        },
        {
          "output_type": "stream",
          "text": [
            "Start (p): 61, End (p): 61, Start (T): 104, End (T): 105\n",
            "\tValidation loss: 8.80815 - Distance start: 26.00 - Distance end: 25.00 [Time elapsed: 4.36 s]\n",
            "----------------------------------------------------------------------------------------------------\n",
            "Epoch 54/100\n"
          ],
          "name": "stdout"
        },
        {
          "output_type": "display_data",
          "data": {
            "application/vnd.jupyter.widget-view+json": {
              "model_id": "",
              "version_major": 2,
              "version_minor": 0
            },
            "text/plain": [
              "HBox(children=(HTML(value=''), FloatProgress(value=0.0, max=313.0), HTML(value='')))"
            ]
          },
          "metadata": {
            "tags": []
          }
        },
        {
          "output_type": "stream",
          "text": [
            "Start (p): 27, End (p): 27, Start (T): 27, End (T): 27\n",
            "\tLoss: 1.96592 - Distance start: 8 - Distance end: 8 [Time elapsed: 37.46 s]\n"
          ],
          "name": "stdout"
        },
        {
          "output_type": "display_data",
          "data": {
            "application/vnd.jupyter.widget-view+json": {
              "model_id": "",
              "version_major": 2,
              "version_minor": 0
            },
            "text/plain": [
              "HBox(children=(HTML(value=''), FloatProgress(value=0.0, max=94.0), HTML(value='')))"
            ]
          },
          "metadata": {
            "tags": []
          }
        },
        {
          "output_type": "stream",
          "text": [
            "Start (p): 53, End (p): 53, Start (T): 37, End (T): 39\n",
            "\tValidation loss: 8.96613 - Distance start: 26.00 - Distance end: 26.00 [Time elapsed: 4.27 s]\n",
            "----------------------------------------------------------------------------------------------------\n",
            "Epoch 55/100\n"
          ],
          "name": "stdout"
        },
        {
          "output_type": "display_data",
          "data": {
            "application/vnd.jupyter.widget-view+json": {
              "model_id": "",
              "version_major": 2,
              "version_minor": 0
            },
            "text/plain": [
              "HBox(children=(HTML(value=''), FloatProgress(value=0.0, max=313.0), HTML(value='')))"
            ]
          },
          "metadata": {
            "tags": []
          }
        },
        {
          "output_type": "stream",
          "text": [
            "Start (p): 55, End (p): 11, Start (T): 9, End (T): 11\n",
            "\tLoss: 1.96869 - Distance start: 8 - Distance end: 8 [Time elapsed: 37.04 s]\n"
          ],
          "name": "stdout"
        },
        {
          "output_type": "display_data",
          "data": {
            "application/vnd.jupyter.widget-view+json": {
              "model_id": "",
              "version_major": 2,
              "version_minor": 0
            },
            "text/plain": [
              "HBox(children=(HTML(value=''), FloatProgress(value=0.0, max=94.0), HTML(value='')))"
            ]
          },
          "metadata": {
            "tags": []
          }
        },
        {
          "output_type": "stream",
          "text": [
            "Start (p): 53, End (p): 53, Start (T): 34, End (T): 34\n",
            "\tValidation loss: 9.12804 - Distance start: 26.00 - Distance end: 26.00 [Time elapsed: 4.31 s]\n",
            "----------------------------------------------------------------------------------------------------\n",
            "Epoch 56/100\n"
          ],
          "name": "stdout"
        },
        {
          "output_type": "display_data",
          "data": {
            "application/vnd.jupyter.widget-view+json": {
              "model_id": "",
              "version_major": 2,
              "version_minor": 0
            },
            "text/plain": [
              "HBox(children=(HTML(value=''), FloatProgress(value=0.0, max=313.0), HTML(value='')))"
            ]
          },
          "metadata": {
            "tags": []
          }
        },
        {
          "output_type": "stream",
          "text": [
            "Start (p): 105, End (p): 106, Start (T): 105, End (T): 106\n",
            "\tLoss: 1.93520 - Distance start: 7 - Distance end: 8 [Time elapsed: 37.35 s]\n"
          ],
          "name": "stdout"
        },
        {
          "output_type": "display_data",
          "data": {
            "application/vnd.jupyter.widget-view+json": {
              "model_id": "",
              "version_major": 2,
              "version_minor": 0
            },
            "text/plain": [
              "HBox(children=(HTML(value=''), FloatProgress(value=0.0, max=94.0), HTML(value='')))"
            ]
          },
          "metadata": {
            "tags": []
          }
        },
        {
          "output_type": "stream",
          "text": [
            "Start (p): 55, End (p): 48, Start (T): 47, End (T): 48\n",
            "\tValidation loss: 9.02606 - Distance start: 26.00 - Distance end: 26.00 [Time elapsed: 4.31 s]\n",
            "----------------------------------------------------------------------------------------------------\n",
            "Epoch 57/100\n"
          ],
          "name": "stdout"
        },
        {
          "output_type": "display_data",
          "data": {
            "application/vnd.jupyter.widget-view+json": {
              "model_id": "",
              "version_major": 2,
              "version_minor": 0
            },
            "text/plain": [
              "HBox(children=(HTML(value=''), FloatProgress(value=0.0, max=313.0), HTML(value='')))"
            ]
          },
          "metadata": {
            "tags": []
          }
        },
        {
          "output_type": "stream",
          "text": [
            "Start (p): 54, End (p): 54, Start (T): 54, End (T): 54\n",
            "\tLoss: 1.97089 - Distance start: 8 - Distance end: 8 [Time elapsed: 37.31 s]\n"
          ],
          "name": "stdout"
        },
        {
          "output_type": "display_data",
          "data": {
            "application/vnd.jupyter.widget-view+json": {
              "model_id": "",
              "version_major": 2,
              "version_minor": 0
            },
            "text/plain": [
              "HBox(children=(HTML(value=''), FloatProgress(value=0.0, max=94.0), HTML(value='')))"
            ]
          },
          "metadata": {
            "tags": []
          }
        },
        {
          "output_type": "stream",
          "text": [
            "Start (p): 72, End (p): 72, Start (T): 72, End (T): 76\n",
            "\tValidation loss: 9.08445 - Distance start: 26.00 - Distance end: 25.00 [Time elapsed: 4.30 s]\n",
            "----------------------------------------------------------------------------------------------------\n",
            "Epoch 58/100\n"
          ],
          "name": "stdout"
        },
        {
          "output_type": "display_data",
          "data": {
            "application/vnd.jupyter.widget-view+json": {
              "model_id": "",
              "version_major": 2,
              "version_minor": 0
            },
            "text/plain": [
              "HBox(children=(HTML(value=''), FloatProgress(value=0.0, max=313.0), HTML(value='')))"
            ]
          },
          "metadata": {
            "tags": []
          }
        },
        {
          "output_type": "stream",
          "text": [
            "Start (p): 50, End (p): 71, Start (T): 17, End (T): 17\n",
            "\tLoss: 1.92627 - Distance start: 7 - Distance end: 8 [Time elapsed: 36.83 s]\n"
          ],
          "name": "stdout"
        },
        {
          "output_type": "display_data",
          "data": {
            "application/vnd.jupyter.widget-view+json": {
              "model_id": "",
              "version_major": 2,
              "version_minor": 0
            },
            "text/plain": [
              "HBox(children=(HTML(value=''), FloatProgress(value=0.0, max=94.0), HTML(value='')))"
            ]
          },
          "metadata": {
            "tags": []
          }
        },
        {
          "output_type": "stream",
          "text": [
            "Start (p): 31, End (p): 32, Start (T): 60, End (T): 67\n",
            "\tValidation loss: 9.09652 - Distance start: 26.00 - Distance end: 25.00 [Time elapsed: 4.26 s]\n",
            "----------------------------------------------------------------------------------------------------\n",
            "Epoch 59/100\n"
          ],
          "name": "stdout"
        },
        {
          "output_type": "display_data",
          "data": {
            "application/vnd.jupyter.widget-view+json": {
              "model_id": "",
              "version_major": 2,
              "version_minor": 0
            },
            "text/plain": [
              "HBox(children=(HTML(value=''), FloatProgress(value=0.0, max=313.0), HTML(value='')))"
            ]
          },
          "metadata": {
            "tags": []
          }
        },
        {
          "output_type": "stream",
          "text": [
            "Start (p): 51, End (p): 51, Start (T): 39, End (T): 43\n",
            "\tLoss: 1.93634 - Distance start: 8 - Distance end: 8 [Time elapsed: 37.28 s]\n"
          ],
          "name": "stdout"
        },
        {
          "output_type": "display_data",
          "data": {
            "application/vnd.jupyter.widget-view+json": {
              "model_id": "",
              "version_major": 2,
              "version_minor": 0
            },
            "text/plain": [
              "HBox(children=(HTML(value=''), FloatProgress(value=0.0, max=94.0), HTML(value='')))"
            ]
          },
          "metadata": {
            "tags": []
          }
        },
        {
          "output_type": "stream",
          "text": [
            "Start (p): 33, End (p): 15, Start (T): 31, End (T): 32\n",
            "\tValidation loss: 8.98248 - Distance start: 26.00 - Distance end: 26.00 [Time elapsed: 4.31 s]\n",
            "----------------------------------------------------------------------------------------------------\n",
            "Epoch 60/100\n"
          ],
          "name": "stdout"
        },
        {
          "output_type": "display_data",
          "data": {
            "application/vnd.jupyter.widget-view+json": {
              "model_id": "",
              "version_major": 2,
              "version_minor": 0
            },
            "text/plain": [
              "HBox(children=(HTML(value=''), FloatProgress(value=0.0, max=313.0), HTML(value='')))"
            ]
          },
          "metadata": {
            "tags": []
          }
        },
        {
          "output_type": "stream",
          "text": [
            "Start (p): 37, End (p): 38, Start (T): 36, End (T): 38\n",
            "\tLoss: 1.90076 - Distance start: 7 - Distance end: 7 [Time elapsed: 37.08 s]\n"
          ],
          "name": "stdout"
        },
        {
          "output_type": "display_data",
          "data": {
            "application/vnd.jupyter.widget-view+json": {
              "model_id": "",
              "version_major": 2,
              "version_minor": 0
            },
            "text/plain": [
              "HBox(children=(HTML(value=''), FloatProgress(value=0.0, max=94.0), HTML(value='')))"
            ]
          },
          "metadata": {
            "tags": []
          }
        },
        {
          "output_type": "stream",
          "text": [
            "Start (p): 6, End (p): 5, Start (T): 68, End (T): 69\n",
            "\tValidation loss: 9.01903 - Distance start: 26.00 - Distance end: 26.00 [Time elapsed: 4.29 s]\n",
            "----------------------------------------------------------------------------------------------------\n",
            "Epoch 61/100\n"
          ],
          "name": "stdout"
        },
        {
          "output_type": "display_data",
          "data": {
            "application/vnd.jupyter.widget-view+json": {
              "model_id": "",
              "version_major": 2,
              "version_minor": 0
            },
            "text/plain": [
              "HBox(children=(HTML(value=''), FloatProgress(value=0.0, max=313.0), HTML(value='')))"
            ]
          },
          "metadata": {
            "tags": []
          }
        },
        {
          "output_type": "stream",
          "text": [
            "Start (p): 57, End (p): 57, Start (T): 57, End (T): 57\n",
            "\tLoss: 2.21981 - Distance start: 9 - Distance end: 9 [Time elapsed: 37.41 s]\n"
          ],
          "name": "stdout"
        },
        {
          "output_type": "display_data",
          "data": {
            "application/vnd.jupyter.widget-view+json": {
              "model_id": "",
              "version_major": 2,
              "version_minor": 0
            },
            "text/plain": [
              "HBox(children=(HTML(value=''), FloatProgress(value=0.0, max=94.0), HTML(value='')))"
            ]
          },
          "metadata": {
            "tags": []
          }
        },
        {
          "output_type": "stream",
          "text": [
            "Start (p): 1, End (p): 3, Start (T): 1, End (T): 3\n",
            "\tValidation loss: 8.90860 - Distance start: 26.00 - Distance end: 26.00 [Time elapsed: 4.36 s]\n",
            "----------------------------------------------------------------------------------------------------\n",
            "Epoch 62/100\n"
          ],
          "name": "stdout"
        },
        {
          "output_type": "display_data",
          "data": {
            "application/vnd.jupyter.widget-view+json": {
              "model_id": "",
              "version_major": 2,
              "version_minor": 0
            },
            "text/plain": [
              "HBox(children=(HTML(value=''), FloatProgress(value=0.0, max=313.0), HTML(value='')))"
            ]
          },
          "metadata": {
            "tags": []
          }
        },
        {
          "output_type": "stream",
          "text": [
            "Start (p): 218, End (p): 220, Start (T): 218, End (T): 220\n",
            "\tLoss: 2.23870 - Distance start: 9 - Distance end: 9 [Time elapsed: 37.33 s]\n"
          ],
          "name": "stdout"
        },
        {
          "output_type": "display_data",
          "data": {
            "application/vnd.jupyter.widget-view+json": {
              "model_id": "",
              "version_major": 2,
              "version_minor": 0
            },
            "text/plain": [
              "HBox(children=(HTML(value=''), FloatProgress(value=0.0, max=94.0), HTML(value='')))"
            ]
          },
          "metadata": {
            "tags": []
          }
        },
        {
          "output_type": "stream",
          "text": [
            "Start (p): 38, End (p): 39, Start (T): 47, End (T): 52\n",
            "\tValidation loss: 8.80527 - Distance start: 25.00 - Distance end: 26.00 [Time elapsed: 4.33 s]\n",
            "----------------------------------------------------------------------------------------------------\n",
            "Epoch 63/100\n"
          ],
          "name": "stdout"
        },
        {
          "output_type": "display_data",
          "data": {
            "application/vnd.jupyter.widget-view+json": {
              "model_id": "",
              "version_major": 2,
              "version_minor": 0
            },
            "text/plain": [
              "HBox(children=(HTML(value=''), FloatProgress(value=0.0, max=313.0), HTML(value='')))"
            ]
          },
          "metadata": {
            "tags": []
          }
        },
        {
          "output_type": "stream",
          "text": [
            "Start (p): 2, End (p): 3, Start (T): 3, End (T): 3\n",
            "\tLoss: 1.81897 - Distance start: 7 - Distance end: 7 [Time elapsed: 37.51 s]\n"
          ],
          "name": "stdout"
        },
        {
          "output_type": "display_data",
          "data": {
            "application/vnd.jupyter.widget-view+json": {
              "model_id": "",
              "version_major": 2,
              "version_minor": 0
            },
            "text/plain": [
              "HBox(children=(HTML(value=''), FloatProgress(value=0.0, max=94.0), HTML(value='')))"
            ]
          },
          "metadata": {
            "tags": []
          }
        },
        {
          "output_type": "stream",
          "text": [
            "Start (p): 72, End (p): 66, Start (T): 61, End (T): 61\n",
            "\tValidation loss: 9.14102 - Distance start: 26.00 - Distance end: 25.00 [Time elapsed: 4.30 s]\n",
            "----------------------------------------------------------------------------------------------------\n",
            "Epoch 64/100\n"
          ],
          "name": "stdout"
        },
        {
          "output_type": "display_data",
          "data": {
            "application/vnd.jupyter.widget-view+json": {
              "model_id": "",
              "version_major": 2,
              "version_minor": 0
            },
            "text/plain": [
              "HBox(children=(HTML(value=''), FloatProgress(value=0.0, max=313.0), HTML(value='')))"
            ]
          },
          "metadata": {
            "tags": []
          }
        },
        {
          "output_type": "stream",
          "text": [
            "Start (p): 57, End (p): 64, Start (T): 57, End (T): 64\n",
            "\tLoss: 1.75897 - Distance start: 7 - Distance end: 7 [Time elapsed: 37.27 s]\n"
          ],
          "name": "stdout"
        },
        {
          "output_type": "display_data",
          "data": {
            "application/vnd.jupyter.widget-view+json": {
              "model_id": "",
              "version_major": 2,
              "version_minor": 0
            },
            "text/plain": [
              "HBox(children=(HTML(value=''), FloatProgress(value=0.0, max=94.0), HTML(value='')))"
            ]
          },
          "metadata": {
            "tags": []
          }
        },
        {
          "output_type": "stream",
          "text": [
            "Start (p): 57, End (p): 56, Start (T): 46, End (T): 48\n",
            "\tValidation loss: 9.42346 - Distance start: 25.00 - Distance end: 25.00 [Time elapsed: 4.29 s]\n",
            "----------------------------------------------------------------------------------------------------\n",
            "Epoch 65/100\n"
          ],
          "name": "stdout"
        },
        {
          "output_type": "display_data",
          "data": {
            "application/vnd.jupyter.widget-view+json": {
              "model_id": "",
              "version_major": 2,
              "version_minor": 0
            },
            "text/plain": [
              "HBox(children=(HTML(value=''), FloatProgress(value=0.0, max=313.0), HTML(value='')))"
            ]
          },
          "metadata": {
            "tags": []
          }
        },
        {
          "output_type": "stream",
          "text": [
            "Start (p): 53, End (p): 54, Start (T): 53, End (T): 54\n",
            "\tLoss: 1.79130 - Distance start: 7 - Distance end: 7 [Time elapsed: 37.26 s]\n"
          ],
          "name": "stdout"
        },
        {
          "output_type": "display_data",
          "data": {
            "application/vnd.jupyter.widget-view+json": {
              "model_id": "",
              "version_major": 2,
              "version_minor": 0
            },
            "text/plain": [
              "HBox(children=(HTML(value=''), FloatProgress(value=0.0, max=94.0), HTML(value='')))"
            ]
          },
          "metadata": {
            "tags": []
          }
        },
        {
          "output_type": "stream",
          "text": [
            "Start (p): 68, End (p): 42, Start (T): 50, End (T): 53\n",
            "\tValidation loss: 9.30039 - Distance start: 26.00 - Distance end: 25.00 [Time elapsed: 4.30 s]\n",
            "----------------------------------------------------------------------------------------------------\n",
            "Epoch 66/100\n"
          ],
          "name": "stdout"
        },
        {
          "output_type": "display_data",
          "data": {
            "application/vnd.jupyter.widget-view+json": {
              "model_id": "",
              "version_major": 2,
              "version_minor": 0
            },
            "text/plain": [
              "HBox(children=(HTML(value=''), FloatProgress(value=0.0, max=313.0), HTML(value='')))"
            ]
          },
          "metadata": {
            "tags": []
          }
        },
        {
          "output_type": "stream",
          "text": [
            "Start (p): 153, End (p): 177, Start (T): 150, End (T): 159\n",
            "\tLoss: 1.87780 - Distance start: 7 - Distance end: 7 [Time elapsed: 37.25 s]\n"
          ],
          "name": "stdout"
        },
        {
          "output_type": "display_data",
          "data": {
            "application/vnd.jupyter.widget-view+json": {
              "model_id": "",
              "version_major": 2,
              "version_minor": 0
            },
            "text/plain": [
              "HBox(children=(HTML(value=''), FloatProgress(value=0.0, max=94.0), HTML(value='')))"
            ]
          },
          "metadata": {
            "tags": []
          }
        },
        {
          "output_type": "stream",
          "text": [
            "Start (p): 123, End (p): 125, Start (T): 35, End (T): 36\n",
            "\tValidation loss: 9.30916 - Distance start: 25.00 - Distance end: 26.00 [Time elapsed: 4.32 s]\n",
            "----------------------------------------------------------------------------------------------------\n",
            "Epoch 67/100\n"
          ],
          "name": "stdout"
        },
        {
          "output_type": "display_data",
          "data": {
            "application/vnd.jupyter.widget-view+json": {
              "model_id": "",
              "version_major": 2,
              "version_minor": 0
            },
            "text/plain": [
              "HBox(children=(HTML(value=''), FloatProgress(value=0.0, max=313.0), HTML(value='')))"
            ]
          },
          "metadata": {
            "tags": []
          }
        },
        {
          "output_type": "stream",
          "text": [
            "Start (p): 8, End (p): 10, Start (T): 8, End (T): 10\n",
            "\tLoss: 1.74624 - Distance start: 7 - Distance end: 7 [Time elapsed: 37.16 s]\n"
          ],
          "name": "stdout"
        },
        {
          "output_type": "display_data",
          "data": {
            "application/vnd.jupyter.widget-view+json": {
              "model_id": "",
              "version_major": 2,
              "version_minor": 0
            },
            "text/plain": [
              "HBox(children=(HTML(value=''), FloatProgress(value=0.0, max=94.0), HTML(value='')))"
            ]
          },
          "metadata": {
            "tags": []
          }
        },
        {
          "output_type": "stream",
          "text": [
            "Start (p): 20, End (p): 21, Start (T): 8, End (T): 11\n",
            "\tValidation loss: 9.58185 - Distance start: 26.00 - Distance end: 26.00 [Time elapsed: 4.34 s]\n",
            "----------------------------------------------------------------------------------------------------\n",
            "Epoch 68/100\n"
          ],
          "name": "stdout"
        },
        {
          "output_type": "display_data",
          "data": {
            "application/vnd.jupyter.widget-view+json": {
              "model_id": "",
              "version_major": 2,
              "version_minor": 0
            },
            "text/plain": [
              "HBox(children=(HTML(value=''), FloatProgress(value=0.0, max=313.0), HTML(value='')))"
            ]
          },
          "metadata": {
            "tags": []
          }
        },
        {
          "output_type": "stream",
          "text": [
            "Start (p): 76, End (p): 76, Start (T): 76, End (T): 76\n",
            "\tLoss: 1.89009 - Distance start: 7 - Distance end: 8 [Time elapsed: 37.35 s]\n"
          ],
          "name": "stdout"
        },
        {
          "output_type": "display_data",
          "data": {
            "application/vnd.jupyter.widget-view+json": {
              "model_id": "",
              "version_major": 2,
              "version_minor": 0
            },
            "text/plain": [
              "HBox(children=(HTML(value=''), FloatProgress(value=0.0, max=94.0), HTML(value='')))"
            ]
          },
          "metadata": {
            "tags": []
          }
        },
        {
          "output_type": "stream",
          "text": [
            "Start (p): 69, End (p): 69, Start (T): 69, End (T): 69\n",
            "\tValidation loss: 9.59601 - Distance start: 25.00 - Distance end: 25.00 [Time elapsed: 4.26 s]\n",
            "----------------------------------------------------------------------------------------------------\n",
            "Epoch 69/100\n"
          ],
          "name": "stdout"
        },
        {
          "output_type": "display_data",
          "data": {
            "application/vnd.jupyter.widget-view+json": {
              "model_id": "",
              "version_major": 2,
              "version_minor": 0
            },
            "text/plain": [
              "HBox(children=(HTML(value=''), FloatProgress(value=0.0, max=313.0), HTML(value='')))"
            ]
          },
          "metadata": {
            "tags": []
          }
        },
        {
          "output_type": "stream",
          "text": [
            "Start (p): 17, End (p): 17, Start (T): 17, End (T): 17\n",
            "\tLoss: 1.77845 - Distance start: 7 - Distance end: 7 [Time elapsed: 37.52 s]\n"
          ],
          "name": "stdout"
        },
        {
          "output_type": "display_data",
          "data": {
            "application/vnd.jupyter.widget-view+json": {
              "model_id": "",
              "version_major": 2,
              "version_minor": 0
            },
            "text/plain": [
              "HBox(children=(HTML(value=''), FloatProgress(value=0.0, max=94.0), HTML(value='')))"
            ]
          },
          "metadata": {
            "tags": []
          }
        },
        {
          "output_type": "stream",
          "text": [
            "Start (p): 92, End (p): 112, Start (T): 62, End (T): 62\n",
            "\tValidation loss: 9.55400 - Distance start: 25.00 - Distance end: 25.00 [Time elapsed: 4.27 s]\n",
            "----------------------------------------------------------------------------------------------------\n",
            "Epoch 70/100\n"
          ],
          "name": "stdout"
        },
        {
          "output_type": "display_data",
          "data": {
            "application/vnd.jupyter.widget-view+json": {
              "model_id": "",
              "version_major": 2,
              "version_minor": 0
            },
            "text/plain": [
              "HBox(children=(HTML(value=''), FloatProgress(value=0.0, max=313.0), HTML(value='')))"
            ]
          },
          "metadata": {
            "tags": []
          }
        },
        {
          "output_type": "stream",
          "text": [
            "Start (p): 86, End (p): 86, Start (T): 86, End (T): 86\n",
            "\tLoss: 1.68693 - Distance start: 6 - Distance end: 7 [Time elapsed: 37.31 s]\n"
          ],
          "name": "stdout"
        },
        {
          "output_type": "display_data",
          "data": {
            "application/vnd.jupyter.widget-view+json": {
              "model_id": "",
              "version_major": 2,
              "version_minor": 0
            },
            "text/plain": [
              "HBox(children=(HTML(value=''), FloatProgress(value=0.0, max=94.0), HTML(value='')))"
            ]
          },
          "metadata": {
            "tags": []
          }
        },
        {
          "output_type": "stream",
          "text": [
            "Start (p): 74, End (p): 108, Start (T): 106, End (T): 108\n",
            "\tValidation loss: 9.57041 - Distance start: 25.00 - Distance end: 25.00 [Time elapsed: 4.35 s]\n",
            "----------------------------------------------------------------------------------------------------\n",
            "Epoch 71/100\n"
          ],
          "name": "stdout"
        },
        {
          "output_type": "display_data",
          "data": {
            "application/vnd.jupyter.widget-view+json": {
              "model_id": "",
              "version_major": 2,
              "version_minor": 0
            },
            "text/plain": [
              "HBox(children=(HTML(value=''), FloatProgress(value=0.0, max=313.0), HTML(value='')))"
            ]
          },
          "metadata": {
            "tags": []
          }
        },
        {
          "output_type": "stream",
          "text": [
            "Start (p): 27, End (p): 27, Start (T): 27, End (T): 27\n",
            "\tLoss: 1.83364 - Distance start: 7 - Distance end: 7 [Time elapsed: 37.19 s]\n"
          ],
          "name": "stdout"
        },
        {
          "output_type": "display_data",
          "data": {
            "application/vnd.jupyter.widget-view+json": {
              "model_id": "",
              "version_major": 2,
              "version_minor": 0
            },
            "text/plain": [
              "HBox(children=(HTML(value=''), FloatProgress(value=0.0, max=94.0), HTML(value='')))"
            ]
          },
          "metadata": {
            "tags": []
          }
        },
        {
          "output_type": "stream",
          "text": [
            "Start (p): 40, End (p): 40, Start (T): 40, End (T): 40\n",
            "\tValidation loss: 9.28418 - Distance start: 26.00 - Distance end: 26.00 [Time elapsed: 4.32 s]\n",
            "----------------------------------------------------------------------------------------------------\n",
            "Epoch 72/100\n"
          ],
          "name": "stdout"
        },
        {
          "output_type": "display_data",
          "data": {
            "application/vnd.jupyter.widget-view+json": {
              "model_id": "",
              "version_major": 2,
              "version_minor": 0
            },
            "text/plain": [
              "HBox(children=(HTML(value=''), FloatProgress(value=0.0, max=313.0), HTML(value='')))"
            ]
          },
          "metadata": {
            "tags": []
          }
        },
        {
          "output_type": "stream",
          "text": [
            "Start (p): 32, End (p): 33, Start (T): 32, End (T): 33\n",
            "\tLoss: 1.80411 - Distance start: 7 - Distance end: 7 [Time elapsed: 37.41 s]\n"
          ],
          "name": "stdout"
        },
        {
          "output_type": "display_data",
          "data": {
            "application/vnd.jupyter.widget-view+json": {
              "model_id": "",
              "version_major": 2,
              "version_minor": 0
            },
            "text/plain": [
              "HBox(children=(HTML(value=''), FloatProgress(value=0.0, max=94.0), HTML(value='')))"
            ]
          },
          "metadata": {
            "tags": []
          }
        },
        {
          "output_type": "stream",
          "text": [
            "Start (p): 7, End (p): 12, Start (T): 7, End (T): 9\n",
            "\tValidation loss: 9.40011 - Distance start: 26.00 - Distance end: 26.00 [Time elapsed: 4.28 s]\n",
            "----------------------------------------------------------------------------------------------------\n",
            "Epoch 73/100\n"
          ],
          "name": "stdout"
        },
        {
          "output_type": "display_data",
          "data": {
            "application/vnd.jupyter.widget-view+json": {
              "model_id": "",
              "version_major": 2,
              "version_minor": 0
            },
            "text/plain": [
              "HBox(children=(HTML(value=''), FloatProgress(value=0.0, max=313.0), HTML(value='')))"
            ]
          },
          "metadata": {
            "tags": []
          }
        },
        {
          "output_type": "stream",
          "text": [
            "Start (p): 105, End (p): 107, Start (T): 105, End (T): 107\n",
            "\tLoss: 1.73730 - Distance start: 7 - Distance end: 6 [Time elapsed: 36.96 s]\n"
          ],
          "name": "stdout"
        },
        {
          "output_type": "display_data",
          "data": {
            "application/vnd.jupyter.widget-view+json": {
              "model_id": "",
              "version_major": 2,
              "version_minor": 0
            },
            "text/plain": [
              "HBox(children=(HTML(value=''), FloatProgress(value=0.0, max=94.0), HTML(value='')))"
            ]
          },
          "metadata": {
            "tags": []
          }
        },
        {
          "output_type": "stream",
          "text": [
            "Start (p): 31, End (p): 32, Start (T): 31, End (T): 31\n",
            "\tValidation loss: 9.40204 - Distance start: 25.00 - Distance end: 24.00 [Time elapsed: 4.34 s]\n",
            "----------------------------------------------------------------------------------------------------\n",
            "Epoch 74/100\n"
          ],
          "name": "stdout"
        },
        {
          "output_type": "display_data",
          "data": {
            "application/vnd.jupyter.widget-view+json": {
              "model_id": "",
              "version_major": 2,
              "version_minor": 0
            },
            "text/plain": [
              "HBox(children=(HTML(value=''), FloatProgress(value=0.0, max=313.0), HTML(value='')))"
            ]
          },
          "metadata": {
            "tags": []
          }
        },
        {
          "output_type": "stream",
          "text": [
            "Start (p): 165, End (p): 166, Start (T): 162, End (T): 166\n",
            "\tLoss: 1.75819 - Distance start: 7 - Distance end: 7 [Time elapsed: 37.27 s]\n"
          ],
          "name": "stdout"
        },
        {
          "output_type": "display_data",
          "data": {
            "application/vnd.jupyter.widget-view+json": {
              "model_id": "",
              "version_major": 2,
              "version_minor": 0
            },
            "text/plain": [
              "HBox(children=(HTML(value=''), FloatProgress(value=0.0, max=94.0), HTML(value='')))"
            ]
          },
          "metadata": {
            "tags": []
          }
        },
        {
          "output_type": "stream",
          "text": [
            "Start (p): 133, End (p): 97, Start (T): 11, End (T): 13\n",
            "\tValidation loss: 9.45167 - Distance start: 25.00 - Distance end: 26.00 [Time elapsed: 4.31 s]\n",
            "----------------------------------------------------------------------------------------------------\n",
            "Epoch 75/100\n"
          ],
          "name": "stdout"
        },
        {
          "output_type": "display_data",
          "data": {
            "application/vnd.jupyter.widget-view+json": {
              "model_id": "",
              "version_major": 2,
              "version_minor": 0
            },
            "text/plain": [
              "HBox(children=(HTML(value=''), FloatProgress(value=0.0, max=313.0), HTML(value='')))"
            ]
          },
          "metadata": {
            "tags": []
          }
        },
        {
          "output_type": "stream",
          "text": [
            "Start (p): 1, End (p): 2, Start (T): 1, End (T): 2\n",
            "\tLoss: 1.73317 - Distance start: 6 - Distance end: 7 [Time elapsed: 37.26 s]\n"
          ],
          "name": "stdout"
        },
        {
          "output_type": "display_data",
          "data": {
            "application/vnd.jupyter.widget-view+json": {
              "model_id": "",
              "version_major": 2,
              "version_minor": 0
            },
            "text/plain": [
              "HBox(children=(HTML(value=''), FloatProgress(value=0.0, max=94.0), HTML(value='')))"
            ]
          },
          "metadata": {
            "tags": []
          }
        },
        {
          "output_type": "stream",
          "text": [
            "Start (p): 51, End (p): 51, Start (T): 44, End (T): 47\n",
            "\tValidation loss: 9.35176 - Distance start: 26.00 - Distance end: 26.00 [Time elapsed: 4.29 s]\n",
            "----------------------------------------------------------------------------------------------------\n",
            "Epoch 76/100\n"
          ],
          "name": "stdout"
        },
        {
          "output_type": "display_data",
          "data": {
            "application/vnd.jupyter.widget-view+json": {
              "model_id": "",
              "version_major": 2,
              "version_minor": 0
            },
            "text/plain": [
              "HBox(children=(HTML(value=''), FloatProgress(value=0.0, max=313.0), HTML(value='')))"
            ]
          },
          "metadata": {
            "tags": []
          }
        },
        {
          "output_type": "stream",
          "text": [
            "Start (p): 69, End (p): 69, Start (T): 69, End (T): 69\n",
            "\tLoss: 1.77776 - Distance start: 7 - Distance end: 7 [Time elapsed: 36.95 s]\n"
          ],
          "name": "stdout"
        },
        {
          "output_type": "display_data",
          "data": {
            "application/vnd.jupyter.widget-view+json": {
              "model_id": "",
              "version_major": 2,
              "version_minor": 0
            },
            "text/plain": [
              "HBox(children=(HTML(value=''), FloatProgress(value=0.0, max=94.0), HTML(value='')))"
            ]
          },
          "metadata": {
            "tags": []
          }
        },
        {
          "output_type": "stream",
          "text": [
            "Start (p): 101, End (p): 119, Start (T): 99, End (T): 104\n",
            "\tValidation loss: 9.80837 - Distance start: 25.00 - Distance end: 25.00 [Time elapsed: 4.32 s]\n",
            "----------------------------------------------------------------------------------------------------\n",
            "Epoch 77/100\n"
          ],
          "name": "stdout"
        },
        {
          "output_type": "display_data",
          "data": {
            "application/vnd.jupyter.widget-view+json": {
              "model_id": "",
              "version_major": 2,
              "version_minor": 0
            },
            "text/plain": [
              "HBox(children=(HTML(value=''), FloatProgress(value=0.0, max=313.0), HTML(value='')))"
            ]
          },
          "metadata": {
            "tags": []
          }
        },
        {
          "output_type": "stream",
          "text": [
            "Start (p): 30, End (p): 22, Start (T): 19, End (T): 22\n",
            "\tLoss: 5.90479 - Distance start: 24 - Distance end: 25 [Time elapsed: 37.17 s]\n"
          ],
          "name": "stdout"
        },
        {
          "output_type": "display_data",
          "data": {
            "application/vnd.jupyter.widget-view+json": {
              "model_id": "",
              "version_major": 2,
              "version_minor": 0
            },
            "text/plain": [
              "HBox(children=(HTML(value=''), FloatProgress(value=0.0, max=94.0), HTML(value='')))"
            ]
          },
          "metadata": {
            "tags": []
          }
        },
        {
          "output_type": "stream",
          "text": [
            "Start (p): 12, End (p): 12, Start (T): 12, End (T): 12\n",
            "\tValidation loss: 6.79065 - Distance start: 28.00 - Distance end: 28.00 [Time elapsed: 4.28 s]\n",
            "----------------------------------------------------------------------------------------------------\n",
            "Epoch 78/100\n"
          ],
          "name": "stdout"
        },
        {
          "output_type": "display_data",
          "data": {
            "application/vnd.jupyter.widget-view+json": {
              "model_id": "",
              "version_major": 2,
              "version_minor": 0
            },
            "text/plain": [
              "HBox(children=(HTML(value=''), FloatProgress(value=0.0, max=313.0), HTML(value='')))"
            ]
          },
          "metadata": {
            "tags": []
          }
        },
        {
          "output_type": "stream",
          "text": [
            "Start (p): 19, End (p): 16, Start (T): 82, End (T): 86\n",
            "\tLoss: 5.52866 - Distance start: 24 - Distance end: 24 [Time elapsed: 37.26 s]\n"
          ],
          "name": "stdout"
        },
        {
          "output_type": "display_data",
          "data": {
            "application/vnd.jupyter.widget-view+json": {
              "model_id": "",
              "version_major": 2,
              "version_minor": 0
            },
            "text/plain": [
              "HBox(children=(HTML(value=''), FloatProgress(value=0.0, max=94.0), HTML(value='')))"
            ]
          },
          "metadata": {
            "tags": []
          }
        },
        {
          "output_type": "stream",
          "text": [
            "Start (p): 74, End (p): 64, Start (T): 28, End (T): 29\n",
            "\tValidation loss: 6.46981 - Distance start: 25.00 - Distance end: 26.00 [Time elapsed: 4.31 s]\n",
            "----------------------------------------------------------------------------------------------------\n",
            "Epoch 79/100\n"
          ],
          "name": "stdout"
        },
        {
          "output_type": "display_data",
          "data": {
            "application/vnd.jupyter.widget-view+json": {
              "model_id": "",
              "version_major": 2,
              "version_minor": 0
            },
            "text/plain": [
              "HBox(children=(HTML(value=''), FloatProgress(value=0.0, max=313.0), HTML(value='')))"
            ]
          },
          "metadata": {
            "tags": []
          }
        },
        {
          "output_type": "stream",
          "text": [
            "Start (p): 52, End (p): 46, Start (T): 55, End (T): 56\n",
            "\tLoss: 4.99241 - Distance start: 20 - Distance end: 21 [Time elapsed: 37.36 s]\n"
          ],
          "name": "stdout"
        },
        {
          "output_type": "display_data",
          "data": {
            "application/vnd.jupyter.widget-view+json": {
              "model_id": "",
              "version_major": 2,
              "version_minor": 0
            },
            "text/plain": [
              "HBox(children=(HTML(value=''), FloatProgress(value=0.0, max=94.0), HTML(value='')))"
            ]
          },
          "metadata": {
            "tags": []
          }
        },
        {
          "output_type": "stream",
          "text": [
            "Start (p): 29, End (p): 14, Start (T): 12, End (T): 14\n",
            "\tValidation loss: 6.39593 - Distance start: 25.00 - Distance end: 26.00 [Time elapsed: 4.25 s]\n",
            "----------------------------------------------------------------------------------------------------\n",
            "Epoch 80/100\n"
          ],
          "name": "stdout"
        },
        {
          "output_type": "display_data",
          "data": {
            "application/vnd.jupyter.widget-view+json": {
              "model_id": "",
              "version_major": 2,
              "version_minor": 0
            },
            "text/plain": [
              "HBox(children=(HTML(value=''), FloatProgress(value=0.0, max=313.0), HTML(value='')))"
            ]
          },
          "metadata": {
            "tags": []
          }
        },
        {
          "output_type": "stream",
          "text": [
            "Start (p): 32, End (p): 37, Start (T): 36, End (T): 41\n",
            "\tLoss: 4.64501 - Distance start: 18 - Distance end: 19 [Time elapsed: 36.95 s]\n"
          ],
          "name": "stdout"
        },
        {
          "output_type": "display_data",
          "data": {
            "application/vnd.jupyter.widget-view+json": {
              "model_id": "",
              "version_major": 2,
              "version_minor": 0
            },
            "text/plain": [
              "HBox(children=(HTML(value=''), FloatProgress(value=0.0, max=94.0), HTML(value='')))"
            ]
          },
          "metadata": {
            "tags": []
          }
        },
        {
          "output_type": "stream",
          "text": [
            "Start (p): 24, End (p): 3, Start (T): 7, End (T): 9\n",
            "\tValidation loss: 6.39189 - Distance start: 23.00 - Distance end: 23.00 [Time elapsed: 4.33 s]\n",
            "----------------------------------------------------------------------------------------------------\n",
            "Epoch 81/100\n"
          ],
          "name": "stdout"
        },
        {
          "output_type": "display_data",
          "data": {
            "application/vnd.jupyter.widget-view+json": {
              "model_id": "",
              "version_major": 2,
              "version_minor": 0
            },
            "text/plain": [
              "HBox(children=(HTML(value=''), FloatProgress(value=0.0, max=313.0), HTML(value='')))"
            ]
          },
          "metadata": {
            "tags": []
          }
        },
        {
          "output_type": "stream",
          "text": [
            "Start (p): 77, End (p): 50, Start (T): 77, End (T): 78\n",
            "\tLoss: 4.38983 - Distance start: 16 - Distance end: 17 [Time elapsed: 37.01 s]\n"
          ],
          "name": "stdout"
        },
        {
          "output_type": "display_data",
          "data": {
            "application/vnd.jupyter.widget-view+json": {
              "model_id": "",
              "version_major": 2,
              "version_minor": 0
            },
            "text/plain": [
              "HBox(children=(HTML(value=''), FloatProgress(value=0.0, max=94.0), HTML(value='')))"
            ]
          },
          "metadata": {
            "tags": []
          }
        },
        {
          "output_type": "stream",
          "text": [
            "Start (p): 52, End (p): 71, Start (T): 1, End (T): 3\n",
            "\tValidation loss: 6.39805 - Distance start: 23.00 - Distance end: 24.00 [Time elapsed: 4.31 s]\n",
            "----------------------------------------------------------------------------------------------------\n",
            "Epoch 82/100\n"
          ],
          "name": "stdout"
        },
        {
          "output_type": "display_data",
          "data": {
            "application/vnd.jupyter.widget-view+json": {
              "model_id": "",
              "version_major": 2,
              "version_minor": 0
            },
            "text/plain": [
              "HBox(children=(HTML(value=''), FloatProgress(value=0.0, max=313.0), HTML(value='')))"
            ]
          },
          "metadata": {
            "tags": []
          }
        },
        {
          "output_type": "stream",
          "text": [
            "Start (p): 93, End (p): 95, Start (T): 109, End (T): 111\n",
            "\tLoss: 4.15210 - Distance start: 15 - Distance end: 16 [Time elapsed: 37.11 s]\n"
          ],
          "name": "stdout"
        },
        {
          "output_type": "display_data",
          "data": {
            "application/vnd.jupyter.widget-view+json": {
              "model_id": "",
              "version_major": 2,
              "version_minor": 0
            },
            "text/plain": [
              "HBox(children=(HTML(value=''), FloatProgress(value=0.0, max=94.0), HTML(value='')))"
            ]
          },
          "metadata": {
            "tags": []
          }
        },
        {
          "output_type": "stream",
          "text": [
            "Start (p): 20, End (p): 11, Start (T): 20, End (T): 20\n",
            "\tValidation loss: 6.43539 - Distance start: 23.00 - Distance end: 24.00 [Time elapsed: 4.31 s]\n",
            "----------------------------------------------------------------------------------------------------\n",
            "Epoch 83/100\n"
          ],
          "name": "stdout"
        },
        {
          "output_type": "display_data",
          "data": {
            "application/vnd.jupyter.widget-view+json": {
              "model_id": "",
              "version_major": 2,
              "version_minor": 0
            },
            "text/plain": [
              "HBox(children=(HTML(value=''), FloatProgress(value=0.0, max=313.0), HTML(value='')))"
            ]
          },
          "metadata": {
            "tags": []
          }
        },
        {
          "output_type": "stream",
          "text": [
            "Start (p): 1, End (p): 5, Start (T): 1, End (T): 5\n",
            "\tLoss: 4.00070 - Distance start: 14 - Distance end: 15 [Time elapsed: 37.33 s]\n"
          ],
          "name": "stdout"
        },
        {
          "output_type": "display_data",
          "data": {
            "application/vnd.jupyter.widget-view+json": {
              "model_id": "",
              "version_major": 2,
              "version_minor": 0
            },
            "text/plain": [
              "HBox(children=(HTML(value=''), FloatProgress(value=0.0, max=94.0), HTML(value='')))"
            ]
          },
          "metadata": {
            "tags": []
          }
        },
        {
          "output_type": "stream",
          "text": [
            "Start (p): 60, End (p): 11, Start (T): 21, End (T): 24\n",
            "\tValidation loss: 6.65004 - Distance start: 23.00 - Distance end: 23.00 [Time elapsed: 4.23 s]\n",
            "----------------------------------------------------------------------------------------------------\n",
            "Epoch 84/100\n"
          ],
          "name": "stdout"
        },
        {
          "output_type": "display_data",
          "data": {
            "application/vnd.jupyter.widget-view+json": {
              "model_id": "",
              "version_major": 2,
              "version_minor": 0
            },
            "text/plain": [
              "HBox(children=(HTML(value=''), FloatProgress(value=0.0, max=313.0), HTML(value='')))"
            ]
          },
          "metadata": {
            "tags": []
          }
        },
        {
          "output_type": "stream",
          "text": [
            "Start (p): 7, End (p): 8, Start (T): 7, End (T): 8\n",
            "\tLoss: 3.85773 - Distance start: 14 - Distance end: 15 [Time elapsed: 36.97 s]\n"
          ],
          "name": "stdout"
        },
        {
          "output_type": "display_data",
          "data": {
            "application/vnd.jupyter.widget-view+json": {
              "model_id": "",
              "version_major": 2,
              "version_minor": 0
            },
            "text/plain": [
              "HBox(children=(HTML(value=''), FloatProgress(value=0.0, max=94.0), HTML(value='')))"
            ]
          },
          "metadata": {
            "tags": []
          }
        },
        {
          "output_type": "stream",
          "text": [
            "Start (p): 2, End (p): 3, Start (T): 84, End (T): 88\n",
            "\tValidation loss: 6.53849 - Distance start: 23.00 - Distance end: 23.00 [Time elapsed: 4.30 s]\n",
            "----------------------------------------------------------------------------------------------------\n",
            "Epoch 85/100\n"
          ],
          "name": "stdout"
        },
        {
          "output_type": "display_data",
          "data": {
            "application/vnd.jupyter.widget-view+json": {
              "model_id": "",
              "version_major": 2,
              "version_minor": 0
            },
            "text/plain": [
              "HBox(children=(HTML(value=''), FloatProgress(value=0.0, max=313.0), HTML(value='')))"
            ]
          },
          "metadata": {
            "tags": []
          }
        },
        {
          "output_type": "stream",
          "text": [
            "Start (p): 18, End (p): 23, Start (T): 18, End (T): 23\n",
            "\tLoss: 3.73352 - Distance start: 14 - Distance end: 14 [Time elapsed: 37.28 s]\n"
          ],
          "name": "stdout"
        },
        {
          "output_type": "display_data",
          "data": {
            "application/vnd.jupyter.widget-view+json": {
              "model_id": "",
              "version_major": 2,
              "version_minor": 0
            },
            "text/plain": [
              "HBox(children=(HTML(value=''), FloatProgress(value=0.0, max=94.0), HTML(value='')))"
            ]
          },
          "metadata": {
            "tags": []
          }
        },
        {
          "output_type": "stream",
          "text": [
            "Start (p): 4, End (p): 5, Start (T): 15, End (T): 32\n",
            "\tValidation loss: 6.57116 - Distance start: 23.00 - Distance end: 24.00 [Time elapsed: 4.21 s]\n",
            "----------------------------------------------------------------------------------------------------\n",
            "Epoch 86/100\n"
          ],
          "name": "stdout"
        },
        {
          "output_type": "display_data",
          "data": {
            "application/vnd.jupyter.widget-view+json": {
              "model_id": "",
              "version_major": 2,
              "version_minor": 0
            },
            "text/plain": [
              "HBox(children=(HTML(value=''), FloatProgress(value=0.0, max=313.0), HTML(value='')))"
            ]
          },
          "metadata": {
            "tags": []
          }
        },
        {
          "output_type": "stream",
          "text": [
            "Start (p): 95, End (p): 236, Start (T): 159, End (T): 164\n",
            "\tLoss: 3.87977 - Distance start: 15 - Distance end: 15 [Time elapsed: 37.40 s]\n"
          ],
          "name": "stdout"
        },
        {
          "output_type": "display_data",
          "data": {
            "application/vnd.jupyter.widget-view+json": {
              "model_id": "",
              "version_major": 2,
              "version_minor": 0
            },
            "text/plain": [
              "HBox(children=(HTML(value=''), FloatProgress(value=0.0, max=94.0), HTML(value='')))"
            ]
          },
          "metadata": {
            "tags": []
          }
        },
        {
          "output_type": "stream",
          "text": [
            "Start (p): 19, End (p): 20, Start (T): 19, End (T): 20\n",
            "\tValidation loss: 6.64273 - Distance start: 23.00 - Distance end: 23.00 [Time elapsed: 4.27 s]\n",
            "----------------------------------------------------------------------------------------------------\n",
            "Epoch 87/100\n"
          ],
          "name": "stdout"
        },
        {
          "output_type": "display_data",
          "data": {
            "application/vnd.jupyter.widget-view+json": {
              "model_id": "",
              "version_major": 2,
              "version_minor": 0
            },
            "text/plain": [
              "HBox(children=(HTML(value=''), FloatProgress(value=0.0, max=313.0), HTML(value='')))"
            ]
          },
          "metadata": {
            "tags": []
          }
        },
        {
          "output_type": "stream",
          "text": [
            "Start (p): 0, End (p): 9, Start (T): 0, End (T): 1\n",
            "\tLoss: 3.62557 - Distance start: 13 - Distance end: 14 [Time elapsed: 37.28 s]\n"
          ],
          "name": "stdout"
        },
        {
          "output_type": "display_data",
          "data": {
            "application/vnd.jupyter.widget-view+json": {
              "model_id": "",
              "version_major": 2,
              "version_minor": 0
            },
            "text/plain": [
              "HBox(children=(HTML(value=''), FloatProgress(value=0.0, max=94.0), HTML(value='')))"
            ]
          },
          "metadata": {
            "tags": []
          }
        },
        {
          "output_type": "stream",
          "text": [
            "Start (p): 48, End (p): 36, Start (T): 47, End (T): 48\n",
            "\tValidation loss: 6.71886 - Distance start: 23.00 - Distance end: 23.00 [Time elapsed: 4.35 s]\n",
            "----------------------------------------------------------------------------------------------------\n",
            "Epoch 88/100\n"
          ],
          "name": "stdout"
        },
        {
          "output_type": "display_data",
          "data": {
            "application/vnd.jupyter.widget-view+json": {
              "model_id": "",
              "version_major": 2,
              "version_minor": 0
            },
            "text/plain": [
              "HBox(children=(HTML(value=''), FloatProgress(value=0.0, max=313.0), HTML(value='')))"
            ]
          },
          "metadata": {
            "tags": []
          }
        },
        {
          "output_type": "stream",
          "text": [
            "Start (p): 5, End (p): 13, Start (T): 6, End (T): 6\n",
            "\tLoss: 3.43100 - Distance start: 12 - Distance end: 13 [Time elapsed: 37.35 s]\n"
          ],
          "name": "stdout"
        },
        {
          "output_type": "display_data",
          "data": {
            "application/vnd.jupyter.widget-view+json": {
              "model_id": "",
              "version_major": 2,
              "version_minor": 0
            },
            "text/plain": [
              "HBox(children=(HTML(value=''), FloatProgress(value=0.0, max=94.0), HTML(value='')))"
            ]
          },
          "metadata": {
            "tags": []
          }
        },
        {
          "output_type": "stream",
          "text": [
            "Start (p): 20, End (p): 17, Start (T): 2, End (T): 2\n",
            "\tValidation loss: 6.77978 - Distance start: 23.00 - Distance end: 24.00 [Time elapsed: 4.33 s]\n",
            "----------------------------------------------------------------------------------------------------\n",
            "Epoch 89/100\n"
          ],
          "name": "stdout"
        },
        {
          "output_type": "display_data",
          "data": {
            "application/vnd.jupyter.widget-view+json": {
              "model_id": "",
              "version_major": 2,
              "version_minor": 0
            },
            "text/plain": [
              "HBox(children=(HTML(value=''), FloatProgress(value=0.0, max=313.0), HTML(value='')))"
            ]
          },
          "metadata": {
            "tags": []
          }
        },
        {
          "output_type": "stream",
          "text": [
            "Start (p): 5, End (p): 84, Start (T): 5, End (T): 6\n",
            "\tLoss: 3.29152 - Distance start: 11 - Distance end: 12 [Time elapsed: 36.93 s]\n"
          ],
          "name": "stdout"
        },
        {
          "output_type": "display_data",
          "data": {
            "application/vnd.jupyter.widget-view+json": {
              "model_id": "",
              "version_major": 2,
              "version_minor": 0
            },
            "text/plain": [
              "HBox(children=(HTML(value=''), FloatProgress(value=0.0, max=94.0), HTML(value='')))"
            ]
          },
          "metadata": {
            "tags": []
          }
        },
        {
          "output_type": "stream",
          "text": [
            "Start (p): 195, End (p): 240, Start (T): 203, End (T): 205\n",
            "\tValidation loss: 6.75632 - Distance start: 22.00 - Distance end: 23.00 [Time elapsed: 4.28 s]\n",
            "----------------------------------------------------------------------------------------------------\n",
            "Epoch 90/100\n"
          ],
          "name": "stdout"
        },
        {
          "output_type": "display_data",
          "data": {
            "application/vnd.jupyter.widget-view+json": {
              "model_id": "",
              "version_major": 2,
              "version_minor": 0
            },
            "text/plain": [
              "HBox(children=(HTML(value=''), FloatProgress(value=0.0, max=313.0), HTML(value='')))"
            ]
          },
          "metadata": {
            "tags": []
          }
        },
        {
          "output_type": "stream",
          "text": [
            "Start (p): 135, End (p): 137, Start (T): 13, End (T): 14\n",
            "\tLoss: 3.23022 - Distance start: 11 - Distance end: 12 [Time elapsed: 37.17 s]\n"
          ],
          "name": "stdout"
        },
        {
          "output_type": "display_data",
          "data": {
            "application/vnd.jupyter.widget-view+json": {
              "model_id": "",
              "version_major": 2,
              "version_minor": 0
            },
            "text/plain": [
              "HBox(children=(HTML(value=''), FloatProgress(value=0.0, max=94.0), HTML(value='')))"
            ]
          },
          "metadata": {
            "tags": []
          }
        },
        {
          "output_type": "stream",
          "text": [
            "Start (p): 38, End (p): 39, Start (T): 38, End (T): 40\n",
            "\tValidation loss: 6.90506 - Distance start: 22.00 - Distance end: 22.00 [Time elapsed: 4.33 s]\n",
            "----------------------------------------------------------------------------------------------------\n",
            "Epoch 91/100\n"
          ],
          "name": "stdout"
        },
        {
          "output_type": "display_data",
          "data": {
            "application/vnd.jupyter.widget-view+json": {
              "model_id": "",
              "version_major": 2,
              "version_minor": 0
            },
            "text/plain": [
              "HBox(children=(HTML(value=''), FloatProgress(value=0.0, max=313.0), HTML(value='')))"
            ]
          },
          "metadata": {
            "tags": []
          }
        },
        {
          "output_type": "stream",
          "text": [
            "Start (p): 18, End (p): 55, Start (T): 19, End (T): 19\n",
            "\tLoss: 3.13651 - Distance start: 11 - Distance end: 11 [Time elapsed: 37.31 s]\n"
          ],
          "name": "stdout"
        },
        {
          "output_type": "display_data",
          "data": {
            "application/vnd.jupyter.widget-view+json": {
              "model_id": "",
              "version_major": 2,
              "version_minor": 0
            },
            "text/plain": [
              "HBox(children=(HTML(value=''), FloatProgress(value=0.0, max=94.0), HTML(value='')))"
            ]
          },
          "metadata": {
            "tags": []
          }
        },
        {
          "output_type": "stream",
          "text": [
            "Start (p): 17, End (p): 8, Start (T): 75, End (T): 78\n",
            "\tValidation loss: 7.00394 - Distance start: 23.00 - Distance end: 23.00 [Time elapsed: 4.28 s]\n",
            "----------------------------------------------------------------------------------------------------\n",
            "Epoch 92/100\n"
          ],
          "name": "stdout"
        },
        {
          "output_type": "display_data",
          "data": {
            "application/vnd.jupyter.widget-view+json": {
              "model_id": "",
              "version_major": 2,
              "version_minor": 0
            },
            "text/plain": [
              "HBox(children=(HTML(value=''), FloatProgress(value=0.0, max=313.0), HTML(value='')))"
            ]
          },
          "metadata": {
            "tags": []
          }
        },
        {
          "output_type": "stream",
          "text": [
            "Start (p): 77, End (p): 79, Start (T): 77, End (T): 79\n",
            "\tLoss: 3.13093 - Distance start: 11 - Distance end: 11 [Time elapsed: 37.05 s]\n"
          ],
          "name": "stdout"
        },
        {
          "output_type": "display_data",
          "data": {
            "application/vnd.jupyter.widget-view+json": {
              "model_id": "",
              "version_major": 2,
              "version_minor": 0
            },
            "text/plain": [
              "HBox(children=(HTML(value=''), FloatProgress(value=0.0, max=94.0), HTML(value='')))"
            ]
          },
          "metadata": {
            "tags": []
          }
        },
        {
          "output_type": "stream",
          "text": [
            "Start (p): 50, End (p): 55, Start (T): 61, End (T): 61\n",
            "\tValidation loss: 6.94517 - Distance start: 23.00 - Distance end: 23.00 [Time elapsed: 4.26 s]\n",
            "----------------------------------------------------------------------------------------------------\n",
            "Epoch 93/100\n"
          ],
          "name": "stdout"
        },
        {
          "output_type": "display_data",
          "data": {
            "application/vnd.jupyter.widget-view+json": {
              "model_id": "",
              "version_major": 2,
              "version_minor": 0
            },
            "text/plain": [
              "HBox(children=(HTML(value=''), FloatProgress(value=0.0, max=313.0), HTML(value='')))"
            ]
          },
          "metadata": {
            "tags": []
          }
        },
        {
          "output_type": "stream",
          "text": [
            "Start (p): 0, End (p): 3, Start (T): 0, End (T): 3\n",
            "\tLoss: 3.03974 - Distance start: 10 - Distance end: 11 [Time elapsed: 37.02 s]\n"
          ],
          "name": "stdout"
        },
        {
          "output_type": "display_data",
          "data": {
            "application/vnd.jupyter.widget-view+json": {
              "model_id": "",
              "version_major": 2,
              "version_minor": 0
            },
            "text/plain": [
              "HBox(children=(HTML(value=''), FloatProgress(value=0.0, max=94.0), HTML(value='')))"
            ]
          },
          "metadata": {
            "tags": []
          }
        },
        {
          "output_type": "stream",
          "text": [
            "Start (p): 108, End (p): 108, Start (T): 108, End (T): 108\n",
            "\tValidation loss: 7.07116 - Distance start: 23.00 - Distance end: 22.00 [Time elapsed: 4.28 s]\n",
            "----------------------------------------------------------------------------------------------------\n",
            "Epoch 94/100\n"
          ],
          "name": "stdout"
        },
        {
          "output_type": "display_data",
          "data": {
            "application/vnd.jupyter.widget-view+json": {
              "model_id": "",
              "version_major": 2,
              "version_minor": 0
            },
            "text/plain": [
              "HBox(children=(HTML(value=''), FloatProgress(value=0.0, max=313.0), HTML(value='')))"
            ]
          },
          "metadata": {
            "tags": []
          }
        },
        {
          "output_type": "stream",
          "text": [
            "Start (p): 22, End (p): 23, Start (T): 22, End (T): 23\n",
            "\tLoss: 2.96835 - Distance start: 9 - Distance end: 10 [Time elapsed: 37.10 s]\n"
          ],
          "name": "stdout"
        },
        {
          "output_type": "display_data",
          "data": {
            "application/vnd.jupyter.widget-view+json": {
              "model_id": "",
              "version_major": 2,
              "version_minor": 0
            },
            "text/plain": [
              "HBox(children=(HTML(value=''), FloatProgress(value=0.0, max=94.0), HTML(value='')))"
            ]
          },
          "metadata": {
            "tags": []
          }
        },
        {
          "output_type": "stream",
          "text": [
            "Start (p): 25, End (p): 30, Start (T): 37, End (T): 41\n",
            "\tValidation loss: 7.01763 - Distance start: 23.00 - Distance end: 23.00 [Time elapsed: 4.28 s]\n",
            "----------------------------------------------------------------------------------------------------\n",
            "Epoch 95/100\n"
          ],
          "name": "stdout"
        },
        {
          "output_type": "display_data",
          "data": {
            "application/vnd.jupyter.widget-view+json": {
              "model_id": "",
              "version_major": 2,
              "version_minor": 0
            },
            "text/plain": [
              "HBox(children=(HTML(value=''), FloatProgress(value=0.0, max=313.0), HTML(value='')))"
            ]
          },
          "metadata": {
            "tags": []
          }
        },
        {
          "output_type": "stream",
          "text": [
            "Start (p): 179, End (p): 179, Start (T): 156, End (T): 157\n",
            "\tLoss: 2.96452 - Distance start: 10 - Distance end: 10 [Time elapsed: 37.47 s]\n"
          ],
          "name": "stdout"
        },
        {
          "output_type": "display_data",
          "data": {
            "application/vnd.jupyter.widget-view+json": {
              "model_id": "",
              "version_major": 2,
              "version_minor": 0
            },
            "text/plain": [
              "HBox(children=(HTML(value=''), FloatProgress(value=0.0, max=94.0), HTML(value='')))"
            ]
          },
          "metadata": {
            "tags": []
          }
        },
        {
          "output_type": "stream",
          "text": [
            "Start (p): 56, End (p): 124, Start (T): 108, End (T): 110\n",
            "\tValidation loss: 7.11273 - Distance start: 22.00 - Distance end: 23.00 [Time elapsed: 4.28 s]\n",
            "----------------------------------------------------------------------------------------------------\n",
            "Epoch 96/100\n"
          ],
          "name": "stdout"
        },
        {
          "output_type": "display_data",
          "data": {
            "application/vnd.jupyter.widget-view+json": {
              "model_id": "",
              "version_major": 2,
              "version_minor": 0
            },
            "text/plain": [
              "HBox(children=(HTML(value=''), FloatProgress(value=0.0, max=313.0), HTML(value='')))"
            ]
          },
          "metadata": {
            "tags": []
          }
        },
        {
          "output_type": "stream",
          "text": [
            "Start (p): 23, End (p): 25, Start (T): 5, End (T): 10\n",
            "\tLoss: 2.94836 - Distance start: 10 - Distance end: 10 [Time elapsed: 36.80 s]\n"
          ],
          "name": "stdout"
        },
        {
          "output_type": "display_data",
          "data": {
            "application/vnd.jupyter.widget-view+json": {
              "model_id": "",
              "version_major": 2,
              "version_minor": 0
            },
            "text/plain": [
              "HBox(children=(HTML(value=''), FloatProgress(value=0.0, max=94.0), HTML(value='')))"
            ]
          },
          "metadata": {
            "tags": []
          }
        },
        {
          "output_type": "stream",
          "text": [
            "Start (p): 33, End (p): 33, Start (T): 4, End (T): 9\n",
            "\tValidation loss: 7.21461 - Distance start: 22.00 - Distance end: 22.00 [Time elapsed: 4.31 s]\n",
            "----------------------------------------------------------------------------------------------------\n",
            "Epoch 97/100\n"
          ],
          "name": "stdout"
        },
        {
          "output_type": "display_data",
          "data": {
            "application/vnd.jupyter.widget-view+json": {
              "model_id": "",
              "version_major": 2,
              "version_minor": 0
            },
            "text/plain": [
              "HBox(children=(HTML(value=''), FloatProgress(value=0.0, max=313.0), HTML(value='')))"
            ]
          },
          "metadata": {
            "tags": []
          }
        },
        {
          "output_type": "stream",
          "text": [
            "Start (p): 12, End (p): 13, Start (T): 12, End (T): 13\n",
            "\tLoss: 2.89943 - Distance start: 10 - Distance end: 10 [Time elapsed: 37.38 s]\n"
          ],
          "name": "stdout"
        },
        {
          "output_type": "display_data",
          "data": {
            "application/vnd.jupyter.widget-view+json": {
              "model_id": "",
              "version_major": 2,
              "version_minor": 0
            },
            "text/plain": [
              "HBox(children=(HTML(value=''), FloatProgress(value=0.0, max=94.0), HTML(value='')))"
            ]
          },
          "metadata": {
            "tags": []
          }
        },
        {
          "output_type": "stream",
          "text": [
            "Start (p): 24, End (p): 31, Start (T): 11, End (T): 11\n",
            "\tValidation loss: 7.10112 - Distance start: 22.00 - Distance end: 23.00 [Time elapsed: 4.26 s]\n",
            "----------------------------------------------------------------------------------------------------\n",
            "Epoch 98/100\n"
          ],
          "name": "stdout"
        },
        {
          "output_type": "display_data",
          "data": {
            "application/vnd.jupyter.widget-view+json": {
              "model_id": "",
              "version_major": 2,
              "version_minor": 0
            },
            "text/plain": [
              "HBox(children=(HTML(value=''), FloatProgress(value=0.0, max=313.0), HTML(value='')))"
            ]
          },
          "metadata": {
            "tags": []
          }
        },
        {
          "output_type": "stream",
          "text": [
            "Start (p): 83, End (p): 89, Start (T): 89, End (T): 89\n",
            "\tLoss: 2.81866 - Distance start: 9 - Distance end: 10 [Time elapsed: 37.00 s]\n"
          ],
          "name": "stdout"
        },
        {
          "output_type": "display_data",
          "data": {
            "application/vnd.jupyter.widget-view+json": {
              "model_id": "",
              "version_major": 2,
              "version_minor": 0
            },
            "text/plain": [
              "HBox(children=(HTML(value=''), FloatProgress(value=0.0, max=94.0), HTML(value='')))"
            ]
          },
          "metadata": {
            "tags": []
          }
        },
        {
          "output_type": "stream",
          "text": [
            "Start (p): 26, End (p): 28, Start (T): 0, End (T): 0\n",
            "\tValidation loss: 7.27565 - Distance start: 22.00 - Distance end: 23.00 [Time elapsed: 4.38 s]\n",
            "----------------------------------------------------------------------------------------------------\n",
            "Epoch 99/100\n"
          ],
          "name": "stdout"
        },
        {
          "output_type": "display_data",
          "data": {
            "application/vnd.jupyter.widget-view+json": {
              "model_id": "",
              "version_major": 2,
              "version_minor": 0
            },
            "text/plain": [
              "HBox(children=(HTML(value=''), FloatProgress(value=0.0, max=313.0), HTML(value='')))"
            ]
          },
          "metadata": {
            "tags": []
          }
        },
        {
          "output_type": "stream",
          "text": [
            "Start (p): 21, End (p): 22, Start (T): 21, End (T): 22\n",
            "\tLoss: 2.86678 - Distance start: 9 - Distance end: 10 [Time elapsed: 37.12 s]\n"
          ],
          "name": "stdout"
        },
        {
          "output_type": "display_data",
          "data": {
            "application/vnd.jupyter.widget-view+json": {
              "model_id": "",
              "version_major": 2,
              "version_minor": 0
            },
            "text/plain": [
              "HBox(children=(HTML(value=''), FloatProgress(value=0.0, max=94.0), HTML(value='')))"
            ]
          },
          "metadata": {
            "tags": []
          }
        },
        {
          "output_type": "stream",
          "text": [
            "Start (p): 74, End (p): 38, Start (T): 57, End (T): 61\n",
            "\tValidation loss: 7.08554 - Distance start: 22.00 - Distance end: 23.00 [Time elapsed: 4.34 s]\n",
            "----------------------------------------------------------------------------------------------------\n",
            "Epoch 100/100\n"
          ],
          "name": "stdout"
        },
        {
          "output_type": "display_data",
          "data": {
            "application/vnd.jupyter.widget-view+json": {
              "model_id": "",
              "version_major": 2,
              "version_minor": 0
            },
            "text/plain": [
              "HBox(children=(HTML(value=''), FloatProgress(value=0.0, max=313.0), HTML(value='')))"
            ]
          },
          "metadata": {
            "tags": []
          }
        },
        {
          "output_type": "stream",
          "text": [
            "Start (p): 76, End (p): 77, Start (T): 72, End (T): 77\n",
            "\tLoss: 2.70011 - Distance start: 9 - Distance end: 9 [Time elapsed: 37.19 s]\n"
          ],
          "name": "stdout"
        },
        {
          "output_type": "display_data",
          "data": {
            "application/vnd.jupyter.widget-view+json": {
              "model_id": "",
              "version_major": 2,
              "version_minor": 0
            },
            "text/plain": [
              "HBox(children=(HTML(value=''), FloatProgress(value=0.0, max=94.0), HTML(value='')))"
            ]
          },
          "metadata": {
            "tags": []
          }
        },
        {
          "output_type": "stream",
          "text": [
            "Start (p): 52, End (p): 32, Start (T): 60, End (T): 63\n",
            "\tValidation loss: 7.16599 - Distance start: 22.00 - Distance end: 22.00 [Time elapsed: 4.31 s]\n"
          ],
          "name": "stdout"
        }
      ]
    },
    {
      "cell_type": "code",
      "metadata": {
        "id": "mQ3a5Nocu23q"
      },
      "source": [
        ""
      ],
      "execution_count": null,
      "outputs": []
    }
  ]
}